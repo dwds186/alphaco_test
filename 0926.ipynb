{
  "nbformat": 4,
  "nbformat_minor": 0,
  "metadata": {
    "colab": {
      "provenance": [],
      "authorship_tag": "ABX9TyMH9LJypwvfP4bwpj1f/fQ+",
      "include_colab_link": true
    },
    "kernelspec": {
      "name": "python3",
      "display_name": "Python 3"
    },
    "language_info": {
      "name": "python"
    }
  },
  "cells": [
    {
      "cell_type": "markdown",
      "metadata": {
        "id": "view-in-github",
        "colab_type": "text"
      },
      "source": [
        "<a href=\"https://colab.research.google.com/github/dwds186/alphaco_test/blob/main/0926.ipynb\" target=\"_parent\"><img src=\"https://colab.research.google.com/assets/colab-badge.svg\" alt=\"Open In Colab\"/></a>"
      ]
    },
    {
      "cell_type": "markdown",
      "source": [
        "##클래스 선언 (어제 한거 리마인드 해봅시다)"
      ],
      "metadata": {
        "id": "2rTWeyB9zzFF"
      }
    },
    {
      "cell_type": "code",
      "source": [],
      "metadata": {
        "id": "7-fPms29harp"
      },
      "execution_count": null,
      "outputs": []
    },
    {
      "cell_type": "code",
      "execution_count": null,
      "metadata": {
        "id": "0o31_FuVmqPR"
      },
      "outputs": [],
      "source": [
        "class Bicycle():\n",
        "    pass #일단작성한것으로보고pass"
      ]
    },
    {
      "cell_type": "markdown",
      "source": [
        "###객체 생성"
      ],
      "metadata": {
        "id": "YleD05UCz_oi"
      }
    },
    {
      "cell_type": "code",
      "source": [
        "my_bicycle = Bicycle()\n",
        "my_bicycle"
      ],
      "metadata": {
        "colab": {
          "base_uri": "https://localhost:8080/"
        },
        "id": "5f_Xg0nAz_F7",
        "outputId": "9efd34c5-0049-4acb-dea0-fe40c22a15b3"
      },
      "execution_count": null,
      "outputs": [
        {
          "output_type": "execute_result",
          "data": {
            "text/plain": [
              "<__main__.Bicycle at 0x79ab350f7d30>"
            ]
          },
          "metadata": {},
          "execution_count": 10
        }
      ]
    },
    {
      "cell_type": "code",
      "source": [
        "my_bicycle.wheel_size=26\n",
        "my_bicycle.color=\"black\"\n"
      ],
      "metadata": {
        "id": "l1IF4_X20Qyr"
      },
      "execution_count": null,
      "outputs": []
    },
    {
      "cell_type": "code",
      "source": [
        "print(my_bicycle.wheel_size)\n",
        "print(my_bicycle.color)"
      ],
      "metadata": {
        "colab": {
          "base_uri": "https://localhost:8080/"
        },
        "id": "YdWHlCXA0ZF6",
        "outputId": "ddf5d82b-cb60-4528-be76-fb0b98ec7dab"
      },
      "execution_count": null,
      "outputs": [
        {
          "output_type": "stream",
          "name": "stdout",
          "text": [
            "26\n",
            "black\n"
          ]
        }
      ]
    },
    {
      "cell_type": "code",
      "source": [
        "class 책:\n",
        "    title = None\n",
        "    author = None\n",
        "    pages = 0\n",
        "    price = 0\n",
        "    discount = 0"
      ],
      "metadata": {
        "id": "PF-9U1jG0j-E"
      },
      "execution_count": null,
      "outputs": []
    },
    {
      "cell_type": "code",
      "source": [
        "class 책:\n",
        "    title = None\n",
        "    author = None\n",
        "    pages = 0\n",
        "    price = 0\n",
        "    discount = 0\n",
        "\n",
        "책01호 = 책()\n",
        "책01호.title = \"Streamlit\"\n",
        "책01호.author = \"Evan\"\n",
        "책01호.pages = 560\n",
        "책01호.price = 40000\n",
        "책01호.discount = 10\n",
        "\n",
        "print('책 01호')\n",
        "print('title', 책01호.title, 'author', 책01호.author, 'pages', 책01호.pages, 'price', 책01호.price, 'discount', 책01호.discount)\n",
        "\n",
        "책02호 = 책()\n",
        "책02호.title = \"pandas\"\n",
        "책02호.author = \"성신\"\n",
        "책02호.pages = 400\n",
        "책02호.price = 30000\n",
        "책02호.discount = 20\n",
        "\n",
        "print('책 02호')\n",
        "print('title', 책02호.title, 'author', 책02호.author, 'pages', 책02호.pages, 'price', 책02호.price, 'discount', 책02호.discount)"
      ],
      "metadata": {
        "id": "syG-KolP1LfD"
      },
      "execution_count": null,
      "outputs": []
    },
    {
      "cell_type": "code",
      "source": [
        "class Bicycle():\n",
        "    def __init__(self, wheel_size, color):\n",
        "        self.wheel_size = wheel_size\n",
        "        self.color = color\n",
        "\n",
        "my_bicycle = Bicycle(26, 'black') # 객체 생성과 동시에 속성값을 지정.\n",
        "print(my_bicycle.wheel_size, my_bicycle.color)"
      ],
      "metadata": {
        "colab": {
          "base_uri": "https://localhost:8080/"
        },
        "id": "XrC_z4K_1CQC",
        "outputId": "236e61f9-20f4-437b-a8e1-c77aab236be2"
      },
      "execution_count": null,
      "outputs": [
        {
          "output_type": "stream",
          "name": "stdout",
          "text": [
            "26 black\n"
          ]
        }
      ]
    },
    {
      "cell_type": "code",
      "source": [
        "class Bicycle():\n",
        "    def __init__(self, wheel_size, color):\n",
        "        self.wheel_size = wheel_size\n",
        "        self.color = color\n",
        "    #메서드\n",
        "    def move(self, speed):\n",
        "        print(f\"자전거 : 시속{speed}킬로미터로전진중\")\n",
        "\n",
        "my_bicycle = Bicycle(26, 'black') # 객체 생성과 동시에 속성값을 지정.\n",
        "print(my_bicycle.wheel_size, my_bicycle.color)\n",
        "my_bicycle.move(30)"
      ],
      "metadata": {
        "colab": {
          "base_uri": "https://localhost:8080/"
        },
        "id": "aGGKa6rB4yM9",
        "outputId": "80802351-af4f-400d-a5ab-bf88dcd3f616"
      },
      "execution_count": null,
      "outputs": [
        {
          "output_type": "stream",
          "name": "stdout",
          "text": [
            "26 black\n",
            "자전거 : 시속30킬로미터로전진중\n"
          ]
        }
      ]
    },
    {
      "cell_type": "markdown",
      "source": [
        "##문제\n",
        "-person이라는 클래스 만드세요\n",
        "-속성 : 이름, 나이\n",
        "-메소드greet()"
      ],
      "metadata": {
        "id": "lCPoJ5Dm5UUG"
      }
    },
    {
      "cell_type": "code",
      "source": [
        "class person:\n",
        "    def __init__(self, name, age):\n",
        "        self.name = name\n",
        "        self.age = age\n",
        "    def greet(self):\n",
        "        print(f\"안녕하세요 제 이름은 {self.name}이고 {self.age}살입니다.\")"
      ],
      "metadata": {
        "id": "xHrCINNV5dDU"
      },
      "execution_count": null,
      "outputs": []
    },
    {
      "cell_type": "code",
      "source": [
        "andrew = person(\"andrew\", 30)\n",
        "andrew.greet()"
      ],
      "metadata": {
        "colab": {
          "base_uri": "https://localhost:8080/"
        },
        "id": "LXGprD2F52WF",
        "outputId": "3a37fa54-eeb5-4a21-e2f9-0c031c607db1"
      },
      "execution_count": null,
      "outputs": [
        {
          "output_type": "stream",
          "name": "stdout",
          "text": [
            "안녕하세요 제 이름은 andrew이고 30살입니다.\n"
          ]
        }
      ]
    },
    {
      "cell_type": "code",
      "source": [
        "yuna=person(\"yuna\",11)\n",
        "yuna.greet()"
      ],
      "metadata": {
        "colab": {
          "base_uri": "https://localhost:8080/"
        },
        "id": "MERGEC7z7bih",
        "outputId": "312b6c33-9f57-4973-f669-1c6fc76eef6f"
      },
      "execution_count": null,
      "outputs": [
        {
          "output_type": "stream",
          "name": "stdout",
          "text": [
            "안녕하세요 제 이름은 yuna이고 11살입니다.\n"
          ]
        }
      ]
    },
    {
      "cell_type": "code",
      "source": [
        "class person:\n",
        "    def __init__(self, name, age):\n",
        "        self.name = name\n",
        "        self.age = age\n",
        "    def greet(self, other_name=\"친구\"):\n",
        "        print(f\"안녕하세요 {other_name}님 제 이름은 {self.name}이고 {self.age}살입니다.\")"
      ],
      "metadata": {
        "id": "KJrNPGPC7oO7"
      },
      "execution_count": null,
      "outputs": []
    },
    {
      "cell_type": "code",
      "source": [
        "andrew = person(\"andrew\", 30)\n",
        "andrew.greet(\"요원\")\n",
        "andrew.greet()"
      ],
      "metadata": {
        "colab": {
          "base_uri": "https://localhost:8080/"
        },
        "id": "LXcaxwKW8A50",
        "outputId": "5c60ea62-bddd-48a4-c703-6a8355467406"
      },
      "execution_count": null,
      "outputs": [
        {
          "output_type": "stream",
          "name": "stdout",
          "text": [
            "안녕하세요 요원님 제 이름은 andrew이고 30살입니다.\n",
            "안녕하세요 친구님 제 이름은 andrew이고 30살입니다.\n"
          ]
        }
      ]
    },
    {
      "cell_type": "markdown",
      "source": [
        "#다양한 메서드 추가"
      ],
      "metadata": {
        "id": "_GVkxmK789I2"
      }
    },
    {
      "cell_type": "code",
      "source": [
        "class Bicycle():\n",
        "    def __init__(self, wheel_size, color):\n",
        "        self.wheel_size = wheel_size\n",
        "        self.color = color\n",
        "    #메서드\n",
        "    def move(self, speed):\n",
        "        print(f\"자전거 : 시속{speed}킬로미터로전진중\")\n",
        "    def stop(self):\n",
        "        print(f\"{self.wheel_size} , {self.color} 특성을 가진 자전거님 정지하세요\")\n",
        "\n",
        "my_bicycle = Bicycle(26, 'black') # 객체 생성과 동시에 속성값을 지정.\n",
        "my_bicycle.move(30)\n",
        "my_bicycle.stop()"
      ],
      "metadata": {
        "colab": {
          "base_uri": "https://localhost:8080/"
        },
        "id": "jfn4tcsk87sH",
        "outputId": "811fa3c6-6a1f-4fb0-b6f8-d74200ebc425"
      },
      "execution_count": null,
      "outputs": [
        {
          "output_type": "stream",
          "name": "stdout",
          "text": [
            "자전거 : 시속30킬로미터로전진중\n",
            "26 , black 특성을 가진 자전거님 정지하세요\n"
          ]
        }
      ]
    },
    {
      "cell_type": "markdown",
      "source": [
        "클래스를 만든다고 할 때 가장 중요한 것은\n",
        "클래스명 특성과 행동을 정의하는 것이 핵심 포인트입니다\n",
        "\n",
        "자전거를 떠올릴 때\n",
        "자전거 != 자동차\n"
      ],
      "metadata": {
        "id": "vY2FMtHX9sVw"
      }
    },
    {
      "cell_type": "markdown",
      "source": [
        "시각화를 그리려고 함 (버전 1.0대)\n",
        "+ 도면 클래스 : 다양한 속성과 함수들이 존재\n",
        "+ 그리기 도구 클래스 : 다양한 속성과 함수들이 존재\n",
        "+ 막대 그래프 클래스\n",
        "+ 파이차트 클래스\n",
        "+ 3D 그리기 클래스\n",
        "\n",
        "-3D 클래스\n",
        "처음에 시각화 만들 때에는 3d라는 것이 나올거라는 상상도 못 했는데 이제\n",
        "3d가 나오고 나서 버전이 1.5 2.0 이런식으로 갈 것임\n",
        "\n",
        "처음에 교통수단 말만 있다가\n",
        "이제 자동차, 자전거 오토바이 비행기 등등 새롭게 나옴\n",
        "\n",
        "점점 교통수단 종류가 많아지면서 육상 교통 vs 해상 교통 이런식으로도 나뉘고...\n",
        "\n",
        "가장 중요한 것은 각각의 클래스 정의를 내릴 때 클래스 끼리 상호작용 되도록 고려해야 함\n",
        "\n",
        "위 개념을 담은 것이 나중에 라이브러리로 출시됨\n"
      ],
      "metadata": {
        "id": "Gh4cQXdd-H7X"
      }
    },
    {
      "cell_type": "markdown",
      "source": [
        "#클래스에서 사용하는 변수"
      ],
      "metadata": {
        "id": "VtAVy9Fe_5_t"
      }
    },
    {
      "cell_type": "code",
      "source": [
        "class Car():\n",
        "\n",
        "    # 클래스 변수\n",
        "    instance_count = 0 # 클래스 변수 생성 및 초기화\n",
        "\n",
        "    def __init__(self, size, color):\n",
        "        self.size = size # 인스턴스 변수 생성 및 초기화\n",
        "        self.color = color # 인스턴스 변수 생성 및 초기화\n",
        "        Car.instance_count = Car.instance_count + 1 # 클래스 변수 이용 하는 방법\n",
        "        print(f\"자동차 객체의 수: {Car.instance_count}\")\n",
        "\n",
        "    # 메서드\n",
        "    def move(self):\n",
        "        print(f\"자동차 {self.size}, {self.color}가 움직입니다.\")"
      ],
      "metadata": {
        "id": "pvNMganm_9S8"
      },
      "execution_count": null,
      "outputs": []
    },
    {
      "cell_type": "code",
      "source": [
        "car1 = Car('small','white')\n",
        "car2 = Car('big','black')\n",
        "car3 = Car('medium', 'yellow')"
      ],
      "metadata": {
        "colab": {
          "base_uri": "https://localhost:8080/"
        },
        "id": "Dg4Dbg-lAwDE",
        "outputId": "f08a4961-4b53-4eb5-9341-f69f310b437c"
      },
      "execution_count": null,
      "outputs": [
        {
          "output_type": "stream",
          "name": "stdout",
          "text": [
            "자동차 객체의 수: 22\n",
            "자동차 객체의 수: 23\n",
            "자동차 객체의 수: 24\n"
          ]
        }
      ]
    },
    {
      "cell_type": "markdown",
      "source": [
        "클래스 변수는 사용하지 않는 것을 추천함\n",
        "기존 값을 계속 이어 받으면서 값이 계속 달라질 가능성이 있기 때문\n"
      ],
      "metadata": {
        "id": "e2THe74FBroN"
      }
    },
    {
      "cell_type": "markdown",
      "source": [
        "#상속의 기본형태"
      ],
      "metadata": {
        "id": "3G70ZsYrHhGM"
      }
    },
    {
      "cell_type": "code",
      "source": [
        "class 상위클래스:\n",
        "    pass\n",
        "class 하위클래스(상위클래스):\n",
        "    pass\n",
        "\n",
        "#강사님은 금융 공부 못한것이 아쉽다고 하심\n",
        "#주식, 부동산 돈은 그것으로 버는 것\n",
        "#주식 투자 엄청 늦게 시작\n",
        "#강사님 자녀 2명에게 생일 때 주식 사줄 때 있음\n",
        "#20대 초반에 주식, 금융, 부동산 공부 하도록 하고 계심"
      ],
      "metadata": {
        "id": "WiNOI-Z6HjSF"
      },
      "execution_count": null,
      "outputs": []
    },
    {
      "cell_type": "code",
      "source": [
        "class 동물:\n",
        "    name=\"\"\n",
        "    def 음식먹기(self):\n",
        "        print(\"저는 음식을 먹습니다\")\n",
        "\n"
      ],
      "metadata": {
        "id": "JBD4AmYIIqAF"
      },
      "execution_count": null,
      "outputs": []
    },
    {
      "cell_type": "code",
      "source": [
        "동물1=동물()\n",
        "동물1.음식먹기()\n"
      ],
      "metadata": {
        "colab": {
          "base_uri": "https://localhost:8080/"
        },
        "id": "Fm4jg4WfI7Js",
        "outputId": "03398582-e6a7-42f9-9459-7a7a8d65e466"
      },
      "execution_count": null,
      "outputs": [
        {
          "output_type": "stream",
          "name": "stdout",
          "text": [
            "저는 음식을 먹습니다\n"
          ]
        }
      ]
    },
    {
      "cell_type": "code",
      "source": [
        "class 강아지(동물): #강아지는 동물을 상속하였습니다\n",
        "    def 자기소개(self):\n",
        "        print(f\"내 이름은 {self.name}\")"
      ],
      "metadata": {
        "id": "2bymkeLnI-2p"
      },
      "execution_count": null,
      "outputs": []
    },
    {
      "cell_type": "code",
      "source": [
        "강아지1=강아지()\n",
        "강아지1.name=\"아무거나\"\n",
        "강아지1.음식먹기()\n",
        "강아지1.자기소개()"
      ],
      "metadata": {
        "colab": {
          "base_uri": "https://localhost:8080/"
        },
        "id": "XIkgWsEHJFUI",
        "outputId": "34da9d9a-ade7-41c0-d2ae-7934f246d5ea"
      },
      "execution_count": null,
      "outputs": [
        {
          "output_type": "stream",
          "name": "stdout",
          "text": [
            "저는 음식을 먹습니다\n",
            "내 이름은 아무거나\n"
          ]
        }
      ]
    },
    {
      "cell_type": "markdown",
      "source": [
        "상속은 is-a 관계\n",
        "\n",
        "Car is a vehicle ==> 상위 클래스 : vehicle, 하위 클래스 : Car\n",
        "\n",
        "Apple is a fruit ==> 상위 클래스 : fruit, 하위 클래스 : Apple\n",
        "\n",
        "Cat is an animal ==> 상위 클래스 : animal, 하위 클래스 : cat"
      ],
      "metadata": {
        "id": "oWKu4RZAKPXc"
      }
    },
    {
      "cell_type": "markdown",
      "source": [
        "##다중 상속\n"
      ],
      "metadata": {
        "id": "qK14vdseLOa9"
      }
    },
    {
      "cell_type": "code",
      "source": [
        "class 상위클래스1:\n",
        "    pass\n",
        "class 상위클래스2:\n",
        "    pass\n",
        "class 하위클래스(상위클래스1, 상위클래스2):\n",
        "    pass\n",
        "\n",
        "#프로그램이 고도화되고 프로젝트가 복잡할 수록 다중 상속 사용할 경우 많음\n"
      ],
      "metadata": {
        "id": "8OkMkFjvLQ7I"
      },
      "execution_count": null,
      "outputs": []
    },
    {
      "cell_type": "code",
      "source": [
        "class 포유류:\n",
        "    def 포유류_정보(self):\n",
        "        print(\"포유류의 특징은 새끼를 낳는다\")\n",
        "class 날개동물:\n",
        "    def 날개동물_정보(self):\n",
        "        print(\"날개동물의 특징은 날 수 있다\")\n",
        "class 박쥐(포유류, 날개동물):\n",
        "    pass\n"
      ],
      "metadata": {
        "id": "SVma32CALroQ"
      },
      "execution_count": null,
      "outputs": []
    },
    {
      "cell_type": "code",
      "source": [
        "b1=박쥐()\n",
        "b1.포유류_정보()\n",
        "b1.날개동물_정보()"
      ],
      "metadata": {
        "colab": {
          "base_uri": "https://localhost:8080/"
        },
        "id": "g-C1C02sMRxo",
        "outputId": "5544630b-768c-497c-8764-8e604476b513"
      },
      "execution_count": null,
      "outputs": [
        {
          "output_type": "stream",
          "name": "stdout",
          "text": [
            "포유류의 특징은 새끼를 낳는다\n",
            "날개동물의 특징은 날 수 있다\n"
          ]
        }
      ]
    },
    {
      "cell_type": "markdown",
      "source": [
        "# 클래스 설계 하다 보면 부딪히는 흔한 문제\n",
        "\n",
        "- 메서드 명이 같을 때\n",
        "- 오버라이딩, 다형성\n"
      ],
      "metadata": {
        "id": "91AEwR6-MvAd"
      }
    },
    {
      "cell_type": "markdown",
      "source": [
        "After Lunch"
      ],
      "metadata": {
        "id": "6-atxpbGfTTV"
      }
    },
    {
      "cell_type": "code",
      "source": [
        "\"\"\"\n",
        "- Car 클래스를 만들어보겠습니다.\n",
        "- Car 클래스는 `__init__`, `get_description`, `read_kilometer`, `update_kilometer`, `increment_kilometer`라는 메서드를 갖습니다.\n",
        "    + `__init__` 메서드는 클래스의 생성자로, 객체가 생성될 때 호출됩니다.\n",
        "- 속성 사용하기\n",
        "    + `self.make`, `self.model`, `self.year`, `self.kilometer_reading` 클래스의 속성입니다.\n",
        "    + 객체가 생성될 때 속성값이 초기화됩니다.\n",
        "\n",
        "- self의 의미\n",
        "    + self는 클래스의 인스턴스를 참조합니다. 클래스 내의 메서드가 객체의 속성에 접근하거나 다른 메서드를 호출할 때 사용합니다.\n",
        "    + self를 통해 클래스 내의 속성 및 메서드를 정의하고 접근할 수 있습니다.\n",
        "\n",
        "- 클래스의 위치 인수, 키워드 인수\n",
        "    + `__init__` 메서드의 make, model, year는 위치 인수로 전달됩니다.\n",
        "    + 메서드를 호출할 때 my_car.update_kilometer(kilometers=500)처럼 키워드 인수로 사용할 수도 있습니다.\n",
        "\"\"\""
      ],
      "metadata": {
        "id": "lKc2lle8fVj5"
      },
      "execution_count": null,
      "outputs": []
    },
    {
      "cell_type": "code",
      "source": [
        "class Car:\n",
        "    def __init__(self, make, model, year):\n",
        "        \"\"\"Car 클래스의 초기화 메서드입니다.\"\"\"\n",
        "        self.make = make  # 자동차 제조사\n",
        "        self.model = model  # 자동차 모델\n",
        "        self.year = year  # 제조 연도\n",
        "        self.kilometer_reading = 0  # 초기 주행 거리\n",
        "\n",
        "    def get_description(self):\n",
        "        \"\"\"자동차의 정보를 반환합니다.\"\"\"\n",
        "        return f\"{self.year} {self.make} {self.model}, 주행 거리: {self.kilometer_reading} km\"\n",
        "\n",
        "    def read_kilometer(self):\n",
        "        \"\"\"현재 주행 거리를 반환합니다.\"\"\"\n",
        "        return self.kilometer_reading\n",
        "\n",
        "    def update_kilometer(self, kilometers):\n",
        "        \"\"\"주행 거리를 업데이트합니다.\"\"\"\n",
        "        if kilometers >= self.kilometer_reading:\n",
        "            self.kilometer_reading = kilometers\n",
        "        else:\n",
        "            print(\"주행 거리는 이전 값보다 커야 합니다.\")\n",
        "\n",
        "    def increment_kilometer(self, kilometers):\n",
        "        \"\"\"주행 거리를 증가시킵니다.\"\"\"\n",
        "        if kilometers > 0:\n",
        "            self.kilometer_reading += kilometers\n",
        "        else:\n",
        "            print(\"증가할 주행 거리는 0보다 커야 합니다.\")\n",
        "\n",
        "# 예시 사용\n",
        "my_car = Car(\"Toyota\", \"Corolla\", 2020)\n",
        "print(my_car.get_description())  # 2020 Toyota Corolla, 주행 거리: 0 km\n",
        "\n",
        "my_car.update_kilometer(1500)\n",
        "print(my_car.get_description())  # 2020 Toyota Corolla, 주행 거리: 1500 km\n",
        "\n",
        "my_car.increment_kilometer(300)\n",
        "print(my_car.get_description())  # 2020 Toyota Corolla, 주행 거리: 1800 km\n",
        "\n",
        "my_car.update_kilometer(1200)  # 주행 거리 업데이트 오류\n"
      ],
      "metadata": {
        "colab": {
          "base_uri": "https://localhost:8080/"
        },
        "id": "ZaQQfFQdfcT3",
        "outputId": "83dc304a-ea7b-4b1b-8630-3df38b1a0519"
      },
      "execution_count": null,
      "outputs": [
        {
          "output_type": "stream",
          "name": "stdout",
          "text": [
            "2020 Toyota Corolla, 주행 거리: 0 km\n",
            "2020 Toyota Corolla, 주행 거리: 1500 km\n",
            "2020 Toyota Corolla, 주행 거리: 1800 km\n",
            "주행 거리는 이전 값보다 커야 합니다.\n"
          ]
        }
      ]
    },
    {
      "cell_type": "code",
      "source": [
        "class Car:\n",
        "    # __init__ 메서드: 객체가 생성될 때 호출되며 속성을 초기화합니다.\n",
        "    def __init__(self, make, model, year):\n",
        "        self.make = make  # 자동차 제조사\n",
        "        self.model = model  # 자동차 모델\n",
        "        self.year = year  # 제조 연도\n",
        "        self.kilometer_reading = 0  # 주행 거리 (초기값 0)\n",
        "\n",
        "    # 자동차의 전체 설명을 반환하는 메서드\n",
        "    def get_description(self):\n",
        "        return f\"{self.year} {self.make} {self.model}\"\n",
        "\n",
        "    # 현재 주행 거리 출력하는 메서드\n",
        "    def read_kilometer(self):\n",
        "        print(f\"이 자동차의 현재 주행 거리는 {self.kilometer_reading} 킬로미터입니다.\")\n",
        "\n",
        "    # 주행거리 업데이트\n",
        "    # 새로운 값이 기존 값보다 클 경우에만 업데이트\n",
        "    def update_kilometer(self, kilometers):\n",
        "        if kilometers >= self.kilometer_reading:\n",
        "            self.kilometer_reading = kilometers\n",
        "            print(f\"업데이트 확인 : {self.kilometer_reading} 킬로미터\")\n",
        "        else:\n",
        "            print(f\"현재 : {self.kilometer_reading}, 다시 입력해주세용\")\n",
        "\n",
        "    # 주행 거리를 증가시키는 메서드\n",
        "    def increment_kilometer(self, kilometers):\n",
        "        if kilometers > 0:\n",
        "            self.kilometer_reading += kilometers\n",
        "        else:\n",
        "            print(\"음수가 입력되었습니다. 양수로 입력해주세요\")"
      ],
      "metadata": {
        "id": "w2VspwfhkJBa"
      },
      "execution_count": null,
      "outputs": []
    },
    {
      "cell_type": "code",
      "source": [
        "my_car = Car(\"현대\", \"아반떼\", 2024)\n",
        "description = my_car.get_description()\n",
        "print(description)\n",
        "my_car.read_kilometer()\n",
        "my_car.increment_kilometer(100)\n",
        "my_car.read_kilometer()\n",
        "\n"
      ],
      "metadata": {
        "colab": {
          "base_uri": "https://localhost:8080/"
        },
        "id": "iz8GnVnSnRlO",
        "outputId": "b80b61b6-06b6-4dcf-cb1c-d82d25d36505"
      },
      "execution_count": null,
      "outputs": [
        {
          "output_type": "stream",
          "name": "stdout",
          "text": [
            "2024 현대 아반떼\n",
            "이 자동차의 현재 주행 거리는 0 킬로미터입니다.\n",
            "이 자동차의 현재 주행 거리는 100 킬로미터입니다.\n"
          ]
        }
      ]
    },
    {
      "cell_type": "code",
      "source": [
        "class Car:\n",
        "    \"\"\"\n",
        "    A class representing a car.\n",
        "\n",
        "    Attributes:\n",
        "        make (str): The manufacturer of the car.\n",
        "        model (str): The model of the car.\n",
        "        year (int): The year the car was manufactured.\n",
        "        kilometer_reading (int): The current mileage of the car, initialized to 0.\n",
        "    \"\"\"\n",
        "\n",
        "    def __init__(self, make: str, model: str, year: int):\n",
        "        \"\"\"\n",
        "        Initializes a Car instance with the specified make, model, and year.\n",
        "\n",
        "        Args:\n",
        "            make (str): The manufacturer of the car.\n",
        "            model (str): The model of the car.\n",
        "            year (int): The year the car was manufactured.\n",
        "        \"\"\"\n",
        "        self.make = make  # 자동차 제조사\n",
        "        self.model = model  # 자동차 모델\n",
        "        self.year = year  # 제조 연도\n",
        "        self.kilometer_reading = 0  # 주행 거리 (초기값 0)\n",
        "\n",
        "    def get_description(self) -> str:\n",
        "        \"\"\"\n",
        "        Returns a string description of the car.\n",
        "\n",
        "        Returns:\n",
        "            str: A string containing the year, make, and model of the car.\n",
        "        \"\"\"\n",
        "        return f\"{self.year} {self.make} {self.model}\"\n",
        "\n",
        "    def read_kilometer(self) -> None:\n",
        "        \"\"\"\n",
        "        Prints the current mileage of the car.\n",
        "        \"\"\"\n",
        "        print(f\"이 자동차의 현재 주행 거리는 {self.kilometer_reading} 킬로미터입니다.\")\n",
        "\n",
        "    def update_kilometer(self, kilometers: int) -> None:\n",
        "        \"\"\"\n",
        "        Updates the car's mileage if the new mileage is greater than or equal to the current mileage.\n",
        "\n",
        "        Args:\n",
        "            kilometers (int): The new mileage to update.\n",
        "        \"\"\"\n",
        "        if kilometers >= self.kilometer_reading:\n",
        "            self.kilometer_reading = kilometers\n",
        "            print(f\"업데이트 확인 : {self.kilometer_reading} 킬로미터\")\n",
        "        else:\n",
        "            print(f\"현재 : {self.kilometer_reading}, 다시 입력해주세용\")\n",
        "\n",
        "    def increment_kilometer(self, kilometers: int) -> None:\n",
        "        \"\"\"\n",
        "        Increases the car's mileage by a specified amount.\n",
        "\n",
        "        Args:\n",
        "            kilometers (int): The amount to increase the mileage by.\n",
        "\n",
        "        Raises:\n",
        "            ValueError: If the kilometers provided is negative.\n",
        "        \"\"\"\n",
        "        if kilometers > 0:\n",
        "            self.kilometer_reading += kilometers\n",
        "        else:\n",
        "            print(\"음수가 입력되었습니다. 양수로 입력해주세요\")\n"
      ],
      "metadata": {
        "id": "C8vacmVJrWF8"
      },
      "execution_count": null,
      "outputs": []
    },
    {
      "cell_type": "code",
      "source": [
        "my_car=Car(\"현대\",\"아반뗴\",2024)\n",
        "print(my_car.__doc__)"
      ],
      "metadata": {
        "colab": {
          "base_uri": "https://localhost:8080/"
        },
        "id": "JJ33ebcXrZiI",
        "outputId": "95274d3d-8b6e-41ec-9a97-62c099dd6c9c"
      },
      "execution_count": null,
      "outputs": [
        {
          "output_type": "stream",
          "name": "stdout",
          "text": [
            "\n",
            "    A class representing a car.\n",
            "\n",
            "    Attributes:\n",
            "        make (str): The manufacturer of the car.\n",
            "        model (str): The model of the car.\n",
            "        year (int): The year the car was manufactured.\n",
            "        kilometer_reading (int): The current mileage of the car, initialized to 0.\n",
            "    \n"
          ]
        }
      ]
    },
    {
      "cell_type": "code",
      "source": [
        "help(my_car) # 내가 docstring으로 만든 모든 것이 출력됨\n"
      ],
      "metadata": {
        "colab": {
          "base_uri": "https://localhost:8080/"
        },
        "id": "5q39Y_DjrlCo",
        "outputId": "c7bb14e3-8762-4440-bca1-f63f1739f84e"
      },
      "execution_count": null,
      "outputs": [
        {
          "output_type": "stream",
          "name": "stdout",
          "text": [
            "Help on Car in module __main__ object:\n",
            "\n",
            "class Car(builtins.object)\n",
            " |  Car(make: str, model: str, year: int)\n",
            " |  \n",
            " |  A class representing a car.\n",
            " |  \n",
            " |  Attributes:\n",
            " |      make (str): The manufacturer of the car.\n",
            " |      model (str): The model of the car.\n",
            " |      year (int): The year the car was manufactured.\n",
            " |      kilometer_reading (int): The current mileage of the car, initialized to 0.\n",
            " |  \n",
            " |  Methods defined here:\n",
            " |  \n",
            " |  __init__(self, make: str, model: str, year: int)\n",
            " |      Initializes a Car instance with the specified make, model, and year.\n",
            " |      \n",
            " |      Args:\n",
            " |          make (str): The manufacturer of the car.\n",
            " |          model (str): The model of the car.\n",
            " |          year (int): The year the car was manufactured.\n",
            " |  \n",
            " |  get_description(self) -> str\n",
            " |      Returns a string description of the car.\n",
            " |      \n",
            " |      Returns:\n",
            " |          str: A string containing the year, make, and model of the car.\n",
            " |  \n",
            " |  increment_kilometer(self, kilometers: int) -> None\n",
            " |      Increases the car's mileage by a specified amount.\n",
            " |      \n",
            " |      Args:\n",
            " |          kilometers (int): The amount to increase the mileage by.\n",
            " |      \n",
            " |      Raises:\n",
            " |          ValueError: If the kilometers provided is negative.\n",
            " |  \n",
            " |  read_kilometer(self) -> None\n",
            " |      Prints the current mileage of the car.\n",
            " |  \n",
            " |  update_kilometer(self, kilometers: int) -> None\n",
            " |      Updates the car's mileage if the new mileage is greater than or equal to the current mileage.\n",
            " |      \n",
            " |      Args:\n",
            " |          kilometers (int): The new mileage to update.\n",
            " |  \n",
            " |  ----------------------------------------------------------------------\n",
            " |  Data descriptors defined here:\n",
            " |  \n",
            " |  __dict__\n",
            " |      dictionary for instance variables (if defined)\n",
            " |  \n",
            " |  __weakref__\n",
            " |      list of weak references to the object (if defined)\n",
            "\n"
          ]
        }
      ]
    },
    {
      "cell_type": "markdown",
      "source": [
        "#클래스 설계 하다 보면 부딪히는 흔한 문제\n",
        "-메서드명이 같을 때\n",
        "-오버라이딩(자식클래스에서 해당 메서드의 개념을 재정의함), 다형성"
      ],
      "metadata": {
        "id": "PszbB6qiwWMM"
      }
    },
    {
      "cell_type": "code",
      "source": [
        "# 우리 이미 다형성 써 본 적 있음\n",
        "\n",
        "# + 연산의 경우 정수 2개를 더하면 숫자이고, 문자열 2개를 더 하면 그냥 이어짐\n",
        "\n",
        "# len()의 경우에도 소괄호 안에 문자열, 리스트, 딕셔너리 등 어떤 자료형이 들어가냐에 따라 다름\n"
      ],
      "metadata": {
        "id": "FUqxS-x0wcRF"
      },
      "execution_count": null,
      "outputs": []
    },
    {
      "cell_type": "code",
      "source": [
        "#부모 클래스\n",
        "class 동물:\n",
        "    def 울음소리(self):\n",
        "        return \"동물 울음소리\"\n",
        "\n",
        "# 자식 클래스\n",
        "class 강아지(동물):\n",
        "    def 울음소리(self):\n",
        "        return \"멍멍\"\n",
        "\n",
        "class 고양이(동물):\n",
        "    def 울음소리(self):\n",
        "        return \"야옹\"\n",
        "\n"
      ],
      "metadata": {
        "id": "5q6VnGGXxX4i"
      },
      "execution_count": null,
      "outputs": []
    },
    {
      "cell_type": "code",
      "source": [
        "#다형성 함수\n",
        "def make_sound(animal):\n",
        "    print(animal.울음소리())"
      ],
      "metadata": {
        "id": "CKWP_alCyVdh"
      },
      "execution_count": null,
      "outputs": []
    },
    {
      "cell_type": "code",
      "source": [
        "#객체를 생성함\n",
        "dog=강아지()\n",
        "cat=고양이()\n",
        "dog.울음소리()\n",
        "cat.울음소리()"
      ],
      "metadata": {
        "colab": {
          "base_uri": "https://localhost:8080/",
          "height": 35
        },
        "id": "tALfwdvAyGjC",
        "outputId": "6c159e56-3b4f-4ae5-cb10-696a4be61316"
      },
      "execution_count": null,
      "outputs": [
        {
          "output_type": "execute_result",
          "data": {
            "text/plain": [
              "'야옹'"
            ],
            "application/vnd.google.colaboratory.intrinsic+json": {
              "type": "string"
            }
          },
          "metadata": {},
          "execution_count": 113
        }
      ]
    },
    {
      "cell_type": "code",
      "source": [
        "make_sound(dog)\n",
        "make_sound(cat)"
      ],
      "metadata": {
        "colab": {
          "base_uri": "https://localhost:8080/"
        },
        "id": "MGrN1Duyygg7",
        "outputId": "677541ed-b8f8-4dda-8e14-6ea3e68121a5"
      },
      "execution_count": null,
      "outputs": [
        {
          "output_type": "stream",
          "name": "stdout",
          "text": [
            "멍멍\n",
            "야옹\n"
          ]
        }
      ]
    },
    {
      "cell_type": "markdown",
      "source": [
        "#메서드 오버라이딩\n"
      ],
      "metadata": {
        "id": "kppCnqyZ0Pug"
      }
    },
    {
      "cell_type": "code",
      "source": [
        "from math import pi\n",
        "\n",
        "#상위클래스(모양)\n",
        "class Shape:\n",
        "    def __init__(self,name):\n",
        "        self.name=name\n",
        "    def area(self):\n",
        "        pass\n",
        "    def fact(self):\n",
        "        return \"나는 2차원 도형\"\n",
        "\n",
        "#하위클래스(사각형)\n",
        "class Square(Shape):\n",
        "    def __init__(self,length):\n",
        "        super().__init__(\"Square\")\n",
        "        self.length=length\n",
        "    def area(self):\n",
        "        return self.length ** 2\n",
        "\n",
        "#하위클래스(원)\n",
        "class Circle(Shape):\n",
        "    def __init__(self,radius):\n",
        "        super().__init__(\"Circle\")\n",
        "        self.radius=radius\n",
        "    def area(self):\n",
        "        return pi*self.radius**2"
      ],
      "metadata": {
        "id": "4hfmYX4r0Zp4"
      },
      "execution_count": null,
      "outputs": []
    },
    {
      "cell_type": "code",
      "source": [
        "a=Square(4)\n",
        "print(a.area())"
      ],
      "metadata": {
        "colab": {
          "base_uri": "https://localhost:8080/"
        },
        "id": "LRKr_lZa2faN",
        "outputId": "4b02ae87-4dde-4dd6-fecf-4ee59788b9cd"
      },
      "execution_count": null,
      "outputs": [
        {
          "output_type": "stream",
          "name": "stdout",
          "text": [
            "16\n"
          ]
        }
      ]
    },
    {
      "cell_type": "code",
      "source": [
        "b=Circle(4)\n",
        "print(b.area())"
      ],
      "metadata": {
        "colab": {
          "base_uri": "https://localhost:8080/"
        },
        "id": "DJpShRwj2q9c",
        "outputId": "284fc294-8892-4e00-9d5f-659f9386a25c"
      },
      "execution_count": null,
      "outputs": [
        {
          "output_type": "stream",
          "name": "stdout",
          "text": [
            "50.26548245743669\n"
          ]
        }
      ]
    },
    {
      "cell_type": "markdown",
      "source": [
        "똑같이 4를 넣었지만 결과는 16과 50으로 다르게 나옴\n"
      ],
      "metadata": {
        "id": "r7MNX2k021s9"
      }
    },
    {
      "cell_type": "code",
      "source": [
        "from math import pi\n",
        "\n",
        "# 상위 클래스 (모양)\n",
        "class Shape:\n",
        "    def __init__(self, name):\n",
        "        self.name = name\n",
        "\n",
        "    def area(self):\n",
        "        pass\n",
        "\n",
        "    def fact(self):\n",
        "        return \"나는 2차원 도형\"\n",
        "\n",
        "# 사각형 하위 클래스\n",
        "class Square(Shape):\n",
        "    def __init__(self, length):\n",
        "        super().__init__(\"Square\")\n",
        "        self.length = length\n",
        "\n",
        "    def area(self):\n",
        "        return self.length ** 2\n",
        "\n",
        "# 원 하위 클래스\n",
        "class Circle(Shape):\n",
        "    def __init__(self, radius):\n",
        "        super().__init__(\"Circle\")\n",
        "        self.radius = radius\n",
        "\n",
        "    def area(self):\n",
        "        return pi*self.radius**2"
      ],
      "metadata": {
        "id": "7CD7sIos2whV"
      },
      "execution_count": null,
      "outputs": []
    },
    {
      "cell_type": "markdown",
      "source": [
        "파이썬 연산자 오버로딩\n",
        "\n",
        "클래스를 여러 개 만들고, 여러 클래스를 (예) 사칙연산 바로 시킬 수 있도록 하는 것"
      ],
      "metadata": {
        "id": "8m_86tN-4ojC"
      }
    },
    {
      "cell_type": "code",
      "source": [
        "a=2\n",
        "b=3\n",
        "c=a+b\n",
        "\n",
        "print(c)"
      ],
      "metadata": {
        "colab": {
          "base_uri": "https://localhost:8080/"
        },
        "id": "fElrlO9z4pYh",
        "outputId": "0770a60a-a057-4af3-dea3-360f5bfdba28"
      },
      "execution_count": null,
      "outputs": [
        {
          "output_type": "stream",
          "name": "stdout",
          "text": [
            "5\n"
          ]
        }
      ]
    },
    {
      "cell_type": "code",
      "source": [
        "print(type(a))"
      ],
      "metadata": {
        "colab": {
          "base_uri": "https://localhost:8080/"
        },
        "id": "VZVME5_j42e6",
        "outputId": "ab37e5a7-c833-4c27-c43c-b2631e731ebb"
      },
      "execution_count": null,
      "outputs": [
        {
          "output_type": "stream",
          "name": "stdout",
          "text": [
            "<class 'int'>\n"
          ]
        }
      ]
    },
    {
      "cell_type": "code",
      "source": [
        "d=a.__add__(b)\n",
        "print(d)"
      ],
      "metadata": {
        "colab": {
          "base_uri": "https://localhost:8080/"
        },
        "id": "9boU0ZR74uEi",
        "outputId": "5437be1a-da89-4b0e-f672-c9c7e16edc86"
      },
      "execution_count": null,
      "outputs": [
        {
          "output_type": "stream",
          "name": "stdout",
          "text": [
            "5\n"
          ]
        }
      ]
    },
    {
      "cell_type": "markdown",
      "source": [
        "#연산자 오버로딩\n",
        "operator overloading"
      ],
      "metadata": {
        "id": "FOtbVkrR9bsF"
      }
    },
    {
      "cell_type": "code",
      "source": [
        "class A:\n",
        "    def __init__(self, value):\n",
        "        self.value = value\n",
        "\n",
        "    #연산자 오버로딩\n",
        "    def __add__(self, other):\n",
        "        result = self.value + other.value\n",
        "        return A(result)\n",
        "\n",
        "a1 = A(2)\n",
        "a2 = A(3)\n",
        "\n",
        "a3 = a1 + a2 #연산자 오버로딩 안 한 상태에서는 이거 에러남\n",
        "\n",
        "\n",
        "print(a3.value)\n",
        "\n",
        "#클래스 끼리 서로 연산 작업을 할 때 그냥은 바로 안 되고\n",
        "# 연산자 오버로딩이라는 컨셉이 필요함!"
      ],
      "metadata": {
        "colab": {
          "base_uri": "https://localhost:8080/"
        },
        "id": "SVt2D1lF9dPT",
        "outputId": "28848744-0309-4083-c7b2-ce808a3990ae"
      },
      "execution_count": null,
      "outputs": [
        {
          "output_type": "stream",
          "name": "stdout",
          "text": [
            "5\n"
          ]
        }
      ]
    },
    {
      "cell_type": "markdown",
      "source": [
        "# 예제 2. 책 관리 시스템\n",
        "- 여러분은 간단한 책 관리 시스템을 만들어야 합니다. Book 클래스를 사용하여 책의 정보를 저장하고, 책을 읽고, 현재 페이지를 업데이트하는 프로그램을 작성하세요.\n",
        "- 여러 Book 객체를 생성하고, 각 책에 대해 다음 작업을 수행하세요.\n",
        "    + 책의 설명을 출력하세요.\n",
        "    + 책을 읽고, 현재 페이지를 업데이트하고, 책 읽기 진행 상황을 출력하세요.\n",
        "    + 읽을 페이지 수가 전체 페이지 수를 초과할 경우, 오류 메시지를 출력하세요."
      ],
      "metadata": {
        "id": "e-s32a8h_Ms5"
      }
    },
    {
      "cell_type": "code",
      "source": [
        "class Book:\n",
        "    def __init__(self, title, author, total_pages):\n",
        "        self.title = title\n",
        "        self.author = author\n",
        "        self.total_pages = total_pages\n",
        "        self.current_page = 0\n",
        "\n",
        "    def describe(self):\n",
        "        return f\"책 제목: {self.title}, 저자: {self.author}, 총 페이지 수: {self.total_pages}, 현재 페이지: {self.current_page}\"\n",
        "\n",
        "    def read(self, pages):\n",
        "        if pages < 1:\n",
        "            print(\"읽을 페이지 수는 1페이지 이상이어야 합니다.\")\n",
        "            return\n",
        "\n",
        "        if self.current_page + pages > self.total_pages:\n",
        "            print(f\"오류: 현재 페이지 {self.current_page}에서 {pages}페이지를 읽으려고 했으나, 총 페이지 수는 {self.total_pages}입니다.\")\n",
        "        else:\n",
        "            self.current_page += pages\n",
        "            print(f\"{pages}페이지를 읽었습니다. 현재 페이지: {self.current_page}.\")"
      ],
      "metadata": {
        "id": "eMOF0C7T_a4K"
      },
      "execution_count": null,
      "outputs": []
    },
    {
      "cell_type": "code",
      "source": [
        "# 여러 Book 객체 생성\n",
        "book1 = Book(\"파이썬 프로그래밍\", \"홍길동\", 300)\n",
        "book2 = Book(\"자료 구조\", \"김철수\", 250)\n",
        "\n",
        "# 각 책에 대해 작업 수행\n",
        "print(book1.describe())\n",
        "book1.read(50)\n",
        "book1.read(300)  # 초과 읽기 테스트\n",
        "\n",
        "\n",
        "print()\n",
        "print()\n",
        "print()\n",
        "\n",
        "print(book2.describe())\n",
        "book2.read(100)\n",
        "book2.read(200)  # 초과 읽기 테스트"
      ],
      "metadata": {
        "colab": {
          "base_uri": "https://localhost:8080/"
        },
        "id": "sApTVB7c_7l6",
        "outputId": "782db5e9-8bbb-48c1-cc01-b7b1c636adf7"
      },
      "execution_count": null,
      "outputs": [
        {
          "output_type": "stream",
          "name": "stdout",
          "text": [
            "책 제목: 파이썬 프로그래밍, 저자: 홍길동, 총 페이지 수: 300, 현재 페이지: 0\n",
            "50페이지를 읽었습니다. 현재 페이지: 50.\n",
            "오류: 현재 페이지 50에서 300페이지를 읽으려고 했으나, 총 페이지 수는 300입니다.\n",
            "\n",
            "\n",
            "\n",
            "책 제목: 자료 구조, 저자: 김철수, 총 페이지 수: 250, 현재 페이지: 0\n",
            "100페이지를 읽었습니다. 현재 페이지: 100.\n",
            "오류: 현재 페이지 100에서 200페이지를 읽으려고 했으나, 총 페이지 수는 250입니다.\n"
          ]
        }
      ]
    },
    {
      "cell_type": "markdown",
      "source": [
        "선생님이 주신 더미 코드"
      ],
      "metadata": {
        "id": "KaDy3yu7Dgeo"
      }
    },
    {
      "cell_type": "code",
      "source": [
        "class Book:\n",
        "    def __init__(self, title, author, pages):\n",
        "        self.title = title\n",
        "        self.author = author\n",
        "        self.pages = pages\n",
        "        self.current_page = 0\n",
        "\n",
        "    def get_description(self):\n",
        "        return f\"'{self.title}' (저자: {self.author}, 총 {self.pages}페이지)\""
      ],
      "metadata": {
        "id": "7Q45Bhg-DblI"
      },
      "execution_count": null,
      "outputs": []
    },
    {
      "cell_type": "code",
      "source": [
        "book1=Book('A','evan',300)\n",
        "book1.get_description()"
      ],
      "metadata": {
        "colab": {
          "base_uri": "https://localhost:8080/",
          "height": 35
        },
        "id": "iS_loIMUDtHl",
        "outputId": "400096b6-cad0-4df2-ce7d-da312bc271f8"
      },
      "execution_count": null,
      "outputs": [
        {
          "output_type": "execute_result",
          "data": {
            "text/plain": [
              "\"'A' (저자: evan, 총 300페이지)\""
            ],
            "application/vnd.google.colaboratory.intrinsic+json": {
              "type": "string"
            }
          },
          "metadata": {},
          "execution_count": 157
        }
      ]
    },
    {
      "cell_type": "code",
      "source": [
        "class Book:\n",
        "    def __init__(self, title, author, pages):\n",
        "        self.title = title\n",
        "        self.author = author\n",
        "        self.pages = pages\n",
        "        self.current_page = 0\n",
        "\n",
        "    def get_description(self):\n",
        "        return f\"'{self.title}' (저자: {self.author}, 총 {self.pages}페이지)\"\n",
        "\n",
        "    def read(self, pages):\n",
        "        if self.current_page + pages <= self.pages:\n",
        "            self.current_page += pages\n",
        "            print(f\"{pages}페이지를 읽었습니다. 현재 {self.current_page}페이지에 있습니다.\")\n",
        "        else:\n",
        "            print(f\"책의 총 페이지 수를 초과할 수 없습니다!\")\n",
        "\n",
        "    def book_progress(self):\n",
        "        print(f\"이 책은 총 {self.pages}페이지이며, 현재 {self.current_page}페이지를 읽었습니다.\")\n",
        "\n",
        "book1 = Book('A', 'evan', 300)\n",
        "book1.get_description()"
      ],
      "metadata": {
        "colab": {
          "base_uri": "https://localhost:8080/",
          "height": 35
        },
        "id": "NFE_if0AEcSs",
        "outputId": "697397f7-bb5c-4a96-d0ce-bafe3d18ab71"
      },
      "execution_count": null,
      "outputs": [
        {
          "output_type": "execute_result",
          "data": {
            "text/plain": [
              "\"'A' (저자: evan, 총 300페이지)\""
            ],
            "application/vnd.google.colaboratory.intrinsic+json": {
              "type": "string"
            }
          },
          "metadata": {},
          "execution_count": 159
        }
      ]
    },
    {
      "cell_type": "code",
      "source": [
        "# 여러 책 인스턴스 생성\n",
        "book1 = Book('오만과 편견', '제인 오스틴', 279)\n",
        "book2 = Book('앵무새 죽이기', '하퍼 리', 281)\n",
        "book3 = Book('위대한 개츠비', 'F. 스콧 피츠제럴드', 180)"
      ],
      "metadata": {
        "id": "bSX_gN4sEnoz"
      },
      "execution_count": null,
      "outputs": []
    },
    {
      "cell_type": "code",
      "source": [
        "# 책 정보 출력\n",
        "print(book1.get_description())\n",
        "print(book2.get_description())\n",
        "print(book3.get_description())\n",
        "\n",
        "# 책 읽기\n",
        "book1.read(50)\n",
        "book1.book_progress()\n",
        "\n",
        "book2.read(30)\n",
        "book2.book_progress()\n",
        "\n",
        "book3.read(100)\n",
        "book3.book_progress()\n",
        "\n",
        "# 페이지 초과 시도\n",
        "book1.read(250)\n",
        "book1.book_progress()"
      ],
      "metadata": {
        "colab": {
          "base_uri": "https://localhost:8080/"
        },
        "id": "ppHbNjVrHTnL",
        "outputId": "9675b470-2d1f-49ab-eee1-b13db65345ad"
      },
      "execution_count": null,
      "outputs": [
        {
          "output_type": "stream",
          "name": "stdout",
          "text": [
            "'오만과 편견' (저자: 제인 오스틴, 총 279페이지)\n",
            "'앵무새 죽이기' (저자: 하퍼 리, 총 281페이지)\n",
            "'위대한 개츠비' (저자: F. 스콧 피츠제럴드, 총 180페이지)\n",
            "50페이지를 읽었습니다. 현재 50페이지에 있습니다.\n",
            "이 책은 총 279페이지이며, 현재 50페이지를 읽었습니다.\n",
            "30페이지를 읽었습니다. 현재 30페이지에 있습니다.\n",
            "이 책은 총 281페이지이며, 현재 30페이지를 읽었습니다.\n",
            "100페이지를 읽었습니다. 현재 100페이지에 있습니다.\n",
            "이 책은 총 180페이지이며, 현재 100페이지를 읽었습니다.\n",
            "책의 총 페이지 수를 초과할 수 없습니다!\n",
            "이 책은 총 279페이지이며, 현재 50페이지를 읽었습니다.\n"
          ]
        }
      ]
    },
    {
      "cell_type": "markdown",
      "source": [
        "8교시 테스트\n",
        "\n",
        "\n",
        "## 요구사항\n",
        "- `Spaceship` 클래스를 정의하세요.\n",
        "- 속성\n",
        "    + `color (str):` 우주선의 색상\n",
        "    + `speed (int):` 우주선의 속도\n",
        "    + `passengers (int):` 우주선의 탑승 인원 수\n",
        "- 메서드\n",
        "    + `__init__(self, color: str, speed: int, passengers: int):` 색상, 속도, 탑승 인원 수를 초기화합니다.\n",
        "    + `get_color(self) -> str:` 색상을 반환합니다.\n",
        "    + `set_color(self, color: str):` 색상을 설정합니다.\n",
        "    + `get_speed(self) -> int:` 속도를 반환합니다.\n",
        "    + `set_speed(self, speed: int):` 속도를 설정합니다.\n",
        "    + `get_passengers(self) -> int:` 탑승 인원 수를 반환합니다.\n",
        "    + `set_passengers(self, passengers: int):` 탑승 인원 수를 설정합니다.\n",
        "    + `add_passenger(self):` 탑승 인원 수를 N명 추가합니다.\n",
        "    + `remove_passenger(self):` 탑승 인원 수를 N명 감소시킵니다. 탑승 인원 수가 0명 이하로 내려갈 수 없습니다.\n",
        "    + `increase_speed(self, amount: int):` 속도를 amount만큼 증가시킵니다.\n",
        "    + `decrease_speed(self, amount: int):` 속도를 amount만큼 감소시킵니다. 속도가 0 이하로 내려갈 수 없습니다.\n",
        "    + `get_info(self) -> str:` 현재 우주선의 상태 정보를 반환합니다.\n",
        "\n",
        "## 시뮬레이션 테스트\n",
        "- 시뮬레이션 프로그램을 작성하세요.\n",
        "    + 사용자는 다음 작업을 선택할 수 있습니다:\n",
        "    + 우주선의 색상을 설정합니다.\n",
        "    + 속도를 증가시킵니다.\n",
        "    + 속도를 감소시킵니다.\n",
        "    + 탑승 인원 수를 N명 추가합니다.\n",
        "    + 탑승 인원 수를 N명 감소합니다.\n",
        "    + 시뮬레이션을 종료합니다.\n",
        "    \n",
        "\"\"\""
      ],
      "metadata": {
        "id": "h9q6ZQD5YJPe"
      }
    },
    {
      "cell_type": "code",
      "source": [
        "class Spaceship:\n",
        "    def __init__(self, color: str, speed: int, passengers: int):\n",
        "        self.color = color\n",
        "        self.speed = speed\n",
        "        self.passengers = passengers\n",
        "\n",
        "    def get_color(self) -> str:\n",
        "        return self.color\n",
        "\n",
        "    def set_color(self, color: str):\n",
        "        self.color = color\n",
        "\n",
        "    def get_speed(self) -> int:\n",
        "        return self.speed\n",
        "\n",
        "    def set_speed(self, speed: int):\n",
        "        self.speed = speed\n",
        "\n",
        "    def get_passengers(self) -> int:\n",
        "        return self.passengers\n",
        "\n",
        "    def set_passengers(self, passengers: int):\n",
        "        self.passengers = passengers\n",
        "\n",
        "    def add_passenger(self, count: int):\n",
        "        self.passengers += count\n",
        "\n",
        "    def remove_passenger(self, count: int):\n",
        "        if self.passengers - count >= 0:\n",
        "            self.passengers -= count\n",
        "        else:\n",
        "            print(\"탑승 인원 수가 0명 이하로 내려갈 수 없습니다.\")\n",
        "\n",
        "    def increase_speed(self, amount: int):\n",
        "        self.speed += amount\n",
        "\n",
        "    def decrease_speed(self, amount: int):\n",
        "        if self.speed - amount >= 0:\n",
        "            self.speed -= amount\n",
        "        else:\n",
        "            print(\"속도가 0 이하로 내려갈 수 없습니다.\")\n",
        "\n",
        "    def get_info(self) -> str:\n",
        "        return f\"색상: {self.color}, 속도: {self.speed}, 탑승 인원 수: {self.passengers}\"\n",
        "\n",
        "# 시뮬레이션 테스트\n",
        "def spaceship_simulation():\n",
        "    print(\"우주선 시뮬레이션을 시작합니다.\")\n",
        "    color = input(\"우주선의 색상을 입력하세요: \")\n",
        "    speed = int(input(\"우주선의 초기 속도를 입력하세요: \"))\n",
        "    passengers = int(input(\"우주선의 초기 탑승 인원 수를 입력하세요: \"))\n",
        "\n",
        "    spaceship = Spaceship(color, speed, passengers)\n",
        "\n",
        "    while True:\n",
        "        print(\"\\n작업을 선택하세요:\")\n",
        "        print(\"1. 색상 설정\")\n",
        "        print(\"2. 속도 증가\")\n",
        "        print(\"3. 속도 감소\")\n",
        "        print(\"4. 탑승 인원 수 추가\")\n",
        "        print(\"5. 탑승 인원 수 감소\")\n",
        "        print(\"6. 상태 정보 보기\")\n",
        "        print(\"7. 시뮬레이션 종료\")\n",
        "\n",
        "        choice = input(\"선택: \")\n",
        "\n",
        "        if choice == '1':\n",
        "            new_color = input(\"새 색상을 입력하세요: \")\n",
        "            spaceship.set_color(new_color)\n",
        "            print(f\"색상이 '{new_color}'로 변경되었습니다.\")\n",
        "\n",
        "        elif choice == '2':\n",
        "            amount = int(input(\"증가할 속도: \"))\n",
        "            spaceship.increase_speed(amount)\n",
        "            print(f\"속도가 {amount}만큼 증가했습니다. 현재 속도: {spaceship.get_speed()}\")\n",
        "\n",
        "        elif choice == '3':\n",
        "            amount = int(input(\"감소할 속도: \"))\n",
        "            spaceship.decrease_speed(amount)\n",
        "            print(f\"속도가 {amount}만큼 감소했습니다. 현재 속도: {spaceship.get_speed()}\")\n",
        "\n",
        "        elif choice == '4':\n",
        "            count = int(input(\"추가할 탑승 인원 수: \"))\n",
        "            spaceship.add_passenger(count)\n",
        "            print(f\"탑승 인원 수가 {count}명 추가되었습니다. 현재 탑승 인원 수: {spaceship.get_passengers()}\")\n",
        "\n",
        "        elif choice == '5':\n",
        "            count = int(input(\"감소할 탑승 인원 수: \"))\n",
        "            spaceship.remove_passenger(count)\n",
        "            print(f\"탑승 인원 수가 {count}명 감소되었습니다. 현재 탑승 인원 수: {spaceship.get_passengers()}\")\n",
        "\n",
        "        elif choice == '6':\n",
        "            print(spaceship.get_info())\n",
        "\n",
        "        elif choice == '7':\n",
        "            print(\"시뮬레이션을 종료합니다.\")\n",
        "            break\n",
        "\n",
        "        else:\n",
        "            print(\"잘못된 선택입니다. 다시 시도하세요.\")\n",
        "\n",
        "# 실행\n",
        "spaceship_simulation()\n"
      ],
      "metadata": {
        "colab": {
          "base_uri": "https://localhost:8080/"
        },
        "id": "1iyQMvf9Y05H",
        "outputId": "28d1ecfd-4b57-468f-9391-bc7404d654ab"
      },
      "execution_count": null,
      "outputs": [
        {
          "output_type": "stream",
          "name": "stdout",
          "text": [
            "우주선 시뮬레이션을 시작합니다.\n",
            "우주선의 색상을 입력하세요: red\n",
            "우주선의 초기 속도를 입력하세요: 10\n",
            "우주선의 초기 탑승 인원 수를 입력하세요: 5\n",
            "\n",
            "작업을 선택하세요:\n",
            "1. 색상 설정\n",
            "2. 속도 증가\n",
            "3. 속도 감소\n",
            "4. 탑승 인원 수 추가\n",
            "5. 탑승 인원 수 감소\n",
            "6. 상태 정보 보기\n",
            "7. 시뮬레이션 종료\n",
            "선택: 7\n",
            "시뮬레이션을 종료합니다.\n"
          ]
        }
      ]
    },
    {
      "cell_type": "code",
      "source": [
        "\"\"\"\n",
        "## 요구사항\n",
        "- `Spaceship` 클래스를 정의하세요.\n",
        "- 속성\n",
        "    + `color (str):` 우주선의 색상\n",
        "    + `speed (int):` 우주선의 속도\n",
        "    + `passengers (int):` 우주선의 탑승 인원 수\n",
        "- 메서드\n",
        "    + `__init__(self, color: str, speed: int, passengers: int):` 색상, 속도, 탑승 인원 수를 초기화합니다.\n",
        "    + `get_color(self) -> str:` 색상을 반환합니다.\n",
        "    + `set_color(self, color: str):` 색상을 설정합니다.\n",
        "    + `get_speed(self) -> int:` 속도를 반환합니다.\n",
        "    + `set_speed(self, speed: int):` 속도를 설정합니다.\n",
        "    + `get_passengers(self) -> int:` 탑승 인원 수를 반환합니다.\n",
        "    + `set_passengers(self, passengers: int):` 탑승 인원 수를 설정합니다.\n",
        "    + `add_passenger(self):` 탑승 인원 수를 N명 추가합니다.\n",
        "    + `remove_passenger(self):` 탑승 인원 수를 N명 감소시킵니다. 탑승 인원 수가 0명 이하로 내려갈 수 없습니다.\n",
        "    + `increase_speed(self, amount: int):` 속도를 amount만큼 증가시킵니다.\n",
        "    + `decrease_speed(self, amount: int):` 속도를 amount만큼 감소시킵니다. 속도가 0 이하로 내려갈 수 없습니다.\n",
        "    + `get_info(self) -> str:` 현재 우주선의 상태 정보를 반환합니다.\n",
        "\n",
        "## 시뮬레이션 테스트\n",
        "- 시뮬레이션 프로그램을 작성하세요.\n",
        "    + 사용자는 다음 작업을 선택할 수 있습니다:\n",
        "    + 우주선의 색상을 설정합니다.\n",
        "    + 속도를 증가시킵니다.\n",
        "    + 속도를 감소시킵니다.\n",
        "    + 탑승 인원 수를 N명 추가합니다.\n",
        "    + 탑승 인원 수를 N명 감소합니다.\n",
        "    + 시뮬레이션을 종료합니다.\n",
        "\n",
        "\"\"\"\n",
        "\n",
        "class Spaceship:\n",
        "    def __init__(self, color: str, speed: int, passengers: int):\n",
        "        self._color = color\n",
        "        self._speed = speed\n",
        "        self._passengers = passengers\n",
        "\n",
        "    # Color getter and setter\n",
        "    def get_color(self) -> str:\n",
        "        return self._color\n",
        "\n",
        "    def set_color(self, color: str):\n",
        "        self._color = color\n",
        "\n",
        "    # Speed getter and setter\n",
        "    def get_speed(self) -> int:\n",
        "        return self._speed\n",
        "\n",
        "    def set_speed(self, speed: int):\n",
        "        self._speed = speed\n",
        "\n",
        "    # Passengers getter and setter\n",
        "    def get_passengers(self) -> int:\n",
        "        return self._passengers\n",
        "\n",
        "    def set_passengers(self, passengers: int):\n",
        "        self._passengers = passengers\n",
        "\n",
        "    def add_passenger(self, number: int):\n",
        "        self._passengers += number\n",
        "        print(f\"{number}명의 탑승자가 추가되었습니다. 현재 탑승인원: {self._passengers}\")\n",
        "\n",
        "    def remove_passenger(self, number: int):\n",
        "        if self._passengers >= number:\n",
        "            self._passengers -= number\n",
        "            print(f\"{number}명의 탑승자가 하차했습니다. 현재 탑승인원: {self._passengers}\")\n",
        "        else:\n",
        "            print(\"하차할 탑승객 수가 현재 탑승인원보다 많습니다\")\n",
        "\n",
        "    def increase_speed(self, amount: int):\n",
        "        self._speed += amount\n",
        "        print(f\"속도가 {amount}만큼 증가했습니다. 새로운 속도: {self._speed}\")\n",
        "\n",
        "    def decrease_speed(self, amount: int):\n",
        "        if self._speed - amount >= 0:\n",
        "            self._speed -= amount\n",
        "            print(f\"속도가 {amount}만큼 감소했습니다. 새로운 속도: {self._speed}\")\n",
        "        else:\n",
        "            print(\"속도는 음수가 될 수 없습니다\")\n",
        "\n",
        "    def get_info(self) -> str:\n",
        "        return f\"우주선 색상: {self._color}, 속도: {self._speed}, 탑승인원: {self._passengers}\"\n",
        "\n",
        "def simulate_spaceship():\n",
        "    spaceship = Spaceship(\"Red\", 10000, 5)\n",
        "\n",
        "    while True:\n",
        "        print(\"\\n현재 우주선 상태:\")\n",
        "        print(spaceship.get_info())\n",
        "\n",
        "        print(\"\\n무엇을 하시겠습니까?\")\n",
        "        print(\"1. 색상 설정\")\n",
        "        print(\"2. 속도 증가\")\n",
        "        print(\"3. 속도 감소\")\n",
        "        print(\"4. 탑승인원 추가\")\n",
        "        print(\"5. 탑승인원 하차\")\n",
        "        print(\"6. 시뮬레이션 종료\")\n",
        "\n",
        "        choice = input(\"선택을 입력하세요 (1-6): \")\n",
        "\n",
        "        if choice == '1':\n",
        "            color = input(\"새 색상을 입력하세요: \")\n",
        "            spaceship.set_color(color)\n",
        "            print(f\"색상이 {color}(으)로 변경되었습니다\")\n",
        "\n",
        "        elif choice == '2':\n",
        "            amount = int(input(\"속도를 얼마나 증가시키겠습니까?: \"))\n",
        "            spaceship.increase_speed(amount)\n",
        "\n",
        "        elif choice == '3':\n",
        "            amount = int(input(\"속도를 얼마나 감소시키겠습니까?: \"))\n",
        "            spaceship.decrease_speed(amount)\n",
        "\n",
        "        elif choice == '4':\n",
        "            number = int(input(\"추가할 탑승인원 수를 입력하세요: \"))\n",
        "            spaceship.add_passenger(number)\n",
        "\n",
        "        elif choice == '5':\n",
        "            number = int(input(\"하차할 탑승인원 수를 입력하세요: \"))\n",
        "            spaceship.remove_passenger(number)\n",
        "\n",
        "        elif choice == '6':\n",
        "            print(\"시뮬레이션을 종료합니다.\")\n",
        "            break\n",
        "\n",
        "        else:\n",
        "            print(\"잘못된 선택입니다. 1에서 6 사이의 숫자를 입력하세요.\")\n",
        "\n",
        "# 시뮬레이션 실행\n",
        "simulate_spaceship()"
      ],
      "metadata": {
        "colab": {
          "base_uri": "https://localhost:8080/"
        },
        "id": "G9y0ae0eeho2",
        "outputId": "2180cffb-a7ab-4ada-d5f8-d0b527751f45"
      },
      "execution_count": null,
      "outputs": [
        {
          "output_type": "stream",
          "name": "stdout",
          "text": [
            "\n",
            "현재 우주선 상태:\n",
            "우주선 색상: Red, 속도: 10000, 탑승인원: 5\n",
            "\n",
            "무엇을 하시겠습니까?\n",
            "1. 색상 설정\n",
            "2. 속도 증가\n",
            "3. 속도 감소\n",
            "4. 탑승인원 추가\n",
            "5. 탑승인원 하차\n",
            "6. 시뮬레이션 종료\n",
            "선택을 입력하세요 (1-6): 1\n",
            "새 색상을 입력하세요: blue\n",
            "색상이 blue(으)로 변경되었습니다\n",
            "\n",
            "현재 우주선 상태:\n",
            "우주선 색상: blue, 속도: 10000, 탑승인원: 5\n",
            "\n",
            "무엇을 하시겠습니까?\n",
            "1. 색상 설정\n",
            "2. 속도 증가\n",
            "3. 속도 감소\n",
            "4. 탑승인원 추가\n",
            "5. 탑승인원 하차\n",
            "6. 시뮬레이션 종료\n",
            "선택을 입력하세요 (1-6): green\n",
            "잘못된 선택입니다. 1에서 6 사이의 숫자를 입력하세요.\n",
            "\n",
            "현재 우주선 상태:\n",
            "우주선 색상: blue, 속도: 10000, 탑승인원: 5\n",
            "\n",
            "무엇을 하시겠습니까?\n",
            "1. 색상 설정\n",
            "2. 속도 증가\n",
            "3. 속도 감소\n",
            "4. 탑승인원 추가\n",
            "5. 탑승인원 하차\n",
            "6. 시뮬레이션 종료\n",
            "선택을 입력하세요 (1-6): 1\n",
            "새 색상을 입력하세요: yellow\n",
            "색상이 yellow(으)로 변경되었습니다\n",
            "\n",
            "현재 우주선 상태:\n",
            "우주선 색상: yellow, 속도: 10000, 탑승인원: 5\n",
            "\n",
            "무엇을 하시겠습니까?\n",
            "1. 색상 설정\n",
            "2. 속도 증가\n",
            "3. 속도 감소\n",
            "4. 탑승인원 추가\n",
            "5. 탑승인원 하차\n",
            "6. 시뮬레이션 종료\n",
            "선택을 입력하세요 (1-6): he11o\n",
            "잘못된 선택입니다. 1에서 6 사이의 숫자를 입력하세요.\n",
            "\n",
            "현재 우주선 상태:\n",
            "우주선 색상: yellow, 속도: 10000, 탑승인원: 5\n",
            "\n",
            "무엇을 하시겠습니까?\n",
            "1. 색상 설정\n",
            "2. 속도 증가\n",
            "3. 속도 감소\n",
            "4. 탑승인원 추가\n",
            "5. 탑승인원 하차\n",
            "6. 시뮬레이션 종료\n",
            "선택을 입력하세요 (1-6): 1\n",
            "새 색상을 입력하세요: hel1o\n",
            "색상이 hel1o(으)로 변경되었습니다\n",
            "\n",
            "현재 우주선 상태:\n",
            "우주선 색상: hel1o, 속도: 10000, 탑승인원: 5\n",
            "\n",
            "무엇을 하시겠습니까?\n",
            "1. 색상 설정\n",
            "2. 속도 증가\n",
            "3. 속도 감소\n",
            "4. 탑승인원 추가\n",
            "5. 탑승인원 하차\n",
            "6. 시뮬레이션 종료\n",
            "선택을 입력하세요 (1-6): 6\n",
            "시뮬레이션을 종료합니다.\n"
          ]
        }
      ]
    }
  ]
}