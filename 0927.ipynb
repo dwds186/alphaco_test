{
  "nbformat": 4,
  "nbformat_minor": 0,
  "metadata": {
    "colab": {
      "provenance": [],
      "authorship_tag": "ABX9TyNKChkF66jT0IcUeU8PtE6U",
      "include_colab_link": true
    },
    "kernelspec": {
      "name": "python3",
      "display_name": "Python 3"
    },
    "language_info": {
      "name": "python"
    }
  },
  "cells": [
    {
      "cell_type": "markdown",
      "metadata": {
        "id": "view-in-github",
        "colab_type": "text"
      },
      "source": [
        "<a href=\"https://colab.research.google.com/github/dwds186/alphaco_test/blob/main/0927.ipynb\" target=\"_parent\"><img src=\"https://colab.research.google.com/assets/colab-badge.svg\" alt=\"Open In Colab\"/></a>"
      ]
    },
    {
      "cell_type": "markdown",
      "source": [
        "파이썬에서 배우는 데이터 과학\n",
        "- 빅데이터 분석기사 자격증 준비 (넘파이, 판다스, 사이킷런, 통계 모듈 등)\n",
        "(단 1년에 2번만 시험 시행)\n",
        "(올해는 이미 필기 접수 끝나서, 올해는 빅데이터 분석 준전문가 그게 유일)"
      ],
      "metadata": {
        "id": "E7aX91UiyLLn"
      }
    },
    {
      "cell_type": "markdown",
      "source": [
        "#파이썬에서 배우는 데이터 과학\n",
        "\n",
        "\n",
        "- NUMPY : 수치 연산 (행렬 연산)\n",
        "--이공계 : 이공계에게 회사가 기대하는 것은 수리적인 능력, 즉 식을 세워서 연산할 수 있는 능력 : ex 피타고라스 정리 수식을 코드로 변환 가능한가?\n",
        "\n",
        "\n",
        "- PANDAS : 엑셀 데이터 처리\n",
        "-- 데이터 다루는 사람들은 기본적으로 이 라이브러리 활용함\n",
        "-- 하나 유일한 단점 : 진짜 LITERALLY \"BIG\" 데이터를 다루는 툴로써는 부적합(속도가 느리기 때문 -> 데이터 50g 정도 되면 colab에서 못 돌림 로컬에서 처리해야 함)\n",
        "\n",
        "- SCIPY & STATSMODELS & PINGOUIN : 통계 라이브러리\n",
        "-- 단점 기존솔루션(SPSS, R) 결과값, 설명 등이 조금 불친절함\n",
        "\n",
        "- MATPLOTLIB & SEABORN : 시각화 라이브러리 (정적인 이미지 static 이미지 형태로 출력해줌)\n",
        "\n",
        "- PLOTLY: 인터액티브 시각화 (데이터 조회 기간을 선택하거나 특정 기준으로 데이터를 필터링하는 것을 인터액티브라고 함)\n",
        "\n",
        "\n",
        "이제 시각화가 끝났으니...\n",
        "\n",
        "- SCIKIT-LEARN : 머신러닝\n"
      ],
      "metadata": {
        "id": "qBp21Ijn44lb"
      }
    },
    {
      "cell_type": "markdown",
      "source": [
        "강사님의 팁 : 만약 본인이 코드에 관심이 없다면 시각화는 버리는 것을 추천\n",
        "특히 시각화를 예쁘게 하려면 이미지 하나 뽑는데 멧플롯이랑 씨본 이런것으로 코드 200줄 나옴\n",
        "\n",
        "본인이 강점이 있는 라이브러리를 하나 깊게 파는 것을 추천\n",
        "\n",
        "넘파이 판다스 등 여러 가지 배우는 것도 버거움\n",
        "\n",
        "시각화 라이브러리만을 정말 깊이 있게 가르치는 전문 서적은 아직 출시 안 된 것으로 알고 있음 그리기 도구이기 때문에 정말 간단하게만 가르칠 수도 있고 진짜 깊이 있게 들어갈 수도 있음\n"
      ],
      "metadata": {
        "id": "28B6nPHl7xGl"
      }
    },
    {
      "cell_type": "markdown",
      "source": [
        "#라이브러리 설치"
      ],
      "metadata": {
        "id": "ZCi77D4-861y"
      }
    },
    {
      "cell_type": "code",
      "source": [
        "!pip install numpy"
      ],
      "metadata": {
        "colab": {
          "base_uri": "https://localhost:8080/"
        },
        "id": "adQs5Une91kH",
        "outputId": "610a3752-168a-4e37-9b70-07f92322953e"
      },
      "execution_count": null,
      "outputs": [
        {
          "output_type": "stream",
          "name": "stdout",
          "text": [
            "Requirement already satisfied: numpy in /usr/local/lib/python3.10/dist-packages (1.26.4)\n"
          ]
        }
      ]
    },
    {
      "cell_type": "markdown",
      "source": [
        "pip install -r requirements.txt\n",
        "이렇게 하면 됨\n",
        "근데 그때 그때 필요한 라이브러리가 추가될 수 있어요\n",
        "\n",
        "이럴 때에는\n",
        "!pip install numpy\n",
        "(구글 코랩, 주피터 모두 동일)\n",
        "이런식으로 하면 됩니다.\n"
      ],
      "metadata": {
        "id": "yhmdsvdw9E7M"
      }
    },
    {
      "cell_type": "code",
      "execution_count": null,
      "metadata": {
        "colab": {
          "base_uri": "https://localhost:8080/"
        },
        "id": "BjdkufQcyA-B",
        "outputId": "47507629-311f-46fe-a7eb-612b581e462e"
      },
      "outputs": [
        {
          "output_type": "stream",
          "name": "stdout",
          "text": [
            "1.26.4\n"
          ]
        }
      ],
      "source": [
        "import numpy as np\n",
        "\n",
        "print(np.__version__)\n",
        "#help(np) #이거 누르면 엄청 자세하게 설명해줌"
      ]
    },
    {
      "cell_type": "code",
      "source": [
        "num1 = [1,2,3]\n",
        "num2=[4,5,6]\n",
        "#우리의 기대는 [5,7,9]\n",
        "#num1+num2 -> 이것은 그냥 2가지 서로 다른 리스트를 연결할 뿐...\n",
        "#넘파이 사용하지 않고 하려면, 반복문으로 처리해야 함 chat gpt한테 물어봤더니 zip사용해서 반복으로 더했음 -> 비효율적이고 시간 오래 걸림"
      ],
      "metadata": {
        "colab": {
          "base_uri": "https://localhost:8080/"
        },
        "id": "nwfioq7u-Mac",
        "outputId": "693e92d7-3d5f-49d2-928d-1d2e580471c7"
      },
      "execution_count": null,
      "outputs": [
        {
          "output_type": "execute_result",
          "data": {
            "text/plain": [
              "[1, 2, 3, 4, 5, 6]"
            ]
          },
          "metadata": {},
          "execution_count": 4
        }
      ]
    },
    {
      "cell_type": "code",
      "source": [
        "num1_arr=np.array(num1)\n",
        "num2_arr=np.array(num2)\n",
        "num1_arr+num2_arr\n",
        "\n",
        "#이제부터 수치연산 할 때에는 넘파이를 사용한다고 생각하셈\n",
        "# 왜 쓰는지 알겠지? 만약에 2차원 배열을 더할려면 넘파이 없이 반복문으로만 하려고 하면 정말 비효율적임\n"
      ],
      "metadata": {
        "colab": {
          "base_uri": "https://localhost:8080/"
        },
        "id": "P1Yhhi6a-tZM",
        "outputId": "eafe3734-7a14-4fcf-b7fd-dc3fd658e72d"
      },
      "execution_count": null,
      "outputs": [
        {
          "output_type": "execute_result",
          "data": {
            "text/plain": [
              "array([5, 7, 9])"
            ]
          },
          "metadata": {},
          "execution_count": 7
        }
      ]
    },
    {
      "cell_type": "markdown",
      "source": [
        "https://numpy.org/doc/stable/reference/generated/numpy.ndarray.html"
      ],
      "metadata": {
        "id": "P3VzARvzCE6O"
      }
    },
    {
      "cell_type": "code",
      "source": [
        "print(type(num1_arr))\n",
        "#<class 'numpy.ndarray'> 클래스에는 속성과 메서드가 있음"
      ],
      "metadata": {
        "colab": {
          "base_uri": "https://localhost:8080/"
        },
        "id": "r0xZooKdCGUV",
        "outputId": "234e83b6-912c-4131-8b37-135ec138988c"
      },
      "execution_count": null,
      "outputs": [
        {
          "output_type": "stream",
          "name": "stdout",
          "text": [
            "<class 'numpy.ndarray'>\n"
          ]
        }
      ]
    },
    {
      "cell_type": "code",
      "source": [
        "num1_arr.T"
      ],
      "metadata": {
        "colab": {
          "base_uri": "https://localhost:8080/"
        },
        "id": "LHvIQQWFC1mR",
        "outputId": "887e0366-5453-4a38-a0da-1721a5430e53"
      },
      "execution_count": null,
      "outputs": [
        {
          "output_type": "execute_result",
          "data": {
            "text/plain": [
              "array([1, 2, 3])"
            ]
          },
          "metadata": {},
          "execution_count": 11
        }
      ]
    },
    {
      "cell_type": "code",
      "source": [
        "num1_arr.data"
      ],
      "metadata": {
        "colab": {
          "base_uri": "https://localhost:8080/"
        },
        "id": "MQWxXq5JC8Wp",
        "outputId": "c772502d-ec1c-4b26-efa9-322b38e91a8a"
      },
      "execution_count": null,
      "outputs": [
        {
          "output_type": "execute_result",
          "data": {
            "text/plain": [
              "<memory at 0x7f62d4193700>"
            ]
          },
          "metadata": {},
          "execution_count": 12
        }
      ]
    },
    {
      "cell_type": "code",
      "source": [
        "num1_arr.dtype #dtype('int64')"
      ],
      "metadata": {
        "colab": {
          "base_uri": "https://localhost:8080/"
        },
        "id": "JgTuT2MpC--T",
        "outputId": "ef545228-59d4-4fc1-a600-4f2ca22d4fbc"
      },
      "execution_count": null,
      "outputs": [
        {
          "output_type": "execute_result",
          "data": {
            "text/plain": [
              "dtype('int64')"
            ]
          },
          "metadata": {},
          "execution_count": 14
        }
      ]
    },
    {
      "cell_type": "code",
      "source": [
        "num1_arr.shape #there are 3 elements and 1 dimension"
      ],
      "metadata": {
        "colab": {
          "base_uri": "https://localhost:8080/"
        },
        "id": "Y2jieEbNDJnM",
        "outputId": "96c453c2-906f-4b03-8b5f-46c04ad10775"
      },
      "execution_count": null,
      "outputs": [
        {
          "output_type": "execute_result",
          "data": {
            "text/plain": [
              "(3,)"
            ]
          },
          "metadata": {},
          "execution_count": 15
        }
      ]
    },
    {
      "cell_type": "code",
      "source": [
        "num1_arr.ndim #1차원이라는 뜻"
      ],
      "metadata": {
        "colab": {
          "base_uri": "https://localhost:8080/"
        },
        "id": "quM7TzLiDRAR",
        "outputId": "6930a0a8-d333-4b3f-abce-d7e8bd04d7a1"
      },
      "execution_count": null,
      "outputs": [
        {
          "output_type": "execute_result",
          "data": {
            "text/plain": [
              "1"
            ]
          },
          "metadata": {},
          "execution_count": 16
        }
      ]
    },
    {
      "cell_type": "code",
      "source": [
        "#공식 문서에 설명이 제대로 안 되어 있으면 chat gpt에게 물어보면 됨\n"
      ],
      "metadata": {
        "id": "9rFklzDhDUEJ"
      },
      "execution_count": null,
      "outputs": []
    },
    {
      "cell_type": "code",
      "source": [
        "num1_arr.max()"
      ],
      "metadata": {
        "colab": {
          "base_uri": "https://localhost:8080/"
        },
        "id": "YeOXYfGGEkeu",
        "outputId": "aa860b64-6a3b-4429-d482-c3d000890c5a"
      },
      "execution_count": null,
      "outputs": [
        {
          "output_type": "execute_result",
          "data": {
            "text/plain": [
              "3"
            ]
          },
          "metadata": {},
          "execution_count": 17
        }
      ]
    },
    {
      "cell_type": "markdown",
      "source": [
        "dtype('int64')에 대한 간단한 이야기\n",
        "\n",
        "\n",
        "우리 회사에서 주로 다루는 데이터는 0원 ~ 백만원 미만이다\n",
        "0~1000000\n",
        "\n",
        "내가 주로 쓰고자 하는 데이터의 단위가 크지 않다면 굳이 큰 메모리 쓸 필요가 없음"
      ],
      "metadata": {
        "id": "06TCP34gFVul"
      }
    },
    {
      "cell_type": "code",
      "source": [
        "num1_arr=np.array(num1,dtype='int8')"
      ],
      "metadata": {
        "id": "z974rf8qGLSb"
      },
      "execution_count": null,
      "outputs": []
    },
    {
      "cell_type": "markdown",
      "source": [
        "#배열 만드는 방법"
      ],
      "metadata": {
        "id": "gpzPK6OPG4hT"
      }
    },
    {
      "cell_type": "markdown",
      "source": [
        "#기본적으로 다른 데이터 자료형으로 넘파이 배열로 전환\n"
      ],
      "metadata": {
        "id": "6fMyLlVuG6jZ"
      }
    },
    {
      "cell_type": "code",
      "source": [
        "#배열 생성\n",
        "print(np.ones(3))"
      ],
      "metadata": {
        "colab": {
          "base_uri": "https://localhost:8080/"
        },
        "id": "6V86OvsZHLsg",
        "outputId": "709d6d17-588d-4464-e202-0606c4cd74c2"
      },
      "execution_count": null,
      "outputs": [
        {
          "output_type": "stream",
          "name": "stdout",
          "text": [
            "[1. 1. 1.]\n"
          ]
        }
      ]
    },
    {
      "cell_type": "code",
      "source": [
        "print(np.zeros(3))"
      ],
      "metadata": {
        "colab": {
          "base_uri": "https://localhost:8080/"
        },
        "id": "fvgWDG5KHRvs",
        "outputId": "2e47e6ed-676c-4bbf-a407-77b2e9982ac5"
      },
      "execution_count": null,
      "outputs": [
        {
          "output_type": "stream",
          "name": "stdout",
          "text": [
            "[0. 0. 0.]\n"
          ]
        }
      ]
    },
    {
      "cell_type": "code",
      "source": [
        "print(np.ndarray(shape=(2,2,2), dtype=float, order='F'))"
      ],
      "metadata": {
        "colab": {
          "base_uri": "https://localhost:8080/"
        },
        "id": "w3mdM9cSHexJ",
        "outputId": "ebe9814d-b99e-4f2c-c289-346e77b2f1cf"
      },
      "execution_count": null,
      "outputs": [
        {
          "output_type": "stream",
          "name": "stdout",
          "text": [
            "[[[4.99879724e-310 0.00000000e+000]\n",
            "  [0.00000000e+000 0.00000000e+000]]\n",
            "\n",
            " [[0.00000000e+000 0.00000000e+000]\n",
            "  [0.00000000e+000 0.00000000e+000]]]\n"
          ]
        }
      ]
    },
    {
      "cell_type": "code",
      "source": [
        "arr = np.ndarray(shape=(2,2,2), dtype=float, order='F')\n",
        "arr.shape"
      ],
      "metadata": {
        "colab": {
          "base_uri": "https://localhost:8080/"
        },
        "id": "2PJr9VF9IBFZ",
        "outputId": "24e02991-b295-4128-e1bd-49763b8e9e43"
      },
      "execution_count": null,
      "outputs": [
        {
          "output_type": "execute_result",
          "data": {
            "text/plain": [
              "(2, 2, 2)"
            ]
          },
          "metadata": {},
          "execution_count": 28
        }
      ]
    },
    {
      "cell_type": "markdown",
      "source": [
        "배열의 차원을 변경\n"
      ],
      "metadata": {
        "id": "9ID5nfw0IFBR"
      }
    },
    {
      "cell_type": "code",
      "source": [
        "temp_arr=np.arange(16)\n",
        "temp_arr\n",
        "#이것은 1차원임 이제 얘를 2차원으로 만들고 싶은 거야...\n",
        "\n",
        "\n",
        "#temp_arr.reshape(2,8)\n",
        "temp_arr.reshape(4,4)\n",
        "#arrange의 배수가 되도록 n*m으로 할 수 있음\n",
        "\n",
        "temp_arr.reshape(2,2,4)\n",
        "temp_arr.reshape(1,2,8)\n",
        "\n",
        "#1차원 배열의 길이 개수가 전체 원소 개수임\n",
        "\n"
      ],
      "metadata": {
        "colab": {
          "base_uri": "https://localhost:8080/"
        },
        "id": "MIxMY52LIGxn",
        "outputId": "4e3f1648-3185-4d58-d22f-f450f166d919"
      },
      "execution_count": null,
      "outputs": [
        {
          "output_type": "execute_result",
          "data": {
            "text/plain": [
              "array([[[ 0,  1,  2,  3,  4,  5,  6,  7],\n",
              "        [ 8,  9, 10, 11, 12, 13, 14, 15]]])"
            ]
          },
          "metadata": {},
          "execution_count": 33
        }
      ]
    },
    {
      "cell_type": "code",
      "source": [
        "a16=np.array(1.333333, dtype=np.float16)\n",
        "a32=np.array(1.333333, dtype=np.float32)\n",
        "\n",
        "print(a16)\n",
        "print(a32)\n",
        "\n",
        "#이공계에서 함수 만들어서 수식 연산할 때 소수점 자리수 신경 써야 합니다\n",
        "#print(a16) #1.333\n",
        "#print(a32) #1.333333\n",
        "\n",
        "print(a16/3)\n",
        "print(a32/3)"
      ],
      "metadata": {
        "colab": {
          "base_uri": "https://localhost:8080/"
        },
        "id": "VWVWm9BpJcbW",
        "outputId": "6c95ab4d-2b2f-4cc1-ff64-847fab9bbb9b"
      },
      "execution_count": null,
      "outputs": [
        {
          "output_type": "stream",
          "name": "stdout",
          "text": [
            "1.333\n",
            "1.333333\n",
            "0.4443359375\n",
            "0.44444433848063153\n"
          ]
        }
      ]
    },
    {
      "cell_type": "code",
      "source": [
        "arr=np.array([-1,2,-3])\n",
        "arr\n",
        "arr/0 #<ipython-input-39-ecedb38e334b>:3: RuntimeWarning: divide by zero encountered in divide arr/0\n",
        "#array([-inf, -inf, -inf])\n",
        "\n",
        "#메서드여러가지사용하보면의도하지않게0으로나눠지게될경우가생김\n"
      ],
      "metadata": {
        "colab": {
          "base_uri": "https://localhost:8080/"
        },
        "id": "oK4BK7S-KWiD",
        "outputId": "697e706c-68cf-43a9-d24f-3efe87eb76db"
      },
      "execution_count": null,
      "outputs": [
        {
          "output_type": "stream",
          "name": "stderr",
          "text": [
            "<ipython-input-42-95c886bf159d>:3: RuntimeWarning: divide by zero encountered in divide\n",
            "  arr/0 #<ipython-input-39-ecedb38e334b>:3: RuntimeWarning: divide by zero encountered in divide arr/0\n"
          ]
        },
        {
          "output_type": "execute_result",
          "data": {
            "text/plain": [
              "array([-inf,  inf, -inf])"
            ]
          },
          "metadata": {},
          "execution_count": 42
        }
      ]
    },
    {
      "cell_type": "markdown",
      "source": [
        "결측치\n",
        "\n",
        "\n",
        "-missing values : 잃어버린 값\n",
        "\n",
        "-nan : not a number, ==> 아직 정의되지 않는 숫자를 의미"
      ],
      "metadata": {
        "id": "2JbNXA4gK7Zl"
      }
    },
    {
      "cell_type": "code",
      "source": [
        "print(np.nan, type(np.nan))"
      ],
      "metadata": {
        "colab": {
          "base_uri": "https://localhost:8080/"
        },
        "id": "-qEtPlARK6RB",
        "outputId": "ebfdcd82-d620-44b6-8980-33d2623f6170"
      },
      "execution_count": null,
      "outputs": [
        {
          "output_type": "stream",
          "name": "stdout",
          "text": [
            "nan <class 'float'>\n"
          ]
        }
      ]
    },
    {
      "cell_type": "code",
      "source": [
        "print(np.inf, type(np.inf))"
      ],
      "metadata": {
        "colab": {
          "base_uri": "https://localhost:8080/"
        },
        "id": "snlsJQgkLdf_",
        "outputId": "39f3d385-edff-4dc6-f588-99ef50d2642e"
      },
      "execution_count": null,
      "outputs": [
        {
          "output_type": "stream",
          "name": "stdout",
          "text": [
            "inf <class 'float'>\n"
          ]
        }
      ]
    },
    {
      "cell_type": "code",
      "source": [
        "print(-np.inf, type(-np.inf))"
      ],
      "metadata": {
        "colab": {
          "base_uri": "https://localhost:8080/"
        },
        "id": "4R84Tbg9LoDW",
        "outputId": "fd288dff-281b-4643-a170-abcba63629cb"
      },
      "execution_count": null,
      "outputs": [
        {
          "output_type": "stream",
          "name": "stdout",
          "text": [
            "-inf <class 'float'>\n"
          ]
        }
      ]
    },
    {
      "cell_type": "markdown",
      "source": [
        "왜 nan과 inf의 타입이 float인지는 궁금해하지 마세요\n",
        "이건 그냥 약속!\n"
      ],
      "metadata": {
        "id": "ZrcyGO53Lhep"
      }
    },
    {
      "cell_type": "code",
      "source": [
        "arr=np.array([-1,2,-3])\n",
        "print(arr+np.nan)\n",
        "print(arr+np.inf)\n",
        "\n",
        "# 계산 중 nan이나 inf를 만나면 뭔가 결측치나 무한대가 있구나라고 생각하면 됩니다\n",
        "# 이건 에러는 아닙니다...\n",
        "# 주어진대로 연산했는데 그냥 중간에 행렬 값에 무언가 이상한게 (결측치든 무한대든) 들어갔다는 의미입니다..."
      ],
      "metadata": {
        "colab": {
          "base_uri": "https://localhost:8080/"
        },
        "id": "vqtsW83GLwCB",
        "outputId": "5f74806e-c2b2-465a-8b38-1cf639525506"
      },
      "execution_count": null,
      "outputs": [
        {
          "output_type": "stream",
          "name": "stdout",
          "text": [
            "[nan nan nan]\n",
            "[inf inf inf]\n"
          ]
        }
      ]
    },
    {
      "cell_type": "markdown",
      "source": [
        "#인덱싱 & 슬라이싱"
      ],
      "metadata": {
        "id": "U2hKWtC5SXuL"
      }
    },
    {
      "cell_type": "code",
      "source": [
        "arr=np.arange(10)\n",
        "arr[1:5]"
      ],
      "metadata": {
        "colab": {
          "base_uri": "https://localhost:8080/"
        },
        "id": "8uN8JR3zSZoi",
        "outputId": "06c91665-9631-468f-913f-65c7d9e2d139"
      },
      "execution_count": null,
      "outputs": [
        {
          "output_type": "execute_result",
          "data": {
            "text/plain": [
              "array([1, 2, 3, 4])"
            ]
          },
          "metadata": {},
          "execution_count": 50
        }
      ]
    },
    {
      "cell_type": "code",
      "source": [
        "arr=np.arange(10).reshape(2,5)\n",
        "arr # array([[0, 1, 2, 3, 4],[5, 6, 7, 8, 9]])\n",
        "arr[0][4]"
      ],
      "metadata": {
        "colab": {
          "base_uri": "https://localhost:8080/"
        },
        "id": "dbAMyRoZSl4-",
        "outputId": "876e0022-5128-4d69-f21d-85299b5d331d"
      },
      "execution_count": null,
      "outputs": [
        {
          "output_type": "execute_result",
          "data": {
            "text/plain": [
              "4"
            ]
          },
          "metadata": {},
          "execution_count": 55
        }
      ]
    },
    {
      "cell_type": "code",
      "source": [
        "arr=np.arange(10000).reshape(100,100)\n",
        "#arr[0:4][0:1]\n",
        "#3차원되면정말인간이이해하기엄청어려움"
      ],
      "metadata": {
        "colab": {
          "base_uri": "https://localhost:8080/"
        },
        "id": "I_QFUkI3TBr4",
        "outputId": "ca87efc0-1610-4ee5-df30-f5ad7cd2e7f6"
      },
      "execution_count": null,
      "outputs": [
        {
          "output_type": "execute_result",
          "data": {
            "text/plain": [
              "array([[ 0,  1,  2,  3,  4,  5,  6,  7,  8,  9, 10, 11, 12, 13, 14, 15,\n",
              "        16, 17, 18, 19, 20, 21, 22, 23, 24, 25, 26, 27, 28, 29, 30, 31,\n",
              "        32, 33, 34, 35, 36, 37, 38, 39, 40, 41, 42, 43, 44, 45, 46, 47,\n",
              "        48, 49, 50, 51, 52, 53, 54, 55, 56, 57, 58, 59, 60, 61, 62, 63,\n",
              "        64, 65, 66, 67, 68, 69, 70, 71, 72, 73, 74, 75, 76, 77, 78, 79,\n",
              "        80, 81, 82, 83, 84, 85, 86, 87, 88, 89, 90, 91, 92, 93, 94, 95,\n",
              "        96, 97, 98, 99]])"
            ]
          },
          "metadata": {},
          "execution_count": 58
        }
      ]
    },
    {
      "cell_type": "code",
      "source": [
        "arr=np.arange(4)\n",
        "arr\n",
        "arr[:2]"
      ],
      "metadata": {
        "colab": {
          "base_uri": "https://localhost:8080/"
        },
        "id": "MiYIxoNsTp67",
        "outputId": "089caf60-5490-43b6-f860-772318103b6e"
      },
      "execution_count": null,
      "outputs": [
        {
          "output_type": "execute_result",
          "data": {
            "text/plain": [
              "array([0, 1])"
            ]
          },
          "metadata": {},
          "execution_count": 61
        }
      ]
    },
    {
      "cell_type": "code",
      "source": [
        "arr = np.arange(20).reshape(4,5)\n",
        "arr\n",
        "\n",
        "#array([[ 0,  1,  2,  3,  4],\n",
        "#       [ 5,  6,  7,  8,  9],\n",
        "#       [10, 11, 12, 13, 14],\n",
        "#       [15, 16, 17, 18, 19]])\n",
        "\n",
        "# 789, 12 13 14 , 17 18 19 만 가져오고 싶음\n",
        "arr[1][2:5]\n",
        "arr[2][2:5]\n",
        "arr[3][2:5]"
      ],
      "metadata": {
        "colab": {
          "base_uri": "https://localhost:8080/"
        },
        "id": "NeF2ipPaT3Sj",
        "outputId": "c34c52ce-3716-426b-e339-81d5aae9d18a"
      },
      "execution_count": null,
      "outputs": [
        {
          "output_type": "execute_result",
          "data": {
            "text/plain": [
              "array([36, 39, 42])"
            ]
          },
          "metadata": {},
          "execution_count": 76
        }
      ]
    },
    {
      "cell_type": "code",
      "source": [
        "arr = np.arange(20).reshape(4,5)\n",
        "arr\n",
        "\n",
        "\n",
        "# 789, 12 13 14 , 17 18 19 만 가져오고 싶음\n",
        "arr[1][2:5]\n",
        "arr[2][2:5]\n",
        "arr[3][2:5]\n",
        "\n",
        "#arr[행:열]\n",
        "arr[1:4, 2:5]\n",
        "arr[1: , 2:]"
      ],
      "metadata": {
        "colab": {
          "base_uri": "https://localhost:8080/"
        },
        "id": "2VMazml9URXd",
        "outputId": "46d074ef-c1ba-46a1-94ac-6074143a6aa0"
      },
      "execution_count": null,
      "outputs": [
        {
          "output_type": "execute_result",
          "data": {
            "text/plain": [
              "array([[ 7,  8,  9],\n",
              "       [12, 13, 14],\n",
              "       [17, 18, 19]])"
            ]
          },
          "metadata": {},
          "execution_count": 82
        }
      ]
    },
    {
      "cell_type": "markdown",
      "source": [
        "![image.png](data:image/png;base64,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)"
      ],
      "metadata": {
        "id": "6zw2-2QBWX7j"
      }
    },
    {
      "cell_type": "markdown",
      "source": [
        "![image.png](data:image/png;base64,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)"
      ],
      "metadata": {
        "id": "kH-YlvViVzmJ"
      }
    },
    {
      "cell_type": "markdown",
      "source": [
        "https://numpy.org/doc/stable/user/basics.broadcasting.html"
      ],
      "metadata": {
        "id": "gTNNtO-HWgko"
      }
    },
    {
      "cell_type": "markdown",
      "source": [
        "#브로드캐스팅 연산브로드캐스팅 연산"
      ],
      "metadata": {
        "id": "zesz7mYGWhuW"
      }
    },
    {
      "cell_type": "code",
      "source": [
        "a=np.array([1,2,3])\n",
        "b=np.array([1,2,3])\n",
        "a+b"
      ],
      "metadata": {
        "colab": {
          "base_uri": "https://localhost:8080/"
        },
        "id": "znrWMdX9XJ_M",
        "outputId": "6ad2f0d1-b833-4758-ee5e-4fd70f0e8c33"
      },
      "execution_count": null,
      "outputs": [
        {
          "output_type": "execute_result",
          "data": {
            "text/plain": [
              "array([2, 4, 6])"
            ]
          },
          "metadata": {},
          "execution_count": 83
        }
      ]
    },
    {
      "cell_type": "code",
      "source": [
        "a=np.array([1,2,3])\n",
        "#3.0이라고 하는 값 자체는 한 번만 썼지만 a에 있는 3개에 모두 3.0이 각각 더해졌습니다\n",
        "# 보이지 않는 3.0 3.0 3.0 이라는 1차원 배열이 만들어졌다고 생각할 수 있어요\n",
        "# 배열이 달라도 자기들이 알아서 브로드캐스팅 규칙에 따라 만들게 됨\n",
        "b=3.0\n",
        "a+b"
      ],
      "metadata": {
        "colab": {
          "base_uri": "https://localhost:8080/"
        },
        "id": "SEjm1emGXQDg",
        "outputId": "75f75cd0-3c07-4f98-ef66-ae0ab87fe6a4"
      },
      "execution_count": null,
      "outputs": [
        {
          "output_type": "execute_result",
          "data": {
            "text/plain": [
              "array([4., 5., 6.])"
            ]
          },
          "metadata": {},
          "execution_count": 84
        }
      ]
    },
    {
      "cell_type": "markdown",
      "source": [],
      "metadata": {
        "id": "LDp0qBY_pBAA"
      }
    },
    {
      "cell_type": "code",
      "source": [
        "#문제1\n",
        "#모든 값이 0으로 2차원 배열 (5,5)만드세요\n",
        "\n",
        "arr = np.array()"
      ],
      "metadata": {
        "id": "g-2p7ki6pCIS"
      },
      "execution_count": null,
      "outputs": []
    },
    {
      "cell_type": "markdown",
      "source": [
        "##조건 연산\n",
        "-원하는 결과값 : true or false\n"
      ],
      "metadata": {
        "id": "kYjt-xoJsYK7"
      }
    },
    {
      "cell_type": "code",
      "source": [
        "import numpy as np\n",
        "arr=np.array([10,20,30])\n",
        "arr > 10 # array([False,  True,  True])\n",
        "# 값이 10 초과인 것만 가지고 오고 싶어요!\n",
        "# 이 컨셉을 감을 잘 잡아야 해요!\n",
        "\n"
      ],
      "metadata": {
        "colab": {
          "base_uri": "https://localhost:8080/"
        },
        "id": "chMB_53VsgDO",
        "outputId": "8b3760c9-d86f-4e78-f659-e2c07880284d"
      },
      "execution_count": 7,
      "outputs": [
        {
          "output_type": "execute_result",
          "data": {
            "text/plain": [
              "array([False,  True,  True])"
            ]
          },
          "metadata": {},
          "execution_count": 7
        }
      ]
    },
    {
      "cell_type": "code",
      "source": [
        "arr = np.array([10,20,30])\n",
        "cond = [False,  True,  True]\n",
        "\n",
        "arr[cond] #array([20, 30])\n",
        "# 인덱스 0번째는 false라서 빠지고 출력 되었음\n",
        "# 이 컨셉을 감을 잘 잡아야 해요!"
      ],
      "metadata": {
        "colab": {
          "base_uri": "https://localhost:8080/"
        },
        "id": "r7poMpO4tHV9",
        "outputId": "3c2a5454-1f33-4e53-9ebe-62d7c3d0cf5a"
      },
      "execution_count": 8,
      "outputs": [
        {
          "output_type": "execute_result",
          "data": {
            "text/plain": [
              "array([20, 30])"
            ]
          },
          "metadata": {},
          "execution_count": 8
        }
      ]
    },
    {
      "cell_type": "code",
      "source": [
        "# 술집 운영 중이고 미성년자 출입 금지 하려고 함\n",
        "arr = np.array([18,20,50,30,16])\n",
        "cond = arr > 18\n",
        "\n",
        "arr[cond]\n"
      ],
      "metadata": {
        "colab": {
          "base_uri": "https://localhost:8080/"
        },
        "id": "kyLko2VVtXzR",
        "outputId": "41ec4122-e92c-4de3-f3ba-0ec1413dbf4a"
      },
      "execution_count": 12,
      "outputs": [
        {
          "output_type": "execute_result",
          "data": {
            "text/plain": [
              "array([20, 50, 30])"
            ]
          },
          "metadata": {},
          "execution_count": 12
        }
      ]
    },
    {
      "cell_type": "code",
      "source": [
        "arr = np.array([18,20,50,30,16])\n",
        "arr[arr>18]\n",
        "#이렇게 간단하게도 사용 가능함"
      ],
      "metadata": {
        "colab": {
          "base_uri": "https://localhost:8080/"
        },
        "id": "WNYXvce4uAZc",
        "outputId": "c58fa6cf-ae3a-47d1-a694-3e3e9644e29c"
      },
      "execution_count": 13,
      "outputs": [
        {
          "output_type": "execute_result",
          "data": {
            "text/plain": [
              "array([20, 50, 30])"
            ]
          },
          "metadata": {},
          "execution_count": 13
        }
      ]
    },
    {
      "cell_type": "code",
      "source": [
        "arr = np.array([18,20,50,30,16,65,70])\n",
        "\n",
        "con0 = arr>18\n",
        "con1=arr<65\n",
        "\n",
        "arr[con0&con1]\n",
        "\n",
        "# array([20, 50, 30]) condition1과 condition2를 모두 만족하는 것만 가지고 옴"
      ],
      "metadata": {
        "colab": {
          "base_uri": "https://localhost:8080/"
        },
        "id": "yPRtWVQAuixI",
        "outputId": "917c93c4-97c4-4d7a-95f6-4d2cc70df1be"
      },
      "execution_count": 21,
      "outputs": [
        {
          "output_type": "execute_result",
          "data": {
            "text/plain": [
              "array([20, 50, 30])"
            ]
          },
          "metadata": {},
          "execution_count": 21
        }
      ]
    },
    {
      "cell_type": "code",
      "source": [
        "arr[con0 | con1]\n",
        "# array([20, 50, 30]) condition1과 condition2 중 하나 이상을  만족하는 것만 가지고 옴\n",
        "\n",
        "#권장사항, 이유 : 판다스 다중조건문 필터링 할 때는 아래 방법으로만 가능\n",
        "#()소괄호 해주세요\n",
        "arr[(con0 | con1)]"
      ],
      "metadata": {
        "colab": {
          "base_uri": "https://localhost:8080/"
        },
        "id": "SymujHqWvIgY",
        "outputId": "4c5786ae-1a1d-4d65-a0c2-e706a3d54ed8"
      },
      "execution_count": 26,
      "outputs": [
        {
          "output_type": "execute_result",
          "data": {
            "text/plain": [
              "array([18, 20, 50, 30, 16, 65, 70])"
            ]
          },
          "metadata": {},
          "execution_count": 26
        }
      ]
    },
    {
      "cell_type": "markdown",
      "source": [
        "numpy 적용한 코드 -> pandas에서도 적용됩니다\n",
        "\n",
        "왜냐하면\n",
        "pandas는 based on NumPy\n",
        "\n",
        "=> 라이브러리 설치할 때\n",
        "numpy, pandas 보통 이렇게 2개 하게 되는데\n",
        "\n",
        "사실은 pandas만 설치해도, 자동으로 넘파이가 설치됨\n",
        "\n",
        "이것을 우리는 라이브러리 종속성이라고 부름\n"
      ],
      "metadata": {
        "id": "mQOl--R-vk1W"
      }
    },
    {
      "cell_type": "markdown",
      "source": [
        "##np.where\n"
      ],
      "metadata": {
        "id": "cbdigAtGwlY2"
      }
    },
    {
      "cell_type": "code",
      "source": [
        "import numpy as np\n",
        "\n",
        "a=np.arange(10)\n",
        "a"
      ],
      "metadata": {
        "colab": {
          "base_uri": "https://localhost:8080/"
        },
        "id": "8Ul9NrQixYQ5",
        "outputId": "ee64c46b-4d8b-4679-dd73-f0e50f264bde"
      },
      "execution_count": 27,
      "outputs": [
        {
          "output_type": "execute_result",
          "data": {
            "text/plain": [
              "array([0, 1, 2, 3, 4, 5, 6, 7, 8, 9])"
            ]
          },
          "metadata": {},
          "execution_count": 27
        }
      ]
    },
    {
      "cell_type": "code",
      "source": [
        "np.where(a<5,a,10*a)"
      ],
      "metadata": {
        "colab": {
          "base_uri": "https://localhost:8080/"
        },
        "id": "HrVO79KyxcZn",
        "outputId": "92ca7677-e52f-44be-c440-a7ff6a00f3f0"
      },
      "execution_count": 28,
      "outputs": [
        {
          "output_type": "execute_result",
          "data": {
            "text/plain": [
              "array([ 0,  1,  2,  3,  4, 50, 60, 70, 80, 90])"
            ]
          },
          "metadata": {},
          "execution_count": 28
        }
      ]
    },
    {
      "cell_type": "markdown",
      "source": [
        "이 코드는 NumPy 라이브러리를 사용하여 배열을 생성하고 조건에 따라 값을 변경하는 방법을 보여줍니다. 하나씩 살펴보겠습니다.\n",
        "\n",
        "np.arange(10): 이 함수는 0부터 9까지의 정수로 구성된 1차원 배열을 생성합니다. 즉, a는 다음과 같은 배열이 됩니다:\n",
        "\n",
        "python\n",
        "코드 복사\n",
        "a = [0, 1, 2, 3, 4, 5, 6, 7, 8, 9]\n",
        "np.where(a < 5, a, 10 * a): 이 함수는 세 개의 인자를 받습니다:\n",
        "\n",
        "첫 번째 인자: 조건입니다. a < 5는 배열 a의 각 요소가 5보다 작은지를 검사합니다.\n",
        "두 번째 인자: 조건이 True일 때 반환할 값입니다. 여기서는 a의 값입니다.\n",
        "세 번째 인자: 조건이 False일 때 반환할 값입니다. 여기서는 10 * a 즉, a의 값을 10배한 값입니다.\n",
        "이 조건을 적용하면:\n",
        "\n",
        "a의 값이 5보다 작으면 해당 값을 유지하고,\n",
        "5 이상이면 그 값을 10배로 변경합니다.\n",
        "따라서 결과는 다음과 같습니다:\n",
        "\n",
        "a < 5: [True, True, True, True, True, False, False, False, False, False]\n",
        "조건이 True인 요소는 그대로 유지하고,\n",
        "조건이 False인 요소는 10배가 됩니다.\n",
        "최종 결과는 다음과 같은 배열이 됩니다:\n",
        "\n",
        "python\n",
        "코드 복사\n",
        "[ 0,  1,  2,  3,  4, 50, 60, 70, 80, 90]\n",
        "이 배열은 조건에 따라 원래의 값이나 10배의 값으로 변경된 것입니다."
      ],
      "metadata": {
        "id": "WzI9LoGcx1Fd"
      }
    },
    {
      "cell_type": "markdown",
      "source": [
        "# 함수와 메서드"
      ],
      "metadata": {
        "id": "MOQ0Qi8wyMNt"
      }
    },
    {
      "cell_type": "code",
      "source": [
        "# 함수와 메서드\n",
        "arr=np.arange(8).reshape(4,2)\n",
        "arr.sum()\n",
        "arr"
      ],
      "metadata": {
        "colab": {
          "base_uri": "https://localhost:8080/"
        },
        "id": "aEnXWFjmx3fq",
        "outputId": "6ef54b5a-38f3-4b21-b5bf-82e12f2dea74"
      },
      "execution_count": 34,
      "outputs": [
        {
          "output_type": "execute_result",
          "data": {
            "text/plain": [
              "array([[0, 1],\n",
              "       [2, 3],\n",
              "       [4, 5],\n",
              "       [6, 7]])"
            ]
          },
          "metadata": {},
          "execution_count": 34
        }
      ]
    },
    {
      "cell_type": "code",
      "source": [
        "arr.sum()"
      ],
      "metadata": {
        "colab": {
          "base_uri": "https://localhost:8080/"
        },
        "id": "KgcFOMtdycrj",
        "outputId": "0b7583ac-5b9f-4892-ed0d-9a4addec75eb"
      },
      "execution_count": 35,
      "outputs": [
        {
          "output_type": "execute_result",
          "data": {
            "text/plain": [
              "28"
            ]
          },
          "metadata": {},
          "execution_count": 35
        }
      ]
    },
    {
      "cell_type": "code",
      "source": [
        "arr.sum(axis=None)"
      ],
      "metadata": {
        "colab": {
          "base_uri": "https://localhost:8080/"
        },
        "id": "FUyNnSQIy3ou",
        "outputId": "c3e8f404-37cd-4f7c-c451-7174fc37cceb"
      },
      "execution_count": 38,
      "outputs": [
        {
          "output_type": "execute_result",
          "data": {
            "text/plain": [
              "28"
            ]
          },
          "metadata": {},
          "execution_count": 38
        }
      ]
    },
    {
      "cell_type": "code",
      "source": [
        "arr.sum(axis=0)\n",
        "\n",
        "#x축 방향으로 데이터의 합을 구하라, 행 단위"
      ],
      "metadata": {
        "colab": {
          "base_uri": "https://localhost:8080/"
        },
        "id": "GsGMI3AWyWTv",
        "outputId": "95f5a1f2-eb0a-4ea3-c2b3-a4d63dd7df97"
      },
      "execution_count": 33,
      "outputs": [
        {
          "output_type": "execute_result",
          "data": {
            "text/plain": [
              "array([12, 16])"
            ]
          },
          "metadata": {},
          "execution_count": 33
        }
      ]
    },
    {
      "cell_type": "code",
      "source": [
        "arr.sum(axis=1)\n",
        "#y축 방향으로 데이터의 합을 구하라, 열 단위"
      ],
      "metadata": {
        "colab": {
          "base_uri": "https://localhost:8080/"
        },
        "id": "AnYVqsUxyl5S",
        "outputId": "9b54d552-d36b-4cfc-cba8-9e5cc8ccca84"
      },
      "execution_count": 37,
      "outputs": [
        {
          "output_type": "execute_result",
          "data": {
            "text/plain": [
              "array([ 1,  5,  9, 13])"
            ]
          },
          "metadata": {},
          "execution_count": 37
        }
      ]
    },
    {
      "cell_type": "code",
      "source": [
        "#무작위 랜덤 함수 사용\n",
        "np.random.seed(42) # -> 이것을 추가하면 np.random.randint(10)의 값이 고정됨 -> 나중에 머신러닝 할 때 이 코드를 자주 사용하게 됨\n",
        "np.random.randint(10)"
      ],
      "metadata": {
        "colab": {
          "base_uri": "https://localhost:8080/"
        },
        "id": "KFRZqEX2zaPW",
        "outputId": "7ea2019d-98d8-487e-9a50-0a99545df578"
      },
      "execution_count": 60,
      "outputs": [
        {
          "output_type": "execute_result",
          "data": {
            "text/plain": [
              "6"
            ]
          },
          "metadata": {},
          "execution_count": 60
        }
      ]
    },
    {
      "cell_type": "code",
      "source": [
        "np.random.randint(46,size=6) # 로또 번호 # 46이 의미하는 것은 0에서 45번째 까지의 숫자 중 무작위로 가지고 오겠다는 의미임\n"
      ],
      "metadata": {
        "colab": {
          "base_uri": "https://localhost:8080/"
        },
        "id": "3Y4Z62sRz6tu",
        "outputId": "a90f93ba-05a8-4963-8042-ad71337706e0"
      },
      "execution_count": 65,
      "outputs": [
        {
          "output_type": "execute_result",
          "data": {
            "text/plain": [
              "array([11, 21, 43, 24, 26, 41])"
            ]
          },
          "metadata": {},
          "execution_count": 65
        }
      ]
    },
    {
      "cell_type": "code",
      "source": [
        "np.random.randint(46,size=(3,4))\n",
        "#사이즈의 값으로 튜플 형태를 줄 수 있음"
      ],
      "metadata": {
        "colab": {
          "base_uri": "https://localhost:8080/"
        },
        "id": "IlQ0aSfX0b7Y",
        "outputId": "984e71a4-b3bd-48a4-abda-22f17044e093"
      },
      "execution_count": 66,
      "outputs": [
        {
          "output_type": "execute_result",
          "data": {
            "text/plain": [
              "array([[27, 15, 14, 43],\n",
              "       [ 2, 36,  6, 20],\n",
              "       [ 8, 38, 17,  3]])"
            ]
          },
          "metadata": {},
          "execution_count": 66
        }
      ]
    },
    {
      "cell_type": "code",
      "source": [
        "x=np.linspace(0,100,11) #linear space\n",
        "print(x)\n",
        "#When you run this code, it will output an array with 11 evenly spaced values between 0 and 100"
      ],
      "metadata": {
        "colab": {
          "base_uri": "https://localhost:8080/"
        },
        "id": "oU1CNHUs1VEa",
        "outputId": "19420c82-29ec-4107-d83f-0664f52e1bef"
      },
      "execution_count": 70,
      "outputs": [
        {
          "output_type": "stream",
          "name": "stdout",
          "text": [
            "[  0.  10.  20.  30.  40.  50.  60.  70.  80.  90. 100.]\n"
          ]
        }
      ]
    },
    {
      "cell_type": "markdown",
      "source": [
        "#pandas series\n"
      ],
      "metadata": {
        "id": "4hkG_2Xp67eQ"
      }
    },
    {
      "cell_type": "code",
      "source": [
        "import pandas as pd"
      ],
      "metadata": {
        "id": "ZCsDhjDB69FJ"
      },
      "execution_count": 72,
      "outputs": []
    },
    {
      "cell_type": "code",
      "source": [
        "pd.__version__"
      ],
      "metadata": {
        "colab": {
          "base_uri": "https://localhost:8080/",
          "height": 35
        },
        "id": "G1MYINlP7EMi",
        "outputId": "871228f4-3596-4da8-8925-4034910c3f9f"
      },
      "execution_count": 73,
      "outputs": [
        {
          "output_type": "execute_result",
          "data": {
            "text/plain": [
              "'2.1.4'"
            ],
            "application/vnd.google.colaboratory.intrinsic+json": {
              "type": "string"
            }
          },
          "metadata": {},
          "execution_count": 73
        }
      ]
    },
    {
      "cell_type": "code",
      "source": [
        "data=[10,20,30]\n",
        "s=pd.Series(data)\n",
        "s"
      ],
      "metadata": {
        "colab": {
          "base_uri": "https://localhost:8080/",
          "height": 178
        },
        "id": "_e-230DM7MND",
        "outputId": "96430ec0-50e2-4531-8ccd-8aca3bbaa34b"
      },
      "execution_count": 74,
      "outputs": [
        {
          "output_type": "execute_result",
          "data": {
            "text/plain": [
              "0    10\n",
              "1    20\n",
              "2    30\n",
              "dtype: int64"
            ],
            "text/html": [
              "<div>\n",
              "<style scoped>\n",
              "    .dataframe tbody tr th:only-of-type {\n",
              "        vertical-align: middle;\n",
              "    }\n",
              "\n",
              "    .dataframe tbody tr th {\n",
              "        vertical-align: top;\n",
              "    }\n",
              "\n",
              "    .dataframe thead th {\n",
              "        text-align: right;\n",
              "    }\n",
              "</style>\n",
              "<table border=\"1\" class=\"dataframe\">\n",
              "  <thead>\n",
              "    <tr style=\"text-align: right;\">\n",
              "      <th></th>\n",
              "      <th>0</th>\n",
              "    </tr>\n",
              "  </thead>\n",
              "  <tbody>\n",
              "    <tr>\n",
              "      <th>0</th>\n",
              "      <td>10</td>\n",
              "    </tr>\n",
              "    <tr>\n",
              "      <th>1</th>\n",
              "      <td>20</td>\n",
              "    </tr>\n",
              "    <tr>\n",
              "      <th>2</th>\n",
              "      <td>30</td>\n",
              "    </tr>\n",
              "  </tbody>\n",
              "</table>\n",
              "</div><br><label><b>dtype:</b> int64</label>"
            ]
          },
          "metadata": {},
          "execution_count": 74
        }
      ]
    },
    {
      "cell_type": "code",
      "source": [
        "print(type(s))"
      ],
      "metadata": {
        "colab": {
          "base_uri": "https://localhost:8080/"
        },
        "id": "-uyLYeOU7UrK",
        "outputId": "32bff627-f9e6-4c67-e25e-a8623577a734"
      },
      "execution_count": 75,
      "outputs": [
        {
          "output_type": "stream",
          "name": "stdout",
          "text": [
            "<class 'pandas.core.series.Series'>\n"
          ]
        }
      ]
    },
    {
      "cell_type": "markdown",
      "source": [
        "https://pandas.pydata.org/"
      ],
      "metadata": {
        "id": "gguYbHqh9DXr"
      }
    },
    {
      "cell_type": "code",
      "source": [
        "\n",
        "\n",
        "data=np.arange(5)\n",
        "s=pd.Series(data)\n",
        "s"
      ],
      "metadata": {
        "colab": {
          "base_uri": "https://localhost:8080/",
          "height": 241
        },
        "id": "RXVFaICR9D5k",
        "outputId": "b4085c5c-0872-4fc2-beed-afe77d183812"
      },
      "execution_count": 76,
      "outputs": [
        {
          "output_type": "execute_result",
          "data": {
            "text/plain": [
              "0    0\n",
              "1    1\n",
              "2    2\n",
              "3    3\n",
              "4    4\n",
              "dtype: int64"
            ],
            "text/html": [
              "<div>\n",
              "<style scoped>\n",
              "    .dataframe tbody tr th:only-of-type {\n",
              "        vertical-align: middle;\n",
              "    }\n",
              "\n",
              "    .dataframe tbody tr th {\n",
              "        vertical-align: top;\n",
              "    }\n",
              "\n",
              "    .dataframe thead th {\n",
              "        text-align: right;\n",
              "    }\n",
              "</style>\n",
              "<table border=\"1\" class=\"dataframe\">\n",
              "  <thead>\n",
              "    <tr style=\"text-align: right;\">\n",
              "      <th></th>\n",
              "      <th>0</th>\n",
              "    </tr>\n",
              "  </thead>\n",
              "  <tbody>\n",
              "    <tr>\n",
              "      <th>0</th>\n",
              "      <td>0</td>\n",
              "    </tr>\n",
              "    <tr>\n",
              "      <th>1</th>\n",
              "      <td>1</td>\n",
              "    </tr>\n",
              "    <tr>\n",
              "      <th>2</th>\n",
              "      <td>2</td>\n",
              "    </tr>\n",
              "    <tr>\n",
              "      <th>3</th>\n",
              "      <td>3</td>\n",
              "    </tr>\n",
              "    <tr>\n",
              "      <th>4</th>\n",
              "      <td>4</td>\n",
              "    </tr>\n",
              "  </tbody>\n",
              "</table>\n",
              "</div><br><label><b>dtype:</b> int64</label>"
            ]
          },
          "metadata": {},
          "execution_count": 76
        }
      ]
    },
    {
      "cell_type": "code",
      "source": [
        "\n",
        "data=np.arange(5)\n",
        "s=pd.DataFrame(data)\n",
        "s"
      ],
      "metadata": {
        "colab": {
          "base_uri": "https://localhost:8080/",
          "height": 206
        },
        "id": "qtKqL0SD_V66",
        "outputId": "e732dc65-eceb-49f4-87d2-930858aa67e7"
      },
      "execution_count": 78,
      "outputs": [
        {
          "output_type": "execute_result",
          "data": {
            "text/plain": [
              "   0\n",
              "0  0\n",
              "1  1\n",
              "2  2\n",
              "3  3\n",
              "4  4"
            ],
            "text/html": [
              "\n",
              "  <div id=\"df-293a3c40-ecce-4b25-9966-c8f60cf2b7ec\" class=\"colab-df-container\">\n",
              "    <div>\n",
              "<style scoped>\n",
              "    .dataframe tbody tr th:only-of-type {\n",
              "        vertical-align: middle;\n",
              "    }\n",
              "\n",
              "    .dataframe tbody tr th {\n",
              "        vertical-align: top;\n",
              "    }\n",
              "\n",
              "    .dataframe thead th {\n",
              "        text-align: right;\n",
              "    }\n",
              "</style>\n",
              "<table border=\"1\" class=\"dataframe\">\n",
              "  <thead>\n",
              "    <tr style=\"text-align: right;\">\n",
              "      <th></th>\n",
              "      <th>0</th>\n",
              "    </tr>\n",
              "  </thead>\n",
              "  <tbody>\n",
              "    <tr>\n",
              "      <th>0</th>\n",
              "      <td>0</td>\n",
              "    </tr>\n",
              "    <tr>\n",
              "      <th>1</th>\n",
              "      <td>1</td>\n",
              "    </tr>\n",
              "    <tr>\n",
              "      <th>2</th>\n",
              "      <td>2</td>\n",
              "    </tr>\n",
              "    <tr>\n",
              "      <th>3</th>\n",
              "      <td>3</td>\n",
              "    </tr>\n",
              "    <tr>\n",
              "      <th>4</th>\n",
              "      <td>4</td>\n",
              "    </tr>\n",
              "  </tbody>\n",
              "</table>\n",
              "</div>\n",
              "    <div class=\"colab-df-buttons\">\n",
              "\n",
              "  <div class=\"colab-df-container\">\n",
              "    <button class=\"colab-df-convert\" onclick=\"convertToInteractive('df-293a3c40-ecce-4b25-9966-c8f60cf2b7ec')\"\n",
              "            title=\"Convert this dataframe to an interactive table.\"\n",
              "            style=\"display:none;\">\n",
              "\n",
              "  <svg xmlns=\"http://www.w3.org/2000/svg\" height=\"24px\" viewBox=\"0 -960 960 960\">\n",
              "    <path d=\"M120-120v-720h720v720H120Zm60-500h600v-160H180v160Zm220 220h160v-160H400v160Zm0 220h160v-160H400v160ZM180-400h160v-160H180v160Zm440 0h160v-160H620v160ZM180-180h160v-160H180v160Zm440 0h160v-160H620v160Z\"/>\n",
              "  </svg>\n",
              "    </button>\n",
              "\n",
              "  <style>\n",
              "    .colab-df-container {\n",
              "      display:flex;\n",
              "      gap: 12px;\n",
              "    }\n",
              "\n",
              "    .colab-df-convert {\n",
              "      background-color: #E8F0FE;\n",
              "      border: none;\n",
              "      border-radius: 50%;\n",
              "      cursor: pointer;\n",
              "      display: none;\n",
              "      fill: #1967D2;\n",
              "      height: 32px;\n",
              "      padding: 0 0 0 0;\n",
              "      width: 32px;\n",
              "    }\n",
              "\n",
              "    .colab-df-convert:hover {\n",
              "      background-color: #E2EBFA;\n",
              "      box-shadow: 0px 1px 2px rgba(60, 64, 67, 0.3), 0px 1px 3px 1px rgba(60, 64, 67, 0.15);\n",
              "      fill: #174EA6;\n",
              "    }\n",
              "\n",
              "    .colab-df-buttons div {\n",
              "      margin-bottom: 4px;\n",
              "    }\n",
              "\n",
              "    [theme=dark] .colab-df-convert {\n",
              "      background-color: #3B4455;\n",
              "      fill: #D2E3FC;\n",
              "    }\n",
              "\n",
              "    [theme=dark] .colab-df-convert:hover {\n",
              "      background-color: #434B5C;\n",
              "      box-shadow: 0px 1px 3px 1px rgba(0, 0, 0, 0.15);\n",
              "      filter: drop-shadow(0px 1px 2px rgba(0, 0, 0, 0.3));\n",
              "      fill: #FFFFFF;\n",
              "    }\n",
              "  </style>\n",
              "\n",
              "    <script>\n",
              "      const buttonEl =\n",
              "        document.querySelector('#df-293a3c40-ecce-4b25-9966-c8f60cf2b7ec button.colab-df-convert');\n",
              "      buttonEl.style.display =\n",
              "        google.colab.kernel.accessAllowed ? 'block' : 'none';\n",
              "\n",
              "      async function convertToInteractive(key) {\n",
              "        const element = document.querySelector('#df-293a3c40-ecce-4b25-9966-c8f60cf2b7ec');\n",
              "        const dataTable =\n",
              "          await google.colab.kernel.invokeFunction('convertToInteractive',\n",
              "                                                    [key], {});\n",
              "        if (!dataTable) return;\n",
              "\n",
              "        const docLinkHtml = 'Like what you see? Visit the ' +\n",
              "          '<a target=\"_blank\" href=https://colab.research.google.com/notebooks/data_table.ipynb>data table notebook</a>'\n",
              "          + ' to learn more about interactive tables.';\n",
              "        element.innerHTML = '';\n",
              "        dataTable['output_type'] = 'display_data';\n",
              "        await google.colab.output.renderOutput(dataTable, element);\n",
              "        const docLink = document.createElement('div');\n",
              "        docLink.innerHTML = docLinkHtml;\n",
              "        element.appendChild(docLink);\n",
              "      }\n",
              "    </script>\n",
              "  </div>\n",
              "\n",
              "\n",
              "<div id=\"df-2c643a0e-f9e6-472f-b714-0f65e5afbb80\">\n",
              "  <button class=\"colab-df-quickchart\" onclick=\"quickchart('df-2c643a0e-f9e6-472f-b714-0f65e5afbb80')\"\n",
              "            title=\"Suggest charts\"\n",
              "            style=\"display:none;\">\n",
              "\n",
              "<svg xmlns=\"http://www.w3.org/2000/svg\" height=\"24px\"viewBox=\"0 0 24 24\"\n",
              "     width=\"24px\">\n",
              "    <g>\n",
              "        <path d=\"M19 3H5c-1.1 0-2 .9-2 2v14c0 1.1.9 2 2 2h14c1.1 0 2-.9 2-2V5c0-1.1-.9-2-2-2zM9 17H7v-7h2v7zm4 0h-2V7h2v10zm4 0h-2v-4h2v4z\"/>\n",
              "    </g>\n",
              "</svg>\n",
              "  </button>\n",
              "\n",
              "<style>\n",
              "  .colab-df-quickchart {\n",
              "      --bg-color: #E8F0FE;\n",
              "      --fill-color: #1967D2;\n",
              "      --hover-bg-color: #E2EBFA;\n",
              "      --hover-fill-color: #174EA6;\n",
              "      --disabled-fill-color: #AAA;\n",
              "      --disabled-bg-color: #DDD;\n",
              "  }\n",
              "\n",
              "  [theme=dark] .colab-df-quickchart {\n",
              "      --bg-color: #3B4455;\n",
              "      --fill-color: #D2E3FC;\n",
              "      --hover-bg-color: #434B5C;\n",
              "      --hover-fill-color: #FFFFFF;\n",
              "      --disabled-bg-color: #3B4455;\n",
              "      --disabled-fill-color: #666;\n",
              "  }\n",
              "\n",
              "  .colab-df-quickchart {\n",
              "    background-color: var(--bg-color);\n",
              "    border: none;\n",
              "    border-radius: 50%;\n",
              "    cursor: pointer;\n",
              "    display: none;\n",
              "    fill: var(--fill-color);\n",
              "    height: 32px;\n",
              "    padding: 0;\n",
              "    width: 32px;\n",
              "  }\n",
              "\n",
              "  .colab-df-quickchart:hover {\n",
              "    background-color: var(--hover-bg-color);\n",
              "    box-shadow: 0 1px 2px rgba(60, 64, 67, 0.3), 0 1px 3px 1px rgba(60, 64, 67, 0.15);\n",
              "    fill: var(--button-hover-fill-color);\n",
              "  }\n",
              "\n",
              "  .colab-df-quickchart-complete:disabled,\n",
              "  .colab-df-quickchart-complete:disabled:hover {\n",
              "    background-color: var(--disabled-bg-color);\n",
              "    fill: var(--disabled-fill-color);\n",
              "    box-shadow: none;\n",
              "  }\n",
              "\n",
              "  .colab-df-spinner {\n",
              "    border: 2px solid var(--fill-color);\n",
              "    border-color: transparent;\n",
              "    border-bottom-color: var(--fill-color);\n",
              "    animation:\n",
              "      spin 1s steps(1) infinite;\n",
              "  }\n",
              "\n",
              "  @keyframes spin {\n",
              "    0% {\n",
              "      border-color: transparent;\n",
              "      border-bottom-color: var(--fill-color);\n",
              "      border-left-color: var(--fill-color);\n",
              "    }\n",
              "    20% {\n",
              "      border-color: transparent;\n",
              "      border-left-color: var(--fill-color);\n",
              "      border-top-color: var(--fill-color);\n",
              "    }\n",
              "    30% {\n",
              "      border-color: transparent;\n",
              "      border-left-color: var(--fill-color);\n",
              "      border-top-color: var(--fill-color);\n",
              "      border-right-color: var(--fill-color);\n",
              "    }\n",
              "    40% {\n",
              "      border-color: transparent;\n",
              "      border-right-color: var(--fill-color);\n",
              "      border-top-color: var(--fill-color);\n",
              "    }\n",
              "    60% {\n",
              "      border-color: transparent;\n",
              "      border-right-color: var(--fill-color);\n",
              "    }\n",
              "    80% {\n",
              "      border-color: transparent;\n",
              "      border-right-color: var(--fill-color);\n",
              "      border-bottom-color: var(--fill-color);\n",
              "    }\n",
              "    90% {\n",
              "      border-color: transparent;\n",
              "      border-bottom-color: var(--fill-color);\n",
              "    }\n",
              "  }\n",
              "</style>\n",
              "\n",
              "  <script>\n",
              "    async function quickchart(key) {\n",
              "      const quickchartButtonEl =\n",
              "        document.querySelector('#' + key + ' button');\n",
              "      quickchartButtonEl.disabled = true;  // To prevent multiple clicks.\n",
              "      quickchartButtonEl.classList.add('colab-df-spinner');\n",
              "      try {\n",
              "        const charts = await google.colab.kernel.invokeFunction(\n",
              "            'suggestCharts', [key], {});\n",
              "      } catch (error) {\n",
              "        console.error('Error during call to suggestCharts:', error);\n",
              "      }\n",
              "      quickchartButtonEl.classList.remove('colab-df-spinner');\n",
              "      quickchartButtonEl.classList.add('colab-df-quickchart-complete');\n",
              "    }\n",
              "    (() => {\n",
              "      let quickchartButtonEl =\n",
              "        document.querySelector('#df-2c643a0e-f9e6-472f-b714-0f65e5afbb80 button');\n",
              "      quickchartButtonEl.style.display =\n",
              "        google.colab.kernel.accessAllowed ? 'block' : 'none';\n",
              "    })();\n",
              "  </script>\n",
              "</div>\n",
              "\n",
              "  <div id=\"id_9b1b056b-3d06-4e42-8445-01adf57b9b50\">\n",
              "    <style>\n",
              "      .colab-df-generate {\n",
              "        background-color: #E8F0FE;\n",
              "        border: none;\n",
              "        border-radius: 50%;\n",
              "        cursor: pointer;\n",
              "        display: none;\n",
              "        fill: #1967D2;\n",
              "        height: 32px;\n",
              "        padding: 0 0 0 0;\n",
              "        width: 32px;\n",
              "      }\n",
              "\n",
              "      .colab-df-generate:hover {\n",
              "        background-color: #E2EBFA;\n",
              "        box-shadow: 0px 1px 2px rgba(60, 64, 67, 0.3), 0px 1px 3px 1px rgba(60, 64, 67, 0.15);\n",
              "        fill: #174EA6;\n",
              "      }\n",
              "\n",
              "      [theme=dark] .colab-df-generate {\n",
              "        background-color: #3B4455;\n",
              "        fill: #D2E3FC;\n",
              "      }\n",
              "\n",
              "      [theme=dark] .colab-df-generate:hover {\n",
              "        background-color: #434B5C;\n",
              "        box-shadow: 0px 1px 3px 1px rgba(0, 0, 0, 0.15);\n",
              "        filter: drop-shadow(0px 1px 2px rgba(0, 0, 0, 0.3));\n",
              "        fill: #FFFFFF;\n",
              "      }\n",
              "    </style>\n",
              "    <button class=\"colab-df-generate\" onclick=\"generateWithVariable('s')\"\n",
              "            title=\"Generate code using this dataframe.\"\n",
              "            style=\"display:none;\">\n",
              "\n",
              "  <svg xmlns=\"http://www.w3.org/2000/svg\" height=\"24px\"viewBox=\"0 0 24 24\"\n",
              "       width=\"24px\">\n",
              "    <path d=\"M7,19H8.4L18.45,9,17,7.55,7,17.6ZM5,21V16.75L18.45,3.32a2,2,0,0,1,2.83,0l1.4,1.43a1.91,1.91,0,0,1,.58,1.4,1.91,1.91,0,0,1-.58,1.4L9.25,21ZM18.45,9,17,7.55Zm-12,3A5.31,5.31,0,0,0,4.9,8.1,5.31,5.31,0,0,0,1,6.5,5.31,5.31,0,0,0,4.9,4.9,5.31,5.31,0,0,0,6.5,1,5.31,5.31,0,0,0,8.1,4.9,5.31,5.31,0,0,0,12,6.5,5.46,5.46,0,0,0,6.5,12Z\"/>\n",
              "  </svg>\n",
              "    </button>\n",
              "    <script>\n",
              "      (() => {\n",
              "      const buttonEl =\n",
              "        document.querySelector('#id_9b1b056b-3d06-4e42-8445-01adf57b9b50 button.colab-df-generate');\n",
              "      buttonEl.style.display =\n",
              "        google.colab.kernel.accessAllowed ? 'block' : 'none';\n",
              "\n",
              "      buttonEl.onclick = () => {\n",
              "        google.colab.notebook.generateWithVariable('s');\n",
              "      }\n",
              "      })();\n",
              "    </script>\n",
              "  </div>\n",
              "\n",
              "    </div>\n",
              "  </div>\n"
            ],
            "application/vnd.google.colaboratory.intrinsic+json": {
              "type": "dataframe",
              "variable_name": "s",
              "summary": "{\n  \"name\": \"s\",\n  \"rows\": 5,\n  \"fields\": [\n    {\n      \"column\": 0,\n      \"properties\": {\n        \"dtype\": \"number\",\n        \"std\": 1,\n        \"min\": 0,\n        \"max\": 4,\n        \"num_unique_values\": 5,\n        \"samples\": [\n          1,\n          4,\n          2\n        ],\n        \"semantic_type\": \"\",\n        \"description\": \"\"\n      }\n    }\n  ]\n}"
            }
          },
          "metadata": {},
          "execution_count": 78
        }
      ]
    },
    {
      "cell_type": "code",
      "source": [
        "data=[\"시가\",\"고가\"]\n",
        "s=pd.Series(data)\n",
        "s"
      ],
      "metadata": {
        "colab": {
          "base_uri": "https://localhost:8080/",
          "height": 147
        },
        "id": "0AGembp2_b7Q",
        "outputId": "b94b99d6-545d-463b-a692-b23e915cbb38"
      },
      "execution_count": 80,
      "outputs": [
        {
          "output_type": "execute_result",
          "data": {
            "text/plain": [
              "0    시가\n",
              "1    고가\n",
              "dtype: object"
            ],
            "text/html": [
              "<div>\n",
              "<style scoped>\n",
              "    .dataframe tbody tr th:only-of-type {\n",
              "        vertical-align: middle;\n",
              "    }\n",
              "\n",
              "    .dataframe tbody tr th {\n",
              "        vertical-align: top;\n",
              "    }\n",
              "\n",
              "    .dataframe thead th {\n",
              "        text-align: right;\n",
              "    }\n",
              "</style>\n",
              "<table border=\"1\" class=\"dataframe\">\n",
              "  <thead>\n",
              "    <tr style=\"text-align: right;\">\n",
              "      <th></th>\n",
              "      <th>0</th>\n",
              "    </tr>\n",
              "  </thead>\n",
              "  <tbody>\n",
              "    <tr>\n",
              "      <th>0</th>\n",
              "      <td>시가</td>\n",
              "    </tr>\n",
              "    <tr>\n",
              "      <th>1</th>\n",
              "      <td>고가</td>\n",
              "    </tr>\n",
              "  </tbody>\n",
              "</table>\n",
              "</div><br><label><b>dtype:</b> object</label>"
            ]
          },
          "metadata": {},
          "execution_count": 80
        }
      ]
    },
    {
      "cell_type": "code",
      "source": [
        "data=[80000,\"90000\"]\n",
        "s=pd.Series(data)\n",
        "s"
      ],
      "metadata": {
        "colab": {
          "base_uri": "https://localhost:8080/",
          "height": 147
        },
        "id": "yGE-xbnO_pWg",
        "outputId": "29f28117-5d1f-40d2-c9b1-fa0f84b4be0a"
      },
      "execution_count": 81,
      "outputs": [
        {
          "output_type": "execute_result",
          "data": {
            "text/plain": [
              "0    80000\n",
              "1    90000\n",
              "dtype: object"
            ],
            "text/html": [
              "<div>\n",
              "<style scoped>\n",
              "    .dataframe tbody tr th:only-of-type {\n",
              "        vertical-align: middle;\n",
              "    }\n",
              "\n",
              "    .dataframe tbody tr th {\n",
              "        vertical-align: top;\n",
              "    }\n",
              "\n",
              "    .dataframe thead th {\n",
              "        text-align: right;\n",
              "    }\n",
              "</style>\n",
              "<table border=\"1\" class=\"dataframe\">\n",
              "  <thead>\n",
              "    <tr style=\"text-align: right;\">\n",
              "      <th></th>\n",
              "      <th>0</th>\n",
              "    </tr>\n",
              "  </thead>\n",
              "  <tbody>\n",
              "    <tr>\n",
              "      <th>0</th>\n",
              "      <td>80000</td>\n",
              "    </tr>\n",
              "    <tr>\n",
              "      <th>1</th>\n",
              "      <td>90000</td>\n",
              "    </tr>\n",
              "  </tbody>\n",
              "</table>\n",
              "</div><br><label><b>dtype:</b> object</label>"
            ]
          },
          "metadata": {},
          "execution_count": 81
        }
      ]
    },
    {
      "cell_type": "markdown",
      "source": [
        "## 시리즈 인덱스\n"
      ],
      "metadata": {
        "id": "ziO6lO5GAhVI"
      }
    },
    {
      "cell_type": "code",
      "source": [
        "data=[1000,2000,3000]\n",
        "s=pd.Series(data)\n",
        "s.index #RangeIndex(start=0, stop=3, step=1)\n",
        "print(s.index, \"\\n\\n\" ,type(s.index)) # <class 'pandas.core.indexes.range.RangeIndex'>"
      ],
      "metadata": {
        "colab": {
          "base_uri": "https://localhost:8080/"
        },
        "id": "2koQ0nNAAkZ-",
        "outputId": "17c230a2-4e39-44d6-a68c-87a416c7830e"
      },
      "execution_count": 90,
      "outputs": [
        {
          "output_type": "stream",
          "name": "stdout",
          "text": [
            "RangeIndex(start=0, stop=3, step=1) \n",
            "\n",
            " <class 'pandas.core.indexes.range.RangeIndex'>\n"
          ]
        }
      ]
    },
    {
      "cell_type": "code",
      "source": [
        "list(s.index) #형변환"
      ],
      "metadata": {
        "colab": {
          "base_uri": "https://localhost:8080/"
        },
        "id": "p4931PVUBEys",
        "outputId": "b6392364-07b1-48ea-866d-92137c86c61d"
      },
      "execution_count": 92,
      "outputs": [
        {
          "output_type": "execute_result",
          "data": {
            "text/plain": [
              "[0, 1, 2]"
            ]
          },
          "metadata": {},
          "execution_count": 92
        }
      ]
    },
    {
      "cell_type": "code",
      "source": [
        "s.index.to_list()\n",
        "#help(s.index) #클래스에는 항상 속성과 메서드가 존재함\n",
        "\n"
      ],
      "metadata": {
        "colab": {
          "base_uri": "https://localhost:8080/"
        },
        "id": "eQD-2m6yBRfx",
        "outputId": "00bba6b9-8cfc-40e8-c453-23522121e80c"
      },
      "execution_count": 94,
      "outputs": [
        {
          "output_type": "execute_result",
          "data": {
            "text/plain": [
              "[0, 1, 2]"
            ]
          },
          "metadata": {},
          "execution_count": 94
        }
      ]
    },
    {
      "cell_type": "code",
      "source": [
        "#시리즈 생성하면서 인덱스도 같이 생성\n",
        "data=[1000,2000,3000]\n",
        "index=['a','b','c']\n",
        "\n",
        "s=pd.Series(data,index)\n",
        "s"
      ],
      "metadata": {
        "colab": {
          "base_uri": "https://localhost:8080/",
          "height": 178
        },
        "id": "u7mKtNGfCaqQ",
        "outputId": "fc2c12be-e805-4a5b-e17b-f661e716ee06"
      },
      "execution_count": 96,
      "outputs": [
        {
          "output_type": "execute_result",
          "data": {
            "text/plain": [
              "a    1000\n",
              "b    2000\n",
              "c    3000\n",
              "dtype: int64"
            ],
            "text/html": [
              "<div>\n",
              "<style scoped>\n",
              "    .dataframe tbody tr th:only-of-type {\n",
              "        vertical-align: middle;\n",
              "    }\n",
              "\n",
              "    .dataframe tbody tr th {\n",
              "        vertical-align: top;\n",
              "    }\n",
              "\n",
              "    .dataframe thead th {\n",
              "        text-align: right;\n",
              "    }\n",
              "</style>\n",
              "<table border=\"1\" class=\"dataframe\">\n",
              "  <thead>\n",
              "    <tr style=\"text-align: right;\">\n",
              "      <th></th>\n",
              "      <th>0</th>\n",
              "    </tr>\n",
              "  </thead>\n",
              "  <tbody>\n",
              "    <tr>\n",
              "      <th>a</th>\n",
              "      <td>1000</td>\n",
              "    </tr>\n",
              "    <tr>\n",
              "      <th>b</th>\n",
              "      <td>2000</td>\n",
              "    </tr>\n",
              "    <tr>\n",
              "      <th>c</th>\n",
              "      <td>3000</td>\n",
              "    </tr>\n",
              "  </tbody>\n",
              "</table>\n",
              "</div><br><label><b>dtype:</b> int64</label>"
            ]
          },
          "metadata": {},
          "execution_count": 96
        }
      ]
    },
    {
      "cell_type": "code",
      "source": [
        "#시리즈 생성하면서 인덱스도 같이 생성\n",
        "data=[1000,2000,3000]\n",
        "index=['메로나','월드콘','와']\n",
        "\n",
        "s=pd.Series(data=data,index=index)\n",
        "s.index"
      ],
      "metadata": {
        "colab": {
          "base_uri": "https://localhost:8080/"
        },
        "id": "HSNkiokGCyaC",
        "outputId": "d4f592c7-ed34-4661-c978-ace3e6e6404d"
      },
      "execution_count": 107,
      "outputs": [
        {
          "output_type": "execute_result",
          "data": {
            "text/plain": [
              "Index(['메로나', '월드콘', '와'], dtype='object')"
            ]
          },
          "metadata": {},
          "execution_count": 107
        }
      ]
    },
    {
      "cell_type": "code",
      "source": [
        "s.values, type(s.values)"
      ],
      "metadata": {
        "colab": {
          "base_uri": "https://localhost:8080/"
        },
        "id": "cE8oB1gdDB6V",
        "outputId": "2bb7ab64-5b9c-434c-8920-a86b13df71b6"
      },
      "execution_count": 108,
      "outputs": [
        {
          "output_type": "execute_result",
          "data": {
            "text/plain": [
              "(array([1000, 2000, 3000]), numpy.ndarray)"
            ]
          },
          "metadata": {},
          "execution_count": 108
        }
      ]
    },
    {
      "cell_type": "markdown",
      "source": [
        "#시리즈 인덱싱"
      ],
      "metadata": {
        "id": "vd3Ct7UTJB4z"
      }
    },
    {
      "cell_type": "code",
      "source": [
        "print(s.iloc[0])\n"
      ],
      "metadata": {
        "colab": {
          "base_uri": "https://localhost:8080/"
        },
        "id": "6VTeniFHJDbX",
        "outputId": "d6d51ea8-21d1-41d7-fd3d-e6a3844110c5"
      },
      "execution_count": 109,
      "outputs": [
        {
          "output_type": "stream",
          "name": "stdout",
          "text": [
            "1000\n"
          ]
        }
      ]
    },
    {
      "cell_type": "code",
      "source": [
        "#print(s.loc[0]) #이렇게하면keyerror발생함\n",
        "print(s.loc['메로나']) #약간python의딕셔너리와유사한느낌\n"
      ],
      "metadata": {
        "colab": {
          "base_uri": "https://localhost:8080/"
        },
        "id": "0LUWoKd3JRCr",
        "outputId": "c90397da-7a68-4294-d7cf-637b5584f018"
      },
      "execution_count": 110,
      "outputs": [
        {
          "output_type": "stream",
          "name": "stdout",
          "text": [
            "1000\n"
          ]
        }
      ]
    },
    {
      "cell_type": "code",
      "source": [
        "#시리즈 생성하면서 인덱스도 같이 생성\n",
        "data=[1000,2000,3000]\n",
        "\n",
        "#s2는 인덱스가 없음\n",
        "\n",
        "s2=pd.Series(data=data)\n",
        "print(s2.iloc[0])\n",
        "#print(s2.loc['메로나']) #이것은error발생함 # s2는 만들 때 인덱스 없이 만들었기 때문"
      ],
      "metadata": {
        "colab": {
          "base_uri": "https://localhost:8080/"
        },
        "id": "G68zeVjvJhua",
        "outputId": "63c4dd4f-cecb-4966-daba-fc657325daae"
      },
      "execution_count": 113,
      "outputs": [
        {
          "output_type": "stream",
          "name": "stdout",
          "text": [
            "1000\n"
          ]
        }
      ]
    },
    {
      "cell_type": "markdown",
      "source": [
        "iloc에서의 0은 위치0을의미하고,\n",
        "loc에서의0은라벨0을의미함\n"
      ],
      "metadata": {
        "id": "B8Iy5erMKto9"
      }
    },
    {
      "cell_type": "markdown",
      "source": [
        "##슬라이싱"
      ],
      "metadata": {
        "id": "W5o2taIbL7KL"
      }
    },
    {
      "cell_type": "code",
      "source": [
        "s"
      ],
      "metadata": {
        "colab": {
          "base_uri": "https://localhost:8080/",
          "height": 178
        },
        "id": "QmrU6G-5L8Zx",
        "outputId": "1aa02078-4fb8-46f9-f4cd-a4cbf62ae4a3"
      },
      "execution_count": 114,
      "outputs": [
        {
          "output_type": "execute_result",
          "data": {
            "text/plain": [
              "메로나    1000\n",
              "월드콘    2000\n",
              "와      3000\n",
              "dtype: int64"
            ],
            "text/html": [
              "<div>\n",
              "<style scoped>\n",
              "    .dataframe tbody tr th:only-of-type {\n",
              "        vertical-align: middle;\n",
              "    }\n",
              "\n",
              "    .dataframe tbody tr th {\n",
              "        vertical-align: top;\n",
              "    }\n",
              "\n",
              "    .dataframe thead th {\n",
              "        text-align: right;\n",
              "    }\n",
              "</style>\n",
              "<table border=\"1\" class=\"dataframe\">\n",
              "  <thead>\n",
              "    <tr style=\"text-align: right;\">\n",
              "      <th></th>\n",
              "      <th>0</th>\n",
              "    </tr>\n",
              "  </thead>\n",
              "  <tbody>\n",
              "    <tr>\n",
              "      <th>메로나</th>\n",
              "      <td>1000</td>\n",
              "    </tr>\n",
              "    <tr>\n",
              "      <th>월드콘</th>\n",
              "      <td>2000</td>\n",
              "    </tr>\n",
              "    <tr>\n",
              "      <th>와</th>\n",
              "      <td>3000</td>\n",
              "    </tr>\n",
              "  </tbody>\n",
              "</table>\n",
              "</div><br><label><b>dtype:</b> int64</label>"
            ]
          },
          "metadata": {},
          "execution_count": 114
        }
      ]
    },
    {
      "cell_type": "code",
      "source": [
        "s2"
      ],
      "metadata": {
        "colab": {
          "base_uri": "https://localhost:8080/",
          "height": 178
        },
        "id": "XXhecUMzL9nn",
        "outputId": "a122ec6d-ebe9-48a3-d203-e1ac9704c302"
      },
      "execution_count": 115,
      "outputs": [
        {
          "output_type": "execute_result",
          "data": {
            "text/plain": [
              "0    1000\n",
              "1    2000\n",
              "2    3000\n",
              "dtype: int64"
            ],
            "text/html": [
              "<div>\n",
              "<style scoped>\n",
              "    .dataframe tbody tr th:only-of-type {\n",
              "        vertical-align: middle;\n",
              "    }\n",
              "\n",
              "    .dataframe tbody tr th {\n",
              "        vertical-align: top;\n",
              "    }\n",
              "\n",
              "    .dataframe thead th {\n",
              "        text-align: right;\n",
              "    }\n",
              "</style>\n",
              "<table border=\"1\" class=\"dataframe\">\n",
              "  <thead>\n",
              "    <tr style=\"text-align: right;\">\n",
              "      <th></th>\n",
              "      <th>0</th>\n",
              "    </tr>\n",
              "  </thead>\n",
              "  <tbody>\n",
              "    <tr>\n",
              "      <th>0</th>\n",
              "      <td>1000</td>\n",
              "    </tr>\n",
              "    <tr>\n",
              "      <th>1</th>\n",
              "      <td>2000</td>\n",
              "    </tr>\n",
              "    <tr>\n",
              "      <th>2</th>\n",
              "      <td>3000</td>\n",
              "    </tr>\n",
              "  </tbody>\n",
              "</table>\n",
              "</div><br><label><b>dtype:</b> int64</label>"
            ]
          },
          "metadata": {},
          "execution_count": 115
        }
      ]
    },
    {
      "cell_type": "code",
      "source": [
        "s.loc[\"메로나\":\"와\"] #직관적으로 알 수 있음"
      ],
      "metadata": {
        "colab": {
          "base_uri": "https://localhost:8080/",
          "height": 178
        },
        "id": "ESTIf0AUMCcW",
        "outputId": "2de90c79-ae3e-4b20-e8c8-6804fca09b38"
      },
      "execution_count": 119,
      "outputs": [
        {
          "output_type": "execute_result",
          "data": {
            "text/plain": [
              "메로나    1000\n",
              "월드콘    2000\n",
              "와      3000\n",
              "dtype: int64"
            ],
            "text/html": [
              "<div>\n",
              "<style scoped>\n",
              "    .dataframe tbody tr th:only-of-type {\n",
              "        vertical-align: middle;\n",
              "    }\n",
              "\n",
              "    .dataframe tbody tr th {\n",
              "        vertical-align: top;\n",
              "    }\n",
              "\n",
              "    .dataframe thead th {\n",
              "        text-align: right;\n",
              "    }\n",
              "</style>\n",
              "<table border=\"1\" class=\"dataframe\">\n",
              "  <thead>\n",
              "    <tr style=\"text-align: right;\">\n",
              "      <th></th>\n",
              "      <th>0</th>\n",
              "    </tr>\n",
              "  </thead>\n",
              "  <tbody>\n",
              "    <tr>\n",
              "      <th>메로나</th>\n",
              "      <td>1000</td>\n",
              "    </tr>\n",
              "    <tr>\n",
              "      <th>월드콘</th>\n",
              "      <td>2000</td>\n",
              "    </tr>\n",
              "    <tr>\n",
              "      <th>와</th>\n",
              "      <td>3000</td>\n",
              "    </tr>\n",
              "  </tbody>\n",
              "</table>\n",
              "</div><br><label><b>dtype:</b> int64</label>"
            ]
          },
          "metadata": {},
          "execution_count": 119
        }
      ]
    },
    {
      "cell_type": "code",
      "source": [
        "s2.iloc[0:2]"
      ],
      "metadata": {
        "colab": {
          "base_uri": "https://localhost:8080/",
          "height": 147
        },
        "id": "xGRHFXHXMUu3",
        "outputId": "e92bedc9-ca95-433b-bfc9-56aa34a20f02"
      },
      "execution_count": 120,
      "outputs": [
        {
          "output_type": "execute_result",
          "data": {
            "text/plain": [
              "0    1000\n",
              "1    2000\n",
              "dtype: int64"
            ],
            "text/html": [
              "<div>\n",
              "<style scoped>\n",
              "    .dataframe tbody tr th:only-of-type {\n",
              "        vertical-align: middle;\n",
              "    }\n",
              "\n",
              "    .dataframe tbody tr th {\n",
              "        vertical-align: top;\n",
              "    }\n",
              "\n",
              "    .dataframe thead th {\n",
              "        text-align: right;\n",
              "    }\n",
              "</style>\n",
              "<table border=\"1\" class=\"dataframe\">\n",
              "  <thead>\n",
              "    <tr style=\"text-align: right;\">\n",
              "      <th></th>\n",
              "      <th>0</th>\n",
              "    </tr>\n",
              "  </thead>\n",
              "  <tbody>\n",
              "    <tr>\n",
              "      <th>0</th>\n",
              "      <td>1000</td>\n",
              "    </tr>\n",
              "    <tr>\n",
              "      <th>1</th>\n",
              "      <td>2000</td>\n",
              "    </tr>\n",
              "  </tbody>\n",
              "</table>\n",
              "</div><br><label><b>dtype:</b> int64</label>"
            ]
          },
          "metadata": {},
          "execution_count": 120
        }
      ]
    },
    {
      "cell_type": "code",
      "source": [
        "s2.loc[0:2] #s.loc[\"메로나\":\"와\"] 와 다르니까, 일단 하나 정해서 그것에 익숙해지는게 중요 # 이거 헷갈림"
      ],
      "metadata": {
        "colab": {
          "base_uri": "https://localhost:8080/",
          "height": 178
        },
        "id": "mtJJm3gsMaYU",
        "outputId": "6a7520ee-6957-4cb9-87bc-eff85b95031a"
      },
      "execution_count": 121,
      "outputs": [
        {
          "output_type": "execute_result",
          "data": {
            "text/plain": [
              "0    1000\n",
              "1    2000\n",
              "2    3000\n",
              "dtype: int64"
            ],
            "text/html": [
              "<div>\n",
              "<style scoped>\n",
              "    .dataframe tbody tr th:only-of-type {\n",
              "        vertical-align: middle;\n",
              "    }\n",
              "\n",
              "    .dataframe tbody tr th {\n",
              "        vertical-align: top;\n",
              "    }\n",
              "\n",
              "    .dataframe thead th {\n",
              "        text-align: right;\n",
              "    }\n",
              "</style>\n",
              "<table border=\"1\" class=\"dataframe\">\n",
              "  <thead>\n",
              "    <tr style=\"text-align: right;\">\n",
              "      <th></th>\n",
              "      <th>0</th>\n",
              "    </tr>\n",
              "  </thead>\n",
              "  <tbody>\n",
              "    <tr>\n",
              "      <th>0</th>\n",
              "      <td>1000</td>\n",
              "    </tr>\n",
              "    <tr>\n",
              "      <th>1</th>\n",
              "      <td>2000</td>\n",
              "    </tr>\n",
              "    <tr>\n",
              "      <th>2</th>\n",
              "      <td>3000</td>\n",
              "    </tr>\n",
              "  </tbody>\n",
              "</table>\n",
              "</div><br><label><b>dtype:</b> int64</label>"
            ]
          },
          "metadata": {},
          "execution_count": 121
        }
      ]
    },
    {
      "cell_type": "markdown",
      "source": [
        "loc가 차라리 직관적이고 더 편하고 더 자주 쓰이니까, loc로 기억하세요!"
      ],
      "metadata": {
        "id": "GlnXMHOJMtel"
      }
    },
    {
      "cell_type": "markdown",
      "source": [
        "##시리즈 수정/추가/삭제"
      ],
      "metadata": {
        "id": "oNLvjhefM22d"
      }
    },
    {
      "cell_type": "code",
      "source": [
        "s"
      ],
      "metadata": {
        "colab": {
          "base_uri": "https://localhost:8080/",
          "height": 178
        },
        "id": "6yIeCbfzM5LS",
        "outputId": "f99daf07-3d2c-479e-9430-206acd7d23ff"
      },
      "execution_count": 122,
      "outputs": [
        {
          "output_type": "execute_result",
          "data": {
            "text/plain": [
              "메로나    1000\n",
              "월드콘    2000\n",
              "와      3000\n",
              "dtype: int64"
            ],
            "text/html": [
              "<div>\n",
              "<style scoped>\n",
              "    .dataframe tbody tr th:only-of-type {\n",
              "        vertical-align: middle;\n",
              "    }\n",
              "\n",
              "    .dataframe tbody tr th {\n",
              "        vertical-align: top;\n",
              "    }\n",
              "\n",
              "    .dataframe thead th {\n",
              "        text-align: right;\n",
              "    }\n",
              "</style>\n",
              "<table border=\"1\" class=\"dataframe\">\n",
              "  <thead>\n",
              "    <tr style=\"text-align: right;\">\n",
              "      <th></th>\n",
              "      <th>0</th>\n",
              "    </tr>\n",
              "  </thead>\n",
              "  <tbody>\n",
              "    <tr>\n",
              "      <th>메로나</th>\n",
              "      <td>1000</td>\n",
              "    </tr>\n",
              "    <tr>\n",
              "      <th>월드콘</th>\n",
              "      <td>2000</td>\n",
              "    </tr>\n",
              "    <tr>\n",
              "      <th>와</th>\n",
              "      <td>3000</td>\n",
              "    </tr>\n",
              "  </tbody>\n",
              "</table>\n",
              "</div><br><label><b>dtype:</b> int64</label>"
            ]
          },
          "metadata": {},
          "execution_count": 122
        }
      ]
    },
    {
      "cell_type": "code",
      "source": [
        "s.loc['메로나']=500"
      ],
      "metadata": {
        "id": "Lp-WV13sM8mV"
      },
      "execution_count": 123,
      "outputs": []
    },
    {
      "cell_type": "code",
      "source": [
        "s"
      ],
      "metadata": {
        "colab": {
          "base_uri": "https://localhost:8080/",
          "height": 178
        },
        "id": "XgHpTC_nNH4Y",
        "outputId": "80bb28e9-5922-4718-e754-d142101d8868"
      },
      "execution_count": 124,
      "outputs": [
        {
          "output_type": "execute_result",
          "data": {
            "text/plain": [
              "메로나     500\n",
              "월드콘    2000\n",
              "와      3000\n",
              "dtype: int64"
            ],
            "text/html": [
              "<div>\n",
              "<style scoped>\n",
              "    .dataframe tbody tr th:only-of-type {\n",
              "        vertical-align: middle;\n",
              "    }\n",
              "\n",
              "    .dataframe tbody tr th {\n",
              "        vertical-align: top;\n",
              "    }\n",
              "\n",
              "    .dataframe thead th {\n",
              "        text-align: right;\n",
              "    }\n",
              "</style>\n",
              "<table border=\"1\" class=\"dataframe\">\n",
              "  <thead>\n",
              "    <tr style=\"text-align: right;\">\n",
              "      <th></th>\n",
              "      <th>0</th>\n",
              "    </tr>\n",
              "  </thead>\n",
              "  <tbody>\n",
              "    <tr>\n",
              "      <th>메로나</th>\n",
              "      <td>500</td>\n",
              "    </tr>\n",
              "    <tr>\n",
              "      <th>월드콘</th>\n",
              "      <td>2000</td>\n",
              "    </tr>\n",
              "    <tr>\n",
              "      <th>와</th>\n",
              "      <td>3000</td>\n",
              "    </tr>\n",
              "  </tbody>\n",
              "</table>\n",
              "</div><br><label><b>dtype:</b> int64</label>"
            ]
          },
          "metadata": {},
          "execution_count": 124
        }
      ]
    },
    {
      "cell_type": "code",
      "source": [
        "data=[1000,2000,3000]\n",
        "index=['메로나','월드콘','와']\n",
        "\n",
        "s=pd.Series(data=data,index=index)"
      ],
      "metadata": {
        "id": "INT0mFmMNP54"
      },
      "execution_count": 128,
      "outputs": []
    },
    {
      "cell_type": "code",
      "source": [
        "s"
      ],
      "metadata": {
        "colab": {
          "base_uri": "https://localhost:8080/",
          "height": 178
        },
        "id": "JbRmr3uxNa9c",
        "outputId": "bfe3ab96-750b-47f1-cd4a-7566b3250506"
      },
      "execution_count": 129,
      "outputs": [
        {
          "output_type": "execute_result",
          "data": {
            "text/plain": [
              "메로나    1000\n",
              "월드콘    2000\n",
              "와      3000\n",
              "dtype: int64"
            ],
            "text/html": [
              "<div>\n",
              "<style scoped>\n",
              "    .dataframe tbody tr th:only-of-type {\n",
              "        vertical-align: middle;\n",
              "    }\n",
              "\n",
              "    .dataframe tbody tr th {\n",
              "        vertical-align: top;\n",
              "    }\n",
              "\n",
              "    .dataframe thead th {\n",
              "        text-align: right;\n",
              "    }\n",
              "</style>\n",
              "<table border=\"1\" class=\"dataframe\">\n",
              "  <thead>\n",
              "    <tr style=\"text-align: right;\">\n",
              "      <th></th>\n",
              "      <th>0</th>\n",
              "    </tr>\n",
              "  </thead>\n",
              "  <tbody>\n",
              "    <tr>\n",
              "      <th>메로나</th>\n",
              "      <td>1000</td>\n",
              "    </tr>\n",
              "    <tr>\n",
              "      <th>월드콘</th>\n",
              "      <td>2000</td>\n",
              "    </tr>\n",
              "    <tr>\n",
              "      <th>와</th>\n",
              "      <td>3000</td>\n",
              "    </tr>\n",
              "  </tbody>\n",
              "</table>\n",
              "</div><br><label><b>dtype:</b> int64</label>"
            ]
          },
          "metadata": {},
          "execution_count": 129
        }
      ]
    },
    {
      "cell_type": "code",
      "source": [
        "s.iloc[0]=500\n",
        "s"
      ],
      "metadata": {
        "colab": {
          "base_uri": "https://localhost:8080/",
          "height": 178
        },
        "id": "4XPR6H5mNS_P",
        "outputId": "a3fd2e64-4796-411c-f9ca-07ab45251d61"
      },
      "execution_count": 130,
      "outputs": [
        {
          "output_type": "execute_result",
          "data": {
            "text/plain": [
              "메로나     500\n",
              "월드콘    2000\n",
              "와      3000\n",
              "dtype: int64"
            ],
            "text/html": [
              "<div>\n",
              "<style scoped>\n",
              "    .dataframe tbody tr th:only-of-type {\n",
              "        vertical-align: middle;\n",
              "    }\n",
              "\n",
              "    .dataframe tbody tr th {\n",
              "        vertical-align: top;\n",
              "    }\n",
              "\n",
              "    .dataframe thead th {\n",
              "        text-align: right;\n",
              "    }\n",
              "</style>\n",
              "<table border=\"1\" class=\"dataframe\">\n",
              "  <thead>\n",
              "    <tr style=\"text-align: right;\">\n",
              "      <th></th>\n",
              "      <th>0</th>\n",
              "    </tr>\n",
              "  </thead>\n",
              "  <tbody>\n",
              "    <tr>\n",
              "      <th>메로나</th>\n",
              "      <td>500</td>\n",
              "    </tr>\n",
              "    <tr>\n",
              "      <th>월드콘</th>\n",
              "      <td>2000</td>\n",
              "    </tr>\n",
              "    <tr>\n",
              "      <th>와</th>\n",
              "      <td>3000</td>\n",
              "    </tr>\n",
              "  </tbody>\n",
              "</table>\n",
              "</div><br><label><b>dtype:</b> int64</label>"
            ]
          },
          "metadata": {},
          "execution_count": 130
        }
      ]
    },
    {
      "cell_type": "code",
      "source": [
        "data=[1000,2000,3000]\n",
        "index=['메로나','월드콘','와']\n",
        "\n",
        "s=pd.Series(data=data,index=index)"
      ],
      "metadata": {
        "id": "whZDk7E-NngA"
      },
      "execution_count": 131,
      "outputs": []
    },
    {
      "cell_type": "code",
      "source": [
        "s['메로나']=500 #파이썬 키 밸류 값으로 바꾸는 것 이게 제일 직관적이긴 함 loc, iloc쓰는 것보다는 그래서 키 밸류 느낌으로 변환하는거 추천\n",
        "# 단 이제 chat gpt나 프로젝트 하다 보면 loc, iloc 쓰는 경우도 있을테니 보고 해석할 수 있어야 함\n",
        "s"
      ],
      "metadata": {
        "colab": {
          "base_uri": "https://localhost:8080/",
          "height": 178
        },
        "id": "wGjDbjqMNrDO",
        "outputId": "3a5355b2-c63c-46c5-d69a-0f7a6e5861bf"
      },
      "execution_count": 132,
      "outputs": [
        {
          "output_type": "execute_result",
          "data": {
            "text/plain": [
              "메로나     500\n",
              "월드콘    2000\n",
              "와      3000\n",
              "dtype: int64"
            ],
            "text/html": [
              "<div>\n",
              "<style scoped>\n",
              "    .dataframe tbody tr th:only-of-type {\n",
              "        vertical-align: middle;\n",
              "    }\n",
              "\n",
              "    .dataframe tbody tr th {\n",
              "        vertical-align: top;\n",
              "    }\n",
              "\n",
              "    .dataframe thead th {\n",
              "        text-align: right;\n",
              "    }\n",
              "</style>\n",
              "<table border=\"1\" class=\"dataframe\">\n",
              "  <thead>\n",
              "    <tr style=\"text-align: right;\">\n",
              "      <th></th>\n",
              "      <th>0</th>\n",
              "    </tr>\n",
              "  </thead>\n",
              "  <tbody>\n",
              "    <tr>\n",
              "      <th>메로나</th>\n",
              "      <td>500</td>\n",
              "    </tr>\n",
              "    <tr>\n",
              "      <th>월드콘</th>\n",
              "      <td>2000</td>\n",
              "    </tr>\n",
              "    <tr>\n",
              "      <th>와</th>\n",
              "      <td>3000</td>\n",
              "    </tr>\n",
              "  </tbody>\n",
              "</table>\n",
              "</div><br><label><b>dtype:</b> int64</label>"
            ]
          },
          "metadata": {},
          "execution_count": 132
        }
      ]
    },
    {
      "cell_type": "markdown",
      "source": [
        "#시리즈 연산"
      ],
      "metadata": {
        "id": "btc4JZWYOF4X"
      }
    },
    {
      "cell_type": "code",
      "source": [
        "import pandas as pd\n",
        "\n",
        "evan = pd.Series([10,20,30], index=['NAVER', 'APPLE', '엔비디아'])\n",
        "딸1 = pd.Series([10,30,20], index=['엔비디아', 'NAVER', 'APPLE'])"
      ],
      "metadata": {
        "id": "_Xy8m4WJOHVe"
      },
      "execution_count": 133,
      "outputs": []
    },
    {
      "cell_type": "code",
      "source": [
        "evan"
      ],
      "metadata": {
        "colab": {
          "base_uri": "https://localhost:8080/",
          "height": 178
        },
        "id": "ZcBd1ch0OqK9",
        "outputId": "ea20d037-fcd4-4808-89a7-16b6d19cd271"
      },
      "execution_count": 134,
      "outputs": [
        {
          "output_type": "execute_result",
          "data": {
            "text/plain": [
              "NAVER    10\n",
              "APPLE    20\n",
              "엔비디아     30\n",
              "dtype: int64"
            ],
            "text/html": [
              "<div>\n",
              "<style scoped>\n",
              "    .dataframe tbody tr th:only-of-type {\n",
              "        vertical-align: middle;\n",
              "    }\n",
              "\n",
              "    .dataframe tbody tr th {\n",
              "        vertical-align: top;\n",
              "    }\n",
              "\n",
              "    .dataframe thead th {\n",
              "        text-align: right;\n",
              "    }\n",
              "</style>\n",
              "<table border=\"1\" class=\"dataframe\">\n",
              "  <thead>\n",
              "    <tr style=\"text-align: right;\">\n",
              "      <th></th>\n",
              "      <th>0</th>\n",
              "    </tr>\n",
              "  </thead>\n",
              "  <tbody>\n",
              "    <tr>\n",
              "      <th>NAVER</th>\n",
              "      <td>10</td>\n",
              "    </tr>\n",
              "    <tr>\n",
              "      <th>APPLE</th>\n",
              "      <td>20</td>\n",
              "    </tr>\n",
              "    <tr>\n",
              "      <th>엔비디아</th>\n",
              "      <td>30</td>\n",
              "    </tr>\n",
              "  </tbody>\n",
              "</table>\n",
              "</div><br><label><b>dtype:</b> int64</label>"
            ]
          },
          "metadata": {},
          "execution_count": 134
        }
      ]
    },
    {
      "cell_type": "code",
      "source": [
        "딸1"
      ],
      "metadata": {
        "colab": {
          "base_uri": "https://localhost:8080/",
          "height": 178
        },
        "id": "HC7s1C2wOreW",
        "outputId": "41f3f460-5e17-4a32-f108-c238e6009e98"
      },
      "execution_count": 135,
      "outputs": [
        {
          "output_type": "execute_result",
          "data": {
            "text/plain": [
              "엔비디아     10\n",
              "NAVER    30\n",
              "APPLE    20\n",
              "dtype: int64"
            ],
            "text/html": [
              "<div>\n",
              "<style scoped>\n",
              "    .dataframe tbody tr th:only-of-type {\n",
              "        vertical-align: middle;\n",
              "    }\n",
              "\n",
              "    .dataframe tbody tr th {\n",
              "        vertical-align: top;\n",
              "    }\n",
              "\n",
              "    .dataframe thead th {\n",
              "        text-align: right;\n",
              "    }\n",
              "</style>\n",
              "<table border=\"1\" class=\"dataframe\">\n",
              "  <thead>\n",
              "    <tr style=\"text-align: right;\">\n",
              "      <th></th>\n",
              "      <th>0</th>\n",
              "    </tr>\n",
              "  </thead>\n",
              "  <tbody>\n",
              "    <tr>\n",
              "      <th>엔비디아</th>\n",
              "      <td>10</td>\n",
              "    </tr>\n",
              "    <tr>\n",
              "      <th>NAVER</th>\n",
              "      <td>30</td>\n",
              "    </tr>\n",
              "    <tr>\n",
              "      <th>APPLE</th>\n",
              "      <td>20</td>\n",
              "    </tr>\n",
              "  </tbody>\n",
              "</table>\n",
              "</div><br><label><b>dtype:</b> int64</label>"
            ]
          },
          "metadata": {},
          "execution_count": 135
        }
      ]
    },
    {
      "cell_type": "code",
      "source": [
        "#우리 가족이 보유하고 있는 주식의 숫자를 계산\n",
        "evan + 딸1\n",
        "\n",
        "#이게 제대로 계산이 된다는 것에 매우 신기해 해야 함!"
      ],
      "metadata": {
        "colab": {
          "base_uri": "https://localhost:8080/",
          "height": 178
        },
        "id": "aOmICG1oOtGh",
        "outputId": "61263bfc-89ce-498d-e91a-978665eb3410"
      },
      "execution_count": 136,
      "outputs": [
        {
          "output_type": "execute_result",
          "data": {
            "text/plain": [
              "APPLE    40\n",
              "NAVER    40\n",
              "엔비디아     40\n",
              "dtype: int64"
            ],
            "text/html": [
              "<div>\n",
              "<style scoped>\n",
              "    .dataframe tbody tr th:only-of-type {\n",
              "        vertical-align: middle;\n",
              "    }\n",
              "\n",
              "    .dataframe tbody tr th {\n",
              "        vertical-align: top;\n",
              "    }\n",
              "\n",
              "    .dataframe thead th {\n",
              "        text-align: right;\n",
              "    }\n",
              "</style>\n",
              "<table border=\"1\" class=\"dataframe\">\n",
              "  <thead>\n",
              "    <tr style=\"text-align: right;\">\n",
              "      <th></th>\n",
              "      <th>0</th>\n",
              "    </tr>\n",
              "  </thead>\n",
              "  <tbody>\n",
              "    <tr>\n",
              "      <th>APPLE</th>\n",
              "      <td>40</td>\n",
              "    </tr>\n",
              "    <tr>\n",
              "      <th>NAVER</th>\n",
              "      <td>40</td>\n",
              "    </tr>\n",
              "    <tr>\n",
              "      <th>엔비디아</th>\n",
              "      <td>40</td>\n",
              "    </tr>\n",
              "  </tbody>\n",
              "</table>\n",
              "</div><br><label><b>dtype:</b> int64</label>"
            ]
          },
          "metadata": {},
          "execution_count": 136
        }
      ]
    },
    {
      "cell_type": "code",
      "source": [
        "\n",
        "\n",
        "evan = pd.Series([10,20,30], index=['NAVER', 'APPLE', '테슬라'])\n",
        "딸1 = pd.Series([10,30,20], index=['엔비디아', 'NAVER', 'APPLE'])\n",
        "\n",
        "evan + 딸1\n",
        "#엔비디아와 테슬라는 NaN로 나옴\n"
      ],
      "metadata": {
        "colab": {
          "base_uri": "https://localhost:8080/",
          "height": 209
        },
        "id": "LYRjrFg0PfWf",
        "outputId": "29b013e8-75d1-4e5d-bfcc-a48b0423784d"
      },
      "execution_count": 138,
      "outputs": [
        {
          "output_type": "execute_result",
          "data": {
            "text/plain": [
              "APPLE    40.0\n",
              "NAVER    40.0\n",
              "엔비디아      NaN\n",
              "테슬라       NaN\n",
              "dtype: float64"
            ],
            "text/html": [
              "<div>\n",
              "<style scoped>\n",
              "    .dataframe tbody tr th:only-of-type {\n",
              "        vertical-align: middle;\n",
              "    }\n",
              "\n",
              "    .dataframe tbody tr th {\n",
              "        vertical-align: top;\n",
              "    }\n",
              "\n",
              "    .dataframe thead th {\n",
              "        text-align: right;\n",
              "    }\n",
              "</style>\n",
              "<table border=\"1\" class=\"dataframe\">\n",
              "  <thead>\n",
              "    <tr style=\"text-align: right;\">\n",
              "      <th></th>\n",
              "      <th>0</th>\n",
              "    </tr>\n",
              "  </thead>\n",
              "  <tbody>\n",
              "    <tr>\n",
              "      <th>APPLE</th>\n",
              "      <td>40.0</td>\n",
              "    </tr>\n",
              "    <tr>\n",
              "      <th>NAVER</th>\n",
              "      <td>40.0</td>\n",
              "    </tr>\n",
              "    <tr>\n",
              "      <th>엔비디아</th>\n",
              "      <td>NaN</td>\n",
              "    </tr>\n",
              "    <tr>\n",
              "      <th>테슬라</th>\n",
              "      <td>NaN</td>\n",
              "    </tr>\n",
              "  </tbody>\n",
              "</table>\n",
              "</div><br><label><b>dtype:</b> float64</label>"
            ]
          },
          "metadata": {},
          "execution_count": 138
        }
      ]
    },
    {
      "cell_type": "code",
      "source": [
        "date = [\"6/1\", \"6/2\", \"6/3\", \"6/4\", \"6/5\"]\n",
        "high = pd.Series([42800, 42700, 42050, 42950, 43000], index=date)\n",
        "low = pd.Series([42150, 42150, 41300, 42150, 42350] , index=date)\n",
        "\n",
        "\"\"\"\n",
        "\n",
        "diff = high - low\n",
        "print(diff)\n",
        "이런식으로 나오게 하고 싶음\n",
        "\n",
        "\n",
        "메소드 없이 반복문으로만 하려면\n",
        "idx_max=0\n",
        "val_max=0\n",
        "이런식으로 엄청 복잡하게 가야함...\n",
        "\n",
        "\n",
        "diff.idxmax()\n",
        "\"\"\"\n",
        "print()"
      ],
      "metadata": {
        "colab": {
          "base_uri": "https://localhost:8080/"
        },
        "id": "FLfuaDopQw0G",
        "outputId": "9a74c54a-fd58-44ab-ec86-50c01c7f73da"
      },
      "execution_count": 148,
      "outputs": [
        {
          "output_type": "stream",
          "name": "stdout",
          "text": [
            "\n"
          ]
        }
      ]
    },
    {
      "cell_type": "code",
      "source": [
        "\n",
        "diff = high - low\n",
        "print(diff)\n",
        "print(diff.idxmax())\n",
        "print(diff.idxmin())"
      ],
      "metadata": {
        "colab": {
          "base_uri": "https://localhost:8080/"
        },
        "id": "y2xbXx5jRJO8",
        "outputId": "c957a282-5b3b-4b69-c4b9-4f0d383b7350"
      },
      "execution_count": 149,
      "outputs": [
        {
          "output_type": "stream",
          "name": "stdout",
          "text": [
            "6/1    650\n",
            "6/2    550\n",
            "6/3    750\n",
            "6/4    800\n",
            "6/5    650\n",
            "dtype: int64\n",
            "6/4\n",
            "6/2\n"
          ]
        }
      ]
    },
    {
      "cell_type": "code",
      "source": [
        "date = [\"6/1\", \"6/2\", \"6/3\", \"6/4\", \"6/5\"]\n",
        "high = pd.Series([42800, 42700, 42050, 42950, 43000], index=date)\n",
        "low = pd.Series([42150, 42150, 41300, 42150, 42350] , index=date)\n",
        "\n",
        "diff = high - low\n",
        "print(diff)\n",
        "\n",
        "diff.idxmax(), diff[diff.idxmax()]\n",
        "diff.idxmin(), diff[diff.idxmin()]"
      ],
      "metadata": {
        "id": "ZnklquD3RScC"
      },
      "execution_count": null,
      "outputs": []
    },
    {
      "cell_type": "markdown",
      "source": [
        "https://pandas.pydata.org/docs/reference/api/pandas.Series.cumprod.html"
      ],
      "metadata": {
        "id": "ZAYjO81VUo-T"
      }
    },
    {
      "cell_type": "code",
      "source": [
        "date = [\"6/1\", \"6/2\", \"6/3\", \"6/4\", \"6/5\"]\n",
        "high = pd.Series([42800, 42700, 42050, 42950, 43000], index=date) #매도\n",
        "low = pd.Series([42150, 42150, 41300, 42150, 42350] , index=date) #매수\n"
      ],
      "metadata": {
        "id": "n4lra2qoUqq3"
      },
      "execution_count": 150,
      "outputs": []
    },
    {
      "cell_type": "code",
      "source": [
        "profit=high/low #단순 수익률 계산\n",
        "profit"
      ],
      "metadata": {
        "colab": {
          "base_uri": "https://localhost:8080/",
          "height": 241
        },
        "id": "PXJvcV_eUxmH",
        "outputId": "ca5e57b3-6df2-4e20-9cd6-071637e953d3"
      },
      "execution_count": 152,
      "outputs": [
        {
          "output_type": "execute_result",
          "data": {
            "text/plain": [
              "6/1    1.015421\n",
              "6/2    1.013049\n",
              "6/3    1.018160\n",
              "6/4    1.018980\n",
              "6/5    1.015348\n",
              "dtype: float64"
            ],
            "text/html": [
              "<div>\n",
              "<style scoped>\n",
              "    .dataframe tbody tr th:only-of-type {\n",
              "        vertical-align: middle;\n",
              "    }\n",
              "\n",
              "    .dataframe tbody tr th {\n",
              "        vertical-align: top;\n",
              "    }\n",
              "\n",
              "    .dataframe thead th {\n",
              "        text-align: right;\n",
              "    }\n",
              "</style>\n",
              "<table border=\"1\" class=\"dataframe\">\n",
              "  <thead>\n",
              "    <tr style=\"text-align: right;\">\n",
              "      <th></th>\n",
              "      <th>0</th>\n",
              "    </tr>\n",
              "  </thead>\n",
              "  <tbody>\n",
              "    <tr>\n",
              "      <th>6/1</th>\n",
              "      <td>1.015421</td>\n",
              "    </tr>\n",
              "    <tr>\n",
              "      <th>6/2</th>\n",
              "      <td>1.013049</td>\n",
              "    </tr>\n",
              "    <tr>\n",
              "      <th>6/3</th>\n",
              "      <td>1.018160</td>\n",
              "    </tr>\n",
              "    <tr>\n",
              "      <th>6/4</th>\n",
              "      <td>1.018980</td>\n",
              "    </tr>\n",
              "    <tr>\n",
              "      <th>6/5</th>\n",
              "      <td>1.015348</td>\n",
              "    </tr>\n",
              "  </tbody>\n",
              "</table>\n",
              "</div><br><label><b>dtype:</b> float64</label>"
            ]
          },
          "metadata": {},
          "execution_count": 152
        }
      ]
    },
    {
      "cell_type": "code",
      "source": [
        "profit.cumprod()\n",
        "#첫날은 누적한 것이 없어서 값이 같게 나오는데, 이 이후부터는 조금씩 다름\n"
      ],
      "metadata": {
        "colab": {
          "base_uri": "https://localhost:8080/",
          "height": 241
        },
        "id": "bbxxQRNPVFxn",
        "outputId": "9b093ca8-afc3-431c-bc6b-a3bbcd0cc481"
      },
      "execution_count": 153,
      "outputs": [
        {
          "output_type": "execute_result",
          "data": {
            "text/plain": [
              "6/1    1.015421\n",
              "6/2    1.028671\n",
              "6/3    1.047351\n",
              "6/4    1.067230\n",
              "6/5    1.083610\n",
              "dtype: float64"
            ],
            "text/html": [
              "<div>\n",
              "<style scoped>\n",
              "    .dataframe tbody tr th:only-of-type {\n",
              "        vertical-align: middle;\n",
              "    }\n",
              "\n",
              "    .dataframe tbody tr th {\n",
              "        vertical-align: top;\n",
              "    }\n",
              "\n",
              "    .dataframe thead th {\n",
              "        text-align: right;\n",
              "    }\n",
              "</style>\n",
              "<table border=\"1\" class=\"dataframe\">\n",
              "  <thead>\n",
              "    <tr style=\"text-align: right;\">\n",
              "      <th></th>\n",
              "      <th>0</th>\n",
              "    </tr>\n",
              "  </thead>\n",
              "  <tbody>\n",
              "    <tr>\n",
              "      <th>6/1</th>\n",
              "      <td>1.015421</td>\n",
              "    </tr>\n",
              "    <tr>\n",
              "      <th>6/2</th>\n",
              "      <td>1.028671</td>\n",
              "    </tr>\n",
              "    <tr>\n",
              "      <th>6/3</th>\n",
              "      <td>1.047351</td>\n",
              "    </tr>\n",
              "    <tr>\n",
              "      <th>6/4</th>\n",
              "      <td>1.067230</td>\n",
              "    </tr>\n",
              "    <tr>\n",
              "      <th>6/5</th>\n",
              "      <td>1.083610</td>\n",
              "    </tr>\n",
              "  </tbody>\n",
              "</table>\n",
              "</div><br><label><b>dtype:</b> float64</label>"
            ]
          },
          "metadata": {},
          "execution_count": 153
        }
      ]
    },
    {
      "cell_type": "markdown",
      "source": [
        "#시리즈와 Map"
      ],
      "metadata": {
        "id": "GIU1ncT1VpuZ"
      }
    },
    {
      "cell_type": "code",
      "source": [
        "text='1,234'\n",
        "result=int(text.replace(',',''))\n",
        "type(result), result"
      ],
      "metadata": {
        "colab": {
          "base_uri": "https://localhost:8080/"
        },
        "id": "ZoID9GQjWEm4",
        "outputId": "dbee1f04-f785-4688-83d9-8492973ebeec"
      },
      "execution_count": 162,
      "outputs": [
        {
          "output_type": "execute_result",
          "data": {
            "text/plain": [
              "(int, 1234)"
            ]
          },
          "metadata": {},
          "execution_count": 162
        }
      ]
    },
    {
      "cell_type": "code",
      "source": [
        "s=pd.Series(['1,234', '5,678', '12,345'])\n",
        "#int(s)# TypeError발생함  cannot convert the series to <class 'int'>\n"
      ],
      "metadata": {
        "id": "NBaJpcmdVsoh"
      },
      "execution_count": 163,
      "outputs": []
    },
    {
      "cell_type": "code",
      "source": [
        "\n",
        "num_str = ['1,234', '5,678', '12,345']\n",
        "results = []\n",
        "for num in num_str:\n",
        "    temp = int(num.replace(',',''))\n",
        "    print(temp, type(temp))\n",
        "    results.append(temp)\n",
        "results\n",
        "\n",
        "\n",
        "#이런식으로 하면 너무 복잡해... # 판다스에서는 생각보다 반복문을 사용할 일이 생기지 않는다는 것을 명심!"
      ],
      "metadata": {
        "colab": {
          "base_uri": "https://localhost:8080/"
        },
        "id": "tO-XibSpW5Zp",
        "outputId": "bc68a087-e337-4fe8-8417-cd2ea3e06af7"
      },
      "execution_count": 165,
      "outputs": [
        {
          "output_type": "stream",
          "name": "stdout",
          "text": [
            "1234 <class 'int'>\n",
            "5678 <class 'int'>\n",
            "12345 <class 'int'>\n"
          ]
        },
        {
          "output_type": "execute_result",
          "data": {
            "text/plain": [
              "[1234, 5678, 12345]"
            ]
          },
          "metadata": {},
          "execution_count": 165
        }
      ]
    },
    {
      "cell_type": "code",
      "source": [
        "def rm_comma(x):\n",
        "    return int(x.replace(',',''))"
      ],
      "metadata": {
        "id": "sby1C99uXK3e"
      },
      "execution_count": 173,
      "outputs": []
    },
    {
      "cell_type": "code",
      "source": [
        "s=pd.Series(['1,234', '5,678', '12,345'])\n",
        "result=s.map(rm_comma)\n",
        "result"
      ],
      "metadata": {
        "colab": {
          "base_uri": "https://localhost:8080/",
          "height": 178
        },
        "id": "R1W7WgN3XROe",
        "outputId": "41bdef37-530a-46b6-9afe-7005b6c5729e"
      },
      "execution_count": 174,
      "outputs": [
        {
          "output_type": "execute_result",
          "data": {
            "text/plain": [
              "0     1234\n",
              "1     5678\n",
              "2    12345\n",
              "dtype: int64"
            ],
            "text/html": [
              "<div>\n",
              "<style scoped>\n",
              "    .dataframe tbody tr th:only-of-type {\n",
              "        vertical-align: middle;\n",
              "    }\n",
              "\n",
              "    .dataframe tbody tr th {\n",
              "        vertical-align: top;\n",
              "    }\n",
              "\n",
              "    .dataframe thead th {\n",
              "        text-align: right;\n",
              "    }\n",
              "</style>\n",
              "<table border=\"1\" class=\"dataframe\">\n",
              "  <thead>\n",
              "    <tr style=\"text-align: right;\">\n",
              "      <th></th>\n",
              "      <th>0</th>\n",
              "    </tr>\n",
              "  </thead>\n",
              "  <tbody>\n",
              "    <tr>\n",
              "      <th>0</th>\n",
              "      <td>1234</td>\n",
              "    </tr>\n",
              "    <tr>\n",
              "      <th>1</th>\n",
              "      <td>5678</td>\n",
              "    </tr>\n",
              "    <tr>\n",
              "      <th>2</th>\n",
              "      <td>12345</td>\n",
              "    </tr>\n",
              "  </tbody>\n",
              "</table>\n",
              "</div><br><label><b>dtype:</b> int64</label>"
            ]
          },
          "metadata": {},
          "execution_count": 174
        }
      ]
    },
    {
      "cell_type": "code",
      "source": [
        "def remove_dollar_sign(x):\n",
        "    return float(x.replace('$', '').replace(',', ''))\n",
        "s = pd.Series(['$1,234.56', '$5,678.90', '$12,345.67'])\n",
        "result = s.map(remove_dollar_sign)\n",
        "result"
      ],
      "metadata": {
        "colab": {
          "base_uri": "https://localhost:8080/",
          "height": 178
        },
        "id": "QOu-hOuLYkDW",
        "outputId": "56711762-46cf-4c79-f09b-f7120dd7015c"
      },
      "execution_count": 176,
      "outputs": [
        {
          "output_type": "execute_result",
          "data": {
            "text/plain": [
              "0     1234.56\n",
              "1     5678.90\n",
              "2    12345.67\n",
              "dtype: float64"
            ],
            "text/html": [
              "<div>\n",
              "<style scoped>\n",
              "    .dataframe tbody tr th:only-of-type {\n",
              "        vertical-align: middle;\n",
              "    }\n",
              "\n",
              "    .dataframe tbody tr th {\n",
              "        vertical-align: top;\n",
              "    }\n",
              "\n",
              "    .dataframe thead th {\n",
              "        text-align: right;\n",
              "    }\n",
              "</style>\n",
              "<table border=\"1\" class=\"dataframe\">\n",
              "  <thead>\n",
              "    <tr style=\"text-align: right;\">\n",
              "      <th></th>\n",
              "      <th>0</th>\n",
              "    </tr>\n",
              "  </thead>\n",
              "  <tbody>\n",
              "    <tr>\n",
              "      <th>0</th>\n",
              "      <td>1234.56</td>\n",
              "    </tr>\n",
              "    <tr>\n",
              "      <th>1</th>\n",
              "      <td>5678.90</td>\n",
              "    </tr>\n",
              "    <tr>\n",
              "      <th>2</th>\n",
              "      <td>12345.67</td>\n",
              "    </tr>\n",
              "  </tbody>\n",
              "</table>\n",
              "</div><br><label><b>dtype:</b> float64</label>"
            ]
          },
          "metadata": {},
          "execution_count": 176
        }
      ]
    },
    {
      "cell_type": "markdown",
      "source": [
        "##문제\n",
        "- 기준점이 13 이상\n",
        "+ 크다 혹은 작다라고 이야기 해주는 코드\n",
        "\n",
        "힌트 : s.map(사용자정의함수)"
      ],
      "metadata": {
        "id": "l8KkDAKrY0nS"
      }
    },
    {
      "cell_type": "code",
      "source": [
        "s=pd.Series([5,10,15,20])\n",
        "s"
      ],
      "metadata": {
        "colab": {
          "base_uri": "https://localhost:8080/",
          "height": 209
        },
        "id": "KrLZVowgY2J8",
        "outputId": "1fc02aee-2382-4e6c-b673-6a079c5f05ca"
      },
      "execution_count": 177,
      "outputs": [
        {
          "output_type": "execute_result",
          "data": {
            "text/plain": [
              "0     5\n",
              "1    10\n",
              "2    15\n",
              "3    20\n",
              "dtype: int64"
            ],
            "text/html": [
              "<div>\n",
              "<style scoped>\n",
              "    .dataframe tbody tr th:only-of-type {\n",
              "        vertical-align: middle;\n",
              "    }\n",
              "\n",
              "    .dataframe tbody tr th {\n",
              "        vertical-align: top;\n",
              "    }\n",
              "\n",
              "    .dataframe thead th {\n",
              "        text-align: right;\n",
              "    }\n",
              "</style>\n",
              "<table border=\"1\" class=\"dataframe\">\n",
              "  <thead>\n",
              "    <tr style=\"text-align: right;\">\n",
              "      <th></th>\n",
              "      <th>0</th>\n",
              "    </tr>\n",
              "  </thead>\n",
              "  <tbody>\n",
              "    <tr>\n",
              "      <th>0</th>\n",
              "      <td>5</td>\n",
              "    </tr>\n",
              "    <tr>\n",
              "      <th>1</th>\n",
              "      <td>10</td>\n",
              "    </tr>\n",
              "    <tr>\n",
              "      <th>2</th>\n",
              "      <td>15</td>\n",
              "    </tr>\n",
              "    <tr>\n",
              "      <th>3</th>\n",
              "      <td>20</td>\n",
              "    </tr>\n",
              "  </tbody>\n",
              "</table>\n",
              "</div><br><label><b>dtype:</b> int64</label>"
            ]
          },
          "metadata": {},
          "execution_count": 177
        }
      ]
    },
    {
      "cell_type": "code",
      "source": [
        "def bigorsmall(x):\n",
        "    if x > 13:\n",
        "        return \"bigger than 13\"\n",
        "    else:\n",
        "        return \"13 or smaller than 13\"\n",
        "s=pd.Series([5,10,15,20])\n",
        "result = s.map(bigorsmall)\n",
        "result"
      ],
      "metadata": {
        "colab": {
          "base_uri": "https://localhost:8080/",
          "height": 209
        },
        "id": "Cn6rVQG5ZMcA",
        "outputId": "f6369f21-b9f6-4b80-f130-25cc958e056b"
      },
      "execution_count": 185,
      "outputs": [
        {
          "output_type": "execute_result",
          "data": {
            "text/plain": [
              "0    13 or smaller than 13\n",
              "1    13 or smaller than 13\n",
              "2           bigger than 13\n",
              "3           bigger than 13\n",
              "dtype: object"
            ],
            "text/html": [
              "<div>\n",
              "<style scoped>\n",
              "    .dataframe tbody tr th:only-of-type {\n",
              "        vertical-align: middle;\n",
              "    }\n",
              "\n",
              "    .dataframe tbody tr th {\n",
              "        vertical-align: top;\n",
              "    }\n",
              "\n",
              "    .dataframe thead th {\n",
              "        text-align: right;\n",
              "    }\n",
              "</style>\n",
              "<table border=\"1\" class=\"dataframe\">\n",
              "  <thead>\n",
              "    <tr style=\"text-align: right;\">\n",
              "      <th></th>\n",
              "      <th>0</th>\n",
              "    </tr>\n",
              "  </thead>\n",
              "  <tbody>\n",
              "    <tr>\n",
              "      <th>0</th>\n",
              "      <td>13 or smaller than 13</td>\n",
              "    </tr>\n",
              "    <tr>\n",
              "      <th>1</th>\n",
              "      <td>13 or smaller than 13</td>\n",
              "    </tr>\n",
              "    <tr>\n",
              "      <th>2</th>\n",
              "      <td>bigger than 13</td>\n",
              "    </tr>\n",
              "    <tr>\n",
              "      <th>3</th>\n",
              "      <td>bigger than 13</td>\n",
              "    </tr>\n",
              "  </tbody>\n",
              "</table>\n",
              "</div><br><label><b>dtype:</b> object</label>"
            ]
          },
          "metadata": {},
          "execution_count": 185
        }
      ]
    },
    {
      "cell_type": "code",
      "source": [
        "def is_greater_13(x):\n",
        "\n",
        "    return_text = None\n",
        "    if x >= 13:\n",
        "        return \"크다\"\n",
        "    else:\n",
        "        return \"작다\"\n",
        "\n",
        "s = pd.Series([10, 15, 7, 20, 13])\n",
        "s.map(is_greater_13)"
      ],
      "metadata": {
        "colab": {
          "base_uri": "https://localhost:8080/",
          "height": 241
        },
        "id": "l0YKQ7ZvaNRi",
        "outputId": "b2005229-220b-498b-f268-07e9db0f1879"
      },
      "execution_count": 184,
      "outputs": [
        {
          "output_type": "execute_result",
          "data": {
            "text/plain": [
              "0    작다\n",
              "1    크다\n",
              "2    작다\n",
              "3    크다\n",
              "4    크다\n",
              "dtype: object"
            ],
            "text/html": [
              "<div>\n",
              "<style scoped>\n",
              "    .dataframe tbody tr th:only-of-type {\n",
              "        vertical-align: middle;\n",
              "    }\n",
              "\n",
              "    .dataframe tbody tr th {\n",
              "        vertical-align: top;\n",
              "    }\n",
              "\n",
              "    .dataframe thead th {\n",
              "        text-align: right;\n",
              "    }\n",
              "</style>\n",
              "<table border=\"1\" class=\"dataframe\">\n",
              "  <thead>\n",
              "    <tr style=\"text-align: right;\">\n",
              "      <th></th>\n",
              "      <th>0</th>\n",
              "    </tr>\n",
              "  </thead>\n",
              "  <tbody>\n",
              "    <tr>\n",
              "      <th>0</th>\n",
              "      <td>작다</td>\n",
              "    </tr>\n",
              "    <tr>\n",
              "      <th>1</th>\n",
              "      <td>크다</td>\n",
              "    </tr>\n",
              "    <tr>\n",
              "      <th>2</th>\n",
              "      <td>작다</td>\n",
              "    </tr>\n",
              "    <tr>\n",
              "      <th>3</th>\n",
              "      <td>크다</td>\n",
              "    </tr>\n",
              "    <tr>\n",
              "      <th>4</th>\n",
              "      <td>크다</td>\n",
              "    </tr>\n",
              "  </tbody>\n",
              "</table>\n",
              "</div><br><label><b>dtype:</b> object</label>"
            ]
          },
          "metadata": {},
          "execution_count": 184
        }
      ]
    },
    {
      "cell_type": "markdown",
      "source": [
        "##필터링"
      ],
      "metadata": {
        "id": "iT_D8AL0baAg"
      }
    },
    {
      "cell_type": "code",
      "source": [
        "data = [42500, 42550, 41800, 42550, 42650]\n",
        "index = ['2019-05-31', '2019-05-30', '2019-05-29', '2019-05-28', '2019-05-27']\n",
        "s = pd.Series(data=data, index=index)\n",
        "s"
      ],
      "metadata": {
        "colab": {
          "base_uri": "https://localhost:8080/",
          "height": 241
        },
        "id": "sSkETdIibVUf",
        "outputId": "fed0c824-8dfc-42e7-cdfd-dbdca54a4ed4"
      },
      "execution_count": 187,
      "outputs": [
        {
          "output_type": "execute_result",
          "data": {
            "text/plain": [
              "2019-05-31    42500\n",
              "2019-05-30    42550\n",
              "2019-05-29    41800\n",
              "2019-05-28    42550\n",
              "2019-05-27    42650\n",
              "dtype: int64"
            ],
            "text/html": [
              "<div>\n",
              "<style scoped>\n",
              "    .dataframe tbody tr th:only-of-type {\n",
              "        vertical-align: middle;\n",
              "    }\n",
              "\n",
              "    .dataframe tbody tr th {\n",
              "        vertical-align: top;\n",
              "    }\n",
              "\n",
              "    .dataframe thead th {\n",
              "        text-align: right;\n",
              "    }\n",
              "</style>\n",
              "<table border=\"1\" class=\"dataframe\">\n",
              "  <thead>\n",
              "    <tr style=\"text-align: right;\">\n",
              "      <th></th>\n",
              "      <th>0</th>\n",
              "    </tr>\n",
              "  </thead>\n",
              "  <tbody>\n",
              "    <tr>\n",
              "      <th>2019-05-31</th>\n",
              "      <td>42500</td>\n",
              "    </tr>\n",
              "    <tr>\n",
              "      <th>2019-05-30</th>\n",
              "      <td>42550</td>\n",
              "    </tr>\n",
              "    <tr>\n",
              "      <th>2019-05-29</th>\n",
              "      <td>41800</td>\n",
              "    </tr>\n",
              "    <tr>\n",
              "      <th>2019-05-28</th>\n",
              "      <td>42550</td>\n",
              "    </tr>\n",
              "    <tr>\n",
              "      <th>2019-05-27</th>\n",
              "      <td>42650</td>\n",
              "    </tr>\n",
              "  </tbody>\n",
              "</table>\n",
              "</div><br><label><b>dtype:</b> int64</label>"
            ]
          },
          "metadata": {},
          "execution_count": 187
        }
      ]
    },
    {
      "cell_type": "code",
      "source": [
        "cond=s>42000\n",
        "print(cond)"
      ],
      "metadata": {
        "colab": {
          "base_uri": "https://localhost:8080/"
        },
        "id": "R-Zv9Ec1bf81",
        "outputId": "8849acc0-bae4-44bd-9c34-57e587129d39"
      },
      "execution_count": 188,
      "outputs": [
        {
          "output_type": "stream",
          "name": "stdout",
          "text": [
            "2019-05-31     True\n",
            "2019-05-30     True\n",
            "2019-05-29    False\n",
            "2019-05-28     True\n",
            "2019-05-27     True\n",
            "dtype: bool\n"
          ]
        }
      ]
    },
    {
      "cell_type": "code",
      "source": [
        "s[cond]"
      ],
      "metadata": {
        "colab": {
          "base_uri": "https://localhost:8080/",
          "height": 209
        },
        "id": "-bsM_TYAbr6L",
        "outputId": "66020b4e-a731-4856-8d04-9f0653e39a66"
      },
      "execution_count": 189,
      "outputs": [
        {
          "output_type": "execute_result",
          "data": {
            "text/plain": [
              "2019-05-31    42500\n",
              "2019-05-30    42550\n",
              "2019-05-28    42550\n",
              "2019-05-27    42650\n",
              "dtype: int64"
            ],
            "text/html": [
              "<div>\n",
              "<style scoped>\n",
              "    .dataframe tbody tr th:only-of-type {\n",
              "        vertical-align: middle;\n",
              "    }\n",
              "\n",
              "    .dataframe tbody tr th {\n",
              "        vertical-align: top;\n",
              "    }\n",
              "\n",
              "    .dataframe thead th {\n",
              "        text-align: right;\n",
              "    }\n",
              "</style>\n",
              "<table border=\"1\" class=\"dataframe\">\n",
              "  <thead>\n",
              "    <tr style=\"text-align: right;\">\n",
              "      <th></th>\n",
              "      <th>0</th>\n",
              "    </tr>\n",
              "  </thead>\n",
              "  <tbody>\n",
              "    <tr>\n",
              "      <th>2019-05-31</th>\n",
              "      <td>42500</td>\n",
              "    </tr>\n",
              "    <tr>\n",
              "      <th>2019-05-30</th>\n",
              "      <td>42550</td>\n",
              "    </tr>\n",
              "    <tr>\n",
              "      <th>2019-05-28</th>\n",
              "      <td>42550</td>\n",
              "    </tr>\n",
              "    <tr>\n",
              "      <th>2019-05-27</th>\n",
              "      <td>42650</td>\n",
              "    </tr>\n",
              "  </tbody>\n",
              "</table>\n",
              "</div><br><label><b>dtype:</b> int64</label>"
            ]
          },
          "metadata": {},
          "execution_count": 189
        }
      ]
    },
    {
      "cell_type": "code",
      "source": [
        "s[s>42000] # 이렇게 하면 엄청 간단하게 1줄로 처리 가능함"
      ],
      "metadata": {
        "colab": {
          "base_uri": "https://localhost:8080/",
          "height": 209
        },
        "id": "cvLspHtwcGcx",
        "outputId": "dd6dfed1-ac7d-496d-d9df-fb968f1a9d9b"
      },
      "execution_count": 191,
      "outputs": [
        {
          "output_type": "execute_result",
          "data": {
            "text/plain": [
              "2019-05-31    42500\n",
              "2019-05-30    42550\n",
              "2019-05-28    42550\n",
              "2019-05-27    42650\n",
              "dtype: int64"
            ],
            "text/html": [
              "<div>\n",
              "<style scoped>\n",
              "    .dataframe tbody tr th:only-of-type {\n",
              "        vertical-align: middle;\n",
              "    }\n",
              "\n",
              "    .dataframe tbody tr th {\n",
              "        vertical-align: top;\n",
              "    }\n",
              "\n",
              "    .dataframe thead th {\n",
              "        text-align: right;\n",
              "    }\n",
              "</style>\n",
              "<table border=\"1\" class=\"dataframe\">\n",
              "  <thead>\n",
              "    <tr style=\"text-align: right;\">\n",
              "      <th></th>\n",
              "      <th>0</th>\n",
              "    </tr>\n",
              "  </thead>\n",
              "  <tbody>\n",
              "    <tr>\n",
              "      <th>2019-05-31</th>\n",
              "      <td>42500</td>\n",
              "    </tr>\n",
              "    <tr>\n",
              "      <th>2019-05-30</th>\n",
              "      <td>42550</td>\n",
              "    </tr>\n",
              "    <tr>\n",
              "      <th>2019-05-28</th>\n",
              "      <td>42550</td>\n",
              "    </tr>\n",
              "    <tr>\n",
              "      <th>2019-05-27</th>\n",
              "      <td>42650</td>\n",
              "    </tr>\n",
              "  </tbody>\n",
              "</table>\n",
              "</div><br><label><b>dtype:</b> int64</label>"
            ]
          },
          "metadata": {},
          "execution_count": 191
        }
      ]
    },
    {
      "cell_type": "code",
      "source": [
        "close = [42500, 42550, 41800, 42550, 42650]\n",
        "open = [42600, 42200, 41850, 42550, 42500]\n",
        "index = ['2019-05-31', '2019-05-30', '2019-05-29', '2019-05-28', '2019-05-27']\n",
        "\n",
        "open = pd.Series(data=open, index=index)\n",
        "close = pd.Series(data=close, index=index)"
      ],
      "metadata": {
        "id": "BPwrP385cXQt"
      },
      "execution_count": 196,
      "outputs": []
    },
    {
      "cell_type": "markdown",
      "source": [
        "시가 vs 종가\n",
        "종가가 높은 것이 더 좋으니까\n",
        "문제 : 종가가 시가보다 높은 날을 구하세요"
      ],
      "metadata": {
        "id": "iUy4Q-eTceD0"
      }
    },
    {
      "cell_type": "code",
      "source": [
        "close > open"
      ],
      "metadata": {
        "colab": {
          "base_uri": "https://localhost:8080/",
          "height": 241
        },
        "id": "uQBbEIJFcklK",
        "outputId": "7bbb17cc-2bf6-407c-f9a5-6da84ee78de9"
      },
      "execution_count": 197,
      "outputs": [
        {
          "output_type": "execute_result",
          "data": {
            "text/plain": [
              "2019-05-31    False\n",
              "2019-05-30     True\n",
              "2019-05-29    False\n",
              "2019-05-28    False\n",
              "2019-05-27     True\n",
              "dtype: bool"
            ],
            "text/html": [
              "<div>\n",
              "<style scoped>\n",
              "    .dataframe tbody tr th:only-of-type {\n",
              "        vertical-align: middle;\n",
              "    }\n",
              "\n",
              "    .dataframe tbody tr th {\n",
              "        vertical-align: top;\n",
              "    }\n",
              "\n",
              "    .dataframe thead th {\n",
              "        text-align: right;\n",
              "    }\n",
              "</style>\n",
              "<table border=\"1\" class=\"dataframe\">\n",
              "  <thead>\n",
              "    <tr style=\"text-align: right;\">\n",
              "      <th></th>\n",
              "      <th>0</th>\n",
              "    </tr>\n",
              "  </thead>\n",
              "  <tbody>\n",
              "    <tr>\n",
              "      <th>2019-05-31</th>\n",
              "      <td>False</td>\n",
              "    </tr>\n",
              "    <tr>\n",
              "      <th>2019-05-30</th>\n",
              "      <td>True</td>\n",
              "    </tr>\n",
              "    <tr>\n",
              "      <th>2019-05-29</th>\n",
              "      <td>False</td>\n",
              "    </tr>\n",
              "    <tr>\n",
              "      <th>2019-05-28</th>\n",
              "      <td>False</td>\n",
              "    </tr>\n",
              "    <tr>\n",
              "      <th>2019-05-27</th>\n",
              "      <td>True</td>\n",
              "    </tr>\n",
              "  </tbody>\n",
              "</table>\n",
              "</div><br><label><b>dtype:</b> bool</label>"
            ]
          },
          "metadata": {},
          "execution_count": 197
        }
      ]
    },
    {
      "cell_type": "code",
      "source": [
        "close[close>open]"
      ],
      "metadata": {
        "colab": {
          "base_uri": "https://localhost:8080/",
          "height": 147
        },
        "id": "D6pxKsjndxXQ",
        "outputId": "dfbf9ef2-b17a-472b-90b9-b546adf12d41"
      },
      "execution_count": 198,
      "outputs": [
        {
          "output_type": "execute_result",
          "data": {
            "text/plain": [
              "2019-05-30    42550\n",
              "2019-05-27    42650\n",
              "dtype: int64"
            ],
            "text/html": [
              "<div>\n",
              "<style scoped>\n",
              "    .dataframe tbody tr th:only-of-type {\n",
              "        vertical-align: middle;\n",
              "    }\n",
              "\n",
              "    .dataframe tbody tr th {\n",
              "        vertical-align: top;\n",
              "    }\n",
              "\n",
              "    .dataframe thead th {\n",
              "        text-align: right;\n",
              "    }\n",
              "</style>\n",
              "<table border=\"1\" class=\"dataframe\">\n",
              "  <thead>\n",
              "    <tr style=\"text-align: right;\">\n",
              "      <th></th>\n",
              "      <th>0</th>\n",
              "    </tr>\n",
              "  </thead>\n",
              "  <tbody>\n",
              "    <tr>\n",
              "      <th>2019-05-30</th>\n",
              "      <td>42550</td>\n",
              "    </tr>\n",
              "    <tr>\n",
              "      <th>2019-05-27</th>\n",
              "      <td>42650</td>\n",
              "    </tr>\n",
              "  </tbody>\n",
              "</table>\n",
              "</div><br><label><b>dtype:</b> int64</label>"
            ]
          },
          "metadata": {},
          "execution_count": 198
        }
      ]
    }
  ]
}