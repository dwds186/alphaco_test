{
 "cells": [
  {
   "cell_type": "code",
   "execution_count": 2,
   "id": "43e7ea34-b839-4f83-9849-d380eb0719d7",
   "metadata": {},
   "outputs": [
    {
     "name": "stdout",
     "output_type": "stream",
     "text": [
      "             일자     종가    대비   등락률     시가     고가     저가       거래량  \\\n",
      "0    2021/08/13  74400 -2600 -3.38  75800  76000  74100  61270643   \n",
      "1    2021/08/12  77000 -1500 -1.91  77100  78200  76900  42365223   \n",
      "2    2021/08/11  78500 -1700 -2.12  79600  79800  78500  30241137   \n",
      "3    2021/08/10  80200 -1300 -1.60  82300  82400  80100  20362639   \n",
      "4    2021/08/09  81500     0  0.00  81500  82300  80900  15522581   \n",
      "..          ...    ...   ...   ...    ...    ...    ...       ...   \n",
      "122  2021/02/19  82600   500  0.61  82300  82800  81000  25880879   \n",
      "123  2021/02/18  82100 -1100 -1.32  83200  83600  82100  21327683   \n",
      "124  2021/02/17  83200 -1700 -2.00  83900  84200  83000  18307735   \n",
      "125  2021/02/16  84900   700  0.83  84500  86000  84200  20483100   \n",
      "126  2021/02/15  84200  2600  3.19  83800  84500  83300  23529706   \n",
      "\n",
      "              거래대금             시가총액       상장주식수  \n",
      "0    4575267536355  444151821720000  5969782550  \n",
      "1    3276635421700  459673256350000  5969782550  \n",
      "2    2389977254924  468627930175000  5969782550  \n",
      "3    1643107615500  478776560510000  5969782550  \n",
      "4    1267668377900  486537277825000  5969782550  \n",
      "..             ...              ...         ...  \n",
      "122  2121275310450  493104038630000  5969782550  \n",
      "123  1762033944231  490119147355000  5969782550  \n",
      "124  1526409421172  496685908160000  5969782550  \n",
      "125  1740792201903  506834538495000  5969782550  \n",
      "126  1978336504100  502655690710000  5969782550  \n",
      "\n",
      "[127 rows x 11 columns]\n"
     ]
    },
    {
     "name": "stderr",
     "output_type": "stream",
     "text": [
      "C:\\Users\\campus3S013\\Desktop\\alphaco_test\\venv\\Lib\\site-packages\\openpyxl\\styles\\stylesheet.py:237: UserWarning: Workbook contains no default style, apply openpyxl's default\n",
      "  warn(\"Workbook contains no default style, apply openpyxl's default\")\n"
     ]
    }
   ],
   "source": [
    "import pandas as pd\n",
    "\n",
    "\n",
    "df=pd.read_excel('dataset/ss_ex_1.xlsx')\n",
    "\n",
    "\n",
    "print(df)"
   ]
  },
  {
   "cell_type": "markdown",
   "id": "57e7ea95-c77e-442a-9561-871f6e3d41d3",
   "metadata": {},
   "source": [
    "# 파이썬 알기"
   ]
  },
  {
   "cell_type": "markdown",
   "id": "d7349007-fbee-4d85-915a-8d0da308c34c",
   "metadata": {},
   "source": []
  }
 ],
 "metadata": {
  "kernelspec": {
   "display_name": "Python 3 (ipykernel)",
   "language": "python",
   "name": "python3"
  },
  "language_info": {
   "codemirror_mode": {
    "name": "ipython",
    "version": 3
   },
   "file_extension": ".py",
   "mimetype": "text/x-python",
   "name": "python",
   "nbconvert_exporter": "python",
   "pygments_lexer": "ipython3",
   "version": "3.12.6"
  }
 },
 "nbformat": 4,
 "nbformat_minor": 5
}
