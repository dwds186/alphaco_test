{
 "cells": [
  {
   "cell_type": "code",
   "execution_count": null,
   "id": "4476e948-eae7-42dc-8441-712a5586a2e2",
   "metadata": {},
   "outputs": [],
   "source": [
    "#파일 만기기"
   ]
  },
  {
   "cell_type": "code",
   "execution_count": 1,
   "id": "a697eb66-a317-4ff1-901a-ec92ebea0ffd",
   "metadata": {},
   "outputs": [],
   "source": [
    "import os\n",
    "\n",
    "if not os.path.isdir(\"abc\"):\n",
    "    os.mkdir(\"abc\")\n",
    "\n",
    "# 이렇게 하면 abc 이름의 폴더가 만들어집니다."
   ]
  },
  {
   "cell_type": "code",
   "execution_count": 2,
   "id": "ff4cb17e-a8c2-465e-8c45-00e59791f1f0",
   "metadata": {},
   "outputs": [
    {
     "ename": "NameError",
     "evalue": "name 'df' is not defined",
     "output_type": "error",
     "traceback": [
      "\u001b[1;31m---------------------------------------------------------------------------\u001b[0m",
      "\u001b[1;31mNameError\u001b[0m                                 Traceback (most recent call last)",
      "Cell \u001b[1;32mIn[2], line 1\u001b[0m\n\u001b[1;32m----> 1\u001b[0m \u001b[43mdf\u001b[49m\u001b[38;5;241m.\u001b[39mto_csv(\u001b[38;5;124m\"\u001b[39m\u001b[38;5;124mabc/data.csv\u001b[39m\u001b[38;5;124m\"\u001b[39m)\n",
      "\u001b[1;31mNameError\u001b[0m: name 'df' is not defined"
     ]
    }
   ],
   "source": [
    "df.to_csv(\"abc/data.csv\")"
   ]
  },
  {
   "cell_type": "code",
   "execution_count": null,
   "id": "ca09e77b-ca2a-429f-8609-2cf700376f48",
   "metadata": {},
   "outputs": [],
   "source": []
  }
 ],
 "metadata": {
  "kernelspec": {
   "display_name": "Python 3 (ipykernel)",
   "language": "python",
   "name": "python3"
  },
  "language_info": {
   "codemirror_mode": {
    "name": "ipython",
    "version": 3
   },
   "file_extension": ".py",
   "mimetype": "text/x-python",
   "name": "python",
   "nbconvert_exporter": "python",
   "pygments_lexer": "ipython3",
   "version": "3.12.6"
  }
 },
 "nbformat": 4,
 "nbformat_minor": 5
}
