{
  "nbformat": 4,
  "nbformat_minor": 0,
  "metadata": {
    "colab": {
      "provenance": [],
      "authorship_tag": "ABX9TyPcpp90p9daMb0nkjTsniSD",
      "include_colab_link": true
    },
    "kernelspec": {
      "name": "python3",
      "display_name": "Python 3"
    },
    "language_info": {
      "name": "python"
    }
  },
  "cells": [
    {
      "cell_type": "markdown",
      "metadata": {
        "id": "view-in-github",
        "colab_type": "text"
      },
      "source": [
        "<a href=\"https://colab.research.google.com/github/dwds186/alphaco_test/blob/main/20241007/alphaco_241007jaehyun.ipynb\" target=\"_parent\"><img src=\"https://colab.research.google.com/assets/colab-badge.svg\" alt=\"Open In Colab\"/></a>"
      ]
    },
    {
      "cell_type": "code",
      "execution_count": null,
      "metadata": {
        "id": "MA_v07-Yiq0k",
        "colab": {
          "base_uri": "https://localhost:8080/"
        },
        "outputId": "1f0ff4ea-8e71-47a7-965b-89e66147484c"
      },
      "outputs": [
        {
          "output_type": "stream",
          "name": "stdout",
          "text": [
            "Selecting previously unselected package fonts-nanum.\n",
            "(Reading database ... 123620 files and directories currently installed.)\n",
            "Preparing to unpack .../fonts-nanum_20200506-1_all.deb ...\n",
            "Unpacking fonts-nanum (20200506-1) ...\n",
            "Setting up fonts-nanum (20200506-1) ...\n",
            "Processing triggers for fontconfig (2.13.1-4.2ubuntu5) ...\n"
          ]
        }
      ],
      "source": [
        "import sys\n",
        "\n",
        "# Google Colab 환경에서 실행 중인지 확인\n",
        "if 'google.colab' in sys.modules:\n",
        "    # debconf를 Noninteractive 모드로 설정\n",
        "    !echo 'debconf debconf/frontend select Noninteractive' | \\\n",
        "    debconf-set-selections\n",
        "\n",
        "    # fonts-nanum 패키지를 설치\n",
        "    !sudo apt-get -qq -y install fonts-nanum\n",
        "\n",
        "    # Matplotlib의 폰트 매니저 가져오기\n",
        "    import matplotlib.font_manager as fm\n",
        "\n",
        "    # 나눔 폰트의 시스템 경로 찾기\n",
        "    font_files = fm.findSystemFonts(fontpaths=['/usr/share/fonts/truetype/nanum'])\n",
        "\n",
        "    # 찾은 각 나눔 폰트를 Matplotlib 폰트 매니저에 추가\n",
        "    for fpath in font_files:\n",
        "        fm.fontManager.addfont(fpath)"
      ]
    },
    {
      "cell_type": "code",
      "source": [
        "import matplotlib.pyplot as plt\n",
        "\n",
        "plt.rcParams['font.family'] = 'NanumGothic'    #사용 방법1\n",
        "plt.rc('font', family='NanumBarunGothic', size=11) #사용 방법2\n",
        "print(plt.rcParams['font.family'], plt.rcParams['font.size'])   # 폰트확인"
      ],
      "metadata": {
        "colab": {
          "base_uri": "https://localhost:8080/"
        },
        "id": "A3a1PEbZlCAB",
        "outputId": "71601acd-1227-4c00-e522-fa0576e3d93b"
      },
      "execution_count": null,
      "outputs": [
        {
          "output_type": "stream",
          "name": "stdout",
          "text": [
            "['NanumBarunGothic'] 11.0\n"
          ]
        }
      ]
    },
    {
      "cell_type": "code",
      "source": [
        "plt.plot([1, 2, 3])\n",
        "plt.title(\"한글 잘 나옵니까?\")\n",
        "plt.show()"
      ],
      "metadata": {
        "colab": {
          "base_uri": "https://localhost:8080/",
          "height": 455
        },
        "id": "UuHJnKV3lD9b",
        "outputId": "f59ec764-c8b5-495b-8585-1ccc2759ced8"
      },
      "execution_count": null,
      "outputs": [
        {
          "output_type": "display_data",
          "data": {
            "text/plain": [
              "<Figure size 640x480 with 1 Axes>"
            ],
            "image/png": "[encoded data removed]"
          },
          "metadata": {}
        }
      ]
    },
    {
      "cell_type": "code",
      "source": [
        "from google.colab import drive\n",
        "drive.mount(\"/content/drive\")"
      ],
      "metadata": {
        "colab": {
          "base_uri": "https://localhost:8080/"
        },
        "id": "6Nu37hr9lIUi",
        "outputId": "21c225dc-d3fa-4ca1-b23d-3e55da27801b"
      },
      "execution_count": null,
      "outputs": [
        {
          "output_type": "stream",
          "name": "stdout",
          "text": [
            "Mounted at /content/drive\n"
          ]
        }
      ]
    },
    {
      "cell_type": "markdown",
      "source": [
        "# z검정, t 검정\n"
      ],
      "metadata": {
        "id": "dQeQFjk9lTsR"
      }
    },
    {
      "cell_type": "code",
      "source": [
        "import pandas as pd\n",
        "df = pd.DataFrame({\"grades\" : [50, 60, 60, 64, 66, 66, 67, 69, 70, 74, 76, 76, 77, 79, 79, 79, 81, 82, 82, 89]})\n",
        "df.head()"
      ],
      "metadata": {
        "colab": {
          "base_uri": "https://localhost:8080/",
          "height": 206
        },
        "id": "Y2STaKIUlRoF",
        "outputId": "64384440-0883-4d50-ec1d-bc467c8a39f8"
      },
      "execution_count": null,
      "outputs": [
        {
          "output_type": "execute_result",
          "data": {
            "text/plain": [
              "   grades\n",
              "0      50\n",
              "1      60\n",
              "2      60\n",
              "3      64\n",
              "4      66"
            ],
            "text/html": [
              "\n",
              "  <div id=\"df-68d83171-6616-4e0d-b441-62691f17ae3e\" class=\"colab-df-container\">\n",
              "    <div>\n",
              "<style scoped>\n",
              "    .dataframe tbody tr th:only-of-type {\n",
              "        vertical-align: middle;\n",
              "    }\n",
              "\n",
              "    .dataframe tbody tr th {\n",
              "        vertical-align: top;\n",
              "    }\n",
              "\n",
              "    .dataframe thead th {\n",
              "        text-align: right;\n",
              "    }\n",
              "</style>\n",
              "<table border=\"1\" class=\"dataframe\">\n",
              "  <thead>\n",
              "    <tr style=\"text-align: right;\">\n",
              "      <th></th>\n",
              "      <th>grades</th>\n",
              "    </tr>\n",
              "  </thead>\n",
              "  <tbody>\n",
              "    <tr>\n",
              "      <th>0</th>\n",
              "      <td>50</td>\n",
              "    </tr>\n",
              "    <tr>\n",
              "      <th>1</th>\n",
              "      <td>60</td>\n",
              "    </tr>\n",
              "    <tr>\n",
              "      <th>2</th>\n",
              "      <td>60</td>\n",
              "    </tr>\n",
              "    <tr>\n",
              "      <th>3</th>\n",
              "      <td>64</td>\n",
              "    </tr>\n",
              "    <tr>\n",
              "      <th>4</th>\n",
              "      <td>66</td>\n",
              "    </tr>\n",
              "  </tbody>\n",
              "</table>\n",
              "</div>\n",
              "    <div class=\"colab-df-buttons\">\n",
              "\n",
              "  <div class=\"colab-df-container\">\n",
              "    <button class=\"colab-df-convert\" onclick=\"convertToInteractive('df-68d83171-6616-4e0d-b441-62691f17ae3e')\"\n",
              "            title=\"Convert this dataframe to an interactive table.\"\n",
              "            style=\"display:none;\">\n",
              "\n",
              "  <svg xmlns=\"http://www.w3.org/2000/svg\" height=\"24px\" viewBox=\"0 -960 960 960\">\n",
              "    <path d=\"M120-120v-720h720v720H120Zm60-500h600v-160H180v160Zm220 220h160v-160H400v160Zm0 220h160v-160H400v160ZM180-400h160v-160H180v160Zm440 0h160v-160H620v160ZM180-180h160v-160H180v160Zm440 0h160v-160H620v160Z\"/>\n",
              "  </svg>\n",
              "    </button>\n",
              "\n",
              "  <style>\n",
              "    .colab-df-container {\n",
              "      display:flex;\n",
              "      gap: 12px;\n",
              "    }\n",
              "\n",
              "    .colab-df-convert {\n",
              "      background-color: #E8F0FE;\n",
              "      border: none;\n",
              "      border-radius: 50%;\n",
              "      cursor: pointer;\n",
              "      display: none;\n",
              "      fill: #1967D2;\n",
              "      height: 32px;\n",
              "      padding: 0 0 0 0;\n",
              "      width: 32px;\n",
              "    }\n",
              "\n",
              "    .colab-df-convert:hover {\n",
              "      background-color: #E2EBFA;\n",
              "      box-shadow: 0px 1px 2px rgba(60, 64, 67, 0.3), 0px 1px 3px 1px rgba(60, 64, 67, 0.15);\n",
              "      fill: #174EA6;\n",
              "    }\n",
              "\n",
              "    .colab-df-buttons div {\n",
              "      margin-bottom: 4px;\n",
              "    }\n",
              "\n",
              "    [theme=dark] .colab-df-convert {\n",
              "      background-color: #3B4455;\n",
              "      fill: #D2E3FC;\n",
              "    }\n",
              "\n",
              "    [theme=dark] .colab-df-convert:hover {\n",
              "      background-color: #434B5C;\n",
              "      box-shadow: 0px 1px 3px 1px rgba(0, 0, 0, 0.15);\n",
              "      filter: drop-shadow(0px 1px 2px rgba(0, 0, 0, 0.3));\n",
              "      fill: #FFFFFF;\n",
              "    }\n",
              "  </style>\n",
              "\n",
              "    <script>\n",
              "      const buttonEl =\n",
              "        document.querySelector('#df-68d83171-6616-4e0d-b441-62691f17ae3e button.colab-df-convert');\n",
              "      buttonEl.style.display =\n",
              "        google.colab.kernel.accessAllowed ? 'block' : 'none';\n",
              "\n",
              "      async function convertToInteractive(key) {\n",
              "        const element = document.querySelector('#df-68d83171-6616-4e0d-b441-62691f17ae3e');\n",
              "        const dataTable =\n",
              "          await google.colab.kernel.invokeFunction('convertToInteractive',\n",
              "                                                    [key], {});\n",
              "        if (!dataTable) return;\n",
              "\n",
              "        const docLinkHtml = 'Like what you see? Visit the ' +\n",
              "          '<a target=\"_blank\" href=https://colab.research.google.com/notebooks/data_table.ipynb>data table notebook</a>'\n",
              "          + ' to learn more about interactive tables.';\n",
              "        element.innerHTML = '';\n",
              "        dataTable['output_type'] = 'display_data';\n",
              "        await google.colab.output.renderOutput(dataTable, element);\n",
              "        const docLink = document.createElement('div');\n",
              "        docLink.innerHTML = docLinkHtml;\n",
              "        element.appendChild(docLink);\n",
              "      }\n",
              "    </script>\n",
              "  </div>\n",
              "\n",
              "\n",
              "<div id=\"df-7f1a134f-5814-472e-b5ed-b112c1622048\">\n",
              "  <button class=\"colab-df-quickchart\" onclick=\"quickchart('df-7f1a134f-5814-472e-b5ed-b112c1622048')\"\n",
              "            title=\"Suggest charts\"\n",
              "            style=\"display:none;\">\n",
              "\n",
              "<svg xmlns=\"http://www.w3.org/2000/svg\" height=\"24px\"viewBox=\"0 0 24 24\"\n",
              "     width=\"24px\">\n",
              "    <g>\n",
              "        <path d=\"M19 3H5c-1.1 0-2 .9-2 2v14c0 1.1.9 2 2 2h14c1.1 0 2-.9 2-2V5c0-1.1-.9-2-2-2zM9 17H7v-7h2v7zm4 0h-2V7h2v10zm4 0h-2v-4h2v4z\"/>\n",
              "    </g>\n",
              "</svg>\n",
              "  </button>\n",
              "\n",
              "<style>\n",
              "  .colab-df-quickchart {\n",
              "      --bg-color: #E8F0FE;\n",
              "      --fill-color: #1967D2;\n",
              "      --hover-bg-color: #E2EBFA;\n",
              "      --hover-fill-color: #174EA6;\n",
              "      --disabled-fill-color: #AAA;\n",
              "      --disabled-bg-color: #DDD;\n",
              "  }\n",
              "\n",
              "  [theme=dark] .colab-df-quickchart {\n",
              "      --bg-color: #3B4455;\n",
              "      --fill-color: #D2E3FC;\n",
              "      --hover-bg-color: #434B5C;\n",
              "      --hover-fill-color: #FFFFFF;\n",
              "      --disabled-bg-color: #3B4455;\n",
              "      --disabled-fill-color: #666;\n",
              "  }\n",
              "\n",
              "  .colab-df-quickchart {\n",
              "    background-color: var(--bg-color);\n",
              "    border: none;\n",
              "    border-radius: 50%;\n",
              "    cursor: pointer;\n",
              "    display: none;\n",
              "    fill: var(--fill-color);\n",
              "    height: 32px;\n",
              "    padding: 0;\n",
              "    width: 32px;\n",
              "  }\n",
              "\n",
              "  .colab-df-quickchart:hover {\n",
              "    background-color: var(--hover-bg-color);\n",
              "    box-shadow: 0 1px 2px rgba(60, 64, 67, 0.3), 0 1px 3px 1px rgba(60, 64, 67, 0.15);\n",
              "    fill: var(--button-hover-fill-color);\n",
              "  }\n",
              "\n",
              "  .colab-df-quickchart-complete:disabled,\n",
              "  .colab-df-quickchart-complete:disabled:hover {\n",
              "    background-color: var(--disabled-bg-color);\n",
              "    fill: var(--disabled-fill-color);\n",
              "    box-shadow: none;\n",
              "  }\n",
              "\n",
              "  .colab-df-spinner {\n",
              "    border: 2px solid var(--fill-color);\n",
              "    border-color: transparent;\n",
              "    border-bottom-color: var(--fill-color);\n",
              "    animation:\n",
              "      spin 1s steps(1) infinite;\n",
              "  }\n",
              "\n",
              "  @keyframes spin {\n",
              "    0% {\n",
              "      border-color: transparent;\n",
              "      border-bottom-color: var(--fill-color);\n",
              "      border-left-color: var(--fill-color);\n",
              "    }\n",
              "    20% {\n",
              "      border-color: transparent;\n",
              "      border-left-color: var(--fill-color);\n",
              "      border-top-color: var(--fill-color);\n",
              "    }\n",
              "    30% {\n",
              "      border-color: transparent;\n",
              "      border-left-color: var(--fill-color);\n",
              "      border-top-color: var(--fill-color);\n",
              "      border-right-color: var(--fill-color);\n",
              "    }\n",
              "    40% {\n",
              "      border-color: transparent;\n",
              "      border-right-color: var(--fill-color);\n",
              "      border-top-color: var(--fill-color);\n",
              "    }\n",
              "    60% {\n",
              "      border-color: transparent;\n",
              "      border-right-color: var(--fill-color);\n",
              "    }\n",
              "    80% {\n",
              "      border-color: transparent;\n",
              "      border-right-color: var(--fill-color);\n",
              "      border-bottom-color: var(--fill-color);\n",
              "    }\n",
              "    90% {\n",
              "      border-color: transparent;\n",
              "      border-bottom-color: var(--fill-color);\n",
              "    }\n",
              "  }\n",
              "</style>\n",
              "\n",
              "  <script>\n",
              "    async function quickchart(key) {\n",
              "      const quickchartButtonEl =\n",
              "        document.querySelector('#' + key + ' button');\n",
              "      quickchartButtonEl.disabled = true;  // To prevent multiple clicks.\n",
              "      quickchartButtonEl.classList.add('colab-df-spinner');\n",
              "      try {\n",
              "        const charts = await google.colab.kernel.invokeFunction(\n",
              "            'suggestCharts', [key], {});\n",
              "      } catch (error) {\n",
              "        console.error('Error during call to suggestCharts:', error);\n",
              "      }\n",
              "      quickchartButtonEl.classList.remove('colab-df-spinner');\n",
              "      quickchartButtonEl.classList.add('colab-df-quickchart-complete');\n",
              "    }\n",
              "    (() => {\n",
              "      let quickchartButtonEl =\n",
              "        document.querySelector('#df-7f1a134f-5814-472e-b5ed-b112c1622048 button');\n",
              "      quickchartButtonEl.style.display =\n",
              "        google.colab.kernel.accessAllowed ? 'block' : 'none';\n",
              "    })();\n",
              "  </script>\n",
              "</div>\n",
              "\n",
              "    </div>\n",
              "  </div>\n"
            ],
            "application/vnd.google.colaboratory.intrinsic+json": {
              "type": "dataframe",
              "variable_name": "df",
              "summary": "{\n  \"name\": \"df\",\n  \"rows\": 20,\n  \"fields\": [\n    {\n      \"column\": \"grades\",\n      \"properties\": {\n        \"dtype\": \"number\",\n        \"std\": 9,\n        \"min\": 50,\n        \"max\": 89,\n        \"num_unique_values\": 14,\n        \"samples\": [\n          77,\n          81,\n          50\n        ],\n        \"semantic_type\": \"\",\n        \"description\": \"\"\n      }\n    }\n  ]\n}"
            }
          },
          "metadata": {},
          "execution_count": 5
        }
      ]
    },
    {
      "cell_type": "markdown",
      "source": [
        "-모수의 표준편차는 9.5로 알고 있음"
      ],
      "metadata": {
        "id": "-GwR8EUAlXyE"
      }
    },
    {
      "cell_type": "code",
      "source": [
        "import matplotlib.pyplot as plt\n",
        "import numpy as np\n",
        "import seaborn as sns\n",
        "import scipy.stats as stats\n",
        "\n",
        "mu = 67.5 #모수의 평균\n",
        "sigma = 9.5 #모수의 표준편차\n",
        "x = np.linspace(mu - 3*sigma, mu + 3*sigma, 100)\n",
        "y = 100* stats.norm.pdf(x, mu, sigma)\n",
        "\n",
        "fig, ax = plt.subplots()\n",
        "ax1 = sns.histplot(df['grades'])\n",
        "\n",
        "ax2 = sns.lineplot(x=x,y=y, color='black')\n",
        "\n",
        "plt.ylim(bottom=-1)\n",
        "\n",
        "ax1.set_frame_on(False)\n",
        "ax1.axes.get_yaxis().set_visible(False)\n",
        "\n",
        "plt.show()"
      ],
      "metadata": {
        "colab": {
          "base_uri": "https://localhost:8080/",
          "height": 453
        },
        "id": "ygiw3EsxlbBQ",
        "outputId": "4a41bd44-c382-4f56-a41a-805ac05d925a"
      },
      "execution_count": null,
      "outputs": [
        {
          "output_type": "display_data",
          "data": {
            "text/plain": [
              "<Figure size 640x480 with 1 Axes>"
            ],
            "image/png": "[encoded data removed]"
          },
          "metadata": {}
        }
      ]
    },
    {
      "cell_type": "markdown",
      "source": [
        "## 가설 수립\n",
        "- ㅇㅇㅇ라면, ~일거에요. (이런식으로 가설 수립하면 안 돼요!)\n",
        "\n",
        "\n",
        "- 귀무가설 : 평균의 차이가 없다!\n",
        "- 대립가설 : 평균의 차이가 있다!\n",
        "\n",
        "\n",
        "귀무가설\n",
        "모집단의 수학점수 평균과 1반의 수학점수 평균차이는 없다!\n",
        "\n",
        "대립가설\n",
        "모집단의 수학점수 평균과 1반의 수학점수 평균차이는 있다!"
      ],
      "metadata": {
        "id": "7OLi0eG2mabT"
      }
    },
    {
      "cell_type": "markdown",
      "source": [
        "## z-score 구하기"
      ],
      "metadata": {
        "id": "uudvIyCjnbV2"
      }
    },
    {
      "cell_type": "code",
      "source": [
        "import math\n",
        "sample_mean = df['grades'].mean()\n",
        "sd_true = 9.5\n",
        "mu_null = 67.5\n",
        "N = len(df['grades'])\n",
        "sem_true = sd_true / math.sqrt(N)\n",
        "z_score = (sample_mean - mu_null) / sem_true\n",
        "z_score # 통계량"
      ],
      "metadata": {
        "colab": {
          "base_uri": "https://localhost:8080/"
        },
        "id": "gDeP2doVndW2",
        "outputId": "57beafe7-7e63-43a2-c582-0cae057e2b64"
      },
      "execution_count": null,
      "outputs": [
        {
          "output_type": "execute_result",
          "data": {
            "text/plain": [
              "2.259605535157681"
            ]
          },
          "metadata": {},
          "execution_count": 7
        }
      ]
    },
    {
      "cell_type": "markdown",
      "source": [
        "## p-value\n"
      ],
      "metadata": {
        "id": "D6kiwroaoFF4"
      }
    },
    {
      "cell_type": "code",
      "source": [
        "from statistics import NormalDist\n",
        "\n",
        "lower_area = NormalDist().cdf(-z_score)\n",
        "upper_area = lower_area\n",
        "p_value = lower_area + upper_area\n",
        "p_value"
      ],
      "metadata": {
        "colab": {
          "base_uri": "https://localhost:8080/"
        },
        "id": "ILrDWXWeoHxc",
        "outputId": "6ab24ba4-6930-447a-a30b-8f04891a4169"
      },
      "execution_count": null,
      "outputs": [
        {
          "output_type": "execute_result",
          "data": {
            "text/plain": [
              "0.023845743764939864"
            ]
          },
          "metadata": {},
          "execution_count": 8
        }
      ]
    },
    {
      "cell_type": "markdown",
      "source": [
        "귀무가설(평균 차이 없어!) 기각 ==> 대립가설(평균 차이 있어!) 채택\n",
        "\n",
        "이렇게 생각하면 편해!\n",
        "\n",
        "\n",
        "냉정하게 말하면 신뢰도 구간은 95로 할지 뭐로 할지 그냥 연구자 본인이 정하면 됨\n",
        "표준정규분포표를 통해서 보통은 계산을 하지\n",
        "95%로 하는 것이 일반적이어서 표준화된 z값으로 1.96 뭐 이렇게 계산 함"
      ],
      "metadata": {
        "id": "0CA3rWYAsFBB"
      }
    },
    {
      "cell_type": "markdown",
      "source": [
        "\n",
        "\n",
        "![image.png](data:image/png;base64,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)"
      ],
      "metadata": {
        "id": "HdShwPlTq_G2"
      }
    },
    {
      "cell_type": "markdown",
      "source": [
        "잠깐 쉬었다가 t검정 들어갑니다"
      ],
      "metadata": {
        "id": "IheN9aXzsRUY"
      }
    },
    {
      "cell_type": "markdown",
      "source": [
        "# t-검정의 종류\n",
        "\n",
        "- One-Sample t-test (일표본 단일검정)\n",
        "- Paired t-test (대응표본)\n",
        "- Independent t-test(두 평균의 비교, 독립검정)"
      ],
      "metadata": {
        "id": "Uj0q1WFrwg8d"
      }
    },
    {
      "cell_type": "markdown",
      "source": [
        "## One-Sample t-test (일표본 단일검정)\n",
        "- 일표본 단일검정\n",
        "- z-검정과의 차이점\n",
        " + 모집단의 표준편차를 모름\n",
        " + 모집단의 평균을 알고 있음\n",
        " + 자유도 : N-1 (단, z-검정은 N)\n",
        "\n",
        " (사실 논리적으로 보면 이상할 수 있음...)\n",
        "\n",
        "- 모집단의 평균 : 사회적인 통념, 알려진 사실\n",
        "(ex. 초코칩 과자 중량이 포장지 겉에 45g이라고 적혀 있음,\n",
        "과거에 우리 회사 제품에 샘플 사이즈는 몇 이었음,\n",
        "10년 전 남자 평균 키는 x cm였음 등\n",
        ")\n",
        "\n",
        "- 가설설정\n",
        " + 귀무가설 : 모집단의 평균과 표본의 평균은 같다\n",
        "   - 오리온 초코칩의 무게중량 45g이 맞을 것이야!\n",
        "\n",
        " + 대립가설 : 모집단의 평균과 표본의 평균은 다르다\n",
        "   - 오리온 초코칩의 무게중량 45g이 아닐거야!\n",
        "\n",
        "\n",
        "\n",
        "\n",
        "\n",
        "\n",
        "\n",
        "\n"
      ],
      "metadata": {
        "id": "QCeSUKZKw6CY"
      }
    },
    {
      "cell_type": "code",
      "source": [
        "from scipy.stats import ttest_1samp\n",
        "\n",
        "t, p = ttest_1samp(a=df['grades'], popmean=67.5)\n",
        "t,p\n",
        "\n",
        "#위에 있는 t,p와는 값이 아주 미세하지만 차이가 있을 것입니다.\n"
      ],
      "metadata": {
        "colab": {
          "base_uri": "https://localhost:8080/"
        },
        "id": "-7e-rlql1Qn2",
        "outputId": "a1046690-63dc-44c8-dd57-611a69cc1938"
      },
      "execution_count": null,
      "outputs": [
        {
          "output_type": "execute_result",
          "data": {
            "text/plain": [
              "(2.25471286700693, 0.03614521878144544)"
            ]
          },
          "metadata": {},
          "execution_count": 9
        }
      ]
    },
    {
      "cell_type": "code",
      "source": [
        "from scipy.stats import ttest_1samp\n",
        "\n",
        "t, p = ttest_1samp(a=df['grades'], popmean=71)\n",
        "t,p\n",
        "#popmean을 임의로 71로 해서 코드 한 번 돌려볼게요\n",
        "\n",
        "'''\n",
        "sample mean은 72.3이니까\n",
        "단순하게 비교하면 72.3과 71은 다름\n",
        "\n",
        "샘플 평균과 popmean이 달라 보이지만...\n",
        "이건 귀무가설 채택의 영역임\n",
        "왜냐하면 t의 값이 0.61xxxx니까\n",
        "\n",
        "그래서 지금은 결론을 내릴 수가 없는 상황이에요\n",
        "\n",
        "조사 중이라고 하고 넘어가야 해...\n",
        "print(t,p)\n",
        "'''\n",
        "\n",
        "'''\n",
        "분석의 마지막은 결국은 보고서 작성이에요...\n",
        "\n",
        "\n",
        "'''\n",
        "\n",
        "print(t,p)"
      ],
      "metadata": {
        "colab": {
          "base_uri": "https://localhost:8080/"
        },
        "id": "QQj2i8S22Oq8",
        "outputId": "8eba5fc8-92e2-4aab-e2a0-3ccad47e42b9"
      },
      "execution_count": null,
      "outputs": [
        {
          "output_type": "stream",
          "name": "stdout",
          "text": [
            "0.6106514014810425 0.5486662606700853\n"
          ]
        }
      ]
    },
    {
      "cell_type": "markdown",
      "source": [
        "- 신뢰구간 추정\n",
        "(신뢰구간을 구해서 구간추정하는 것임)\n"
      ],
      "metadata": {
        "id": "qeEG_Y6L3GVQ"
      }
    },
    {
      "cell_type": "code",
      "source": [
        "from scipy import stats\n",
        "\n",
        "confidence_level = 0.95\n",
        "degrees_freedom = len(df['grades'])-1\n",
        "sample_mean = df['grades'].mean()\n",
        "sample_standard_error = df['grades'].sem()\n",
        "\n",
        "confidence_interval = stats.t.interval(confidence_level, degrees_freedom, sample_mean, sample_standard_error)\n",
        "'''\n",
        "(67.84421513791415, 76.75578486208585) 신뢰구간은 이렇게 나옴\n",
        "\n",
        "해석하자면...\n",
        "sample에 따라서 평균보다 높을 수도 있고 낮을 수도 있음\n",
        "\n",
        "\n",
        "\n",
        "'''\n",
        "\n",
        "confidence_interval"
      ],
      "metadata": {
        "colab": {
          "base_uri": "https://localhost:8080/"
        },
        "id": "zJv6Fzq13Qki",
        "outputId": "9d648629-02db-4734-dfc3-9e695709faf1"
      },
      "execution_count": null,
      "outputs": [
        {
          "output_type": "execute_result",
          "data": {
            "text/plain": [
              "(67.84421513791415, 76.75578486208585)"
            ]
          },
          "metadata": {},
          "execution_count": 12
        }
      ]
    },
    {
      "cell_type": "code",
      "source": [
        "ttest_1samp(a=df['grades'], popmean=71).confidence_interval()\n",
        "\n",
        "# 이렇게 메서드 하나만 서서 간단하게 끝낼 수 있음\n",
        "#(67.84421513791415, 76.75578486208585) 신뢰구간은 이렇게 나옴\n",
        "# 같은 수치\n",
        "# ConfidenceInterval(low=67.84421513791415, high=76.75578486208585)"
      ],
      "metadata": {
        "colab": {
          "base_uri": "https://localhost:8080/"
        },
        "id": "Sn93UwHy3_Q-",
        "outputId": "8ec39dc7-ec94-42a2-ac9c-38f9946931a6"
      },
      "execution_count": null,
      "outputs": [
        {
          "output_type": "execute_result",
          "data": {
            "text/plain": [
              "ConfidenceInterval(low=67.84421513791415, high=76.75578486208585)"
            ]
          },
          "metadata": {},
          "execution_count": 14
        }
      ]
    },
    {
      "cell_type": "markdown",
      "source": [
        "## t-검정 (independent t-test)\n",
        "\n",
        "- 가정 만족 확인 : 정규성과 등분산성 검정\n",
        "- 정규성의 가설\n",
        "  + 귀무가설 : 데이터가 정규분포를 만족한다.\n",
        "  + 대립가설 : 데이터가 정규분포를 이루고 있지 않다.\n",
        "\n",
        "- 등분산성 가설\n",
        "  + 귀무가설 : 두 그룹의 분산이 같다.\n",
        "  + 대립가설 : 두 그룹의 분산이 다르다.\n",
        "\n",
        "- t-검정 가설검정\n",
        "\n"
      ],
      "metadata": {
        "id": "6FBWTAhjvo1W"
      }
    },
    {
      "cell_type": "code",
      "source": [
        "import seaborn as sns\n",
        "import pandas as pd\n",
        "\n",
        "tips=sns.load_dataset(\"tips\")\n",
        "tips.head()"
      ],
      "metadata": {
        "colab": {
          "base_uri": "https://localhost:8080/",
          "height": 206
        },
        "id": "ZpAGvDA10kVv",
        "outputId": "f7d04619-1f70-4ab5-851b-9a108d815207"
      },
      "execution_count": 2,
      "outputs": [
        {
          "output_type": "execute_result",
          "data": {
            "text/plain": [
              "   total_bill   tip     sex smoker  day    time  size\n",
              "0       16.99  1.01  Female     No  Sun  Dinner     2\n",
              "1       10.34  1.66    Male     No  Sun  Dinner     3\n",
              "2       21.01  3.50    Male     No  Sun  Dinner     3\n",
              "3       23.68  3.31    Male     No  Sun  Dinner     2\n",
              "4       24.59  3.61  Female     No  Sun  Dinner     4"
            ],
            "text/html": [
              "\n",
              "  <div id=\"df-c033f948-4219-422e-897a-9ac4cad07c01\" class=\"colab-df-container\">\n",
              "    <div>\n",
              "<style scoped>\n",
              "    .dataframe tbody tr th:only-of-type {\n",
              "        vertical-align: middle;\n",
              "    }\n",
              "\n",
              "    .dataframe tbody tr th {\n",
              "        vertical-align: top;\n",
              "    }\n",
              "\n",
              "    .dataframe thead th {\n",
              "        text-align: right;\n",
              "    }\n",
              "</style>\n",
              "<table border=\"1\" class=\"dataframe\">\n",
              "  <thead>\n",
              "    <tr style=\"text-align: right;\">\n",
              "      <th></th>\n",
              "      <th>total_bill</th>\n",
              "      <th>tip</th>\n",
              "      <th>sex</th>\n",
              "      <th>smoker</th>\n",
              "      <th>day</th>\n",
              "      <th>time</th>\n",
              "      <th>size</th>\n",
              "    </tr>\n",
              "  </thead>\n",
              "  <tbody>\n",
              "    <tr>\n",
              "      <th>0</th>\n",
              "      <td>16.99</td>\n",
              "      <td>1.01</td>\n",
              "      <td>Female</td>\n",
              "      <td>No</td>\n",
              "      <td>Sun</td>\n",
              "      <td>Dinner</td>\n",
              "      <td>2</td>\n",
              "    </tr>\n",
              "    <tr>\n",
              "      <th>1</th>\n",
              "      <td>10.34</td>\n",
              "      <td>1.66</td>\n",
              "      <td>Male</td>\n",
              "      <td>No</td>\n",
              "      <td>Sun</td>\n",
              "      <td>Dinner</td>\n",
              "      <td>3</td>\n",
              "    </tr>\n",
              "    <tr>\n",
              "      <th>2</th>\n",
              "      <td>21.01</td>\n",
              "      <td>3.50</td>\n",
              "      <td>Male</td>\n",
              "      <td>No</td>\n",
              "      <td>Sun</td>\n",
              "      <td>Dinner</td>\n",
              "      <td>3</td>\n",
              "    </tr>\n",
              "    <tr>\n",
              "      <th>3</th>\n",
              "      <td>23.68</td>\n",
              "      <td>3.31</td>\n",
              "      <td>Male</td>\n",
              "      <td>No</td>\n",
              "      <td>Sun</td>\n",
              "      <td>Dinner</td>\n",
              "      <td>2</td>\n",
              "    </tr>\n",
              "    <tr>\n",
              "      <th>4</th>\n",
              "      <td>24.59</td>\n",
              "      <td>3.61</td>\n",
              "      <td>Female</td>\n",
              "      <td>No</td>\n",
              "      <td>Sun</td>\n",
              "      <td>Dinner</td>\n",
              "      <td>4</td>\n",
              "    </tr>\n",
              "  </tbody>\n",
              "</table>\n",
              "</div>\n",
              "    <div class=\"colab-df-buttons\">\n",
              "\n",
              "  <div class=\"colab-df-container\">\n",
              "    <button class=\"colab-df-convert\" onclick=\"convertToInteractive('df-c033f948-4219-422e-897a-9ac4cad07c01')\"\n",
              "            title=\"Convert this dataframe to an interactive table.\"\n",
              "            style=\"display:none;\">\n",
              "\n",
              "  <svg xmlns=\"http://www.w3.org/2000/svg\" height=\"24px\" viewBox=\"0 -960 960 960\">\n",
              "    <path d=\"M120-120v-720h720v720H120Zm60-500h600v-160H180v160Zm220 220h160v-160H400v160Zm0 220h160v-160H400v160ZM180-400h160v-160H180v160Zm440 0h160v-160H620v160ZM180-180h160v-160H180v160Zm440 0h160v-160H620v160Z\"/>\n",
              "  </svg>\n",
              "    </button>\n",
              "\n",
              "  <style>\n",
              "    .colab-df-container {\n",
              "      display:flex;\n",
              "      gap: 12px;\n",
              "    }\n",
              "\n",
              "    .colab-df-convert {\n",
              "      background-color: #E8F0FE;\n",
              "      border: none;\n",
              "      border-radius: 50%;\n",
              "      cursor: pointer;\n",
              "      display: none;\n",
              "      fill: #1967D2;\n",
              "      height: 32px;\n",
              "      padding: 0 0 0 0;\n",
              "      width: 32px;\n",
              "    }\n",
              "\n",
              "    .colab-df-convert:hover {\n",
              "      background-color: #E2EBFA;\n",
              "      box-shadow: 0px 1px 2px rgba(60, 64, 67, 0.3), 0px 1px 3px 1px rgba(60, 64, 67, 0.15);\n",
              "      fill: #174EA6;\n",
              "    }\n",
              "\n",
              "    .colab-df-buttons div {\n",
              "      margin-bottom: 4px;\n",
              "    }\n",
              "\n",
              "    [theme=dark] .colab-df-convert {\n",
              "      background-color: #3B4455;\n",
              "      fill: #D2E3FC;\n",
              "    }\n",
              "\n",
              "    [theme=dark] .colab-df-convert:hover {\n",
              "      background-color: #434B5C;\n",
              "      box-shadow: 0px 1px 3px 1px rgba(0, 0, 0, 0.15);\n",
              "      filter: drop-shadow(0px 1px 2px rgba(0, 0, 0, 0.3));\n",
              "      fill: #FFFFFF;\n",
              "    }\n",
              "  </style>\n",
              "\n",
              "    <script>\n",
              "      const buttonEl =\n",
              "        document.querySelector('#df-c033f948-4219-422e-897a-9ac4cad07c01 button.colab-df-convert');\n",
              "      buttonEl.style.display =\n",
              "        google.colab.kernel.accessAllowed ? 'block' : 'none';\n",
              "\n",
              "      async function convertToInteractive(key) {\n",
              "        const element = document.querySelector('#df-c033f948-4219-422e-897a-9ac4cad07c01');\n",
              "        const dataTable =\n",
              "          await google.colab.kernel.invokeFunction('convertToInteractive',\n",
              "                                                    [key], {});\n",
              "        if (!dataTable) return;\n",
              "\n",
              "        const docLinkHtml = 'Like what you see? Visit the ' +\n",
              "          '<a target=\"_blank\" href=https://colab.research.google.com/notebooks/data_table.ipynb>data table notebook</a>'\n",
              "          + ' to learn more about interactive tables.';\n",
              "        element.innerHTML = '';\n",
              "        dataTable['output_type'] = 'display_data';\n",
              "        await google.colab.output.renderOutput(dataTable, element);\n",
              "        const docLink = document.createElement('div');\n",
              "        docLink.innerHTML = docLinkHtml;\n",
              "        element.appendChild(docLink);\n",
              "      }\n",
              "    </script>\n",
              "  </div>\n",
              "\n",
              "\n",
              "<div id=\"df-7f192c29-1860-4856-beff-2caecd695389\">\n",
              "  <button class=\"colab-df-quickchart\" onclick=\"quickchart('df-7f192c29-1860-4856-beff-2caecd695389')\"\n",
              "            title=\"Suggest charts\"\n",
              "            style=\"display:none;\">\n",
              "\n",
              "<svg xmlns=\"http://www.w3.org/2000/svg\" height=\"24px\"viewBox=\"0 0 24 24\"\n",
              "     width=\"24px\">\n",
              "    <g>\n",
              "        <path d=\"M19 3H5c-1.1 0-2 .9-2 2v14c0 1.1.9 2 2 2h14c1.1 0 2-.9 2-2V5c0-1.1-.9-2-2-2zM9 17H7v-7h2v7zm4 0h-2V7h2v10zm4 0h-2v-4h2v4z\"/>\n",
              "    </g>\n",
              "</svg>\n",
              "  </button>\n",
              "\n",
              "<style>\n",
              "  .colab-df-quickchart {\n",
              "      --bg-color: #E8F0FE;\n",
              "      --fill-color: #1967D2;\n",
              "      --hover-bg-color: #E2EBFA;\n",
              "      --hover-fill-color: #174EA6;\n",
              "      --disabled-fill-color: #AAA;\n",
              "      --disabled-bg-color: #DDD;\n",
              "  }\n",
              "\n",
              "  [theme=dark] .colab-df-quickchart {\n",
              "      --bg-color: #3B4455;\n",
              "      --fill-color: #D2E3FC;\n",
              "      --hover-bg-color: #434B5C;\n",
              "      --hover-fill-color: #FFFFFF;\n",
              "      --disabled-bg-color: #3B4455;\n",
              "      --disabled-fill-color: #666;\n",
              "  }\n",
              "\n",
              "  .colab-df-quickchart {\n",
              "    background-color: var(--bg-color);\n",
              "    border: none;\n",
              "    border-radius: 50%;\n",
              "    cursor: pointer;\n",
              "    display: none;\n",
              "    fill: var(--fill-color);\n",
              "    height: 32px;\n",
              "    padding: 0;\n",
              "    width: 32px;\n",
              "  }\n",
              "\n",
              "  .colab-df-quickchart:hover {\n",
              "    background-color: var(--hover-bg-color);\n",
              "    box-shadow: 0 1px 2px rgba(60, 64, 67, 0.3), 0 1px 3px 1px rgba(60, 64, 67, 0.15);\n",
              "    fill: var(--button-hover-fill-color);\n",
              "  }\n",
              "\n",
              "  .colab-df-quickchart-complete:disabled,\n",
              "  .colab-df-quickchart-complete:disabled:hover {\n",
              "    background-color: var(--disabled-bg-color);\n",
              "    fill: var(--disabled-fill-color);\n",
              "    box-shadow: none;\n",
              "  }\n",
              "\n",
              "  .colab-df-spinner {\n",
              "    border: 2px solid var(--fill-color);\n",
              "    border-color: transparent;\n",
              "    border-bottom-color: var(--fill-color);\n",
              "    animation:\n",
              "      spin 1s steps(1) infinite;\n",
              "  }\n",
              "\n",
              "  @keyframes spin {\n",
              "    0% {\n",
              "      border-color: transparent;\n",
              "      border-bottom-color: var(--fill-color);\n",
              "      border-left-color: var(--fill-color);\n",
              "    }\n",
              "    20% {\n",
              "      border-color: transparent;\n",
              "      border-left-color: var(--fill-color);\n",
              "      border-top-color: var(--fill-color);\n",
              "    }\n",
              "    30% {\n",
              "      border-color: transparent;\n",
              "      border-left-color: var(--fill-color);\n",
              "      border-top-color: var(--fill-color);\n",
              "      border-right-color: var(--fill-color);\n",
              "    }\n",
              "    40% {\n",
              "      border-color: transparent;\n",
              "      border-right-color: var(--fill-color);\n",
              "      border-top-color: var(--fill-color);\n",
              "    }\n",
              "    60% {\n",
              "      border-color: transparent;\n",
              "      border-right-color: var(--fill-color);\n",
              "    }\n",
              "    80% {\n",
              "      border-color: transparent;\n",
              "      border-right-color: var(--fill-color);\n",
              "      border-bottom-color: var(--fill-color);\n",
              "    }\n",
              "    90% {\n",
              "      border-color: transparent;\n",
              "      border-bottom-color: var(--fill-color);\n",
              "    }\n",
              "  }\n",
              "</style>\n",
              "\n",
              "  <script>\n",
              "    async function quickchart(key) {\n",
              "      const quickchartButtonEl =\n",
              "        document.querySelector('#' + key + ' button');\n",
              "      quickchartButtonEl.disabled = true;  // To prevent multiple clicks.\n",
              "      quickchartButtonEl.classList.add('colab-df-spinner');\n",
              "      try {\n",
              "        const charts = await google.colab.kernel.invokeFunction(\n",
              "            'suggestCharts', [key], {});\n",
              "      } catch (error) {\n",
              "        console.error('Error during call to suggestCharts:', error);\n",
              "      }\n",
              "      quickchartButtonEl.classList.remove('colab-df-spinner');\n",
              "      quickchartButtonEl.classList.add('colab-df-quickchart-complete');\n",
              "    }\n",
              "    (() => {\n",
              "      let quickchartButtonEl =\n",
              "        document.querySelector('#df-7f192c29-1860-4856-beff-2caecd695389 button');\n",
              "      quickchartButtonEl.style.display =\n",
              "        google.colab.kernel.accessAllowed ? 'block' : 'none';\n",
              "    })();\n",
              "  </script>\n",
              "</div>\n",
              "\n",
              "    </div>\n",
              "  </div>\n"
            ],
            "application/vnd.google.colaboratory.intrinsic+json": {
              "type": "dataframe",
              "variable_name": "tips",
              "summary": "{\n  \"name\": \"tips\",\n  \"rows\": 244,\n  \"fields\": [\n    {\n      \"column\": \"total_bill\",\n      \"properties\": {\n        \"dtype\": \"number\",\n        \"std\": 8.902411954856856,\n        \"min\": 3.07,\n        \"max\": 50.81,\n        \"num_unique_values\": 229,\n        \"samples\": [\n          22.12,\n          20.23,\n          14.78\n        ],\n        \"semantic_type\": \"\",\n        \"description\": \"\"\n      }\n    },\n    {\n      \"column\": \"tip\",\n      \"properties\": {\n        \"dtype\": \"number\",\n        \"std\": 1.3836381890011826,\n        \"min\": 1.0,\n        \"max\": 10.0,\n        \"num_unique_values\": 123,\n        \"samples\": [\n          3.35,\n          1.5,\n          6.73\n        ],\n        \"semantic_type\": \"\",\n        \"description\": \"\"\n      }\n    },\n    {\n      \"column\": \"sex\",\n      \"properties\": {\n        \"dtype\": \"category\",\n        \"num_unique_values\": 2,\n        \"samples\": [\n          \"Male\",\n          \"Female\"\n        ],\n        \"semantic_type\": \"\",\n        \"description\": \"\"\n      }\n    },\n    {\n      \"column\": \"smoker\",\n      \"properties\": {\n        \"dtype\": \"category\",\n        \"num_unique_values\": 2,\n        \"samples\": [\n          \"Yes\",\n          \"No\"\n        ],\n        \"semantic_type\": \"\",\n        \"description\": \"\"\n      }\n    },\n    {\n      \"column\": \"day\",\n      \"properties\": {\n        \"dtype\": \"category\",\n        \"num_unique_values\": 4,\n        \"samples\": [\n          \"Sat\",\n          \"Fri\"\n        ],\n        \"semantic_type\": \"\",\n        \"description\": \"\"\n      }\n    },\n    {\n      \"column\": \"time\",\n      \"properties\": {\n        \"dtype\": \"category\",\n        \"num_unique_values\": 2,\n        \"samples\": [\n          \"Lunch\",\n          \"Dinner\"\n        ],\n        \"semantic_type\": \"\",\n        \"description\": \"\"\n      }\n    },\n    {\n      \"column\": \"size\",\n      \"properties\": {\n        \"dtype\": \"number\",\n        \"std\": 0,\n        \"min\": 1,\n        \"max\": 6,\n        \"num_unique_values\": 6,\n        \"samples\": [\n          2,\n          3\n        ],\n        \"semantic_type\": \"\",\n        \"description\": \"\"\n      }\n    }\n  ]\n}"
            }
          },
          "metadata": {},
          "execution_count": 2
        }
      ]
    },
    {
      "cell_type": "markdown",
      "source": [
        "###시각화\n",
        "- 독립성 검정을 시행할 수 있는 변수는 총 3개인 것 확인 가능\n",
        "\n",
        "- 시나리오\n",
        "  + 성별에 따라서 팁의 액수 평균 차이가 존재할까?\n",
        "  + 흡연 여부에 따라서 팁의 액수 평균 차이가 존재할까?\n",
        "  + 시간대에 따라서 팁의 액수 평균 차이가 존재할까?\n",
        "  "
      ],
      "metadata": {
        "id": "waMLZrdh131X"
      }
    },
    {
      "cell_type": "code",
      "source": [
        "tips['sex'].value_counts()"
      ],
      "metadata": {
        "colab": {
          "base_uri": "https://localhost:8080/",
          "height": 178
        },
        "id": "nPAgqoNT1_zg",
        "outputId": "c4e49095-07f5-42d3-8d8d-a6d0867eb023"
      },
      "execution_count": 3,
      "outputs": [
        {
          "output_type": "execute_result",
          "data": {
            "text/plain": [
              "sex\n",
              "Male      157\n",
              "Female     87\n",
              "Name: count, dtype: int64"
            ],
            "text/html": [
              "<div>\n",
              "<style scoped>\n",
              "    .dataframe tbody tr th:only-of-type {\n",
              "        vertical-align: middle;\n",
              "    }\n",
              "\n",
              "    .dataframe tbody tr th {\n",
              "        vertical-align: top;\n",
              "    }\n",
              "\n",
              "    .dataframe thead th {\n",
              "        text-align: right;\n",
              "    }\n",
              "</style>\n",
              "<table border=\"1\" class=\"dataframe\">\n",
              "  <thead>\n",
              "    <tr style=\"text-align: right;\">\n",
              "      <th></th>\n",
              "      <th>count</th>\n",
              "    </tr>\n",
              "    <tr>\n",
              "      <th>sex</th>\n",
              "      <th></th>\n",
              "    </tr>\n",
              "  </thead>\n",
              "  <tbody>\n",
              "    <tr>\n",
              "      <th>Male</th>\n",
              "      <td>157</td>\n",
              "    </tr>\n",
              "    <tr>\n",
              "      <th>Female</th>\n",
              "      <td>87</td>\n",
              "    </tr>\n",
              "  </tbody>\n",
              "</table>\n",
              "</div><br><label><b>dtype:</b> int64</label>"
            ]
          },
          "metadata": {},
          "execution_count": 3
        }
      ]
    },
    {
      "cell_type": "code",
      "source": [
        "tips['smoker'].value_counts()"
      ],
      "metadata": {
        "colab": {
          "base_uri": "https://localhost:8080/",
          "height": 178
        },
        "id": "e5BGDc5s2EjE",
        "outputId": "3158ef35-8e28-4b29-9f56-95b89de30fec"
      },
      "execution_count": 4,
      "outputs": [
        {
          "output_type": "execute_result",
          "data": {
            "text/plain": [
              "smoker\n",
              "No     151\n",
              "Yes     93\n",
              "Name: count, dtype: int64"
            ],
            "text/html": [
              "<div>\n",
              "<style scoped>\n",
              "    .dataframe tbody tr th:only-of-type {\n",
              "        vertical-align: middle;\n",
              "    }\n",
              "\n",
              "    .dataframe tbody tr th {\n",
              "        vertical-align: top;\n",
              "    }\n",
              "\n",
              "    .dataframe thead th {\n",
              "        text-align: right;\n",
              "    }\n",
              "</style>\n",
              "<table border=\"1\" class=\"dataframe\">\n",
              "  <thead>\n",
              "    <tr style=\"text-align: right;\">\n",
              "      <th></th>\n",
              "      <th>count</th>\n",
              "    </tr>\n",
              "    <tr>\n",
              "      <th>smoker</th>\n",
              "      <th></th>\n",
              "    </tr>\n",
              "  </thead>\n",
              "  <tbody>\n",
              "    <tr>\n",
              "      <th>No</th>\n",
              "      <td>151</td>\n",
              "    </tr>\n",
              "    <tr>\n",
              "      <th>Yes</th>\n",
              "      <td>93</td>\n",
              "    </tr>\n",
              "  </tbody>\n",
              "</table>\n",
              "</div><br><label><b>dtype:</b> int64</label>"
            ]
          },
          "metadata": {},
          "execution_count": 4
        }
      ]
    },
    {
      "cell_type": "code",
      "source": [
        "tips['size'].value_counts()"
      ],
      "metadata": {
        "colab": {
          "base_uri": "https://localhost:8080/",
          "height": 303
        },
        "id": "ibhv5PqN2G7D",
        "outputId": "56604282-e06e-4087-ebe8-a96cf589a623"
      },
      "execution_count": 5,
      "outputs": [
        {
          "output_type": "execute_result",
          "data": {
            "text/plain": [
              "size\n",
              "2    156\n",
              "3     38\n",
              "4     37\n",
              "5      5\n",
              "1      4\n",
              "6      4\n",
              "Name: count, dtype: int64"
            ],
            "text/html": [
              "<div>\n",
              "<style scoped>\n",
              "    .dataframe tbody tr th:only-of-type {\n",
              "        vertical-align: middle;\n",
              "    }\n",
              "\n",
              "    .dataframe tbody tr th {\n",
              "        vertical-align: top;\n",
              "    }\n",
              "\n",
              "    .dataframe thead th {\n",
              "        text-align: right;\n",
              "    }\n",
              "</style>\n",
              "<table border=\"1\" class=\"dataframe\">\n",
              "  <thead>\n",
              "    <tr style=\"text-align: right;\">\n",
              "      <th></th>\n",
              "      <th>count</th>\n",
              "    </tr>\n",
              "    <tr>\n",
              "      <th>size</th>\n",
              "      <th></th>\n",
              "    </tr>\n",
              "  </thead>\n",
              "  <tbody>\n",
              "    <tr>\n",
              "      <th>2</th>\n",
              "      <td>156</td>\n",
              "    </tr>\n",
              "    <tr>\n",
              "      <th>3</th>\n",
              "      <td>38</td>\n",
              "    </tr>\n",
              "    <tr>\n",
              "      <th>4</th>\n",
              "      <td>37</td>\n",
              "    </tr>\n",
              "    <tr>\n",
              "      <th>5</th>\n",
              "      <td>5</td>\n",
              "    </tr>\n",
              "    <tr>\n",
              "      <th>1</th>\n",
              "      <td>4</td>\n",
              "    </tr>\n",
              "    <tr>\n",
              "      <th>6</th>\n",
              "      <td>4</td>\n",
              "    </tr>\n",
              "  </tbody>\n",
              "</table>\n",
              "</div><br><label><b>dtype:</b> int64</label>"
            ]
          },
          "metadata": {},
          "execution_count": 5
        }
      ]
    },
    {
      "cell_type": "markdown",
      "source": [
        "- 히스토그램\n",
        "  + 데이터가 연속형일 때, 숫자일 때 그래프 그려야 함\n",
        "  + tip을 그립니다.\n",
        "\n",
        "\n"
      ],
      "metadata": {
        "id": "RNIXr1s_3STa"
      }
    },
    {
      "cell_type": "code",
      "source": [
        "import matplotlib.pyplot as plt\n",
        "import seaborn as sns\n",
        "\n",
        "#데이터 분리\n",
        "smoker_yes = tips.loc[tips['smoker']=='Yes', : ]\n",
        "\n",
        "smoker_no = tips.loc[tips['smoker']=='No', : ]\n",
        "\n",
        "fig, ax = plt.subplots(nrows=1,ncols=2,figsize=(15,5))\n",
        "\n",
        "\n",
        "sns.histplot(smoker_yes['tip'], ax=ax[0])\n",
        "sns.histplot(smoker_no['tip'], ax=ax[1])\n",
        "\n",
        "'''\n",
        "이거 중요함\n",
        "모양을 보니 정규분포로 치기 어렵다.\n",
        "하지만 정규분포 30개가 넘어가기 떄문에 사실 상 정규분포로 가정한다.\n",
        "\n",
        "\n",
        "'''\n",
        "\n",
        "plt.show()\n",
        "\n"
      ],
      "metadata": {
        "colab": {
          "base_uri": "https://localhost:8080/",
          "height": 467
        },
        "id": "1yCdHcT44RKq",
        "outputId": "3cfc8df7-3478-4275-f0ad-26e497faadfd"
      },
      "execution_count": 11,
      "outputs": [
        {
          "output_type": "display_data",
          "data": {
            "text/plain": [
              "<Figure size 1500x500 with 2 Axes>"
            ],
            "image/png": "[encoded data removed]"
          },
          "metadata": {}
        }
      ]
    },
    {
      "cell_type": "code",
      "source": [
        "# 정규분포를 이루는 데이터\n",
        "'''\n",
        "참고하세요 이게 정규분포를 이루는 데이터입니다\n",
        "'''\n",
        "import numpy as np\n",
        "import seaborn as sns\n",
        "from matplotlib import pyplot as plt\n",
        "from scipy.stats import probplot\n",
        "from scipy.stats import shapiro\n",
        "\n",
        "np.random.seed(42)\n",
        "normal_data = np.random.normal(size=100)\n",
        "\n",
        "fig, axes = plt.subplots(1, 2, figsize=(15, 5))\n",
        "\n",
        "probplot(normal_data, dist=\"norm\", plot = axes[0]);\n",
        "sns.histplot(normal_data, axes=axes[1]);\n",
        "\n",
        "titles = ['QQ plot', 'Histogram']\n",
        "for i, ax in enumerate(axes):\n",
        "    ax.spines[['right', 'top']].set_visible(False)\n",
        "    ax.set_title(titles[i])\n",
        "\n",
        "plt.show()\n",
        "shapiro(normal_data)"
      ],
      "metadata": {
        "colab": {
          "base_uri": "https://localhost:8080/",
          "height": 505
        },
        "id": "6m_He4re59bR",
        "outputId": "b0a6b644-adae-44fb-f8e2-26c0b154eec5"
      },
      "execution_count": 12,
      "outputs": [
        {
          "output_type": "display_data",
          "data": {
            "text/plain": [
              "<Figure size 1500x500 with 2 Axes>"
            ],
            "image/png": "[encoded data removed]"
          },
          "metadata": {}
        },
        {
          "output_type": "execute_result",
          "data": {
            "text/plain": [
              "ShapiroResult(statistic=0.9898833815158516, pvalue=0.6551676754214818)"
            ]
          },
          "metadata": {},
          "execution_count": 12
        }
      ]
    },
    {
      "cell_type": "markdown",
      "source": [
        "### 샤피로 윌크 검정\n",
        "\n",
        "- 데이터의 개수가 30개 미만이라는 가정 하에 정규성 검정 시행\n",
        "\n",
        "(그래서 데이터의 개수가 충분히 많다면 굳이 할 필요는 없음)\n",
        "(사실 이거 하게 될 경우 거의 없음)\n"
      ],
      "metadata": {
        "id": "ao49GJhg66D_"
      }
    },
    {
      "cell_type": "code",
      "source": [
        "# 정규분포를 이루지 못하는 데이터\n",
        "import numpy as np\n",
        "import seaborn as sns\n",
        "from matplotlib import pyplot as plt\n",
        "from scipy.stats import probplot\n",
        "from scipy.stats import shapiro\n",
        "\n",
        "np.random.seed(42)\n",
        "normal_data = smoker_yes['tip']\n",
        "\n",
        "fig, axes = plt.subplots(1, 2, figsize=(15, 5))\n",
        "\n",
        "probplot(normal_data, dist=\"norm\", plot = axes[0]);\n",
        "sns.histplot(normal_data, axes=axes[1]);\n",
        "\n",
        "titles = ['QQ plot', 'Histogram']\n",
        "for i, ax in enumerate(axes):\n",
        "    ax.spines[['right', 'top']].set_visible(False)\n",
        "    ax.set_title(titles[i])\n",
        "\n",
        "plt.show()\n",
        "shapiro(normal_data)"
      ],
      "metadata": {
        "colab": {
          "base_uri": "https://localhost:8080/",
          "height": 505
        },
        "id": "crvI3ZJi6-3u",
        "outputId": "9d9fd74d-eab3-4822-e94b-e40697f1dc89"
      },
      "execution_count": 13,
      "outputs": [
        {
          "output_type": "display_data",
          "data": {
            "text/plain": [
              "<Figure size 1500x500 with 2 Axes>"
            ],
            "image/png": "[encoded data removed]"
          },
          "metadata": {}
        },
        {
          "output_type": "execute_result",
          "data": {
            "text/plain": [
              "ShapiroResult(statistic=0.8788249661085323, pvalue=3.612564299352561e-07)"
            ]
          },
          "metadata": {},
          "execution_count": 13
        }
      ]
    },
    {
      "cell_type": "markdown",
      "source": [
        "빨간 기준 선(평균)에 파란 점이 많이 몰려 있어야 좋은 정규 분포임\n",
        "\n"
      ],
      "metadata": {
        "id": "e9U-Ck1a7r9y"
      }
    },
    {
      "cell_type": "markdown",
      "source": [
        "### 가설설정\n",
        "  + 귀무가설 : 데이터는 정규분포다\n",
        "  + 대립가설 : 데이터는 정규분포가 아니다\n",
        "  "
      ],
      "metadata": {
        "id": "KeNMxKFe79l3"
      }
    },
    {
      "cell_type": "markdown",
      "source": [
        "### 등분산성 검정\n"
      ],
      "metadata": {
        "id": "yxGcINEE9DL4"
      }
    },
    {
      "cell_type": "code",
      "source": [
        "from scipy import stats\n",
        "'''\n",
        "나한테 데이터는 크게 2가지\n",
        "tips와 흡연 유무\n",
        "\n",
        "\n",
        "\n",
        "tips\n",
        "smoker_yes, smoker_no\n",
        "'''\n",
        "t,p=stats.levene(smoker_yes['tip'],smoker_no['tip'])\n",
        "t,p\n",
        "\n",
        "# 두 그룹의 분산이 같다고 p밸류를 보고 알 수 있음\n",
        "\n"
      ],
      "metadata": {
        "colab": {
          "base_uri": "https://localhost:8080/"
        },
        "id": "68etfk0Z9I4g",
        "outputId": "37ce09e3-ee6b-4d21-d911-1bfc12c65fc0"
      },
      "execution_count": 15,
      "outputs": [
        {
          "output_type": "execute_result",
          "data": {
            "text/plain": [
              "(0.02051159105706963, 0.8862366542563406)"
            ]
          },
          "metadata": {},
          "execution_count": 15
        }
      ]
    },
    {
      "cell_type": "markdown",
      "source": [
        "### 가설 검정\n",
        "\n",
        "- 귀무가설 : 두 그룹의 평균은 같다\n",
        "- 대립가설 : 두 그룹의 평균은 다르다\n",
        "\n",
        "결론 : 귀무가설 채택하고, 두 그룹의 평균은 같다\n"
      ],
      "metadata": {
        "id": "yoUwAwNk-yu9"
      }
    },
    {
      "cell_type": "markdown",
      "source": [
        "- 두 그룹의 분산은 같다."
      ],
      "metadata": {
        "id": "zOGDc7Nq-ldf"
      }
    },
    {
      "cell_type": "code",
      "source": [
        "from scipy import stats\n",
        "t_stat, p_val = stats.ttest_ind(smoker_yes['tip'], smoker_no['tip'], equal_var=True)\n",
        "\n",
        "# Output the results\n",
        "print(f\"T-statistic: {t_stat}\")\n",
        "print(f\"P-value: {p_val}\")"
      ],
      "metadata": {
        "colab": {
          "base_uri": "https://localhost:8080/"
        },
        "id": "-IDt3qpx-plD",
        "outputId": "9bb18208-6677-4796-a0bf-145c13f5a0ff"
      },
      "execution_count": 16,
      "outputs": [
        {
          "output_type": "stream",
          "name": "stdout",
          "text": [
            "T-statistic: 0.09222805186888201\n",
            "P-value: 0.9265931522244976\n"
          ]
        }
      ]
    },
    {
      "cell_type": "code",
      "source": [
        "fig, ax = plt.subplots(1, 1)\n",
        "sns.pointplot(x = 'smoker', y = 'tip', data = tips)\n",
        "sns.despine()\n",
        "\n",
        "# 이거 분산입니다\n",
        "\n",
        "# yes가 no보다 분산이 조금 더 넓어보이긴 하네요\n",
        "\n"
      ],
      "metadata": {
        "colab": {
          "base_uri": "https://localhost:8080/",
          "height": 449
        },
        "id": "zEZ-wlXn9zLA",
        "outputId": "fe367190-fdb2-41c1-ca40-5098812a0948"
      },
      "execution_count": 14,
      "outputs": [
        {
          "output_type": "display_data",
          "data": {
            "text/plain": [
              "<Figure size 640x480 with 1 Axes>"
            ],
            "image/png": "[encoded data removed]"
          },
          "metadata": {}
        }
      ]
    },
    {
      "cell_type": "markdown",
      "source": [
        "### 박스 플롯 시각화\n",
        " - 두 그룹의 박스플롯 시각화 결과 확인\n",
        "\n",
        " 해보면\n",
        "\n",
        " 진짜로 비슷함\n",
        "\n",
        " 결론 : 흡연 여부랑 팁을 주는 거랑은 관계가 없다\n",
        "\n",
        "\n",
        " (추가적인 상상 결론 : 내가 종업원이라면, 팁을 더 받기 위해 흡연자 혹은 비흡연자에게 더 어필해야 한다 이런거 할 필요 없음)\n",
        " 왜냐하면 흡연 여부랑 팁 주는 양은 큰 관계가 없으니까"
      ],
      "metadata": {
        "id": "eYnql76M-8_B"
      }
    }
  ]
}