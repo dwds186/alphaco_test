{
  "nbformat": 4,
  "nbformat_minor": 0,
  "metadata": {
    "colab": {
      "provenance": []
    },
    "kernelspec": {
      "name": "python3",
      "display_name": "Python 3"
    },
    "language_info": {
      "name": "python"
    }
  },
  "cells": [
    {
      "cell_type": "markdown",
      "source": [
        "# Google Colab 한글 폰트 설치"
      ],
      "metadata": {
        "id": "VFwQs6Jpi8_A"
      }
    },
    {
      "cell_type": "code",
      "execution_count": 1,
      "metadata": {
        "id": "Yvj4_gyhi6VJ",
        "colab": {
          "base_uri": "https://localhost:8080/"
        },
        "outputId": "059797a0-c383-4bbd-a587-9c748a17ecce"
      },
      "outputs": [
        {
          "output_type": "stream",
          "name": "stdout",
          "text": [
            "Selecting previously unselected package fonts-nanum.\n",
            "(Reading database ... 123620 files and directories currently installed.)\n",
            "Preparing to unpack .../fonts-nanum_20200506-1_all.deb ...\n",
            "Unpacking fonts-nanum (20200506-1) ...\n",
            "Setting up fonts-nanum (20200506-1) ...\n",
            "Processing triggers for fontconfig (2.13.1-4.2ubuntu5) ...\n"
          ]
        }
      ],
      "source": [
        "import sys\n",
        "\n",
        "# Google Colab 환경에서 실행 중인지 확인\n",
        "if 'google.colab' in sys.modules:\n",
        "    # debconf를 Noninteractive 모드로 설정\n",
        "    !echo 'debconf debconf/frontend select Noninteractive' | \\\n",
        "    debconf-set-selections\n",
        "\n",
        "    # fonts-nanum 패키지를 설치\n",
        "    !sudo apt-get -qq -y install fonts-nanum\n",
        "\n",
        "    # Matplotlib의 폰트 매니저 가져오기\n",
        "    import matplotlib.font_manager as fm\n",
        "\n",
        "    # 나눔 폰트의 시스템 경로 찾기\n",
        "    font_files = fm.findSystemFonts(fontpaths=['/usr/share/fonts/truetype/nanum'])\n",
        "\n",
        "    # 찾은 각 나눔 폰트를 Matplotlib 폰트 매니저에 추가\n",
        "    for fpath in font_files:\n",
        "        fm.fontManager.addfont(fpath)"
      ]
    },
    {
      "cell_type": "code",
      "source": [
        "import matplotlib.pyplot as plt\n",
        "\n",
        "plt.rcParams['font.family'] = 'NanumGothic'    #사용 방법1\n",
        "plt.rc('font', family='NanumBarunGothic', size=11) #사용 방법2\n",
        "print(plt.rcParams['font.family'], plt.rcParams['font.size'])   # 폰트확인"
      ],
      "metadata": {
        "colab": {
          "base_uri": "https://localhost:8080/"
        },
        "id": "JTopSdDDpro9",
        "outputId": "d5d44f61-2927-467e-a15e-6cccca68e826"
      },
      "execution_count": 2,
      "outputs": [
        {
          "output_type": "stream",
          "name": "stdout",
          "text": [
            "['NanumBarunGothic'] 11.0\n"
          ]
        }
      ]
    },
    {
      "cell_type": "markdown",
      "source": [
        "- 테스트"
      ],
      "metadata": {
        "id": "aNHYHG2Vptrd"
      }
    },
    {
      "cell_type": "code",
      "source": [
        "plt.plot([1, 2, 3])\n",
        "plt.title(\"한글 잘 나옵니까?\")\n",
        "plt.show()"
      ],
      "metadata": {
        "colab": {
          "base_uri": "https://localhost:8080/",
          "height": 455
        },
        "id": "Q25lV0i1ps0e",
        "outputId": "c1c37b50-707c-4ec7-bf09-78a0ed782e59"
      },
      "execution_count": 3,
      "outputs": [
        {
          "output_type": "display_data",
          "data": {
            "text/plain": [
              "<Figure size 640x480 with 1 Axes>"
            ],
            "image/png": "[encoded data removed]"
          },
          "metadata": {}
        }
      ]
    },
    {
      "cell_type": "markdown",
      "source": [
        "# Google Colab과 드라이브 연동"
      ],
      "metadata": {
        "id": "mxS6ciZ4pyB9"
      }
    },
    {
      "cell_type": "code",
      "source": [
        "from google.colab import drive\n",
        "drive.mount(\"/content/drive\")"
      ],
      "metadata": {
        "id": "LvSC43A0p0Gg",
        "colab": {
          "base_uri": "https://localhost:8080/"
        },
        "outputId": "a2610aee-4acb-45c1-885a-42fe38667325"
      },
      "execution_count": 4,
      "outputs": [
        {
          "output_type": "stream",
          "name": "stdout",
          "text": [
            "Mounted at /content/drive\n"
          ]
        }
      ]
    },
    {
      "cell_type": "markdown",
      "source": [
        "# z-검정, t-검정\n",
        "- 평균 차이 검정\n",
        "- z검정\n",
        "  + 모수의 분산, 표준편차 등을 알고 있어야 함"
      ],
      "metadata": {
        "id": "oNxQuefLkLVw"
      }
    },
    {
      "cell_type": "code",
      "source": [
        "import pandas as pd\n",
        "df = pd.DataFrame({\"grades\" : [50, 60, 60, 64, 66, 66, 67, 69, 70, 74, 76, 76, 77, 79, 79, 79, 81, 82, 82, 89]})\n",
        "df.head()"
      ],
      "metadata": {
        "colab": {
          "base_uri": "https://localhost:8080/",
          "height": 206
        },
        "id": "S1W0-MpMlOxk",
        "outputId": "ec7f4580-b141-48f7-8e3b-20fb1f0a6215"
      },
      "execution_count": 5,
      "outputs": [
        {
          "output_type": "execute_result",
          "data": {
            "text/plain": [
              "   grades\n",
              "0      50\n",
              "1      60\n",
              "2      60\n",
              "3      64\n",
              "4      66"
            ],
            "text/html": [
              "\n",
              "  <div id=\"df-11bac306-750b-4e05-ae48-8cb02f071e45\" class=\"colab-df-container\">\n",
              "    <div>\n",
              "<style scoped>\n",
              "    .dataframe tbody tr th:only-of-type {\n",
              "        vertical-align: middle;\n",
              "    }\n",
              "\n",
              "    .dataframe tbody tr th {\n",
              "        vertical-align: top;\n",
              "    }\n",
              "\n",
              "    .dataframe thead th {\n",
              "        text-align: right;\n",
              "    }\n",
              "</style>\n",
              "<table border=\"1\" class=\"dataframe\">\n",
              "  <thead>\n",
              "    <tr style=\"text-align: right;\">\n",
              "      <th></th>\n",
              "      <th>grades</th>\n",
              "    </tr>\n",
              "  </thead>\n",
              "  <tbody>\n",
              "    <tr>\n",
              "      <th>0</th>\n",
              "      <td>50</td>\n",
              "    </tr>\n",
              "    <tr>\n",
              "      <th>1</th>\n",
              "      <td>60</td>\n",
              "    </tr>\n",
              "    <tr>\n",
              "      <th>2</th>\n",
              "      <td>60</td>\n",
              "    </tr>\n",
              "    <tr>\n",
              "      <th>3</th>\n",
              "      <td>64</td>\n",
              "    </tr>\n",
              "    <tr>\n",
              "      <th>4</th>\n",
              "      <td>66</td>\n",
              "    </tr>\n",
              "  </tbody>\n",
              "</table>\n",
              "</div>\n",
              "    <div class=\"colab-df-buttons\">\n",
              "\n",
              "  <div class=\"colab-df-container\">\n",
              "    <button class=\"colab-df-convert\" onclick=\"convertToInteractive('df-11bac306-750b-4e05-ae48-8cb02f071e45')\"\n",
              "            title=\"Convert this dataframe to an interactive table.\"\n",
              "            style=\"display:none;\">\n",
              "\n",
              "  <svg xmlns=\"http://www.w3.org/2000/svg\" height=\"24px\" viewBox=\"0 -960 960 960\">\n",
              "    <path d=\"M120-120v-720h720v720H120Zm60-500h600v-160H180v160Zm220 220h160v-160H400v160Zm0 220h160v-160H400v160ZM180-400h160v-160H180v160Zm440 0h160v-160H620v160ZM180-180h160v-160H180v160Zm440 0h160v-160H620v160Z\"/>\n",
              "  </svg>\n",
              "    </button>\n",
              "\n",
              "  <style>\n",
              "    .colab-df-container {\n",
              "      display:flex;\n",
              "      gap: 12px;\n",
              "    }\n",
              "\n",
              "    .colab-df-convert {\n",
              "      background-color: #E8F0FE;\n",
              "      border: none;\n",
              "      border-radius: 50%;\n",
              "      cursor: pointer;\n",
              "      display: none;\n",
              "      fill: #1967D2;\n",
              "      height: 32px;\n",
              "      padding: 0 0 0 0;\n",
              "      width: 32px;\n",
              "    }\n",
              "\n",
              "    .colab-df-convert:hover {\n",
              "      background-color: #E2EBFA;\n",
              "      box-shadow: 0px 1px 2px rgba(60, 64, 67, 0.3), 0px 1px 3px 1px rgba(60, 64, 67, 0.15);\n",
              "      fill: #174EA6;\n",
              "    }\n",
              "\n",
              "    .colab-df-buttons div {\n",
              "      margin-bottom: 4px;\n",
              "    }\n",
              "\n",
              "    [theme=dark] .colab-df-convert {\n",
              "      background-color: #3B4455;\n",
              "      fill: #D2E3FC;\n",
              "    }\n",
              "\n",
              "    [theme=dark] .colab-df-convert:hover {\n",
              "      background-color: #434B5C;\n",
              "      box-shadow: 0px 1px 3px 1px rgba(0, 0, 0, 0.15);\n",
              "      filter: drop-shadow(0px 1px 2px rgba(0, 0, 0, 0.3));\n",
              "      fill: #FFFFFF;\n",
              "    }\n",
              "  </style>\n",
              "\n",
              "    <script>\n",
              "      const buttonEl =\n",
              "        document.querySelector('#df-11bac306-750b-4e05-ae48-8cb02f071e45 button.colab-df-convert');\n",
              "      buttonEl.style.display =\n",
              "        google.colab.kernel.accessAllowed ? 'block' : 'none';\n",
              "\n",
              "      async function convertToInteractive(key) {\n",
              "        const element = document.querySelector('#df-11bac306-750b-4e05-ae48-8cb02f071e45');\n",
              "        const dataTable =\n",
              "          await google.colab.kernel.invokeFunction('convertToInteractive',\n",
              "                                                    [key], {});\n",
              "        if (!dataTable) return;\n",
              "\n",
              "        const docLinkHtml = 'Like what you see? Visit the ' +\n",
              "          '<a target=\"_blank\" href=https://colab.research.google.com/notebooks/data_table.ipynb>data table notebook</a>'\n",
              "          + ' to learn more about interactive tables.';\n",
              "        element.innerHTML = '';\n",
              "        dataTable['output_type'] = 'display_data';\n",
              "        await google.colab.output.renderOutput(dataTable, element);\n",
              "        const docLink = document.createElement('div');\n",
              "        docLink.innerHTML = docLinkHtml;\n",
              "        element.appendChild(docLink);\n",
              "      }\n",
              "    </script>\n",
              "  </div>\n",
              "\n",
              "\n",
              "<div id=\"df-d87d58ba-a170-40d3-81ea-459b2484898d\">\n",
              "  <button class=\"colab-df-quickchart\" onclick=\"quickchart('df-d87d58ba-a170-40d3-81ea-459b2484898d')\"\n",
              "            title=\"Suggest charts\"\n",
              "            style=\"display:none;\">\n",
              "\n",
              "<svg xmlns=\"http://www.w3.org/2000/svg\" height=\"24px\"viewBox=\"0 0 24 24\"\n",
              "     width=\"24px\">\n",
              "    <g>\n",
              "        <path d=\"M19 3H5c-1.1 0-2 .9-2 2v14c0 1.1.9 2 2 2h14c1.1 0 2-.9 2-2V5c0-1.1-.9-2-2-2zM9 17H7v-7h2v7zm4 0h-2V7h2v10zm4 0h-2v-4h2v4z\"/>\n",
              "    </g>\n",
              "</svg>\n",
              "  </button>\n",
              "\n",
              "<style>\n",
              "  .colab-df-quickchart {\n",
              "      --bg-color: #E8F0FE;\n",
              "      --fill-color: #1967D2;\n",
              "      --hover-bg-color: #E2EBFA;\n",
              "      --hover-fill-color: #174EA6;\n",
              "      --disabled-fill-color: #AAA;\n",
              "      --disabled-bg-color: #DDD;\n",
              "  }\n",
              "\n",
              "  [theme=dark] .colab-df-quickchart {\n",
              "      --bg-color: #3B4455;\n",
              "      --fill-color: #D2E3FC;\n",
              "      --hover-bg-color: #434B5C;\n",
              "      --hover-fill-color: #FFFFFF;\n",
              "      --disabled-bg-color: #3B4455;\n",
              "      --disabled-fill-color: #666;\n",
              "  }\n",
              "\n",
              "  .colab-df-quickchart {\n",
              "    background-color: var(--bg-color);\n",
              "    border: none;\n",
              "    border-radius: 50%;\n",
              "    cursor: pointer;\n",
              "    display: none;\n",
              "    fill: var(--fill-color);\n",
              "    height: 32px;\n",
              "    padding: 0;\n",
              "    width: 32px;\n",
              "  }\n",
              "\n",
              "  .colab-df-quickchart:hover {\n",
              "    background-color: var(--hover-bg-color);\n",
              "    box-shadow: 0 1px 2px rgba(60, 64, 67, 0.3), 0 1px 3px 1px rgba(60, 64, 67, 0.15);\n",
              "    fill: var(--button-hover-fill-color);\n",
              "  }\n",
              "\n",
              "  .colab-df-quickchart-complete:disabled,\n",
              "  .colab-df-quickchart-complete:disabled:hover {\n",
              "    background-color: var(--disabled-bg-color);\n",
              "    fill: var(--disabled-fill-color);\n",
              "    box-shadow: none;\n",
              "  }\n",
              "\n",
              "  .colab-df-spinner {\n",
              "    border: 2px solid var(--fill-color);\n",
              "    border-color: transparent;\n",
              "    border-bottom-color: var(--fill-color);\n",
              "    animation:\n",
              "      spin 1s steps(1) infinite;\n",
              "  }\n",
              "\n",
              "  @keyframes spin {\n",
              "    0% {\n",
              "      border-color: transparent;\n",
              "      border-bottom-color: var(--fill-color);\n",
              "      border-left-color: var(--fill-color);\n",
              "    }\n",
              "    20% {\n",
              "      border-color: transparent;\n",
              "      border-left-color: var(--fill-color);\n",
              "      border-top-color: var(--fill-color);\n",
              "    }\n",
              "    30% {\n",
              "      border-color: transparent;\n",
              "      border-left-color: var(--fill-color);\n",
              "      border-top-color: var(--fill-color);\n",
              "      border-right-color: var(--fill-color);\n",
              "    }\n",
              "    40% {\n",
              "      border-color: transparent;\n",
              "      border-right-color: var(--fill-color);\n",
              "      border-top-color: var(--fill-color);\n",
              "    }\n",
              "    60% {\n",
              "      border-color: transparent;\n",
              "      border-right-color: var(--fill-color);\n",
              "    }\n",
              "    80% {\n",
              "      border-color: transparent;\n",
              "      border-right-color: var(--fill-color);\n",
              "      border-bottom-color: var(--fill-color);\n",
              "    }\n",
              "    90% {\n",
              "      border-color: transparent;\n",
              "      border-bottom-color: var(--fill-color);\n",
              "    }\n",
              "  }\n",
              "</style>\n",
              "\n",
              "  <script>\n",
              "    async function quickchart(key) {\n",
              "      const quickchartButtonEl =\n",
              "        document.querySelector('#' + key + ' button');\n",
              "      quickchartButtonEl.disabled = true;  // To prevent multiple clicks.\n",
              "      quickchartButtonEl.classList.add('colab-df-spinner');\n",
              "      try {\n",
              "        const charts = await google.colab.kernel.invokeFunction(\n",
              "            'suggestCharts', [key], {});\n",
              "      } catch (error) {\n",
              "        console.error('Error during call to suggestCharts:', error);\n",
              "      }\n",
              "      quickchartButtonEl.classList.remove('colab-df-spinner');\n",
              "      quickchartButtonEl.classList.add('colab-df-quickchart-complete');\n",
              "    }\n",
              "    (() => {\n",
              "      let quickchartButtonEl =\n",
              "        document.querySelector('#df-d87d58ba-a170-40d3-81ea-459b2484898d button');\n",
              "      quickchartButtonEl.style.display =\n",
              "        google.colab.kernel.accessAllowed ? 'block' : 'none';\n",
              "    })();\n",
              "  </script>\n",
              "</div>\n",
              "\n",
              "    </div>\n",
              "  </div>\n"
            ],
            "application/vnd.google.colaboratory.intrinsic+json": {
              "type": "dataframe",
              "variable_name": "df",
              "summary": "{\n  \"name\": \"df\",\n  \"rows\": 20,\n  \"fields\": [\n    {\n      \"column\": \"grades\",\n      \"properties\": {\n        \"dtype\": \"number\",\n        \"std\": 9,\n        \"min\": 50,\n        \"max\": 89,\n        \"num_unique_values\": 14,\n        \"samples\": [\n          77,\n          81,\n          50\n        ],\n        \"semantic_type\": \"\",\n        \"description\": \"\"\n      }\n    }\n  ]\n}"
            }
          },
          "metadata": {},
          "execution_count": 5
        }
      ]
    },
    {
      "cell_type": "markdown",
      "source": [
        "- 모수의 표준편차는 9.5로 알고 있음"
      ],
      "metadata": {
        "id": "_U1k7I-0lWJt"
      }
    },
    {
      "cell_type": "code",
      "source": [
        "import matplotlib.pyplot as plt\n",
        "import numpy as np\n",
        "import seaborn as sns\n",
        "import scipy.stats as stats\n",
        "\n",
        "mu = 67.5       # 모수의 평균\n",
        "sigma = 9.5     # 모수의 편차\n",
        "x = np.linspace(mu - 3*sigma, mu + 3*sigma, 100)\n",
        "y = 100* stats.norm.pdf(x, mu, sigma)\n",
        "\n",
        "fig, ax = plt.subplots()\n",
        "ax1 = sns.histplot(df['grades'])\n",
        "\n",
        "ax2 = sns.lineplot(x=x,y=y, color='black')\n",
        "\n",
        "plt.ylim(bottom=-1)\n",
        "\n",
        "ax1.set_frame_on(False)\n",
        "ax1.axes.get_yaxis().set_visible(False)\n",
        "\n",
        "plt.show()"
      ],
      "metadata": {
        "colab": {
          "base_uri": "https://localhost:8080/",
          "height": 453
        },
        "id": "JFfKynC7lZEH",
        "outputId": "799e588b-392e-4b89-b6a2-ff25a0cb16ba"
      },
      "execution_count": 6,
      "outputs": [
        {
          "output_type": "display_data",
          "data": {
            "text/plain": [
              "<Figure size 640x480 with 1 Axes>"
            ],
            "image/png": "[encoded data removed]"
          },
          "metadata": {}
        }
      ]
    },
    {
      "cell_type": "markdown",
      "source": [
        "## 가설수립\n",
        "- 귀무가설 : 모집단의 수학점수 평균과 1반의 수학점수 평균차이는 없다!\n",
        "- 대립가설 : 모집단의 수학점수 평균과 1반의 수학점수 평균차이는 있다."
      ],
      "metadata": {
        "id": "-Ux_dXTjmY0T"
      }
    },
    {
      "cell_type": "markdown",
      "source": [
        "## z-score 구하기"
      ],
      "metadata": {
        "id": "1dzvuPmGnZfq"
      }
    },
    {
      "cell_type": "code",
      "source": [
        "import math\n",
        "sample_mean = df['grades'].mean()\n",
        "sd_true = 9.5\n",
        "mu_null = 67.5\n",
        "N = len(df['grades'])\n",
        "sem_true = sd_true / math.sqrt(N)\n",
        "z_score = (sample_mean - mu_null) / sem_true\n",
        "z_score # 통계량"
      ],
      "metadata": {
        "colab": {
          "base_uri": "https://localhost:8080/"
        },
        "id": "IXbePcOynWsV",
        "outputId": "80a61c9a-83d3-4742-cd69-66a189712449"
      },
      "execution_count": 7,
      "outputs": [
        {
          "output_type": "execute_result",
          "data": {
            "text/plain": [
              "2.259605535157681"
            ]
          },
          "metadata": {},
          "execution_count": 7
        }
      ]
    },
    {
      "cell_type": "markdown",
      "source": [
        "## p-value"
      ],
      "metadata": {
        "id": "JzxOB4OFoDyk"
      }
    },
    {
      "cell_type": "code",
      "source": [
        "from statistics import NormalDist\n",
        "\n",
        "lower_area = NormalDist().cdf(-z_score)\n",
        "upper_area = lower_area\n",
        "p_value = lower_area + upper_area\n",
        "p_value"
      ],
      "metadata": {
        "colab": {
          "base_uri": "https://localhost:8080/"
        },
        "id": "xwNFo9IdoFf4",
        "outputId": "e904cd7e-65e0-4daf-e6ed-843498d54154"
      },
      "execution_count": 8,
      "outputs": [
        {
          "output_type": "execute_result",
          "data": {
            "text/plain": [
              "0.023845743764939864"
            ]
          },
          "metadata": {},
          "execution_count": 8
        }
      ]
    },
    {
      "cell_type": "markdown",
      "source": [
        "# t-검정의 종류\n",
        "- One-Sample t-test (일표본 단일검정)\n",
        "- Paired t-test (대응표본)\n",
        "- Independent t-test (두 평균의 비교, 독립검정)"
      ],
      "metadata": {
        "id": "w1Xu-pc4wek4"
      }
    },
    {
      "cell_type": "markdown",
      "source": [
        "## One-Sample t-test\n",
        "- 일표본 단일검정\n",
        "- z-검정과의 차이점\n",
        "  + 모집단의 표준편차를 모름\n",
        "  + 모집단의 평균을 알고 있음\n",
        "  + 자유도 : N-1 (z-검정은 N)\n",
        "- 모집단의 평균 : 사회적인 통념, 알려진 사실\n",
        "- 가설설정\n",
        "  + 귀무가설 : 모집단의 평균과 표본의 평균은 같다.\n",
        "    - 오리온 초코칩의 무게중량 45g이 맞을 것이야\n",
        "  + 대립가설 : 모집단의 평균과 표본의 평균은 다르다.\n",
        "    - 오리온 초코칩의 무게중량 45g이 아니다!\n"
      ],
      "metadata": {
        "id": "8qrMOpnvw5Yu"
      }
    },
    {
      "cell_type": "code",
      "source": [
        "N = len(df['grades'])\n",
        "degfree = N-1\n",
        "sample_mean = df['grades'].mean()\n",
        "print('Sample mean:', sample_mean)\n",
        "print('Degrees of freedom:', degfree)"
      ],
      "metadata": {
        "colab": {
          "base_uri": "https://localhost:8080/"
        },
        "id": "UsjTfCkL1OGi",
        "outputId": "9719be6c-444e-4be3-a541-16b242d868a9"
      },
      "execution_count": 9,
      "outputs": [
        {
          "output_type": "stream",
          "name": "stdout",
          "text": [
            "Sample mean: 72.3\n",
            "Degrees of freedom: 19\n"
          ]
        }
      ]
    },
    {
      "cell_type": "code",
      "source": [
        "from scipy.stats import ttest_1samp\n",
        "\n",
        "t, p = ttest_1samp(a = df['grades'], popmean = 71)\n",
        "t, p"
      ],
      "metadata": {
        "colab": {
          "base_uri": "https://localhost:8080/"
        },
        "id": "3th6LLwQ1f5g",
        "outputId": "cbe26e98-ff87-46b2-d638-17f98d8834a8"
      },
      "execution_count": 10,
      "outputs": [
        {
          "output_type": "execute_result",
          "data": {
            "text/plain": [
              "(0.6106514014810425, 0.5486662606700853)"
            ]
          },
          "metadata": {},
          "execution_count": 10
        }
      ]
    },
    {
      "cell_type": "markdown",
      "source": [
        "- 신뢰구간 추정"
      ],
      "metadata": {
        "id": "8DLFkkHY3Fx6"
      }
    },
    {
      "cell_type": "code",
      "source": [
        "from scipy import stats\n",
        "\n",
        "confidence_level = 0.95\n",
        "degrees_freedom = len(df['grades'])-1\n",
        "sample_mean = df['grades'].mean()\n",
        "sample_standard_error = df['grades'].sem()\n",
        "\n",
        "confidence_interval = stats.t.interval(confidence_level, degrees_freedom, sample_mean, sample_standard_error)\n",
        "confidence_interval"
      ],
      "metadata": {
        "colab": {
          "base_uri": "https://localhost:8080/"
        },
        "id": "gZ0dZFiX3O3f",
        "outputId": "59ce7150-0e00-4a76-b4ab-da1bd2634e07"
      },
      "execution_count": 11,
      "outputs": [
        {
          "output_type": "execute_result",
          "data": {
            "text/plain": [
              "(67.84421513791415, 76.75578486208585)"
            ]
          },
          "metadata": {},
          "execution_count": 11
        }
      ]
    },
    {
      "cell_type": "code",
      "source": [
        "ttest_1samp(a = df['grades'], popmean = 71).confidence_interval()"
      ],
      "metadata": {
        "colab": {
          "base_uri": "https://localhost:8080/"
        },
        "id": "No_jlmuz38WC",
        "outputId": "54e2dc8f-98eb-470b-d51f-549fc005761f"
      },
      "execution_count": 12,
      "outputs": [
        {
          "output_type": "execute_result",
          "data": {
            "text/plain": [
              "ConfidenceInterval(low=67.84421513791415, high=76.75578486208585)"
            ]
          },
          "metadata": {},
          "execution_count": 12
        }
      ]
    },
    {
      "cell_type": "markdown",
      "source": [
        "## t-검정 (independent t-test)\n",
        "- 가정 만족 확인 : 정규성과 등분산성 검정\n",
        "- 정규성의 가설 검정\n",
        "  + 귀무가설 : 데이터가 정규분포를 만족한다.\n",
        "  + 대립가설 : 데이터가 정규분포를 이루고 있지 않다.\n",
        "- 등분산성 가설 검정\n",
        "  + 귀무가설 : 두 그룹의 분산이 같다.\n",
        "  + 대립가설 : 두 그룹의 분산이 다르다.\n",
        "- t-검정 가설검정"
      ],
      "metadata": {
        "id": "tsGoM2K4vbpt"
      }
    },
    {
      "cell_type": "code",
      "source": [
        "import seaborn as sns\n",
        "import pandas as pd\n",
        "\n",
        "tips = sns.load_dataset(\"tips\")\n",
        "tips.head()"
      ],
      "metadata": {
        "colab": {
          "base_uri": "https://localhost:8080/",
          "height": 206
        },
        "id": "7dTDMO_80icx",
        "outputId": "c5d0734c-bcd2-4764-e212-130c5e7b2646"
      },
      "execution_count": 13,
      "outputs": [
        {
          "output_type": "execute_result",
          "data": {
            "text/plain": [
              "   total_bill   tip     sex smoker  day    time  size\n",
              "0       16.99  1.01  Female     No  Sun  Dinner     2\n",
              "1       10.34  1.66    Male     No  Sun  Dinner     3\n",
              "2       21.01  3.50    Male     No  Sun  Dinner     3\n",
              "3       23.68  3.31    Male     No  Sun  Dinner     2\n",
              "4       24.59  3.61  Female     No  Sun  Dinner     4"
            ],
            "text/html": [
              "\n",
              "  <div id=\"df-8e462e2a-f7ee-4b3d-8878-fd39232f7851\" class=\"colab-df-container\">\n",
              "    <div>\n",
              "<style scoped>\n",
              "    .dataframe tbody tr th:only-of-type {\n",
              "        vertical-align: middle;\n",
              "    }\n",
              "\n",
              "    .dataframe tbody tr th {\n",
              "        vertical-align: top;\n",
              "    }\n",
              "\n",
              "    .dataframe thead th {\n",
              "        text-align: right;\n",
              "    }\n",
              "</style>\n",
              "<table border=\"1\" class=\"dataframe\">\n",
              "  <thead>\n",
              "    <tr style=\"text-align: right;\">\n",
              "      <th></th>\n",
              "      <th>total_bill</th>\n",
              "      <th>tip</th>\n",
              "      <th>sex</th>\n",
              "      <th>smoker</th>\n",
              "      <th>day</th>\n",
              "      <th>time</th>\n",
              "      <th>size</th>\n",
              "    </tr>\n",
              "  </thead>\n",
              "  <tbody>\n",
              "    <tr>\n",
              "      <th>0</th>\n",
              "      <td>16.99</td>\n",
              "      <td>1.01</td>\n",
              "      <td>Female</td>\n",
              "      <td>No</td>\n",
              "      <td>Sun</td>\n",
              "      <td>Dinner</td>\n",
              "      <td>2</td>\n",
              "    </tr>\n",
              "    <tr>\n",
              "      <th>1</th>\n",
              "      <td>10.34</td>\n",
              "      <td>1.66</td>\n",
              "      <td>Male</td>\n",
              "      <td>No</td>\n",
              "      <td>Sun</td>\n",
              "      <td>Dinner</td>\n",
              "      <td>3</td>\n",
              "    </tr>\n",
              "    <tr>\n",
              "      <th>2</th>\n",
              "      <td>21.01</td>\n",
              "      <td>3.50</td>\n",
              "      <td>Male</td>\n",
              "      <td>No</td>\n",
              "      <td>Sun</td>\n",
              "      <td>Dinner</td>\n",
              "      <td>3</td>\n",
              "    </tr>\n",
              "    <tr>\n",
              "      <th>3</th>\n",
              "      <td>23.68</td>\n",
              "      <td>3.31</td>\n",
              "      <td>Male</td>\n",
              "      <td>No</td>\n",
              "      <td>Sun</td>\n",
              "      <td>Dinner</td>\n",
              "      <td>2</td>\n",
              "    </tr>\n",
              "    <tr>\n",
              "      <th>4</th>\n",
              "      <td>24.59</td>\n",
              "      <td>3.61</td>\n",
              "      <td>Female</td>\n",
              "      <td>No</td>\n",
              "      <td>Sun</td>\n",
              "      <td>Dinner</td>\n",
              "      <td>4</td>\n",
              "    </tr>\n",
              "  </tbody>\n",
              "</table>\n",
              "</div>\n",
              "    <div class=\"colab-df-buttons\">\n",
              "\n",
              "  <div class=\"colab-df-container\">\n",
              "    <button class=\"colab-df-convert\" onclick=\"convertToInteractive('df-8e462e2a-f7ee-4b3d-8878-fd39232f7851')\"\n",
              "            title=\"Convert this dataframe to an interactive table.\"\n",
              "            style=\"display:none;\">\n",
              "\n",
              "  <svg xmlns=\"http://www.w3.org/2000/svg\" height=\"24px\" viewBox=\"0 -960 960 960\">\n",
              "    <path d=\"M120-120v-720h720v720H120Zm60-500h600v-160H180v160Zm220 220h160v-160H400v160Zm0 220h160v-160H400v160ZM180-400h160v-160H180v160Zm440 0h160v-160H620v160ZM180-180h160v-160H180v160Zm440 0h160v-160H620v160Z\"/>\n",
              "  </svg>\n",
              "    </button>\n",
              "\n",
              "  <style>\n",
              "    .colab-df-container {\n",
              "      display:flex;\n",
              "      gap: 12px;\n",
              "    }\n",
              "\n",
              "    .colab-df-convert {\n",
              "      background-color: #E8F0FE;\n",
              "      border: none;\n",
              "      border-radius: 50%;\n",
              "      cursor: pointer;\n",
              "      display: none;\n",
              "      fill: #1967D2;\n",
              "      height: 32px;\n",
              "      padding: 0 0 0 0;\n",
              "      width: 32px;\n",
              "    }\n",
              "\n",
              "    .colab-df-convert:hover {\n",
              "      background-color: #E2EBFA;\n",
              "      box-shadow: 0px 1px 2px rgba(60, 64, 67, 0.3), 0px 1px 3px 1px rgba(60, 64, 67, 0.15);\n",
              "      fill: #174EA6;\n",
              "    }\n",
              "\n",
              "    .colab-df-buttons div {\n",
              "      margin-bottom: 4px;\n",
              "    }\n",
              "\n",
              "    [theme=dark] .colab-df-convert {\n",
              "      background-color: #3B4455;\n",
              "      fill: #D2E3FC;\n",
              "    }\n",
              "\n",
              "    [theme=dark] .colab-df-convert:hover {\n",
              "      background-color: #434B5C;\n",
              "      box-shadow: 0px 1px 3px 1px rgba(0, 0, 0, 0.15);\n",
              "      filter: drop-shadow(0px 1px 2px rgba(0, 0, 0, 0.3));\n",
              "      fill: #FFFFFF;\n",
              "    }\n",
              "  </style>\n",
              "\n",
              "    <script>\n",
              "      const buttonEl =\n",
              "        document.querySelector('#df-8e462e2a-f7ee-4b3d-8878-fd39232f7851 button.colab-df-convert');\n",
              "      buttonEl.style.display =\n",
              "        google.colab.kernel.accessAllowed ? 'block' : 'none';\n",
              "\n",
              "      async function convertToInteractive(key) {\n",
              "        const element = document.querySelector('#df-8e462e2a-f7ee-4b3d-8878-fd39232f7851');\n",
              "        const dataTable =\n",
              "          await google.colab.kernel.invokeFunction('convertToInteractive',\n",
              "                                                    [key], {});\n",
              "        if (!dataTable) return;\n",
              "\n",
              "        const docLinkHtml = 'Like what you see? Visit the ' +\n",
              "          '<a target=\"_blank\" href=https://colab.research.google.com/notebooks/data_table.ipynb>data table notebook</a>'\n",
              "          + ' to learn more about interactive tables.';\n",
              "        element.innerHTML = '';\n",
              "        dataTable['output_type'] = 'display_data';\n",
              "        await google.colab.output.renderOutput(dataTable, element);\n",
              "        const docLink = document.createElement('div');\n",
              "        docLink.innerHTML = docLinkHtml;\n",
              "        element.appendChild(docLink);\n",
              "      }\n",
              "    </script>\n",
              "  </div>\n",
              "\n",
              "\n",
              "<div id=\"df-da652309-2d4b-4eae-af55-1d6ceb495266\">\n",
              "  <button class=\"colab-df-quickchart\" onclick=\"quickchart('df-da652309-2d4b-4eae-af55-1d6ceb495266')\"\n",
              "            title=\"Suggest charts\"\n",
              "            style=\"display:none;\">\n",
              "\n",
              "<svg xmlns=\"http://www.w3.org/2000/svg\" height=\"24px\"viewBox=\"0 0 24 24\"\n",
              "     width=\"24px\">\n",
              "    <g>\n",
              "        <path d=\"M19 3H5c-1.1 0-2 .9-2 2v14c0 1.1.9 2 2 2h14c1.1 0 2-.9 2-2V5c0-1.1-.9-2-2-2zM9 17H7v-7h2v7zm4 0h-2V7h2v10zm4 0h-2v-4h2v4z\"/>\n",
              "    </g>\n",
              "</svg>\n",
              "  </button>\n",
              "\n",
              "<style>\n",
              "  .colab-df-quickchart {\n",
              "      --bg-color: #E8F0FE;\n",
              "      --fill-color: #1967D2;\n",
              "      --hover-bg-color: #E2EBFA;\n",
              "      --hover-fill-color: #174EA6;\n",
              "      --disabled-fill-color: #AAA;\n",
              "      --disabled-bg-color: #DDD;\n",
              "  }\n",
              "\n",
              "  [theme=dark] .colab-df-quickchart {\n",
              "      --bg-color: #3B4455;\n",
              "      --fill-color: #D2E3FC;\n",
              "      --hover-bg-color: #434B5C;\n",
              "      --hover-fill-color: #FFFFFF;\n",
              "      --disabled-bg-color: #3B4455;\n",
              "      --disabled-fill-color: #666;\n",
              "  }\n",
              "\n",
              "  .colab-df-quickchart {\n",
              "    background-color: var(--bg-color);\n",
              "    border: none;\n",
              "    border-radius: 50%;\n",
              "    cursor: pointer;\n",
              "    display: none;\n",
              "    fill: var(--fill-color);\n",
              "    height: 32px;\n",
              "    padding: 0;\n",
              "    width: 32px;\n",
              "  }\n",
              "\n",
              "  .colab-df-quickchart:hover {\n",
              "    background-color: var(--hover-bg-color);\n",
              "    box-shadow: 0 1px 2px rgba(60, 64, 67, 0.3), 0 1px 3px 1px rgba(60, 64, 67, 0.15);\n",
              "    fill: var(--button-hover-fill-color);\n",
              "  }\n",
              "\n",
              "  .colab-df-quickchart-complete:disabled,\n",
              "  .colab-df-quickchart-complete:disabled:hover {\n",
              "    background-color: var(--disabled-bg-color);\n",
              "    fill: var(--disabled-fill-color);\n",
              "    box-shadow: none;\n",
              "  }\n",
              "\n",
              "  .colab-df-spinner {\n",
              "    border: 2px solid var(--fill-color);\n",
              "    border-color: transparent;\n",
              "    border-bottom-color: var(--fill-color);\n",
              "    animation:\n",
              "      spin 1s steps(1) infinite;\n",
              "  }\n",
              "\n",
              "  @keyframes spin {\n",
              "    0% {\n",
              "      border-color: transparent;\n",
              "      border-bottom-color: var(--fill-color);\n",
              "      border-left-color: var(--fill-color);\n",
              "    }\n",
              "    20% {\n",
              "      border-color: transparent;\n",
              "      border-left-color: var(--fill-color);\n",
              "      border-top-color: var(--fill-color);\n",
              "    }\n",
              "    30% {\n",
              "      border-color: transparent;\n",
              "      border-left-color: var(--fill-color);\n",
              "      border-top-color: var(--fill-color);\n",
              "      border-right-color: var(--fill-color);\n",
              "    }\n",
              "    40% {\n",
              "      border-color: transparent;\n",
              "      border-right-color: var(--fill-color);\n",
              "      border-top-color: var(--fill-color);\n",
              "    }\n",
              "    60% {\n",
              "      border-color: transparent;\n",
              "      border-right-color: var(--fill-color);\n",
              "    }\n",
              "    80% {\n",
              "      border-color: transparent;\n",
              "      border-right-color: var(--fill-color);\n",
              "      border-bottom-color: var(--fill-color);\n",
              "    }\n",
              "    90% {\n",
              "      border-color: transparent;\n",
              "      border-bottom-color: var(--fill-color);\n",
              "    }\n",
              "  }\n",
              "</style>\n",
              "\n",
              "  <script>\n",
              "    async function quickchart(key) {\n",
              "      const quickchartButtonEl =\n",
              "        document.querySelector('#' + key + ' button');\n",
              "      quickchartButtonEl.disabled = true;  // To prevent multiple clicks.\n",
              "      quickchartButtonEl.classList.add('colab-df-spinner');\n",
              "      try {\n",
              "        const charts = await google.colab.kernel.invokeFunction(\n",
              "            'suggestCharts', [key], {});\n",
              "      } catch (error) {\n",
              "        console.error('Error during call to suggestCharts:', error);\n",
              "      }\n",
              "      quickchartButtonEl.classList.remove('colab-df-spinner');\n",
              "      quickchartButtonEl.classList.add('colab-df-quickchart-complete');\n",
              "    }\n",
              "    (() => {\n",
              "      let quickchartButtonEl =\n",
              "        document.querySelector('#df-da652309-2d4b-4eae-af55-1d6ceb495266 button');\n",
              "      quickchartButtonEl.style.display =\n",
              "        google.colab.kernel.accessAllowed ? 'block' : 'none';\n",
              "    })();\n",
              "  </script>\n",
              "</div>\n",
              "\n",
              "    </div>\n",
              "  </div>\n"
            ],
            "application/vnd.google.colaboratory.intrinsic+json": {
              "type": "dataframe",
              "variable_name": "tips",
              "summary": "{\n  \"name\": \"tips\",\n  \"rows\": 244,\n  \"fields\": [\n    {\n      \"column\": \"total_bill\",\n      \"properties\": {\n        \"dtype\": \"number\",\n        \"std\": 8.902411954856856,\n        \"min\": 3.07,\n        \"max\": 50.81,\n        \"num_unique_values\": 229,\n        \"samples\": [\n          22.12,\n          20.23,\n          14.78\n        ],\n        \"semantic_type\": \"\",\n        \"description\": \"\"\n      }\n    },\n    {\n      \"column\": \"tip\",\n      \"properties\": {\n        \"dtype\": \"number\",\n        \"std\": 1.3836381890011826,\n        \"min\": 1.0,\n        \"max\": 10.0,\n        \"num_unique_values\": 123,\n        \"samples\": [\n          3.35,\n          1.5,\n          6.73\n        ],\n        \"semantic_type\": \"\",\n        \"description\": \"\"\n      }\n    },\n    {\n      \"column\": \"sex\",\n      \"properties\": {\n        \"dtype\": \"category\",\n        \"num_unique_values\": 2,\n        \"samples\": [\n          \"Male\",\n          \"Female\"\n        ],\n        \"semantic_type\": \"\",\n        \"description\": \"\"\n      }\n    },\n    {\n      \"column\": \"smoker\",\n      \"properties\": {\n        \"dtype\": \"category\",\n        \"num_unique_values\": 2,\n        \"samples\": [\n          \"Yes\",\n          \"No\"\n        ],\n        \"semantic_type\": \"\",\n        \"description\": \"\"\n      }\n    },\n    {\n      \"column\": \"day\",\n      \"properties\": {\n        \"dtype\": \"category\",\n        \"num_unique_values\": 4,\n        \"samples\": [\n          \"Sat\",\n          \"Fri\"\n        ],\n        \"semantic_type\": \"\",\n        \"description\": \"\"\n      }\n    },\n    {\n      \"column\": \"time\",\n      \"properties\": {\n        \"dtype\": \"category\",\n        \"num_unique_values\": 2,\n        \"samples\": [\n          \"Lunch\",\n          \"Dinner\"\n        ],\n        \"semantic_type\": \"\",\n        \"description\": \"\"\n      }\n    },\n    {\n      \"column\": \"size\",\n      \"properties\": {\n        \"dtype\": \"number\",\n        \"std\": 0,\n        \"min\": 1,\n        \"max\": 6,\n        \"num_unique_values\": 6,\n        \"samples\": [\n          2,\n          3\n        ],\n        \"semantic_type\": \"\",\n        \"description\": \"\"\n      }\n    }\n  ]\n}"
            }
          },
          "metadata": {},
          "execution_count": 13
        }
      ]
    },
    {
      "cell_type": "markdown",
      "source": [
        "### 시각화\n",
        "- 독립성 검정을 시행할 수 있는 변수는 총 3개인 것 확인 가능\n",
        "- 시나리오\n",
        "  + 성별에 따라서 팁의 액수 평균차이가 존재할까?\n",
        "  + 흡연여부에 따라서 팁의 액수 평균차이가 존재할까?\n",
        "  + 시간대에 따라서 팁의 액수 평균차이가 존재할까?"
      ],
      "metadata": {
        "id": "OknU4yioyVgO"
      }
    },
    {
      "cell_type": "code",
      "source": [
        "tips['size'].value_counts()"
      ],
      "metadata": {
        "colab": {
          "base_uri": "https://localhost:8080/",
          "height": 303
        },
        "id": "gQWnN2s013Mz",
        "outputId": "5c4c508f-fd3b-4a56-f880-47673dd97ddc"
      },
      "execution_count": 14,
      "outputs": [
        {
          "output_type": "execute_result",
          "data": {
            "text/plain": [
              "size\n",
              "2    156\n",
              "3     38\n",
              "4     37\n",
              "5      5\n",
              "1      4\n",
              "6      4\n",
              "Name: count, dtype: int64"
            ],
            "text/html": [
              "<div>\n",
              "<style scoped>\n",
              "    .dataframe tbody tr th:only-of-type {\n",
              "        vertical-align: middle;\n",
              "    }\n",
              "\n",
              "    .dataframe tbody tr th {\n",
              "        vertical-align: top;\n",
              "    }\n",
              "\n",
              "    .dataframe thead th {\n",
              "        text-align: right;\n",
              "    }\n",
              "</style>\n",
              "<table border=\"1\" class=\"dataframe\">\n",
              "  <thead>\n",
              "    <tr style=\"text-align: right;\">\n",
              "      <th></th>\n",
              "      <th>count</th>\n",
              "    </tr>\n",
              "    <tr>\n",
              "      <th>size</th>\n",
              "      <th></th>\n",
              "    </tr>\n",
              "  </thead>\n",
              "  <tbody>\n",
              "    <tr>\n",
              "      <th>2</th>\n",
              "      <td>156</td>\n",
              "    </tr>\n",
              "    <tr>\n",
              "      <th>3</th>\n",
              "      <td>38</td>\n",
              "    </tr>\n",
              "    <tr>\n",
              "      <th>4</th>\n",
              "      <td>37</td>\n",
              "    </tr>\n",
              "    <tr>\n",
              "      <th>5</th>\n",
              "      <td>5</td>\n",
              "    </tr>\n",
              "    <tr>\n",
              "      <th>1</th>\n",
              "      <td>4</td>\n",
              "    </tr>\n",
              "    <tr>\n",
              "      <th>6</th>\n",
              "      <td>4</td>\n",
              "    </tr>\n",
              "  </tbody>\n",
              "</table>\n",
              "</div><br><label><b>dtype:</b> int64</label>"
            ]
          },
          "metadata": {},
          "execution_count": 14
        }
      ]
    },
    {
      "cell_type": "markdown",
      "source": [
        "- 히스토그램\n",
        "  + 데이터가 연속형일때, 숫자일 때 그래프 그려야 함\n",
        "  + tip을 그립니다."
      ],
      "metadata": {
        "id": "SkQrAPu82trS"
      }
    },
    {
      "cell_type": "code",
      "source": [
        "import matplotlib.pyplot as plt\n",
        "import seaborn as sns\n",
        "\n",
        "# 데이터 분리\n",
        "smoker_yes = tips.loc[tips['smoker'] == 'Yes', :]\n",
        "smoker_no = tips.loc[tips['smoker'] == 'No', :]\n",
        "\n",
        "# 시각화\n",
        "fig, ax = plt.subplots(nrows = 1, ncols = 2, figsize=(15, 5))\n",
        "sns.histplot(smoker_yes['tip'], ax = ax[0])\n",
        "sns.histplot(smoker_no['tip'], ax = ax[1])\n",
        "plt.show()"
      ],
      "metadata": {
        "colab": {
          "base_uri": "https://localhost:8080/",
          "height": 444
        },
        "id": "NW8BwY0N4OE_",
        "outputId": "32e7cab6-72da-4a36-8b2a-4fe96d43c5b4"
      },
      "execution_count": 15,
      "outputs": [
        {
          "output_type": "display_data",
          "data": {
            "text/plain": [
              "<Figure size 1500x500 with 2 Axes>"
            ],
            "image/png": "[encoded data removed]"
          },
          "metadata": {}
        }
      ]
    },
    {
      "cell_type": "markdown",
      "source": [
        "### 정규분포를 이루는 데이터"
      ],
      "metadata": {
        "id": "zOSVNHGk58r7"
      }
    },
    {
      "cell_type": "code",
      "source": [
        "# 정규분포를 이루는 데이터\n",
        "import numpy as np\n",
        "import seaborn as sns\n",
        "from matplotlib import pyplot as plt\n",
        "from scipy.stats import probplot\n",
        "from scipy.stats import shapiro\n",
        "\n",
        "np.random.seed(42)\n",
        "normal_data = np.random.normal(size=100)\n",
        "\n",
        "fig, axes = plt.subplots(1, 2, figsize=(15, 5))\n",
        "\n",
        "probplot(normal_data, dist=\"norm\", plot = axes[0]);\n",
        "sns.histplot(normal_data, axes=axes[1]);\n",
        "\n",
        "titles = ['QQ plot', 'Histogram']\n",
        "for i, ax in enumerate(axes):\n",
        "    ax.spines[['right', 'top']].set_visible(False)\n",
        "    ax.set_title(titles[i])\n",
        "\n",
        "plt.show()\n",
        "shapiro(normal_data)"
      ],
      "metadata": {
        "colab": {
          "base_uri": "https://localhost:8080/",
          "height": 519
        },
        "id": "Ptfsq4Kz4sQx",
        "outputId": "592bc717-f227-48d2-e3bc-5665acf3b424"
      },
      "execution_count": 16,
      "outputs": [
        {
          "output_type": "stream",
          "name": "stderr",
          "text": [
            "/usr/local/lib/python3.10/dist-packages/IPython/core/pylabtools.py:151: UserWarning: Glyph 8722 (\\N{MINUS SIGN}) missing from current font.\n",
            "  fig.canvas.print_figure(bytes_io, **kw)\n"
          ]
        },
        {
          "output_type": "display_data",
          "data": {
            "text/plain": [
              "<Figure size 1500x500 with 2 Axes>"
            ],
            "image/png": "[encoded data removed]"
          },
          "metadata": {}
        },
        {
          "output_type": "execute_result",
          "data": {
            "text/plain": [
              "ShapiroResult(statistic=0.9898833815158516, pvalue=0.6551676754214818)"
            ]
          },
          "metadata": {},
          "execution_count": 16
        }
      ]
    },
    {
      "cell_type": "markdown",
      "source": [
        "### 샤피로 윌크 검정\n",
        "- 데이터가 30개 미만이라는 가정 하에 정규성 검정 시행\n",
        "  + 할 필요는 없음\n",
        "- 가설검정\n",
        "  + 귀무가설 : 데이터는 정규분포다\n",
        "  + 대립가설 : 데이터는 정규분포가 아니다"
      ],
      "metadata": {
        "id": "CVfdlrwQ63l3"
      }
    },
    {
      "cell_type": "code",
      "source": [
        "# 정규분포를 이루지 못하는 데이터\n",
        "import numpy as np\n",
        "import seaborn as sns\n",
        "from matplotlib import pyplot as plt\n",
        "from scipy.stats import probplot\n",
        "from scipy.stats import shapiro\n",
        "\n",
        "np.random.seed(42)\n",
        "smoker_yes = tips.loc[tips['smoker'] == 'No', :]\n",
        "normal_data = smoker_yes['tip']\n",
        "\n",
        "fig, axes = plt.subplots(1, 2, figsize=(15, 5))\n",
        "\n",
        "probplot(normal_data, dist=\"norm\", plot = axes[0]);\n",
        "sns.histplot(normal_data, axes=axes[1]);\n",
        "\n",
        "titles = ['QQ plot', 'Histogram']\n",
        "for i, ax in enumerate(axes):\n",
        "    ax.spines[['right', 'top']].set_visible(False)\n",
        "    ax.set_title(titles[i])\n",
        "\n",
        "plt.show()\n",
        "shapiro(normal_data)"
      ],
      "metadata": {
        "colab": {
          "base_uri": "https://localhost:8080/",
          "height": 520
        },
        "id": "mzLjDzAC6-L1",
        "outputId": "797cb04f-0aaf-4d4b-cd6a-a1fb293b3b39"
      },
      "execution_count": 17,
      "outputs": [
        {
          "output_type": "stream",
          "name": "stderr",
          "text": [
            "/usr/local/lib/python3.10/dist-packages/IPython/core/pylabtools.py:151: UserWarning: Glyph 8722 (\\N{MINUS SIGN}) missing from current font.\n",
            "  fig.canvas.print_figure(bytes_io, **kw)\n"
          ]
        },
        {
          "output_type": "display_data",
          "data": {
            "text/plain": [
              "<Figure size 1500x500 with 2 Axes>"
            ],
            "image/png": "[encoded data removed]"
          },
          "metadata": {}
        },
        {
          "output_type": "execute_result",
          "data": {
            "text/plain": [
              "ShapiroResult(statistic=0.9040014583128897, pvalue=2.0587577392218136e-08)"
            ]
          },
          "metadata": {},
          "execution_count": 17
        }
      ]
    },
    {
      "cell_type": "markdown",
      "source": [
        "### 등분산성 검정"
      ],
      "metadata": {
        "id": "fF_XBg_w78b3"
      }
    },
    {
      "cell_type": "code",
      "source": [
        "fig, ax = plt.subplots(1, 1)\n",
        "sns.pointplot(x = 'smoker', y = 'tip', data = tips)\n",
        "sns.despine()"
      ],
      "metadata": {
        "colab": {
          "base_uri": "https://localhost:8080/",
          "height": 453
        },
        "id": "9DZsylZt9xil",
        "outputId": "7ffb7e4b-f184-4012-bd51-96ab3d1c793a"
      },
      "execution_count": 18,
      "outputs": [
        {
          "output_type": "display_data",
          "data": {
            "text/plain": [
              "<Figure size 640x480 with 1 Axes>"
            ],
            "image/png": "[encoded data removed]"
          },
          "metadata": {}
        }
      ]
    },
    {
      "cell_type": "code",
      "source": [
        "from scipy import stats\n",
        "\n",
        "# tips\n",
        "# smoker_yes, smoker_no\n",
        "\n",
        "t, p = stats.levene(smoker_yes['tip'], smoker_no['tip'])\n",
        "t, p # 0.88"
      ],
      "metadata": {
        "colab": {
          "base_uri": "https://localhost:8080/"
        },
        "id": "rDbrgb429F2k",
        "outputId": "fb9fe722-2353-46ea-8ac3-8cb4a6869b17"
      },
      "execution_count": 19,
      "outputs": [
        {
          "output_type": "execute_result",
          "data": {
            "text/plain": [
              "(0.0, 1.0)"
            ]
          },
          "metadata": {},
          "execution_count": 19
        }
      ]
    },
    {
      "cell_type": "markdown",
      "source": [
        "- 두 그룹의 분산은 같다."
      ],
      "metadata": {
        "id": "3KTZack1-jnc"
      }
    },
    {
      "cell_type": "markdown",
      "source": [
        "### 가설검정\n",
        "- 귀무가설 : 두 그룹의 평균은 같다\n",
        "- 대립가설 : 두 그룹의 평균은 다르다"
      ],
      "metadata": {
        "id": "a6fv9Net-xQI"
      }
    },
    {
      "cell_type": "code",
      "source": [
        "from scipy import stats\n",
        "t_stat, p_val = stats.ttest_ind(smoker_yes['tip'], smoker_no['tip'], equal_var=True)\n",
        "\n",
        "# Output the results\n",
        "print(f\"T-statistic: {t_stat}\") # 0.09\n",
        "print(f\"P-value: {p_val}\") # 0.9265"
      ],
      "metadata": {
        "colab": {
          "base_uri": "https://localhost:8080/"
        },
        "id": "Uqg10iwY-mmg",
        "outputId": "27fe8188-6a38-45ec-c621-2ccb6208f13c"
      },
      "execution_count": 20,
      "outputs": [
        {
          "output_type": "stream",
          "name": "stdout",
          "text": [
            "T-statistic: 0.0\n",
            "P-value: 1.0\n"
          ]
        }
      ]
    },
    {
      "cell_type": "markdown",
      "source": [
        "### 박스플롯 시각화\n",
        "- 두그룹의 박스플롯 시각화 결과 확인"
      ],
      "metadata": {
        "id": "8JF8HOzd-7gn"
      }
    },
    {
      "cell_type": "markdown",
      "source": [
        "## t-검정 paired t-test\n",
        "- 절차\n",
        "  + 정규성 검정\n",
        "    + 귀무가설 : 데이터는 정규분포다\n",
        "    + 대립가설 : 데이터는 정규분포가 아니다.\n",
        "    + 여기서의 데이터는 difference 값을 의미"
      ],
      "metadata": {
        "id": "ka6tRegCcZgo"
      }
    },
    {
      "cell_type": "code",
      "source": [
        "import pandas as pd\n",
        "import numpy as np\n",
        "\n",
        "np.random.seed(42)\n",
        "\n",
        "exam1_scores = np.random.uniform(50, 100, 20)\n",
        "exam2_scores = exam1_scores + np.random.normal(0, 10, 20)\n",
        "\n",
        "df = pd.DataFrame({\n",
        "    'Student_ID': range(1, 21),\n",
        "    'Exam1_Score': exam1_scores,\n",
        "    'Exam2_Score': exam2_scores\n",
        "})\n",
        "\n",
        "df['Exam1_Score'] = df['Exam1_Score'].astype('int64')\n",
        "df['Exam2_Score'] = df['Exam2_Score'].astype('int64')\n",
        "df['diff'] = df['Exam2_Score'] - df['Exam1_Score']\n",
        "\n",
        "df.head(1)"
      ],
      "metadata": {
        "colab": {
          "base_uri": "https://localhost:8080/",
          "height": 80
        },
        "id": "OqaLzeFzguZL",
        "outputId": "0d7c7935-1f08-486c-fc4a-c6018b5207e5"
      },
      "execution_count": 21,
      "outputs": [
        {
          "output_type": "execute_result",
          "data": {
            "text/plain": [
              "   Student_ID  Exam1_Score  Exam2_Score  diff\n",
              "0           1           68           58   -10"
            ],
            "text/html": [
              "\n",
              "  <div id=\"df-b1948dee-4e52-46ca-8cbb-f504ee2ee45c\" class=\"colab-df-container\">\n",
              "    <div>\n",
              "<style scoped>\n",
              "    .dataframe tbody tr th:only-of-type {\n",
              "        vertical-align: middle;\n",
              "    }\n",
              "\n",
              "    .dataframe tbody tr th {\n",
              "        vertical-align: top;\n",
              "    }\n",
              "\n",
              "    .dataframe thead th {\n",
              "        text-align: right;\n",
              "    }\n",
              "</style>\n",
              "<table border=\"1\" class=\"dataframe\">\n",
              "  <thead>\n",
              "    <tr style=\"text-align: right;\">\n",
              "      <th></th>\n",
              "      <th>Student_ID</th>\n",
              "      <th>Exam1_Score</th>\n",
              "      <th>Exam2_Score</th>\n",
              "      <th>diff</th>\n",
              "    </tr>\n",
              "  </thead>\n",
              "  <tbody>\n",
              "    <tr>\n",
              "      <th>0</th>\n",
              "      <td>1</td>\n",
              "      <td>68</td>\n",
              "      <td>58</td>\n",
              "      <td>-10</td>\n",
              "    </tr>\n",
              "  </tbody>\n",
              "</table>\n",
              "</div>\n",
              "    <div class=\"colab-df-buttons\">\n",
              "\n",
              "  <div class=\"colab-df-container\">\n",
              "    <button class=\"colab-df-convert\" onclick=\"convertToInteractive('df-b1948dee-4e52-46ca-8cbb-f504ee2ee45c')\"\n",
              "            title=\"Convert this dataframe to an interactive table.\"\n",
              "            style=\"display:none;\">\n",
              "\n",
              "  <svg xmlns=\"http://www.w3.org/2000/svg\" height=\"24px\" viewBox=\"0 -960 960 960\">\n",
              "    <path d=\"M120-120v-720h720v720H120Zm60-500h600v-160H180v160Zm220 220h160v-160H400v160Zm0 220h160v-160H400v160ZM180-400h160v-160H180v160Zm440 0h160v-160H620v160ZM180-180h160v-160H180v160Zm440 0h160v-160H620v160Z\"/>\n",
              "  </svg>\n",
              "    </button>\n",
              "\n",
              "  <style>\n",
              "    .colab-df-container {\n",
              "      display:flex;\n",
              "      gap: 12px;\n",
              "    }\n",
              "\n",
              "    .colab-df-convert {\n",
              "      background-color: #E8F0FE;\n",
              "      border: none;\n",
              "      border-radius: 50%;\n",
              "      cursor: pointer;\n",
              "      display: none;\n",
              "      fill: #1967D2;\n",
              "      height: 32px;\n",
              "      padding: 0 0 0 0;\n",
              "      width: 32px;\n",
              "    }\n",
              "\n",
              "    .colab-df-convert:hover {\n",
              "      background-color: #E2EBFA;\n",
              "      box-shadow: 0px 1px 2px rgba(60, 64, 67, 0.3), 0px 1px 3px 1px rgba(60, 64, 67, 0.15);\n",
              "      fill: #174EA6;\n",
              "    }\n",
              "\n",
              "    .colab-df-buttons div {\n",
              "      margin-bottom: 4px;\n",
              "    }\n",
              "\n",
              "    [theme=dark] .colab-df-convert {\n",
              "      background-color: #3B4455;\n",
              "      fill: #D2E3FC;\n",
              "    }\n",
              "\n",
              "    [theme=dark] .colab-df-convert:hover {\n",
              "      background-color: #434B5C;\n",
              "      box-shadow: 0px 1px 3px 1px rgba(0, 0, 0, 0.15);\n",
              "      filter: drop-shadow(0px 1px 2px rgba(0, 0, 0, 0.3));\n",
              "      fill: #FFFFFF;\n",
              "    }\n",
              "  </style>\n",
              "\n",
              "    <script>\n",
              "      const buttonEl =\n",
              "        document.querySelector('#df-b1948dee-4e52-46ca-8cbb-f504ee2ee45c button.colab-df-convert');\n",
              "      buttonEl.style.display =\n",
              "        google.colab.kernel.accessAllowed ? 'block' : 'none';\n",
              "\n",
              "      async function convertToInteractive(key) {\n",
              "        const element = document.querySelector('#df-b1948dee-4e52-46ca-8cbb-f504ee2ee45c');\n",
              "        const dataTable =\n",
              "          await google.colab.kernel.invokeFunction('convertToInteractive',\n",
              "                                                    [key], {});\n",
              "        if (!dataTable) return;\n",
              "\n",
              "        const docLinkHtml = 'Like what you see? Visit the ' +\n",
              "          '<a target=\"_blank\" href=https://colab.research.google.com/notebooks/data_table.ipynb>data table notebook</a>'\n",
              "          + ' to learn more about interactive tables.';\n",
              "        element.innerHTML = '';\n",
              "        dataTable['output_type'] = 'display_data';\n",
              "        await google.colab.output.renderOutput(dataTable, element);\n",
              "        const docLink = document.createElement('div');\n",
              "        docLink.innerHTML = docLinkHtml;\n",
              "        element.appendChild(docLink);\n",
              "      }\n",
              "    </script>\n",
              "  </div>\n",
              "\n",
              "\n",
              "    </div>\n",
              "  </div>\n"
            ],
            "application/vnd.google.colaboratory.intrinsic+json": {
              "type": "dataframe",
              "variable_name": "df",
              "summary": "{\n  \"name\": \"df\",\n  \"rows\": 20,\n  \"fields\": [\n    {\n      \"column\": \"Student_ID\",\n      \"properties\": {\n        \"dtype\": \"number\",\n        \"std\": 5,\n        \"min\": 1,\n        \"max\": 20,\n        \"num_unique_values\": 20,\n        \"samples\": [\n          1,\n          18,\n          16\n        ],\n        \"semantic_type\": \"\",\n        \"description\": \"\"\n      }\n    },\n    {\n      \"column\": \"Exam1_Score\",\n      \"properties\": {\n        \"dtype\": \"number\",\n        \"std\": 15,\n        \"min\": 51,\n        \"max\": 98,\n        \"num_unique_values\": 18,\n        \"samples\": [\n          68,\n          97,\n          85\n        ],\n        \"semantic_type\": \"\",\n        \"description\": \"\"\n      }\n    },\n    {\n      \"column\": \"Exam2_Score\",\n      \"properties\": {\n        \"dtype\": \"number\",\n        \"std\": 16,\n        \"min\": 39,\n        \"max\": 102,\n        \"num_unique_values\": 15,\n        \"samples\": [\n          86,\n          102,\n          58\n        ],\n        \"semantic_type\": \"\",\n        \"description\": \"\"\n      }\n    },\n    {\n      \"column\": \"diff\",\n      \"properties\": {\n        \"dtype\": \"number\",\n        \"std\": 9,\n        \"min\": -14,\n        \"max\": 18,\n        \"num_unique_values\": 15,\n        \"samples\": [\n          4,\n          18,\n          -10\n        ],\n        \"semantic_type\": \"\",\n        \"description\": \"\"\n      }\n    }\n  ]\n}"
            }
          },
          "metadata": {},
          "execution_count": 21
        }
      ]
    },
    {
      "cell_type": "code",
      "source": [
        "df.shape"
      ],
      "metadata": {
        "colab": {
          "base_uri": "https://localhost:8080/"
        },
        "id": "WlB__lcog6Ul",
        "outputId": "6cebe857-46eb-4e6e-b9d5-bd2291c4a956"
      },
      "execution_count": 22,
      "outputs": [
        {
          "output_type": "execute_result",
          "data": {
            "text/plain": [
              "(20, 4)"
            ]
          },
          "metadata": {},
          "execution_count": 22
        }
      ]
    },
    {
      "cell_type": "code",
      "source": [
        "np.random.seed(42)\n",
        "normal_data = df['diff']\n",
        "\n",
        "fig, axes = plt.subplots(1, 2, figsize=(15, 5))\n",
        "\n",
        "probplot(normal_data, dist=\"norm\", plot = axes[0]);\n",
        "sns.histplot(normal_data, axes=axes[1]);\n",
        "\n",
        "titles = ['QQ plot', 'Histogram']\n",
        "for i, ax in enumerate(axes):\n",
        "    ax.spines[['right', 'top']].set_visible(False)\n",
        "    ax.set_title(titles[i])\n",
        "\n",
        "plt.show()\n",
        "shapiro(normal_data)"
      ],
      "metadata": {
        "colab": {
          "base_uri": "https://localhost:8080/",
          "height": 516
        },
        "id": "kD6FyVWXhPN0",
        "outputId": "6ee15b8c-4419-4bc9-e9d8-5ecbef0b9116"
      },
      "execution_count": 23,
      "outputs": [
        {
          "output_type": "stream",
          "name": "stderr",
          "text": [
            "/usr/local/lib/python3.10/dist-packages/IPython/core/pylabtools.py:151: UserWarning: Glyph 8722 (\\N{MINUS SIGN}) missing from current font.\n",
            "  fig.canvas.print_figure(bytes_io, **kw)\n"
          ]
        },
        {
          "output_type": "display_data",
          "data": {
            "text/plain": [
              "<Figure size 1500x500 with 2 Axes>"
            ],
            "image/png": "[encoded data removed]"
          },
          "metadata": {}
        },
        {
          "output_type": "execute_result",
          "data": {
            "text/plain": [
              "ShapiroResult(statistic=0.9267928086509175, pvalue=0.13394043618879037)"
            ]
          },
          "metadata": {},
          "execution_count": 23
        }
      ]
    },
    {
      "cell_type": "markdown",
      "source": [
        "- 가설검정"
      ],
      "metadata": {
        "id": "O7kPrRd3hg7b"
      }
    },
    {
      "cell_type": "code",
      "source": [
        "from scipy import stats\n",
        "\n",
        "# 코드 작성\n",
        "t, p = stats.ttest_rel(df['Exam1_Score'], df['Exam2_Score'])\n",
        "\n",
        "t, p"
      ],
      "metadata": {
        "colab": {
          "base_uri": "https://localhost:8080/"
        },
        "id": "SAl2xVbVhirC",
        "outputId": "c4e941b7-9982-4903-c0f8-64de911d8236"
      },
      "execution_count": 25,
      "outputs": [
        {
          "output_type": "execute_result",
          "data": {
            "text/plain": [
              "(1.343652804294727, 0.19488870621876497)"
            ]
          },
          "metadata": {},
          "execution_count": 25
        }
      ]
    },
    {
      "cell_type": "markdown",
      "source": [
        "# 분산분석\n",
        "- 가설설정\n",
        "  + 귀무가설 : day 컬럼의 평균 tip 차이가 없다!\n",
        "  + 대립가설 : day 컬럼의 평균 tip 차이가 있다!\n",
        "- 귀무가설 채택 시(p.value >= 0.05), 사후검정 할 필요 없음\n",
        "- 귀무가설 기각 ==> 대립가설 채택, 사후검정 진행\n",
        "  + 해석은 두 평균의 비교 검정하는 방법대로 진행, 결과 해석"
      ],
      "metadata": {
        "id": "ooV9vjkJk17z"
      }
    },
    {
      "cell_type": "markdown",
      "source": [],
      "metadata": {
        "id": "1zMg-cX61s4g"
      }
    },
    {
      "cell_type": "code",
      "source": [
        "import seaborn as sns\n",
        "\n",
        "tips = sns.load_dataset(\"tips\")\n",
        "tips['day'].value_counts()"
      ],
      "metadata": {
        "colab": {
          "base_uri": "https://localhost:8080/",
          "height": 241
        },
        "id": "MIcaUg66k0Sm",
        "outputId": "be221d20-b2c6-4fbc-d7e1-1b8b91329b8b"
      },
      "execution_count": 28,
      "outputs": [
        {
          "output_type": "execute_result",
          "data": {
            "text/plain": [
              "day\n",
              "Sat     87\n",
              "Sun     76\n",
              "Thur    62\n",
              "Fri     19\n",
              "Name: count, dtype: int64"
            ],
            "text/html": [
              "<div>\n",
              "<style scoped>\n",
              "    .dataframe tbody tr th:only-of-type {\n",
              "        vertical-align: middle;\n",
              "    }\n",
              "\n",
              "    .dataframe tbody tr th {\n",
              "        vertical-align: top;\n",
              "    }\n",
              "\n",
              "    .dataframe thead th {\n",
              "        text-align: right;\n",
              "    }\n",
              "</style>\n",
              "<table border=\"1\" class=\"dataframe\">\n",
              "  <thead>\n",
              "    <tr style=\"text-align: right;\">\n",
              "      <th></th>\n",
              "      <th>count</th>\n",
              "    </tr>\n",
              "    <tr>\n",
              "      <th>day</th>\n",
              "      <th></th>\n",
              "    </tr>\n",
              "  </thead>\n",
              "  <tbody>\n",
              "    <tr>\n",
              "      <th>Sat</th>\n",
              "      <td>87</td>\n",
              "    </tr>\n",
              "    <tr>\n",
              "      <th>Sun</th>\n",
              "      <td>76</td>\n",
              "    </tr>\n",
              "    <tr>\n",
              "      <th>Thur</th>\n",
              "      <td>62</td>\n",
              "    </tr>\n",
              "    <tr>\n",
              "      <th>Fri</th>\n",
              "      <td>19</td>\n",
              "    </tr>\n",
              "  </tbody>\n",
              "</table>\n",
              "</div><br><label><b>dtype:</b> int64</label>"
            ]
          },
          "metadata": {},
          "execution_count": 28
        }
      ]
    },
    {
      "cell_type": "markdown",
      "source": [
        "## pingouin"
      ],
      "metadata": {
        "id": "DEN7HddPum78"
      }
    },
    {
      "cell_type": "code",
      "source": [
        "!pip install pingouin -qq"
      ],
      "metadata": {
        "id": "PWgJ4jHou1mO"
      },
      "execution_count": 33,
      "outputs": []
    },
    {
      "cell_type": "markdown",
      "source": [
        "tips 데이터, tip, day"
      ],
      "metadata": {
        "id": "gcJm9Rb9xHkr"
      }
    },
    {
      "cell_type": "code",
      "source": [
        "tips = tips.loc[tips['day'].isin(['Thur', 'Sat', 'Sun']), :].reset_index(drop=True).copy()\n",
        "tips['day'].value_counts()"
      ],
      "metadata": {
        "colab": {
          "base_uri": "https://localhost:8080/",
          "height": 241
        },
        "id": "uzBJ_EmayZmN",
        "outputId": "7f671ead-4a3f-46d7-c3ed-5ceda089e1da"
      },
      "execution_count": 46,
      "outputs": [
        {
          "output_type": "execute_result",
          "data": {
            "text/plain": [
              "day\n",
              "Sat     87\n",
              "Sun     76\n",
              "Thur    62\n",
              "Fri      0\n",
              "Name: count, dtype: int64"
            ],
            "text/html": [
              "<div>\n",
              "<style scoped>\n",
              "    .dataframe tbody tr th:only-of-type {\n",
              "        vertical-align: middle;\n",
              "    }\n",
              "\n",
              "    .dataframe tbody tr th {\n",
              "        vertical-align: top;\n",
              "    }\n",
              "\n",
              "    .dataframe thead th {\n",
              "        text-align: right;\n",
              "    }\n",
              "</style>\n",
              "<table border=\"1\" class=\"dataframe\">\n",
              "  <thead>\n",
              "    <tr style=\"text-align: right;\">\n",
              "      <th></th>\n",
              "      <th>count</th>\n",
              "    </tr>\n",
              "    <tr>\n",
              "      <th>day</th>\n",
              "      <th></th>\n",
              "    </tr>\n",
              "  </thead>\n",
              "  <tbody>\n",
              "    <tr>\n",
              "      <th>Sat</th>\n",
              "      <td>87</td>\n",
              "    </tr>\n",
              "    <tr>\n",
              "      <th>Sun</th>\n",
              "      <td>76</td>\n",
              "    </tr>\n",
              "    <tr>\n",
              "      <th>Thur</th>\n",
              "      <td>62</td>\n",
              "    </tr>\n",
              "    <tr>\n",
              "      <th>Fri</th>\n",
              "      <td>0</td>\n",
              "    </tr>\n",
              "  </tbody>\n",
              "</table>\n",
              "</div><br><label><b>dtype:</b> int64</label>"
            ]
          },
          "metadata": {},
          "execution_count": 46
        }
      ]
    },
    {
      "cell_type": "code",
      "source": [
        "import pingouin as pg\n",
        "\n",
        "df = pg.read_dataset('anova')\n",
        "\n",
        "# 등분산성 검정\n",
        "pg.homoscedasticity(data=tips, dv='tip', group='size')"
      ],
      "metadata": {
        "colab": {
          "base_uri": "https://localhost:8080/",
          "height": 80
        },
        "id": "PUKvsHYbukt8",
        "outputId": "f1c913cc-39d7-464d-dab4-d364cb7479e4"
      },
      "execution_count": 54,
      "outputs": [
        {
          "output_type": "execute_result",
          "data": {
            "text/plain": [
              "               W      pval  equal_var\n",
              "levene  2.509446  0.031098      False"
            ],
            "text/html": [
              "\n",
              "  <div id=\"df-eaee833e-c5c6-4892-a39b-bcd7d19fd098\" class=\"colab-df-container\">\n",
              "    <div>\n",
              "<style scoped>\n",
              "    .dataframe tbody tr th:only-of-type {\n",
              "        vertical-align: middle;\n",
              "    }\n",
              "\n",
              "    .dataframe tbody tr th {\n",
              "        vertical-align: top;\n",
              "    }\n",
              "\n",
              "    .dataframe thead th {\n",
              "        text-align: right;\n",
              "    }\n",
              "</style>\n",
              "<table border=\"1\" class=\"dataframe\">\n",
              "  <thead>\n",
              "    <tr style=\"text-align: right;\">\n",
              "      <th></th>\n",
              "      <th>W</th>\n",
              "      <th>pval</th>\n",
              "      <th>equal_var</th>\n",
              "    </tr>\n",
              "  </thead>\n",
              "  <tbody>\n",
              "    <tr>\n",
              "      <th>levene</th>\n",
              "      <td>2.509446</td>\n",
              "      <td>0.031098</td>\n",
              "      <td>False</td>\n",
              "    </tr>\n",
              "  </tbody>\n",
              "</table>\n",
              "</div>\n",
              "    <div class=\"colab-df-buttons\">\n",
              "\n",
              "  <div class=\"colab-df-container\">\n",
              "    <button class=\"colab-df-convert\" onclick=\"convertToInteractive('df-eaee833e-c5c6-4892-a39b-bcd7d19fd098')\"\n",
              "            title=\"Convert this dataframe to an interactive table.\"\n",
              "            style=\"display:none;\">\n",
              "\n",
              "  <svg xmlns=\"http://www.w3.org/2000/svg\" height=\"24px\" viewBox=\"0 -960 960 960\">\n",
              "    <path d=\"M120-120v-720h720v720H120Zm60-500h600v-160H180v160Zm220 220h160v-160H400v160Zm0 220h160v-160H400v160ZM180-400h160v-160H180v160Zm440 0h160v-160H620v160ZM180-180h160v-160H180v160Zm440 0h160v-160H620v160Z\"/>\n",
              "  </svg>\n",
              "    </button>\n",
              "\n",
              "  <style>\n",
              "    .colab-df-container {\n",
              "      display:flex;\n",
              "      gap: 12px;\n",
              "    }\n",
              "\n",
              "    .colab-df-convert {\n",
              "      background-color: #E8F0FE;\n",
              "      border: none;\n",
              "      border-radius: 50%;\n",
              "      cursor: pointer;\n",
              "      display: none;\n",
              "      fill: #1967D2;\n",
              "      height: 32px;\n",
              "      padding: 0 0 0 0;\n",
              "      width: 32px;\n",
              "    }\n",
              "\n",
              "    .colab-df-convert:hover {\n",
              "      background-color: #E2EBFA;\n",
              "      box-shadow: 0px 1px 2px rgba(60, 64, 67, 0.3), 0px 1px 3px 1px rgba(60, 64, 67, 0.15);\n",
              "      fill: #174EA6;\n",
              "    }\n",
              "\n",
              "    .colab-df-buttons div {\n",
              "      margin-bottom: 4px;\n",
              "    }\n",
              "\n",
              "    [theme=dark] .colab-df-convert {\n",
              "      background-color: #3B4455;\n",
              "      fill: #D2E3FC;\n",
              "    }\n",
              "\n",
              "    [theme=dark] .colab-df-convert:hover {\n",
              "      background-color: #434B5C;\n",
              "      box-shadow: 0px 1px 3px 1px rgba(0, 0, 0, 0.15);\n",
              "      filter: drop-shadow(0px 1px 2px rgba(0, 0, 0, 0.3));\n",
              "      fill: #FFFFFF;\n",
              "    }\n",
              "  </style>\n",
              "\n",
              "    <script>\n",
              "      const buttonEl =\n",
              "        document.querySelector('#df-eaee833e-c5c6-4892-a39b-bcd7d19fd098 button.colab-df-convert');\n",
              "      buttonEl.style.display =\n",
              "        google.colab.kernel.accessAllowed ? 'block' : 'none';\n",
              "\n",
              "      async function convertToInteractive(key) {\n",
              "        const element = document.querySelector('#df-eaee833e-c5c6-4892-a39b-bcd7d19fd098');\n",
              "        const dataTable =\n",
              "          await google.colab.kernel.invokeFunction('convertToInteractive',\n",
              "                                                    [key], {});\n",
              "        if (!dataTable) return;\n",
              "\n",
              "        const docLinkHtml = 'Like what you see? Visit the ' +\n",
              "          '<a target=\"_blank\" href=https://colab.research.google.com/notebooks/data_table.ipynb>data table notebook</a>'\n",
              "          + ' to learn more about interactive tables.';\n",
              "        element.innerHTML = '';\n",
              "        dataTable['output_type'] = 'display_data';\n",
              "        await google.colab.output.renderOutput(dataTable, element);\n",
              "        const docLink = document.createElement('div');\n",
              "        docLink.innerHTML = docLinkHtml;\n",
              "        element.appendChild(docLink);\n",
              "      }\n",
              "    </script>\n",
              "  </div>\n",
              "\n",
              "\n",
              "    </div>\n",
              "  </div>\n"
            ],
            "application/vnd.google.colaboratory.intrinsic+json": {
              "type": "dataframe",
              "summary": "{\n  \"name\": \"pg\",\n  \"rows\": 1,\n  \"fields\": [\n    {\n      \"column\": \"W\",\n      \"properties\": {\n        \"dtype\": \"number\",\n        \"std\": null,\n        \"min\": 2.5094455324862346,\n        \"max\": 2.5094455324862346,\n        \"num_unique_values\": 1,\n        \"samples\": [\n          2.5094455324862346\n        ],\n        \"semantic_type\": \"\",\n        \"description\": \"\"\n      }\n    },\n    {\n      \"column\": \"pval\",\n      \"properties\": {\n        \"dtype\": \"number\",\n        \"std\": null,\n        \"min\": 0.031097915971187055,\n        \"max\": 0.031097915971187055,\n        \"num_unique_values\": 1,\n        \"samples\": [\n          0.031097915971187055\n        ],\n        \"semantic_type\": \"\",\n        \"description\": \"\"\n      }\n    },\n    {\n      \"column\": \"equal_var\",\n      \"properties\": {\n        \"dtype\": \"boolean\",\n        \"num_unique_values\": 1,\n        \"samples\": [\n          false\n        ],\n        \"semantic_type\": \"\",\n        \"description\": \"\"\n      }\n    }\n  ]\n}"
            }
          },
          "metadata": {},
          "execution_count": 54
        }
      ]
    },
    {
      "cell_type": "code",
      "source": [
        "# 분산분석\n",
        "# pg.anova(data=tips, dv='tip', between='day')\n",
        "pg.welch_anova(data=tips, dv='tip', between='size')"
      ],
      "metadata": {
        "colab": {
          "base_uri": "https://localhost:8080/",
          "height": 80
        },
        "id": "-oDzVahCutM5",
        "outputId": "9208bf87-31f7-4112-eb68-691ee1ccdfd6"
      },
      "execution_count": 58,
      "outputs": [
        {
          "output_type": "execute_result",
          "data": {
            "text/plain": [
              "  Source  ddof1      ddof2          F     p-unc       np2\n",
              "0   size      5  11.146508  14.435058  0.000151  0.247747"
            ],
            "text/html": [
              "\n",
              "  <div id=\"df-49d0c062-4a10-4e93-8727-2d3dd8fe0bbe\" class=\"colab-df-container\">\n",
              "    <div>\n",
              "<style scoped>\n",
              "    .dataframe tbody tr th:only-of-type {\n",
              "        vertical-align: middle;\n",
              "    }\n",
              "\n",
              "    .dataframe tbody tr th {\n",
              "        vertical-align: top;\n",
              "    }\n",
              "\n",
              "    .dataframe thead th {\n",
              "        text-align: right;\n",
              "    }\n",
              "</style>\n",
              "<table border=\"1\" class=\"dataframe\">\n",
              "  <thead>\n",
              "    <tr style=\"text-align: right;\">\n",
              "      <th></th>\n",
              "      <th>Source</th>\n",
              "      <th>ddof1</th>\n",
              "      <th>ddof2</th>\n",
              "      <th>F</th>\n",
              "      <th>p-unc</th>\n",
              "      <th>np2</th>\n",
              "    </tr>\n",
              "  </thead>\n",
              "  <tbody>\n",
              "    <tr>\n",
              "      <th>0</th>\n",
              "      <td>size</td>\n",
              "      <td>5</td>\n",
              "      <td>11.146508</td>\n",
              "      <td>14.435058</td>\n",
              "      <td>0.000151</td>\n",
              "      <td>0.247747</td>\n",
              "    </tr>\n",
              "  </tbody>\n",
              "</table>\n",
              "</div>\n",
              "    <div class=\"colab-df-buttons\">\n",
              "\n",
              "  <div class=\"colab-df-container\">\n",
              "    <button class=\"colab-df-convert\" onclick=\"convertToInteractive('df-49d0c062-4a10-4e93-8727-2d3dd8fe0bbe')\"\n",
              "            title=\"Convert this dataframe to an interactive table.\"\n",
              "            style=\"display:none;\">\n",
              "\n",
              "  <svg xmlns=\"http://www.w3.org/2000/svg\" height=\"24px\" viewBox=\"0 -960 960 960\">\n",
              "    <path d=\"M120-120v-720h720v720H120Zm60-500h600v-160H180v160Zm220 220h160v-160H400v160Zm0 220h160v-160H400v160ZM180-400h160v-160H180v160Zm440 0h160v-160H620v160ZM180-180h160v-160H180v160Zm440 0h160v-160H620v160Z\"/>\n",
              "  </svg>\n",
              "    </button>\n",
              "\n",
              "  <style>\n",
              "    .colab-df-container {\n",
              "      display:flex;\n",
              "      gap: 12px;\n",
              "    }\n",
              "\n",
              "    .colab-df-convert {\n",
              "      background-color: #E8F0FE;\n",
              "      border: none;\n",
              "      border-radius: 50%;\n",
              "      cursor: pointer;\n",
              "      display: none;\n",
              "      fill: #1967D2;\n",
              "      height: 32px;\n",
              "      padding: 0 0 0 0;\n",
              "      width: 32px;\n",
              "    }\n",
              "\n",
              "    .colab-df-convert:hover {\n",
              "      background-color: #E2EBFA;\n",
              "      box-shadow: 0px 1px 2px rgba(60, 64, 67, 0.3), 0px 1px 3px 1px rgba(60, 64, 67, 0.15);\n",
              "      fill: #174EA6;\n",
              "    }\n",
              "\n",
              "    .colab-df-buttons div {\n",
              "      margin-bottom: 4px;\n",
              "    }\n",
              "\n",
              "    [theme=dark] .colab-df-convert {\n",
              "      background-color: #3B4455;\n",
              "      fill: #D2E3FC;\n",
              "    }\n",
              "\n",
              "    [theme=dark] .colab-df-convert:hover {\n",
              "      background-color: #434B5C;\n",
              "      box-shadow: 0px 1px 3px 1px rgba(0, 0, 0, 0.15);\n",
              "      filter: drop-shadow(0px 1px 2px rgba(0, 0, 0, 0.3));\n",
              "      fill: #FFFFFF;\n",
              "    }\n",
              "  </style>\n",
              "\n",
              "    <script>\n",
              "      const buttonEl =\n",
              "        document.querySelector('#df-49d0c062-4a10-4e93-8727-2d3dd8fe0bbe button.colab-df-convert');\n",
              "      buttonEl.style.display =\n",
              "        google.colab.kernel.accessAllowed ? 'block' : 'none';\n",
              "\n",
              "      async function convertToInteractive(key) {\n",
              "        const element = document.querySelector('#df-49d0c062-4a10-4e93-8727-2d3dd8fe0bbe');\n",
              "        const dataTable =\n",
              "          await google.colab.kernel.invokeFunction('convertToInteractive',\n",
              "                                                    [key], {});\n",
              "        if (!dataTable) return;\n",
              "\n",
              "        const docLinkHtml = 'Like what you see? Visit the ' +\n",
              "          '<a target=\"_blank\" href=https://colab.research.google.com/notebooks/data_table.ipynb>data table notebook</a>'\n",
              "          + ' to learn more about interactive tables.';\n",
              "        element.innerHTML = '';\n",
              "        dataTable['output_type'] = 'display_data';\n",
              "        await google.colab.output.renderOutput(dataTable, element);\n",
              "        const docLink = document.createElement('div');\n",
              "        docLink.innerHTML = docLinkHtml;\n",
              "        element.appendChild(docLink);\n",
              "      }\n",
              "    </script>\n",
              "  </div>\n",
              "\n",
              "\n",
              "    </div>\n",
              "  </div>\n"
            ],
            "application/vnd.google.colaboratory.intrinsic+json": {
              "type": "dataframe",
              "summary": "{\n  \"name\": \"pg\",\n  \"rows\": 1,\n  \"fields\": [\n    {\n      \"column\": \"Source\",\n      \"properties\": {\n        \"dtype\": \"string\",\n        \"num_unique_values\": 1,\n        \"samples\": [\n          \"size\"\n        ],\n        \"semantic_type\": \"\",\n        \"description\": \"\"\n      }\n    },\n    {\n      \"column\": \"ddof1\",\n      \"properties\": {\n        \"dtype\": \"number\",\n        \"std\": null,\n        \"min\": 5,\n        \"max\": 5,\n        \"num_unique_values\": 1,\n        \"samples\": [\n          5\n        ],\n        \"semantic_type\": \"\",\n        \"description\": \"\"\n      }\n    },\n    {\n      \"column\": \"ddof2\",\n      \"properties\": {\n        \"dtype\": \"number\",\n        \"std\": null,\n        \"min\": 11.1465080877552,\n        \"max\": 11.1465080877552,\n        \"num_unique_values\": 1,\n        \"samples\": [\n          11.1465080877552\n        ],\n        \"semantic_type\": \"\",\n        \"description\": \"\"\n      }\n    },\n    {\n      \"column\": \"F\",\n      \"properties\": {\n        \"dtype\": \"number\",\n        \"std\": null,\n        \"min\": 14.435058101008448,\n        \"max\": 14.435058101008448,\n        \"num_unique_values\": 1,\n        \"samples\": [\n          14.435058101008448\n        ],\n        \"semantic_type\": \"\",\n        \"description\": \"\"\n      }\n    },\n    {\n      \"column\": \"p-unc\",\n      \"properties\": {\n        \"dtype\": \"number\",\n        \"std\": null,\n        \"min\": 0.00015113098021236817,\n        \"max\": 0.00015113098021236817,\n        \"num_unique_values\": 1,\n        \"samples\": [\n          0.00015113098021236817\n        ],\n        \"semantic_type\": \"\",\n        \"description\": \"\"\n      }\n    },\n    {\n      \"column\": \"np2\",\n      \"properties\": {\n        \"dtype\": \"number\",\n        \"std\": null,\n        \"min\": 0.24774672600088665,\n        \"max\": 0.24774672600088665,\n        \"num_unique_values\": 1,\n        \"samples\": [\n          0.24774672600088665\n        ],\n        \"semantic_type\": \"\",\n        \"description\": \"\"\n      }\n    }\n  ]\n}"
            }
          },
          "metadata": {},
          "execution_count": 58
        }
      ]
    },
    {
      "cell_type": "code",
      "source": [
        "import pingouin as pg\n",
        "\n",
        "df = pg.read_dataset('anova')\n",
        "\n",
        "# 등분산성 검정\n",
        "pg.homoscedasticity(data=tips, dv='tip', group='size')\n",
        "\n",
        "pg.welch_anova(data=tips, dv='tip', between='size')\n",
        "\n",
        "result = pg.pairwise_gameshowell(data=tips, dv='tip', between='size')\n",
        "result['가설검정결과'] = result['pval'].apply(lambda p : '귀무가설 기각' if p < 0.05 else '귀무가설 채택')\n",
        "\n",
        "\n",
        "def highlight_reject(s):\n",
        "    color = 'background-color: lightcoral' if s['가설검정결과'] == '귀무가설 기각' else ''\n",
        "    return [color] * len(s)\n",
        "\n",
        "# Apply the highlighting function\n",
        "styled_results = result.style.apply(highlight_reject, axis=1)\n",
        "styled_results"
      ],
      "metadata": {
        "colab": {
          "base_uri": "https://localhost:8080/",
          "height": 519
        },
        "id": "tmungeHrvQe0",
        "outputId": "74865095-38ef-44d3-bb68-54f2c177edd6"
      },
      "execution_count": 64,
      "outputs": [
        {
          "output_type": "execute_result",
          "data": {
            "text/plain": [
              "<pandas.io.formats.style.Styler at 0x7c4659827250>"
            ],
            "text/html": [
              "<style type=\"text/css\">\n",
              "#T_fc1ff_row1_col0, #T_fc1ff_row1_col1, #T_fc1ff_row1_col2, #T_fc1ff_row1_col3, #T_fc1ff_row1_col4, #T_fc1ff_row1_col5, #T_fc1ff_row1_col6, #T_fc1ff_row1_col7, #T_fc1ff_row1_col8, #T_fc1ff_row1_col9, #T_fc1ff_row1_col10, #T_fc1ff_row2_col0, #T_fc1ff_row2_col1, #T_fc1ff_row2_col2, #T_fc1ff_row2_col3, #T_fc1ff_row2_col4, #T_fc1ff_row2_col5, #T_fc1ff_row2_col6, #T_fc1ff_row2_col7, #T_fc1ff_row2_col8, #T_fc1ff_row2_col9, #T_fc1ff_row2_col10, #T_fc1ff_row4_col0, #T_fc1ff_row4_col1, #T_fc1ff_row4_col2, #T_fc1ff_row4_col3, #T_fc1ff_row4_col4, #T_fc1ff_row4_col5, #T_fc1ff_row4_col6, #T_fc1ff_row4_col7, #T_fc1ff_row4_col8, #T_fc1ff_row4_col9, #T_fc1ff_row4_col10, #T_fc1ff_row5_col0, #T_fc1ff_row5_col1, #T_fc1ff_row5_col2, #T_fc1ff_row5_col3, #T_fc1ff_row5_col4, #T_fc1ff_row5_col5, #T_fc1ff_row5_col6, #T_fc1ff_row5_col7, #T_fc1ff_row5_col8, #T_fc1ff_row5_col9, #T_fc1ff_row5_col10, #T_fc1ff_row6_col0, #T_fc1ff_row6_col1, #T_fc1ff_row6_col2, #T_fc1ff_row6_col3, #T_fc1ff_row6_col4, #T_fc1ff_row6_col5, #T_fc1ff_row6_col6, #T_fc1ff_row6_col7, #T_fc1ff_row6_col8, #T_fc1ff_row6_col9, #T_fc1ff_row6_col10 {\n",
              "  background-color: lightcoral;\n",
              "}\n",
              "</style>\n",
              "<table id=\"T_fc1ff\" class=\"dataframe\">\n",
              "  <thead>\n",
              "    <tr>\n",
              "      <th class=\"blank level0\" >&nbsp;</th>\n",
              "      <th id=\"T_fc1ff_level0_col0\" class=\"col_heading level0 col0\" >A</th>\n",
              "      <th id=\"T_fc1ff_level0_col1\" class=\"col_heading level0 col1\" >B</th>\n",
              "      <th id=\"T_fc1ff_level0_col2\" class=\"col_heading level0 col2\" >mean(A)</th>\n",
              "      <th id=\"T_fc1ff_level0_col3\" class=\"col_heading level0 col3\" >mean(B)</th>\n",
              "      <th id=\"T_fc1ff_level0_col4\" class=\"col_heading level0 col4\" >diff</th>\n",
              "      <th id=\"T_fc1ff_level0_col5\" class=\"col_heading level0 col5\" >se</th>\n",
              "      <th id=\"T_fc1ff_level0_col6\" class=\"col_heading level0 col6\" >T</th>\n",
              "      <th id=\"T_fc1ff_level0_col7\" class=\"col_heading level0 col7\" >df</th>\n",
              "      <th id=\"T_fc1ff_level0_col8\" class=\"col_heading level0 col8\" >pval</th>\n",
              "      <th id=\"T_fc1ff_level0_col9\" class=\"col_heading level0 col9\" >hedges</th>\n",
              "      <th id=\"T_fc1ff_level0_col10\" class=\"col_heading level0 col10\" >가설검정결과</th>\n",
              "    </tr>\n",
              "  </thead>\n",
              "  <tbody>\n",
              "    <tr>\n",
              "      <th id=\"T_fc1ff_level0_row0\" class=\"row_heading level0 row0\" >0</th>\n",
              "      <td id=\"T_fc1ff_row0_col0\" class=\"data row0 col0\" >1</td>\n",
              "      <td id=\"T_fc1ff_row0_col1\" class=\"data row0 col1\" >2</td>\n",
              "      <td id=\"T_fc1ff_row0_col2\" class=\"data row0 col2\" >1.276667</td>\n",
              "      <td id=\"T_fc1ff_row0_col3\" class=\"data row0 col3\" >2.575214</td>\n",
              "      <td id=\"T_fc1ff_row0_col4\" class=\"data row0 col4\" >-1.298548</td>\n",
              "      <td id=\"T_fc1ff_row0_col5\" class=\"data row0 col5\" >0.289075</td>\n",
              "      <td id=\"T_fc1ff_row0_col6\" class=\"data row0 col6\" >-4.492084</td>\n",
              "      <td id=\"T_fc1ff_row0_col7\" class=\"data row0 col7\" >2.383363</td>\n",
              "      <td id=\"T_fc1ff_row0_col8\" class=\"data row0 col8\" >0.126465</td>\n",
              "      <td id=\"T_fc1ff_row0_col9\" class=\"data row0 col9\" >-1.310048</td>\n",
              "      <td id=\"T_fc1ff_row0_col10\" class=\"data row0 col10\" >귀무가설 채택</td>\n",
              "    </tr>\n",
              "    <tr>\n",
              "      <th id=\"T_fc1ff_level0_row1\" class=\"row_heading level0 row1\" >1</th>\n",
              "      <td id=\"T_fc1ff_row1_col0\" class=\"data row1 col0\" >1</td>\n",
              "      <td id=\"T_fc1ff_row1_col1\" class=\"data row1 col1\" >3</td>\n",
              "      <td id=\"T_fc1ff_row1_col2\" class=\"data row1 col2\" >1.276667</td>\n",
              "      <td id=\"T_fc1ff_row1_col3\" class=\"data row1 col3\" >3.403784</td>\n",
              "      <td id=\"T_fc1ff_row1_col4\" class=\"data row1 col4\" >-2.127117</td>\n",
              "      <td id=\"T_fc1ff_row1_col5\" class=\"data row1 col5\" >0.379203</td>\n",
              "      <td id=\"T_fc1ff_row1_col6\" class=\"data row1 col6\" >-5.609435</td>\n",
              "      <td id=\"T_fc1ff_row1_col7\" class=\"data row1 col7\" >6.767928</td>\n",
              "      <td id=\"T_fc1ff_row1_col8\" class=\"data row1 col8\" >0.007325</td>\n",
              "      <td id=\"T_fc1ff_row1_col9\" class=\"data row1 col9\" >-1.354430</td>\n",
              "      <td id=\"T_fc1ff_row1_col10\" class=\"data row1 col10\" >귀무가설 기각</td>\n",
              "    </tr>\n",
              "    <tr>\n",
              "      <th id=\"T_fc1ff_level0_row2\" class=\"row_heading level0 row2\" >2</th>\n",
              "      <td id=\"T_fc1ff_row2_col0\" class=\"data row2 col0\" >1</td>\n",
              "      <td id=\"T_fc1ff_row2_col1\" class=\"data row2 col1\" >4</td>\n",
              "      <td id=\"T_fc1ff_row2_col2\" class=\"data row2 col2\" >1.276667</td>\n",
              "      <td id=\"T_fc1ff_row2_col3\" class=\"data row2 col3\" >4.118889</td>\n",
              "      <td id=\"T_fc1ff_row2_col4\" class=\"data row2 col4\" >-2.842222</td>\n",
              "      <td id=\"T_fc1ff_row2_col5\" class=\"data row2 col5\" >0.391362</td>\n",
              "      <td id=\"T_fc1ff_row2_col6\" class=\"data row2 col6\" >-7.262382</td>\n",
              "      <td id=\"T_fc1ff_row2_col7\" class=\"data row2 col7\" >7.574227</td>\n",
              "      <td id=\"T_fc1ff_row2_col8\" class=\"data row2 col8\" >0.001029</td>\n",
              "      <td id=\"T_fc1ff_row2_col9\" class=\"data row2 col9\" >-1.719560</td>\n",
              "      <td id=\"T_fc1ff_row2_col10\" class=\"data row2 col10\" >귀무가설 기각</td>\n",
              "    </tr>\n",
              "    <tr>\n",
              "      <th id=\"T_fc1ff_level0_row3\" class=\"row_heading level0 row3\" >3</th>\n",
              "      <td id=\"T_fc1ff_row3_col0\" class=\"data row3 col0\" >1</td>\n",
              "      <td id=\"T_fc1ff_row3_col1\" class=\"data row3 col1\" >5</td>\n",
              "      <td id=\"T_fc1ff_row3_col2\" class=\"data row3 col2\" >1.276667</td>\n",
              "      <td id=\"T_fc1ff_row3_col3\" class=\"data row3 col3\" >4.028000</td>\n",
              "      <td id=\"T_fc1ff_row3_col4\" class=\"data row3 col4\" >-2.751333</td>\n",
              "      <td id=\"T_fc1ff_row3_col5\" class=\"data row3 col5\" >0.700948</td>\n",
              "      <td id=\"T_fc1ff_row3_col6\" class=\"data row3 col6\" >-3.925159</td>\n",
              "      <td id=\"T_fc1ff_row3_col7\" class=\"data row3 col7\" >5.254649</td>\n",
              "      <td id=\"T_fc1ff_row3_col8\" class=\"data row3 col8\" >0.063720</td>\n",
              "      <td id=\"T_fc1ff_row3_col9\" class=\"data row3 col9\" >-1.980588</td>\n",
              "      <td id=\"T_fc1ff_row3_col10\" class=\"data row3 col10\" >귀무가설 채택</td>\n",
              "    </tr>\n",
              "    <tr>\n",
              "      <th id=\"T_fc1ff_level0_row4\" class=\"row_heading level0 row4\" >4</th>\n",
              "      <td id=\"T_fc1ff_row4_col0\" class=\"data row4 col0\" >1</td>\n",
              "      <td id=\"T_fc1ff_row4_col1\" class=\"data row4 col1\" >6</td>\n",
              "      <td id=\"T_fc1ff_row4_col2\" class=\"data row4 col2\" >1.276667</td>\n",
              "      <td id=\"T_fc1ff_row4_col3\" class=\"data row4 col3\" >5.225000</td>\n",
              "      <td id=\"T_fc1ff_row4_col4\" class=\"data row4 col4\" >-3.948333</td>\n",
              "      <td id=\"T_fc1ff_row4_col5\" class=\"data row4 col5\" >0.594841</td>\n",
              "      <td id=\"T_fc1ff_row4_col6\" class=\"data row4 col6\" >-6.637625</td>\n",
              "      <td id=\"T_fc1ff_row4_col7\" class=\"data row4 col7\" >4.383792</td>\n",
              "      <td id=\"T_fc1ff_row4_col8\" class=\"data row4 col8\" >0.011909</td>\n",
              "      <td id=\"T_fc1ff_row4_col9\" class=\"data row4 col9\" >-3.820594</td>\n",
              "      <td id=\"T_fc1ff_row4_col10\" class=\"data row4 col10\" >귀무가설 기각</td>\n",
              "    </tr>\n",
              "    <tr>\n",
              "      <th id=\"T_fc1ff_level0_row5\" class=\"row_heading level0 row5\" >5</th>\n",
              "      <td id=\"T_fc1ff_row5_col0\" class=\"data row5 col0\" >2</td>\n",
              "      <td id=\"T_fc1ff_row5_col1\" class=\"data row5 col1\" >3</td>\n",
              "      <td id=\"T_fc1ff_row5_col2\" class=\"data row5 col2\" >2.575214</td>\n",
              "      <td id=\"T_fc1ff_row5_col3\" class=\"data row5 col3\" >3.403784</td>\n",
              "      <td id=\"T_fc1ff_row5_col4\" class=\"data row5 col4\" >-0.828569</td>\n",
              "      <td id=\"T_fc1ff_row5_col5\" class=\"data row5 col5\" >0.272526</td>\n",
              "      <td id=\"T_fc1ff_row5_col6\" class=\"data row5 col6\" >-3.040330</td>\n",
              "      <td id=\"T_fc1ff_row5_col7\" class=\"data row5 col7\" >43.784116</td>\n",
              "      <td id=\"T_fc1ff_row5_col8\" class=\"data row5 col8\" >0.043093</td>\n",
              "      <td id=\"T_fc1ff_row5_col9\" class=\"data row5 col9\" >-0.725690</td>\n",
              "      <td id=\"T_fc1ff_row5_col10\" class=\"data row5 col10\" >귀무가설 기각</td>\n",
              "    </tr>\n",
              "    <tr>\n",
              "      <th id=\"T_fc1ff_level0_row6\" class=\"row_heading level0 row6\" >6</th>\n",
              "      <td id=\"T_fc1ff_row6_col0\" class=\"data row6 col0\" >2</td>\n",
              "      <td id=\"T_fc1ff_row6_col1\" class=\"data row6 col1\" >4</td>\n",
              "      <td id=\"T_fc1ff_row6_col2\" class=\"data row6 col2\" >2.575214</td>\n",
              "      <td id=\"T_fc1ff_row6_col3\" class=\"data row6 col3\" >4.118889</td>\n",
              "      <td id=\"T_fc1ff_row6_col4\" class=\"data row6 col4\" >-1.543675</td>\n",
              "      <td id=\"T_fc1ff_row6_col5\" class=\"data row6 col5\" >0.289205</td>\n",
              "      <td id=\"T_fc1ff_row6_col6\" class=\"data row6 col6\" >-5.337644</td>\n",
              "      <td id=\"T_fc1ff_row6_col7\" class=\"data row6 col7\" >41.619021</td>\n",
              "      <td id=\"T_fc1ff_row6_col8\" class=\"data row6 col8\" >0.000051</td>\n",
              "      <td id=\"T_fc1ff_row6_col9\" class=\"data row6 col9\" >-1.327819</td>\n",
              "      <td id=\"T_fc1ff_row6_col10\" class=\"data row6 col10\" >귀무가설 기각</td>\n",
              "    </tr>\n",
              "    <tr>\n",
              "      <th id=\"T_fc1ff_level0_row7\" class=\"row_heading level0 row7\" >7</th>\n",
              "      <td id=\"T_fc1ff_row7_col0\" class=\"data row7 col0\" >2</td>\n",
              "      <td id=\"T_fc1ff_row7_col1\" class=\"data row7 col1\" >5</td>\n",
              "      <td id=\"T_fc1ff_row7_col2\" class=\"data row7 col2\" >2.575214</td>\n",
              "      <td id=\"T_fc1ff_row7_col3\" class=\"data row7 col3\" >4.028000</td>\n",
              "      <td id=\"T_fc1ff_row7_col4\" class=\"data row7 col4\" >-1.452786</td>\n",
              "      <td id=\"T_fc1ff_row7_col5\" class=\"data row7 col5\" >0.649464</td>\n",
              "      <td id=\"T_fc1ff_row7_col6\" class=\"data row7 col6\" >-2.236899</td>\n",
              "      <td id=\"T_fc1ff_row7_col7\" class=\"data row7 col7\" >4.136502</td>\n",
              "      <td id=\"T_fc1ff_row7_col8\" class=\"data row7 col8\" >0.376356</td>\n",
              "      <td id=\"T_fc1ff_row7_col9\" class=\"data row7 col9\" >-1.435651</td>\n",
              "      <td id=\"T_fc1ff_row7_col10\" class=\"data row7 col10\" >귀무가설 채택</td>\n",
              "    </tr>\n",
              "    <tr>\n",
              "      <th id=\"T_fc1ff_level0_row8\" class=\"row_heading level0 row8\" >8</th>\n",
              "      <td id=\"T_fc1ff_row8_col0\" class=\"data row8 col0\" >2</td>\n",
              "      <td id=\"T_fc1ff_row8_col1\" class=\"data row8 col1\" >6</td>\n",
              "      <td id=\"T_fc1ff_row8_col2\" class=\"data row8 col2\" >2.575214</td>\n",
              "      <td id=\"T_fc1ff_row8_col3\" class=\"data row8 col3\" >5.225000</td>\n",
              "      <td id=\"T_fc1ff_row8_col4\" class=\"data row8 col4\" >-2.649786</td>\n",
              "      <td id=\"T_fc1ff_row8_col5\" class=\"data row8 col5\" >0.533209</td>\n",
              "      <td id=\"T_fc1ff_row8_col6\" class=\"data row8 col6\" >-4.969511</td>\n",
              "      <td id=\"T_fc1ff_row8_col7\" class=\"data row8 col7\" >3.153770</td>\n",
              "      <td id=\"T_fc1ff_row8_col8\" class=\"data row8 col8\" >0.065643</td>\n",
              "      <td id=\"T_fc1ff_row8_col9\" class=\"data row8 col9\" >-2.655180</td>\n",
              "      <td id=\"T_fc1ff_row8_col10\" class=\"data row8 col10\" >귀무가설 채택</td>\n",
              "    </tr>\n",
              "    <tr>\n",
              "      <th id=\"T_fc1ff_level0_row9\" class=\"row_heading level0 row9\" >9</th>\n",
              "      <td id=\"T_fc1ff_row9_col0\" class=\"data row9 col0\" >3</td>\n",
              "      <td id=\"T_fc1ff_row9_col1\" class=\"data row9 col1\" >4</td>\n",
              "      <td id=\"T_fc1ff_row9_col2\" class=\"data row9 col2\" >3.403784</td>\n",
              "      <td id=\"T_fc1ff_row9_col3\" class=\"data row9 col3\" >4.118889</td>\n",
              "      <td id=\"T_fc1ff_row9_col4\" class=\"data row9 col4\" >-0.715105</td>\n",
              "      <td id=\"T_fc1ff_row9_col5\" class=\"data row9 col5\" >0.379303</td>\n",
              "      <td id=\"T_fc1ff_row9_col6\" class=\"data row9 col6\" >-1.885314</td>\n",
              "      <td id=\"T_fc1ff_row9_col7\" class=\"data row9 col7\" >70.557258</td>\n",
              "      <td id=\"T_fc1ff_row9_col8\" class=\"data row9 col8\" >0.419616</td>\n",
              "      <td id=\"T_fc1ff_row9_col9\" class=\"data row9 col9\" >-0.436994</td>\n",
              "      <td id=\"T_fc1ff_row9_col10\" class=\"data row9 col10\" >귀무가설 채택</td>\n",
              "    </tr>\n",
              "    <tr>\n",
              "      <th id=\"T_fc1ff_level0_row10\" class=\"row_heading level0 row10\" >10</th>\n",
              "      <td id=\"T_fc1ff_row10_col0\" class=\"data row10 col0\" >3</td>\n",
              "      <td id=\"T_fc1ff_row10_col1\" class=\"data row10 col1\" >5</td>\n",
              "      <td id=\"T_fc1ff_row10_col2\" class=\"data row10 col2\" >3.403784</td>\n",
              "      <td id=\"T_fc1ff_row10_col3\" class=\"data row10 col3\" >4.028000</td>\n",
              "      <td id=\"T_fc1ff_row10_col4\" class=\"data row10 col4\" >-0.624216</td>\n",
              "      <td id=\"T_fc1ff_row10_col5\" class=\"data row10 col5\" >0.694287</td>\n",
              "      <td id=\"T_fc1ff_row10_col6\" class=\"data row10 col6\" >-0.899075</td>\n",
              "      <td id=\"T_fc1ff_row10_col7\" class=\"data row10 col7\" >5.386493</td>\n",
              "      <td id=\"T_fc1ff_row10_col8\" class=\"data row10 col8\" >0.932141</td>\n",
              "      <td id=\"T_fc1ff_row10_col9\" class=\"data row10 col9\" >-0.391525</td>\n",
              "      <td id=\"T_fc1ff_row10_col10\" class=\"data row10 col10\" >귀무가설 채택</td>\n",
              "    </tr>\n",
              "    <tr>\n",
              "      <th id=\"T_fc1ff_level0_row11\" class=\"row_heading level0 row11\" >11</th>\n",
              "      <td id=\"T_fc1ff_row11_col0\" class=\"data row11 col0\" >3</td>\n",
              "      <td id=\"T_fc1ff_row11_col1\" class=\"data row11 col1\" >6</td>\n",
              "      <td id=\"T_fc1ff_row11_col2\" class=\"data row11 col2\" >3.403784</td>\n",
              "      <td id=\"T_fc1ff_row11_col3\" class=\"data row11 col3\" >5.225000</td>\n",
              "      <td id=\"T_fc1ff_row11_col4\" class=\"data row11 col4\" >-1.821216</td>\n",
              "      <td id=\"T_fc1ff_row11_col5\" class=\"data row11 col5\" >0.586977</td>\n",
              "      <td id=\"T_fc1ff_row11_col6\" class=\"data row11 col6\" >-3.102702</td>\n",
              "      <td id=\"T_fc1ff_row11_col7\" class=\"data row11 col7\" >4.609031</td>\n",
              "      <td id=\"T_fc1ff_row11_col8\" class=\"data row11 col8\" >0.160549</td>\n",
              "      <td id=\"T_fc1ff_row11_col9\" class=\"data row11 col9\" >-1.157137</td>\n",
              "      <td id=\"T_fc1ff_row11_col10\" class=\"data row11 col10\" >귀무가설 채택</td>\n",
              "    </tr>\n",
              "    <tr>\n",
              "      <th id=\"T_fc1ff_level0_row12\" class=\"row_heading level0 row12\" >12</th>\n",
              "      <td id=\"T_fc1ff_row12_col0\" class=\"data row12 col0\" >4</td>\n",
              "      <td id=\"T_fc1ff_row12_col1\" class=\"data row12 col1\" >5</td>\n",
              "      <td id=\"T_fc1ff_row12_col2\" class=\"data row12 col2\" >4.118889</td>\n",
              "      <td id=\"T_fc1ff_row12_col3\" class=\"data row12 col3\" >4.028000</td>\n",
              "      <td id=\"T_fc1ff_row12_col4\" class=\"data row12 col4\" >0.090889</td>\n",
              "      <td id=\"T_fc1ff_row12_col5\" class=\"data row12 col5\" >0.701002</td>\n",
              "      <td id=\"T_fc1ff_row12_col6\" class=\"data row12 col6\" >0.129656</td>\n",
              "      <td id=\"T_fc1ff_row12_col7\" class=\"data row12 col7\" >5.592461</td>\n",
              "      <td id=\"T_fc1ff_row12_col8\" class=\"data row12 col8\" >0.999991</td>\n",
              "      <td id=\"T_fc1ff_row12_col9\" class=\"data row12 col9\" >0.054362</td>\n",
              "      <td id=\"T_fc1ff_row12_col10\" class=\"data row12 col10\" >귀무가설 채택</td>\n",
              "    </tr>\n",
              "    <tr>\n",
              "      <th id=\"T_fc1ff_level0_row13\" class=\"row_heading level0 row13\" >13</th>\n",
              "      <td id=\"T_fc1ff_row13_col0\" class=\"data row13 col0\" >4</td>\n",
              "      <td id=\"T_fc1ff_row13_col1\" class=\"data row13 col1\" >6</td>\n",
              "      <td id=\"T_fc1ff_row13_col2\" class=\"data row13 col2\" >4.118889</td>\n",
              "      <td id=\"T_fc1ff_row13_col3\" class=\"data row13 col3\" >5.225000</td>\n",
              "      <td id=\"T_fc1ff_row13_col4\" class=\"data row13 col4\" >-1.106111</td>\n",
              "      <td id=\"T_fc1ff_row13_col5\" class=\"data row13 col5\" >0.594905</td>\n",
              "      <td id=\"T_fc1ff_row13_col6\" class=\"data row13 col6\" >-1.859308</td>\n",
              "      <td id=\"T_fc1ff_row13_col7\" class=\"data row13 col7\" >4.855169</td>\n",
              "      <td id=\"T_fc1ff_row13_col8\" class=\"data row13 col8\" >0.509740</td>\n",
              "      <td id=\"T_fc1ff_row13_col9\" class=\"data row13 col9\" >-0.668745</td>\n",
              "      <td id=\"T_fc1ff_row13_col10\" class=\"data row13 col10\" >귀무가설 채택</td>\n",
              "    </tr>\n",
              "    <tr>\n",
              "      <th id=\"T_fc1ff_level0_row14\" class=\"row_heading level0 row14\" >14</th>\n",
              "      <td id=\"T_fc1ff_row14_col0\" class=\"data row14 col0\" >5</td>\n",
              "      <td id=\"T_fc1ff_row14_col1\" class=\"data row14 col1\" >6</td>\n",
              "      <td id=\"T_fc1ff_row14_col2\" class=\"data row14 col2\" >4.028000</td>\n",
              "      <td id=\"T_fc1ff_row14_col3\" class=\"data row14 col3\" >5.225000</td>\n",
              "      <td id=\"T_fc1ff_row14_col4\" class=\"data row14 col4\" >-1.197000</td>\n",
              "      <td id=\"T_fc1ff_row14_col5\" class=\"data row14 col5\" >0.831911</td>\n",
              "      <td id=\"T_fc1ff_row14_col6\" class=\"data row14 col6\" >-1.438856</td>\n",
              "      <td id=\"T_fc1ff_row14_col7\" class=\"data row14 col7\" >6.977813</td>\n",
              "      <td id=\"T_fc1ff_row14_col8\" class=\"data row14 col8\" >0.707483</td>\n",
              "      <td id=\"T_fc1ff_row14_col9\" class=\"data row14 col9\" >-0.825711</td>\n",
              "      <td id=\"T_fc1ff_row14_col10\" class=\"data row14 col10\" >귀무가설 채택</td>\n",
              "    </tr>\n",
              "  </tbody>\n",
              "</table>\n"
            ]
          },
          "metadata": {},
          "execution_count": 64
        }
      ]
    },
    {
      "cell_type": "markdown",
      "source": [
        "## statsmodels"
      ],
      "metadata": {
        "id": "EIT_XoS60SO_"
      }
    },
    {
      "cell_type": "code",
      "source": [
        "import pandas as pd\n",
        "from scipy.stats import shapiro, levene, f_oneway\n",
        "import statsmodels.api as sm\n",
        "from statsmodels.formula.api import ols\n",
        "\n",
        "f_stat, p_value = f_oneway(df[df['Hair color'] == 'Light Blond']['Pain threshold'],\n",
        "                 df[df['Hair color'] == 'Dark Blond']['Pain threshold'],\n",
        "                 df[df['Hair color'] == 'Light Brunette']['Pain threshold'],\n",
        "                 df[df['Hair color'] == 'Dark Brunette']['Pain threshold'])\n",
        "print('F-Statistic:', f_stat, 'P-value:', p_value)"
      ],
      "metadata": {
        "colab": {
          "base_uri": "https://localhost:8080/"
        },
        "id": "l59LIYBS0Tf2",
        "outputId": "09e4805a-bcef-4e31-9be3-43768d8843ca"
      },
      "execution_count": 55,
      "outputs": [
        {
          "output_type": "stream",
          "name": "stdout",
          "text": [
            "F-Statistic: 6.791407046264097 P-value: 0.004114227333077399\n"
          ]
        }
      ]
    },
    {
      "cell_type": "code",
      "source": [
        "model = ols('Q(\"Pain threshold\") ~ C(Q(\"Hair color\"))', data=df).fit()\n",
        "anova_table = sm.stats.anova_lm(model, typ=2)\n",
        "print(anova_table)"
      ],
      "metadata": {
        "colab": {
          "base_uri": "https://localhost:8080/"
        },
        "id": "v3PppIYx0cSe",
        "outputId": "6c31cb98-a75a-4364-819c-dc255866a32e"
      },
      "execution_count": 56,
      "outputs": [
        {
          "output_type": "stream",
          "name": "stdout",
          "text": [
            "                         sum_sq    df         F    PR(>F)\n",
            "C(Q(\"Hair color\"))  1360.726316   3.0  6.791407  0.004114\n",
            "Residual            1001.800000  15.0       NaN       NaN\n"
          ]
        }
      ]
    },
    {
      "cell_type": "markdown",
      "source": [
        "- 사후검정"
      ],
      "metadata": {
        "id": "WAYBdtD00h1u"
      }
    },
    {
      "cell_type": "code",
      "source": [
        "from statsmodels.stats.multicomp import pairwise_tukeyhsd\n",
        "import statsmodels.api as sm\n",
        "\n",
        "tukey_results = pairwise_tukeyhsd(endog=df['Pain threshold'],    # Data\n",
        "                                  groups=df['Hair color'],      # Groups\n",
        "                                  alpha=0.05)                   # Significance level\n",
        "\n",
        "# Print results\n",
        "print(tukey_results)"
      ],
      "metadata": {
        "colab": {
          "base_uri": "https://localhost:8080/"
        },
        "id": "BeZY1VgG0khO",
        "outputId": "b7e67651-57ab-44ff-fa1b-0772d8ecdbd2"
      },
      "execution_count": 57,
      "outputs": [
        {
          "output_type": "stream",
          "name": "stdout",
          "text": [
            "        Multiple Comparison of Means - Tukey HSD, FWER=0.05         \n",
            "====================================================================\n",
            "    group1        group2     meandiff p-adj   lower    upper  reject\n",
            "--------------------------------------------------------------------\n",
            "   Dark Blond  Dark Brunette    -13.8 0.0741 -28.6967  1.0967  False\n",
            "   Dark Blond    Light Blond      8.0 0.4356  -6.8967 22.8967  False\n",
            "   Dark Blond Light Brunette     -8.7 0.4147 -24.5004  7.1004  False\n",
            "Dark Brunette    Light Blond     21.8 0.0037   6.9033 36.6967   True\n",
            "Dark Brunette Light Brunette      5.1 0.7893 -10.7004 20.9004  False\n",
            "  Light Blond Light Brunette    -16.7 0.0366 -32.5004 -0.8996   True\n",
            "--------------------------------------------------------------------\n"
          ]
        }
      ]
    },
    {
      "cell_type": "markdown",
      "source": [
        "# 상관분석"
      ],
      "metadata": {
        "id": "7uOneFQrUXAA"
      }
    },
    {
      "cell_type": "code",
      "source": [
        "iris = sns.load_dataset(\"iris\")\n",
        "iris.head(1)"
      ],
      "metadata": {
        "colab": {
          "base_uri": "https://localhost:8080/",
          "height": 80
        },
        "id": "1vp2wcu-Up-B",
        "outputId": "900f5d39-833a-4a83-9966-8fe7c943193f"
      },
      "execution_count": 65,
      "outputs": [
        {
          "output_type": "execute_result",
          "data": {
            "text/plain": [
              "   sepal_length  sepal_width  petal_length  petal_width species\n",
              "0           5.1          3.5           1.4          0.2  setosa"
            ],
            "text/html": [
              "\n",
              "  <div id=\"df-20a2d323-e52b-4019-9a0b-bd3c226a0271\" class=\"colab-df-container\">\n",
              "    <div>\n",
              "<style scoped>\n",
              "    .dataframe tbody tr th:only-of-type {\n",
              "        vertical-align: middle;\n",
              "    }\n",
              "\n",
              "    .dataframe tbody tr th {\n",
              "        vertical-align: top;\n",
              "    }\n",
              "\n",
              "    .dataframe thead th {\n",
              "        text-align: right;\n",
              "    }\n",
              "</style>\n",
              "<table border=\"1\" class=\"dataframe\">\n",
              "  <thead>\n",
              "    <tr style=\"text-align: right;\">\n",
              "      <th></th>\n",
              "      <th>sepal_length</th>\n",
              "      <th>sepal_width</th>\n",
              "      <th>petal_length</th>\n",
              "      <th>petal_width</th>\n",
              "      <th>species</th>\n",
              "    </tr>\n",
              "  </thead>\n",
              "  <tbody>\n",
              "    <tr>\n",
              "      <th>0</th>\n",
              "      <td>5.1</td>\n",
              "      <td>3.5</td>\n",
              "      <td>1.4</td>\n",
              "      <td>0.2</td>\n",
              "      <td>setosa</td>\n",
              "    </tr>\n",
              "  </tbody>\n",
              "</table>\n",
              "</div>\n",
              "    <div class=\"colab-df-buttons\">\n",
              "\n",
              "  <div class=\"colab-df-container\">\n",
              "    <button class=\"colab-df-convert\" onclick=\"convertToInteractive('df-20a2d323-e52b-4019-9a0b-bd3c226a0271')\"\n",
              "            title=\"Convert this dataframe to an interactive table.\"\n",
              "            style=\"display:none;\">\n",
              "\n",
              "  <svg xmlns=\"http://www.w3.org/2000/svg\" height=\"24px\" viewBox=\"0 -960 960 960\">\n",
              "    <path d=\"M120-120v-720h720v720H120Zm60-500h600v-160H180v160Zm220 220h160v-160H400v160Zm0 220h160v-160H400v160ZM180-400h160v-160H180v160Zm440 0h160v-160H620v160ZM180-180h160v-160H180v160Zm440 0h160v-160H620v160Z\"/>\n",
              "  </svg>\n",
              "    </button>\n",
              "\n",
              "  <style>\n",
              "    .colab-df-container {\n",
              "      display:flex;\n",
              "      gap: 12px;\n",
              "    }\n",
              "\n",
              "    .colab-df-convert {\n",
              "      background-color: #E8F0FE;\n",
              "      border: none;\n",
              "      border-radius: 50%;\n",
              "      cursor: pointer;\n",
              "      display: none;\n",
              "      fill: #1967D2;\n",
              "      height: 32px;\n",
              "      padding: 0 0 0 0;\n",
              "      width: 32px;\n",
              "    }\n",
              "\n",
              "    .colab-df-convert:hover {\n",
              "      background-color: #E2EBFA;\n",
              "      box-shadow: 0px 1px 2px rgba(60, 64, 67, 0.3), 0px 1px 3px 1px rgba(60, 64, 67, 0.15);\n",
              "      fill: #174EA6;\n",
              "    }\n",
              "\n",
              "    .colab-df-buttons div {\n",
              "      margin-bottom: 4px;\n",
              "    }\n",
              "\n",
              "    [theme=dark] .colab-df-convert {\n",
              "      background-color: #3B4455;\n",
              "      fill: #D2E3FC;\n",
              "    }\n",
              "\n",
              "    [theme=dark] .colab-df-convert:hover {\n",
              "      background-color: #434B5C;\n",
              "      box-shadow: 0px 1px 3px 1px rgba(0, 0, 0, 0.15);\n",
              "      filter: drop-shadow(0px 1px 2px rgba(0, 0, 0, 0.3));\n",
              "      fill: #FFFFFF;\n",
              "    }\n",
              "  </style>\n",
              "\n",
              "    <script>\n",
              "      const buttonEl =\n",
              "        document.querySelector('#df-20a2d323-e52b-4019-9a0b-bd3c226a0271 button.colab-df-convert');\n",
              "      buttonEl.style.display =\n",
              "        google.colab.kernel.accessAllowed ? 'block' : 'none';\n",
              "\n",
              "      async function convertToInteractive(key) {\n",
              "        const element = document.querySelector('#df-20a2d323-e52b-4019-9a0b-bd3c226a0271');\n",
              "        const dataTable =\n",
              "          await google.colab.kernel.invokeFunction('convertToInteractive',\n",
              "                                                    [key], {});\n",
              "        if (!dataTable) return;\n",
              "\n",
              "        const docLinkHtml = 'Like what you see? Visit the ' +\n",
              "          '<a target=\"_blank\" href=https://colab.research.google.com/notebooks/data_table.ipynb>data table notebook</a>'\n",
              "          + ' to learn more about interactive tables.';\n",
              "        element.innerHTML = '';\n",
              "        dataTable['output_type'] = 'display_data';\n",
              "        await google.colab.output.renderOutput(dataTable, element);\n",
              "        const docLink = document.createElement('div');\n",
              "        docLink.innerHTML = docLinkHtml;\n",
              "        element.appendChild(docLink);\n",
              "      }\n",
              "    </script>\n",
              "  </div>\n",
              "\n",
              "\n",
              "    </div>\n",
              "  </div>\n"
            ],
            "application/vnd.google.colaboratory.intrinsic+json": {
              "type": "dataframe",
              "variable_name": "iris",
              "summary": "{\n  \"name\": \"iris\",\n  \"rows\": 150,\n  \"fields\": [\n    {\n      \"column\": \"sepal_length\",\n      \"properties\": {\n        \"dtype\": \"number\",\n        \"std\": 0.8280661279778629,\n        \"min\": 4.3,\n        \"max\": 7.9,\n        \"num_unique_values\": 35,\n        \"samples\": [\n          6.2,\n          4.5,\n          5.6\n        ],\n        \"semantic_type\": \"\",\n        \"description\": \"\"\n      }\n    },\n    {\n      \"column\": \"sepal_width\",\n      \"properties\": {\n        \"dtype\": \"number\",\n        \"std\": 0.435866284936698,\n        \"min\": 2.0,\n        \"max\": 4.4,\n        \"num_unique_values\": 23,\n        \"samples\": [\n          2.3,\n          4.0,\n          3.5\n        ],\n        \"semantic_type\": \"\",\n        \"description\": \"\"\n      }\n    },\n    {\n      \"column\": \"petal_length\",\n      \"properties\": {\n        \"dtype\": \"number\",\n        \"std\": 1.7652982332594667,\n        \"min\": 1.0,\n        \"max\": 6.9,\n        \"num_unique_values\": 43,\n        \"samples\": [\n          6.7,\n          3.8,\n          3.7\n        ],\n        \"semantic_type\": \"\",\n        \"description\": \"\"\n      }\n    },\n    {\n      \"column\": \"petal_width\",\n      \"properties\": {\n        \"dtype\": \"number\",\n        \"std\": 0.7622376689603465,\n        \"min\": 0.1,\n        \"max\": 2.5,\n        \"num_unique_values\": 22,\n        \"samples\": [\n          0.2,\n          1.2,\n          1.3\n        ],\n        \"semantic_type\": \"\",\n        \"description\": \"\"\n      }\n    },\n    {\n      \"column\": \"species\",\n      \"properties\": {\n        \"dtype\": \"category\",\n        \"num_unique_values\": 3,\n        \"samples\": [\n          \"setosa\",\n          \"versicolor\",\n          \"virginica\"\n        ],\n        \"semantic_type\": \"\",\n        \"description\": \"\"\n      }\n    }\n  ]\n}"
            }
          },
          "metadata": {},
          "execution_count": 65
        }
      ]
    },
    {
      "cell_type": "markdown",
      "source": [
        "## 공분산 구하기"
      ],
      "metadata": {
        "id": "kb3jG7mKU7NX"
      }
    },
    {
      "cell_type": "code",
      "source": [
        "df = iris.loc[:9, ['sepal_width', 'petal_length']]\n",
        "sepal_w_mean = df['sepal_width'].mean()\n",
        "petal_l_mean = df['petal_length'].mean()\n",
        "\n",
        "df['sepal_diff'] = df['sepal_width'] - sepal_w_mean\n",
        "df['petal_diff'] = df['petal_length'] - petal_l_mean\n",
        "df['multiple'] = df['sepal_diff'] * df['petal_diff']\n",
        "print(\"편차의 합:\", df['multiple'].sum())\n",
        "print(\"공분산 :\", df['multiple'].sum()/(len(df)))"
      ],
      "metadata": {
        "colab": {
          "base_uri": "https://localhost:8080/"
        },
        "id": "fu2a2n2VU89W",
        "outputId": "bd24052b-d8c1-4d36-d0d7-544b6535012f"
      },
      "execution_count": 69,
      "outputs": [
        {
          "output_type": "stream",
          "name": "stdout",
          "text": [
            "편차의 합: 0.15499999999999994\n",
            "공분산 : 0.015499999999999995\n"
          ]
        }
      ]
    },
    {
      "cell_type": "code",
      "source": [
        "df.cov(ddof = 0)"
      ],
      "metadata": {
        "colab": {
          "base_uri": "https://localhost:8080/",
          "height": 206
        },
        "id": "d98cEBsgWEM-",
        "outputId": "6b23ad9b-6a9a-4dc1-8597-19c1c84df4bb"
      },
      "execution_count": 68,
      "outputs": [
        {
          "output_type": "execute_result",
          "data": {
            "text/plain": [
              "              sepal_width  petal_length  sepal_diff  petal_diff  multiple\n",
              "sepal_width       0.08490       0.01550     0.08490     0.01550  0.007040\n",
              "petal_length      0.01550       0.01050     0.01550     0.01050  0.003320\n",
              "sepal_diff        0.08490       0.01550     0.08490     0.01550  0.007040\n",
              "petal_diff        0.01550       0.01050     0.01550     0.01050  0.003320\n",
              "multiple          0.00704       0.00332     0.00704     0.00332  0.002085"
            ],
            "text/html": [
              "\n",
              "  <div id=\"df-e1cf64b3-bdf5-46d0-8483-29644f033f40\" class=\"colab-df-container\">\n",
              "    <div>\n",
              "<style scoped>\n",
              "    .dataframe tbody tr th:only-of-type {\n",
              "        vertical-align: middle;\n",
              "    }\n",
              "\n",
              "    .dataframe tbody tr th {\n",
              "        vertical-align: top;\n",
              "    }\n",
              "\n",
              "    .dataframe thead th {\n",
              "        text-align: right;\n",
              "    }\n",
              "</style>\n",
              "<table border=\"1\" class=\"dataframe\">\n",
              "  <thead>\n",
              "    <tr style=\"text-align: right;\">\n",
              "      <th></th>\n",
              "      <th>sepal_width</th>\n",
              "      <th>petal_length</th>\n",
              "      <th>sepal_diff</th>\n",
              "      <th>petal_diff</th>\n",
              "      <th>multiple</th>\n",
              "    </tr>\n",
              "  </thead>\n",
              "  <tbody>\n",
              "    <tr>\n",
              "      <th>sepal_width</th>\n",
              "      <td>0.08490</td>\n",
              "      <td>0.01550</td>\n",
              "      <td>0.08490</td>\n",
              "      <td>0.01550</td>\n",
              "      <td>0.007040</td>\n",
              "    </tr>\n",
              "    <tr>\n",
              "      <th>petal_length</th>\n",
              "      <td>0.01550</td>\n",
              "      <td>0.01050</td>\n",
              "      <td>0.01550</td>\n",
              "      <td>0.01050</td>\n",
              "      <td>0.003320</td>\n",
              "    </tr>\n",
              "    <tr>\n",
              "      <th>sepal_diff</th>\n",
              "      <td>0.08490</td>\n",
              "      <td>0.01550</td>\n",
              "      <td>0.08490</td>\n",
              "      <td>0.01550</td>\n",
              "      <td>0.007040</td>\n",
              "    </tr>\n",
              "    <tr>\n",
              "      <th>petal_diff</th>\n",
              "      <td>0.01550</td>\n",
              "      <td>0.01050</td>\n",
              "      <td>0.01550</td>\n",
              "      <td>0.01050</td>\n",
              "      <td>0.003320</td>\n",
              "    </tr>\n",
              "    <tr>\n",
              "      <th>multiple</th>\n",
              "      <td>0.00704</td>\n",
              "      <td>0.00332</td>\n",
              "      <td>0.00704</td>\n",
              "      <td>0.00332</td>\n",
              "      <td>0.002085</td>\n",
              "    </tr>\n",
              "  </tbody>\n",
              "</table>\n",
              "</div>\n",
              "    <div class=\"colab-df-buttons\">\n",
              "\n",
              "  <div class=\"colab-df-container\">\n",
              "    <button class=\"colab-df-convert\" onclick=\"convertToInteractive('df-e1cf64b3-bdf5-46d0-8483-29644f033f40')\"\n",
              "            title=\"Convert this dataframe to an interactive table.\"\n",
              "            style=\"display:none;\">\n",
              "\n",
              "  <svg xmlns=\"http://www.w3.org/2000/svg\" height=\"24px\" viewBox=\"0 -960 960 960\">\n",
              "    <path d=\"M120-120v-720h720v720H120Zm60-500h600v-160H180v160Zm220 220h160v-160H400v160Zm0 220h160v-160H400v160ZM180-400h160v-160H180v160Zm440 0h160v-160H620v160ZM180-180h160v-160H180v160Zm440 0h160v-160H620v160Z\"/>\n",
              "  </svg>\n",
              "    </button>\n",
              "\n",
              "  <style>\n",
              "    .colab-df-container {\n",
              "      display:flex;\n",
              "      gap: 12px;\n",
              "    }\n",
              "\n",
              "    .colab-df-convert {\n",
              "      background-color: #E8F0FE;\n",
              "      border: none;\n",
              "      border-radius: 50%;\n",
              "      cursor: pointer;\n",
              "      display: none;\n",
              "      fill: #1967D2;\n",
              "      height: 32px;\n",
              "      padding: 0 0 0 0;\n",
              "      width: 32px;\n",
              "    }\n",
              "\n",
              "    .colab-df-convert:hover {\n",
              "      background-color: #E2EBFA;\n",
              "      box-shadow: 0px 1px 2px rgba(60, 64, 67, 0.3), 0px 1px 3px 1px rgba(60, 64, 67, 0.15);\n",
              "      fill: #174EA6;\n",
              "    }\n",
              "\n",
              "    .colab-df-buttons div {\n",
              "      margin-bottom: 4px;\n",
              "    }\n",
              "\n",
              "    [theme=dark] .colab-df-convert {\n",
              "      background-color: #3B4455;\n",
              "      fill: #D2E3FC;\n",
              "    }\n",
              "\n",
              "    [theme=dark] .colab-df-convert:hover {\n",
              "      background-color: #434B5C;\n",
              "      box-shadow: 0px 1px 3px 1px rgba(0, 0, 0, 0.15);\n",
              "      filter: drop-shadow(0px 1px 2px rgba(0, 0, 0, 0.3));\n",
              "      fill: #FFFFFF;\n",
              "    }\n",
              "  </style>\n",
              "\n",
              "    <script>\n",
              "      const buttonEl =\n",
              "        document.querySelector('#df-e1cf64b3-bdf5-46d0-8483-29644f033f40 button.colab-df-convert');\n",
              "      buttonEl.style.display =\n",
              "        google.colab.kernel.accessAllowed ? 'block' : 'none';\n",
              "\n",
              "      async function convertToInteractive(key) {\n",
              "        const element = document.querySelector('#df-e1cf64b3-bdf5-46d0-8483-29644f033f40');\n",
              "        const dataTable =\n",
              "          await google.colab.kernel.invokeFunction('convertToInteractive',\n",
              "                                                    [key], {});\n",
              "        if (!dataTable) return;\n",
              "\n",
              "        const docLinkHtml = 'Like what you see? Visit the ' +\n",
              "          '<a target=\"_blank\" href=https://colab.research.google.com/notebooks/data_table.ipynb>data table notebook</a>'\n",
              "          + ' to learn more about interactive tables.';\n",
              "        element.innerHTML = '';\n",
              "        dataTable['output_type'] = 'display_data';\n",
              "        await google.colab.output.renderOutput(dataTable, element);\n",
              "        const docLink = document.createElement('div');\n",
              "        docLink.innerHTML = docLinkHtml;\n",
              "        element.appendChild(docLink);\n",
              "      }\n",
              "    </script>\n",
              "  </div>\n",
              "\n",
              "\n",
              "<div id=\"df-990cf993-5009-4be3-a325-fd25c2fefc46\">\n",
              "  <button class=\"colab-df-quickchart\" onclick=\"quickchart('df-990cf993-5009-4be3-a325-fd25c2fefc46')\"\n",
              "            title=\"Suggest charts\"\n",
              "            style=\"display:none;\">\n",
              "\n",
              "<svg xmlns=\"http://www.w3.org/2000/svg\" height=\"24px\"viewBox=\"0 0 24 24\"\n",
              "     width=\"24px\">\n",
              "    <g>\n",
              "        <path d=\"M19 3H5c-1.1 0-2 .9-2 2v14c0 1.1.9 2 2 2h14c1.1 0 2-.9 2-2V5c0-1.1-.9-2-2-2zM9 17H7v-7h2v7zm4 0h-2V7h2v10zm4 0h-2v-4h2v4z\"/>\n",
              "    </g>\n",
              "</svg>\n",
              "  </button>\n",
              "\n",
              "<style>\n",
              "  .colab-df-quickchart {\n",
              "      --bg-color: #E8F0FE;\n",
              "      --fill-color: #1967D2;\n",
              "      --hover-bg-color: #E2EBFA;\n",
              "      --hover-fill-color: #174EA6;\n",
              "      --disabled-fill-color: #AAA;\n",
              "      --disabled-bg-color: #DDD;\n",
              "  }\n",
              "\n",
              "  [theme=dark] .colab-df-quickchart {\n",
              "      --bg-color: #3B4455;\n",
              "      --fill-color: #D2E3FC;\n",
              "      --hover-bg-color: #434B5C;\n",
              "      --hover-fill-color: #FFFFFF;\n",
              "      --disabled-bg-color: #3B4455;\n",
              "      --disabled-fill-color: #666;\n",
              "  }\n",
              "\n",
              "  .colab-df-quickchart {\n",
              "    background-color: var(--bg-color);\n",
              "    border: none;\n",
              "    border-radius: 50%;\n",
              "    cursor: pointer;\n",
              "    display: none;\n",
              "    fill: var(--fill-color);\n",
              "    height: 32px;\n",
              "    padding: 0;\n",
              "    width: 32px;\n",
              "  }\n",
              "\n",
              "  .colab-df-quickchart:hover {\n",
              "    background-color: var(--hover-bg-color);\n",
              "    box-shadow: 0 1px 2px rgba(60, 64, 67, 0.3), 0 1px 3px 1px rgba(60, 64, 67, 0.15);\n",
              "    fill: var(--button-hover-fill-color);\n",
              "  }\n",
              "\n",
              "  .colab-df-quickchart-complete:disabled,\n",
              "  .colab-df-quickchart-complete:disabled:hover {\n",
              "    background-color: var(--disabled-bg-color);\n",
              "    fill: var(--disabled-fill-color);\n",
              "    box-shadow: none;\n",
              "  }\n",
              "\n",
              "  .colab-df-spinner {\n",
              "    border: 2px solid var(--fill-color);\n",
              "    border-color: transparent;\n",
              "    border-bottom-color: var(--fill-color);\n",
              "    animation:\n",
              "      spin 1s steps(1) infinite;\n",
              "  }\n",
              "\n",
              "  @keyframes spin {\n",
              "    0% {\n",
              "      border-color: transparent;\n",
              "      border-bottom-color: var(--fill-color);\n",
              "      border-left-color: var(--fill-color);\n",
              "    }\n",
              "    20% {\n",
              "      border-color: transparent;\n",
              "      border-left-color: var(--fill-color);\n",
              "      border-top-color: var(--fill-color);\n",
              "    }\n",
              "    30% {\n",
              "      border-color: transparent;\n",
              "      border-left-color: var(--fill-color);\n",
              "      border-top-color: var(--fill-color);\n",
              "      border-right-color: var(--fill-color);\n",
              "    }\n",
              "    40% {\n",
              "      border-color: transparent;\n",
              "      border-right-color: var(--fill-color);\n",
              "      border-top-color: var(--fill-color);\n",
              "    }\n",
              "    60% {\n",
              "      border-color: transparent;\n",
              "      border-right-color: var(--fill-color);\n",
              "    }\n",
              "    80% {\n",
              "      border-color: transparent;\n",
              "      border-right-color: var(--fill-color);\n",
              "      border-bottom-color: var(--fill-color);\n",
              "    }\n",
              "    90% {\n",
              "      border-color: transparent;\n",
              "      border-bottom-color: var(--fill-color);\n",
              "    }\n",
              "  }\n",
              "</style>\n",
              "\n",
              "  <script>\n",
              "    async function quickchart(key) {\n",
              "      const quickchartButtonEl =\n",
              "        document.querySelector('#' + key + ' button');\n",
              "      quickchartButtonEl.disabled = true;  // To prevent multiple clicks.\n",
              "      quickchartButtonEl.classList.add('colab-df-spinner');\n",
              "      try {\n",
              "        const charts = await google.colab.kernel.invokeFunction(\n",
              "            'suggestCharts', [key], {});\n",
              "      } catch (error) {\n",
              "        console.error('Error during call to suggestCharts:', error);\n",
              "      }\n",
              "      quickchartButtonEl.classList.remove('colab-df-spinner');\n",
              "      quickchartButtonEl.classList.add('colab-df-quickchart-complete');\n",
              "    }\n",
              "    (() => {\n",
              "      let quickchartButtonEl =\n",
              "        document.querySelector('#df-990cf993-5009-4be3-a325-fd25c2fefc46 button');\n",
              "      quickchartButtonEl.style.display =\n",
              "        google.colab.kernel.accessAllowed ? 'block' : 'none';\n",
              "    })();\n",
              "  </script>\n",
              "</div>\n",
              "\n",
              "    </div>\n",
              "  </div>\n"
            ],
            "application/vnd.google.colaboratory.intrinsic+json": {
              "type": "dataframe",
              "summary": "{\n  \"name\": \"df\",\n  \"rows\": 5,\n  \"fields\": [\n    {\n      \"column\": \"sepal_width\",\n      \"properties\": {\n        \"dtype\": \"number\",\n        \"std\": 0.03970701600473146,\n        \"min\": 0.007039999999999995,\n        \"max\": 0.0849,\n        \"num_unique_values\": 3,\n        \"samples\": [\n          0.0849,\n          0.015499999999999995,\n          0.007039999999999995\n        ],\n        \"semantic_type\": \"\",\n        \"description\": \"\"\n      }\n    },\n    {\n      \"column\": \"petal_length\",\n      \"properties\": {\n        \"dtype\": \"number\",\n        \"std\": 0.004999047909352337,\n        \"min\": 0.0033199999999999996,\n        \"max\": 0.015499999999999995,\n        \"num_unique_values\": 4,\n        \"samples\": [\n          0.010500000000000002,\n          0.0033199999999999996,\n          0.015499999999999995\n        ],\n        \"semantic_type\": \"\",\n        \"description\": \"\"\n      }\n    },\n    {\n      \"column\": \"sepal_diff\",\n      \"properties\": {\n        \"dtype\": \"number\",\n        \"std\": 0.039707016004731456,\n        \"min\": 0.007039999999999994,\n        \"max\": 0.0849,\n        \"num_unique_values\": 4,\n        \"samples\": [\n          0.015499999999999993,\n          0.007039999999999994,\n          0.0849\n        ],\n        \"semantic_type\": \"\",\n        \"description\": \"\"\n      }\n    },\n    {\n      \"column\": \"petal_diff\",\n      \"properties\": {\n        \"dtype\": \"number\",\n        \"std\": 0.004999047909352337,\n        \"min\": 0.0033199999999999996,\n        \"max\": 0.015499999999999995,\n        \"num_unique_values\": 4,\n        \"samples\": [\n          0.010500000000000002,\n          0.0033199999999999996,\n          0.015499999999999995\n        ],\n        \"semantic_type\": \"\",\n        \"description\": \"\"\n      }\n    },\n    {\n      \"column\": \"multiple\",\n      \"properties\": {\n        \"dtype\": \"number\",\n        \"std\": 0.002318545364662936,\n        \"min\": 0.0020847999999999995,\n        \"max\": 0.007039999999999995,\n        \"num_unique_values\": 4,\n        \"samples\": [\n          0.0033199999999999996,\n          0.0020847999999999995,\n          0.007039999999999995\n        ],\n        \"semantic_type\": \"\",\n        \"description\": \"\"\n      }\n    }\n  ]\n}"
            }
          },
          "metadata": {},
          "execution_count": 68
        }
      ]
    },
    {
      "cell_type": "code",
      "source": [
        "iris.iloc[:, :4].cov(ddof=0)"
      ],
      "metadata": {
        "colab": {
          "base_uri": "https://localhost:8080/",
          "height": 174
        },
        "id": "RWNsiTq4WVXd",
        "outputId": "adb4e874-8864-4a30-e9ad-bf713787af9c"
      },
      "execution_count": 70,
      "outputs": [
        {
          "output_type": "execute_result",
          "data": {
            "text/plain": [
              "              sepal_length  sepal_width  petal_length  petal_width\n",
              "sepal_length      0.681122    -0.042151      1.265820     0.512829\n",
              "sepal_width      -0.042151     0.188713     -0.327459    -0.120828\n",
              "petal_length      1.265820    -0.327459      3.095503     1.286972\n",
              "petal_width       0.512829    -0.120828      1.286972     0.577133"
            ],
            "text/html": [
              "\n",
              "  <div id=\"df-d2ab158b-d8ff-43c6-9cd1-7b0b3aa11e80\" class=\"colab-df-container\">\n",
              "    <div>\n",
              "<style scoped>\n",
              "    .dataframe tbody tr th:only-of-type {\n",
              "        vertical-align: middle;\n",
              "    }\n",
              "\n",
              "    .dataframe tbody tr th {\n",
              "        vertical-align: top;\n",
              "    }\n",
              "\n",
              "    .dataframe thead th {\n",
              "        text-align: right;\n",
              "    }\n",
              "</style>\n",
              "<table border=\"1\" class=\"dataframe\">\n",
              "  <thead>\n",
              "    <tr style=\"text-align: right;\">\n",
              "      <th></th>\n",
              "      <th>sepal_length</th>\n",
              "      <th>sepal_width</th>\n",
              "      <th>petal_length</th>\n",
              "      <th>petal_width</th>\n",
              "    </tr>\n",
              "  </thead>\n",
              "  <tbody>\n",
              "    <tr>\n",
              "      <th>sepal_length</th>\n",
              "      <td>0.681122</td>\n",
              "      <td>-0.042151</td>\n",
              "      <td>1.265820</td>\n",
              "      <td>0.512829</td>\n",
              "    </tr>\n",
              "    <tr>\n",
              "      <th>sepal_width</th>\n",
              "      <td>-0.042151</td>\n",
              "      <td>0.188713</td>\n",
              "      <td>-0.327459</td>\n",
              "      <td>-0.120828</td>\n",
              "    </tr>\n",
              "    <tr>\n",
              "      <th>petal_length</th>\n",
              "      <td>1.265820</td>\n",
              "      <td>-0.327459</td>\n",
              "      <td>3.095503</td>\n",
              "      <td>1.286972</td>\n",
              "    </tr>\n",
              "    <tr>\n",
              "      <th>petal_width</th>\n",
              "      <td>0.512829</td>\n",
              "      <td>-0.120828</td>\n",
              "      <td>1.286972</td>\n",
              "      <td>0.577133</td>\n",
              "    </tr>\n",
              "  </tbody>\n",
              "</table>\n",
              "</div>\n",
              "    <div class=\"colab-df-buttons\">\n",
              "\n",
              "  <div class=\"colab-df-container\">\n",
              "    <button class=\"colab-df-convert\" onclick=\"convertToInteractive('df-d2ab158b-d8ff-43c6-9cd1-7b0b3aa11e80')\"\n",
              "            title=\"Convert this dataframe to an interactive table.\"\n",
              "            style=\"display:none;\">\n",
              "\n",
              "  <svg xmlns=\"http://www.w3.org/2000/svg\" height=\"24px\" viewBox=\"0 -960 960 960\">\n",
              "    <path d=\"M120-120v-720h720v720H120Zm60-500h600v-160H180v160Zm220 220h160v-160H400v160Zm0 220h160v-160H400v160ZM180-400h160v-160H180v160Zm440 0h160v-160H620v160ZM180-180h160v-160H180v160Zm440 0h160v-160H620v160Z\"/>\n",
              "  </svg>\n",
              "    </button>\n",
              "\n",
              "  <style>\n",
              "    .colab-df-container {\n",
              "      display:flex;\n",
              "      gap: 12px;\n",
              "    }\n",
              "\n",
              "    .colab-df-convert {\n",
              "      background-color: #E8F0FE;\n",
              "      border: none;\n",
              "      border-radius: 50%;\n",
              "      cursor: pointer;\n",
              "      display: none;\n",
              "      fill: #1967D2;\n",
              "      height: 32px;\n",
              "      padding: 0 0 0 0;\n",
              "      width: 32px;\n",
              "    }\n",
              "\n",
              "    .colab-df-convert:hover {\n",
              "      background-color: #E2EBFA;\n",
              "      box-shadow: 0px 1px 2px rgba(60, 64, 67, 0.3), 0px 1px 3px 1px rgba(60, 64, 67, 0.15);\n",
              "      fill: #174EA6;\n",
              "    }\n",
              "\n",
              "    .colab-df-buttons div {\n",
              "      margin-bottom: 4px;\n",
              "    }\n",
              "\n",
              "    [theme=dark] .colab-df-convert {\n",
              "      background-color: #3B4455;\n",
              "      fill: #D2E3FC;\n",
              "    }\n",
              "\n",
              "    [theme=dark] .colab-df-convert:hover {\n",
              "      background-color: #434B5C;\n",
              "      box-shadow: 0px 1px 3px 1px rgba(0, 0, 0, 0.15);\n",
              "      filter: drop-shadow(0px 1px 2px rgba(0, 0, 0, 0.3));\n",
              "      fill: #FFFFFF;\n",
              "    }\n",
              "  </style>\n",
              "\n",
              "    <script>\n",
              "      const buttonEl =\n",
              "        document.querySelector('#df-d2ab158b-d8ff-43c6-9cd1-7b0b3aa11e80 button.colab-df-convert');\n",
              "      buttonEl.style.display =\n",
              "        google.colab.kernel.accessAllowed ? 'block' : 'none';\n",
              "\n",
              "      async function convertToInteractive(key) {\n",
              "        const element = document.querySelector('#df-d2ab158b-d8ff-43c6-9cd1-7b0b3aa11e80');\n",
              "        const dataTable =\n",
              "          await google.colab.kernel.invokeFunction('convertToInteractive',\n",
              "                                                    [key], {});\n",
              "        if (!dataTable) return;\n",
              "\n",
              "        const docLinkHtml = 'Like what you see? Visit the ' +\n",
              "          '<a target=\"_blank\" href=https://colab.research.google.com/notebooks/data_table.ipynb>data table notebook</a>'\n",
              "          + ' to learn more about interactive tables.';\n",
              "        element.innerHTML = '';\n",
              "        dataTable['output_type'] = 'display_data';\n",
              "        await google.colab.output.renderOutput(dataTable, element);\n",
              "        const docLink = document.createElement('div');\n",
              "        docLink.innerHTML = docLinkHtml;\n",
              "        element.appendChild(docLink);\n",
              "      }\n",
              "    </script>\n",
              "  </div>\n",
              "\n",
              "\n",
              "<div id=\"df-2b65209d-6a13-4c1d-b33d-590b893b912a\">\n",
              "  <button class=\"colab-df-quickchart\" onclick=\"quickchart('df-2b65209d-6a13-4c1d-b33d-590b893b912a')\"\n",
              "            title=\"Suggest charts\"\n",
              "            style=\"display:none;\">\n",
              "\n",
              "<svg xmlns=\"http://www.w3.org/2000/svg\" height=\"24px\"viewBox=\"0 0 24 24\"\n",
              "     width=\"24px\">\n",
              "    <g>\n",
              "        <path d=\"M19 3H5c-1.1 0-2 .9-2 2v14c0 1.1.9 2 2 2h14c1.1 0 2-.9 2-2V5c0-1.1-.9-2-2-2zM9 17H7v-7h2v7zm4 0h-2V7h2v10zm4 0h-2v-4h2v4z\"/>\n",
              "    </g>\n",
              "</svg>\n",
              "  </button>\n",
              "\n",
              "<style>\n",
              "  .colab-df-quickchart {\n",
              "      --bg-color: #E8F0FE;\n",
              "      --fill-color: #1967D2;\n",
              "      --hover-bg-color: #E2EBFA;\n",
              "      --hover-fill-color: #174EA6;\n",
              "      --disabled-fill-color: #AAA;\n",
              "      --disabled-bg-color: #DDD;\n",
              "  }\n",
              "\n",
              "  [theme=dark] .colab-df-quickchart {\n",
              "      --bg-color: #3B4455;\n",
              "      --fill-color: #D2E3FC;\n",
              "      --hover-bg-color: #434B5C;\n",
              "      --hover-fill-color: #FFFFFF;\n",
              "      --disabled-bg-color: #3B4455;\n",
              "      --disabled-fill-color: #666;\n",
              "  }\n",
              "\n",
              "  .colab-df-quickchart {\n",
              "    background-color: var(--bg-color);\n",
              "    border: none;\n",
              "    border-radius: 50%;\n",
              "    cursor: pointer;\n",
              "    display: none;\n",
              "    fill: var(--fill-color);\n",
              "    height: 32px;\n",
              "    padding: 0;\n",
              "    width: 32px;\n",
              "  }\n",
              "\n",
              "  .colab-df-quickchart:hover {\n",
              "    background-color: var(--hover-bg-color);\n",
              "    box-shadow: 0 1px 2px rgba(60, 64, 67, 0.3), 0 1px 3px 1px rgba(60, 64, 67, 0.15);\n",
              "    fill: var(--button-hover-fill-color);\n",
              "  }\n",
              "\n",
              "  .colab-df-quickchart-complete:disabled,\n",
              "  .colab-df-quickchart-complete:disabled:hover {\n",
              "    background-color: var(--disabled-bg-color);\n",
              "    fill: var(--disabled-fill-color);\n",
              "    box-shadow: none;\n",
              "  }\n",
              "\n",
              "  .colab-df-spinner {\n",
              "    border: 2px solid var(--fill-color);\n",
              "    border-color: transparent;\n",
              "    border-bottom-color: var(--fill-color);\n",
              "    animation:\n",
              "      spin 1s steps(1) infinite;\n",
              "  }\n",
              "\n",
              "  @keyframes spin {\n",
              "    0% {\n",
              "      border-color: transparent;\n",
              "      border-bottom-color: var(--fill-color);\n",
              "      border-left-color: var(--fill-color);\n",
              "    }\n",
              "    20% {\n",
              "      border-color: transparent;\n",
              "      border-left-color: var(--fill-color);\n",
              "      border-top-color: var(--fill-color);\n",
              "    }\n",
              "    30% {\n",
              "      border-color: transparent;\n",
              "      border-left-color: var(--fill-color);\n",
              "      border-top-color: var(--fill-color);\n",
              "      border-right-color: var(--fill-color);\n",
              "    }\n",
              "    40% {\n",
              "      border-color: transparent;\n",
              "      border-right-color: var(--fill-color);\n",
              "      border-top-color: var(--fill-color);\n",
              "    }\n",
              "    60% {\n",
              "      border-color: transparent;\n",
              "      border-right-color: var(--fill-color);\n",
              "    }\n",
              "    80% {\n",
              "      border-color: transparent;\n",
              "      border-right-color: var(--fill-color);\n",
              "      border-bottom-color: var(--fill-color);\n",
              "    }\n",
              "    90% {\n",
              "      border-color: transparent;\n",
              "      border-bottom-color: var(--fill-color);\n",
              "    }\n",
              "  }\n",
              "</style>\n",
              "\n",
              "  <script>\n",
              "    async function quickchart(key) {\n",
              "      const quickchartButtonEl =\n",
              "        document.querySelector('#' + key + ' button');\n",
              "      quickchartButtonEl.disabled = true;  // To prevent multiple clicks.\n",
              "      quickchartButtonEl.classList.add('colab-df-spinner');\n",
              "      try {\n",
              "        const charts = await google.colab.kernel.invokeFunction(\n",
              "            'suggestCharts', [key], {});\n",
              "      } catch (error) {\n",
              "        console.error('Error during call to suggestCharts:', error);\n",
              "      }\n",
              "      quickchartButtonEl.classList.remove('colab-df-spinner');\n",
              "      quickchartButtonEl.classList.add('colab-df-quickchart-complete');\n",
              "    }\n",
              "    (() => {\n",
              "      let quickchartButtonEl =\n",
              "        document.querySelector('#df-2b65209d-6a13-4c1d-b33d-590b893b912a button');\n",
              "      quickchartButtonEl.style.display =\n",
              "        google.colab.kernel.accessAllowed ? 'block' : 'none';\n",
              "    })();\n",
              "  </script>\n",
              "</div>\n",
              "\n",
              "    </div>\n",
              "  </div>\n"
            ],
            "application/vnd.google.colaboratory.intrinsic+json": {
              "type": "dataframe",
              "summary": "{\n  \"name\": \"iris\",\n  \"rows\": 4,\n  \"fields\": [\n    {\n      \"column\": \"sepal_length\",\n      \"properties\": {\n        \"dtype\": \"number\",\n        \"std\": 0.5384472500786722,\n        \"min\": -0.042151111111111104,\n        \"max\": 1.2658200000000006,\n        \"num_unique_values\": 4,\n        \"samples\": [\n          -0.042151111111111104,\n          0.5128288888888888,\n          0.6811222222222221\n        ],\n        \"semantic_type\": \"\",\n        \"description\": \"\"\n      }\n    },\n    {\n      \"column\": \"sepal_width\",\n      \"properties\": {\n        \"dtype\": \"number\",\n        \"std\": 0.21327479751788836,\n        \"min\": -0.3274586666666666,\n        \"max\": 0.18871288888888882,\n        \"num_unique_values\": 4,\n        \"samples\": [\n          0.18871288888888882,\n          -0.12082844444444447,\n          -0.042151111111111104\n        ],\n        \"semantic_type\": \"\",\n        \"description\": \"\"\n      }\n    },\n    {\n      \"column\": \"petal_length\",\n      \"properties\": {\n        \"dtype\": \"number\",\n        \"std\": 1.3988256031609239,\n        \"min\": -0.3274586666666666,\n        \"max\": 3.09550266666667,\n        \"num_unique_values\": 4,\n        \"samples\": [\n          -0.3274586666666666,\n          1.2869720000000004,\n          1.2658200000000006\n        ],\n        \"semantic_type\": \"\",\n        \"description\": \"\"\n      }\n    },\n    {\n      \"column\": \"petal_width\",\n      \"properties\": {\n        \"dtype\": \"number\",\n        \"std\": 0.5757515273429833,\n        \"min\": -0.12082844444444447,\n        \"max\": 1.2869720000000004,\n        \"num_unique_values\": 4,\n        \"samples\": [\n          -0.12082844444444447,\n          0.5771328888888886,\n          0.5128288888888888\n        ],\n        \"semantic_type\": \"\",\n        \"description\": \"\"\n      }\n    }\n  ]\n}"
            }
          },
          "metadata": {},
          "execution_count": 70
        }
      ]
    },
    {
      "cell_type": "markdown",
      "source": [
        "## 상관계수 구하기"
      ],
      "metadata": {
        "id": "6U5TqyL4WzOe"
      }
    },
    {
      "cell_type": "code",
      "source": [
        "iris.iloc[:, :4].corr()"
      ],
      "metadata": {
        "colab": {
          "base_uri": "https://localhost:8080/",
          "height": 174
        },
        "id": "AcyjnlNnW0hS",
        "outputId": "630c47b2-d432-4e1a-da8e-7ea2e2ab392e"
      },
      "execution_count": 71,
      "outputs": [
        {
          "output_type": "execute_result",
          "data": {
            "text/plain": [
              "              sepal_length  sepal_width  petal_length  petal_width\n",
              "sepal_length      1.000000    -0.117570      0.871754     0.817941\n",
              "sepal_width      -0.117570     1.000000     -0.428440    -0.366126\n",
              "petal_length      0.871754    -0.428440      1.000000     0.962865\n",
              "petal_width       0.817941    -0.366126      0.962865     1.000000"
            ],
            "text/html": [
              "\n",
              "  <div id=\"df-d0ca16ff-63c5-47c2-98fa-9f6e5b6b36fc\" class=\"colab-df-container\">\n",
              "    <div>\n",
              "<style scoped>\n",
              "    .dataframe tbody tr th:only-of-type {\n",
              "        vertical-align: middle;\n",
              "    }\n",
              "\n",
              "    .dataframe tbody tr th {\n",
              "        vertical-align: top;\n",
              "    }\n",
              "\n",
              "    .dataframe thead th {\n",
              "        text-align: right;\n",
              "    }\n",
              "</style>\n",
              "<table border=\"1\" class=\"dataframe\">\n",
              "  <thead>\n",
              "    <tr style=\"text-align: right;\">\n",
              "      <th></th>\n",
              "      <th>sepal_length</th>\n",
              "      <th>sepal_width</th>\n",
              "      <th>petal_length</th>\n",
              "      <th>petal_width</th>\n",
              "    </tr>\n",
              "  </thead>\n",
              "  <tbody>\n",
              "    <tr>\n",
              "      <th>sepal_length</th>\n",
              "      <td>1.000000</td>\n",
              "      <td>-0.117570</td>\n",
              "      <td>0.871754</td>\n",
              "      <td>0.817941</td>\n",
              "    </tr>\n",
              "    <tr>\n",
              "      <th>sepal_width</th>\n",
              "      <td>-0.117570</td>\n",
              "      <td>1.000000</td>\n",
              "      <td>-0.428440</td>\n",
              "      <td>-0.366126</td>\n",
              "    </tr>\n",
              "    <tr>\n",
              "      <th>petal_length</th>\n",
              "      <td>0.871754</td>\n",
              "      <td>-0.428440</td>\n",
              "      <td>1.000000</td>\n",
              "      <td>0.962865</td>\n",
              "    </tr>\n",
              "    <tr>\n",
              "      <th>petal_width</th>\n",
              "      <td>0.817941</td>\n",
              "      <td>-0.366126</td>\n",
              "      <td>0.962865</td>\n",
              "      <td>1.000000</td>\n",
              "    </tr>\n",
              "  </tbody>\n",
              "</table>\n",
              "</div>\n",
              "    <div class=\"colab-df-buttons\">\n",
              "\n",
              "  <div class=\"colab-df-container\">\n",
              "    <button class=\"colab-df-convert\" onclick=\"convertToInteractive('df-d0ca16ff-63c5-47c2-98fa-9f6e5b6b36fc')\"\n",
              "            title=\"Convert this dataframe to an interactive table.\"\n",
              "            style=\"display:none;\">\n",
              "\n",
              "  <svg xmlns=\"http://www.w3.org/2000/svg\" height=\"24px\" viewBox=\"0 -960 960 960\">\n",
              "    <path d=\"M120-120v-720h720v720H120Zm60-500h600v-160H180v160Zm220 220h160v-160H400v160Zm0 220h160v-160H400v160ZM180-400h160v-160H180v160Zm440 0h160v-160H620v160ZM180-180h160v-160H180v160Zm440 0h160v-160H620v160Z\"/>\n",
              "  </svg>\n",
              "    </button>\n",
              "\n",
              "  <style>\n",
              "    .colab-df-container {\n",
              "      display:flex;\n",
              "      gap: 12px;\n",
              "    }\n",
              "\n",
              "    .colab-df-convert {\n",
              "      background-color: #E8F0FE;\n",
              "      border: none;\n",
              "      border-radius: 50%;\n",
              "      cursor: pointer;\n",
              "      display: none;\n",
              "      fill: #1967D2;\n",
              "      height: 32px;\n",
              "      padding: 0 0 0 0;\n",
              "      width: 32px;\n",
              "    }\n",
              "\n",
              "    .colab-df-convert:hover {\n",
              "      background-color: #E2EBFA;\n",
              "      box-shadow: 0px 1px 2px rgba(60, 64, 67, 0.3), 0px 1px 3px 1px rgba(60, 64, 67, 0.15);\n",
              "      fill: #174EA6;\n",
              "    }\n",
              "\n",
              "    .colab-df-buttons div {\n",
              "      margin-bottom: 4px;\n",
              "    }\n",
              "\n",
              "    [theme=dark] .colab-df-convert {\n",
              "      background-color: #3B4455;\n",
              "      fill: #D2E3FC;\n",
              "    }\n",
              "\n",
              "    [theme=dark] .colab-df-convert:hover {\n",
              "      background-color: #434B5C;\n",
              "      box-shadow: 0px 1px 3px 1px rgba(0, 0, 0, 0.15);\n",
              "      filter: drop-shadow(0px 1px 2px rgba(0, 0, 0, 0.3));\n",
              "      fill: #FFFFFF;\n",
              "    }\n",
              "  </style>\n",
              "\n",
              "    <script>\n",
              "      const buttonEl =\n",
              "        document.querySelector('#df-d0ca16ff-63c5-47c2-98fa-9f6e5b6b36fc button.colab-df-convert');\n",
              "      buttonEl.style.display =\n",
              "        google.colab.kernel.accessAllowed ? 'block' : 'none';\n",
              "\n",
              "      async function convertToInteractive(key) {\n",
              "        const element = document.querySelector('#df-d0ca16ff-63c5-47c2-98fa-9f6e5b6b36fc');\n",
              "        const dataTable =\n",
              "          await google.colab.kernel.invokeFunction('convertToInteractive',\n",
              "                                                    [key], {});\n",
              "        if (!dataTable) return;\n",
              "\n",
              "        const docLinkHtml = 'Like what you see? Visit the ' +\n",
              "          '<a target=\"_blank\" href=https://colab.research.google.com/notebooks/data_table.ipynb>data table notebook</a>'\n",
              "          + ' to learn more about interactive tables.';\n",
              "        element.innerHTML = '';\n",
              "        dataTable['output_type'] = 'display_data';\n",
              "        await google.colab.output.renderOutput(dataTable, element);\n",
              "        const docLink = document.createElement('div');\n",
              "        docLink.innerHTML = docLinkHtml;\n",
              "        element.appendChild(docLink);\n",
              "      }\n",
              "    </script>\n",
              "  </div>\n",
              "\n",
              "\n",
              "<div id=\"df-f47b490a-6bcd-4d2b-b6e9-9b5b5dd5a532\">\n",
              "  <button class=\"colab-df-quickchart\" onclick=\"quickchart('df-f47b490a-6bcd-4d2b-b6e9-9b5b5dd5a532')\"\n",
              "            title=\"Suggest charts\"\n",
              "            style=\"display:none;\">\n",
              "\n",
              "<svg xmlns=\"http://www.w3.org/2000/svg\" height=\"24px\"viewBox=\"0 0 24 24\"\n",
              "     width=\"24px\">\n",
              "    <g>\n",
              "        <path d=\"M19 3H5c-1.1 0-2 .9-2 2v14c0 1.1.9 2 2 2h14c1.1 0 2-.9 2-2V5c0-1.1-.9-2-2-2zM9 17H7v-7h2v7zm4 0h-2V7h2v10zm4 0h-2v-4h2v4z\"/>\n",
              "    </g>\n",
              "</svg>\n",
              "  </button>\n",
              "\n",
              "<style>\n",
              "  .colab-df-quickchart {\n",
              "      --bg-color: #E8F0FE;\n",
              "      --fill-color: #1967D2;\n",
              "      --hover-bg-color: #E2EBFA;\n",
              "      --hover-fill-color: #174EA6;\n",
              "      --disabled-fill-color: #AAA;\n",
              "      --disabled-bg-color: #DDD;\n",
              "  }\n",
              "\n",
              "  [theme=dark] .colab-df-quickchart {\n",
              "      --bg-color: #3B4455;\n",
              "      --fill-color: #D2E3FC;\n",
              "      --hover-bg-color: #434B5C;\n",
              "      --hover-fill-color: #FFFFFF;\n",
              "      --disabled-bg-color: #3B4455;\n",
              "      --disabled-fill-color: #666;\n",
              "  }\n",
              "\n",
              "  .colab-df-quickchart {\n",
              "    background-color: var(--bg-color);\n",
              "    border: none;\n",
              "    border-radius: 50%;\n",
              "    cursor: pointer;\n",
              "    display: none;\n",
              "    fill: var(--fill-color);\n",
              "    height: 32px;\n",
              "    padding: 0;\n",
              "    width: 32px;\n",
              "  }\n",
              "\n",
              "  .colab-df-quickchart:hover {\n",
              "    background-color: var(--hover-bg-color);\n",
              "    box-shadow: 0 1px 2px rgba(60, 64, 67, 0.3), 0 1px 3px 1px rgba(60, 64, 67, 0.15);\n",
              "    fill: var(--button-hover-fill-color);\n",
              "  }\n",
              "\n",
              "  .colab-df-quickchart-complete:disabled,\n",
              "  .colab-df-quickchart-complete:disabled:hover {\n",
              "    background-color: var(--disabled-bg-color);\n",
              "    fill: var(--disabled-fill-color);\n",
              "    box-shadow: none;\n",
              "  }\n",
              "\n",
              "  .colab-df-spinner {\n",
              "    border: 2px solid var(--fill-color);\n",
              "    border-color: transparent;\n",
              "    border-bottom-color: var(--fill-color);\n",
              "    animation:\n",
              "      spin 1s steps(1) infinite;\n",
              "  }\n",
              "\n",
              "  @keyframes spin {\n",
              "    0% {\n",
              "      border-color: transparent;\n",
              "      border-bottom-color: var(--fill-color);\n",
              "      border-left-color: var(--fill-color);\n",
              "    }\n",
              "    20% {\n",
              "      border-color: transparent;\n",
              "      border-left-color: var(--fill-color);\n",
              "      border-top-color: var(--fill-color);\n",
              "    }\n",
              "    30% {\n",
              "      border-color: transparent;\n",
              "      border-left-color: var(--fill-color);\n",
              "      border-top-color: var(--fill-color);\n",
              "      border-right-color: var(--fill-color);\n",
              "    }\n",
              "    40% {\n",
              "      border-color: transparent;\n",
              "      border-right-color: var(--fill-color);\n",
              "      border-top-color: var(--fill-color);\n",
              "    }\n",
              "    60% {\n",
              "      border-color: transparent;\n",
              "      border-right-color: var(--fill-color);\n",
              "    }\n",
              "    80% {\n",
              "      border-color: transparent;\n",
              "      border-right-color: var(--fill-color);\n",
              "      border-bottom-color: var(--fill-color);\n",
              "    }\n",
              "    90% {\n",
              "      border-color: transparent;\n",
              "      border-bottom-color: var(--fill-color);\n",
              "    }\n",
              "  }\n",
              "</style>\n",
              "\n",
              "  <script>\n",
              "    async function quickchart(key) {\n",
              "      const quickchartButtonEl =\n",
              "        document.querySelector('#' + key + ' button');\n",
              "      quickchartButtonEl.disabled = true;  // To prevent multiple clicks.\n",
              "      quickchartButtonEl.classList.add('colab-df-spinner');\n",
              "      try {\n",
              "        const charts = await google.colab.kernel.invokeFunction(\n",
              "            'suggestCharts', [key], {});\n",
              "      } catch (error) {\n",
              "        console.error('Error during call to suggestCharts:', error);\n",
              "      }\n",
              "      quickchartButtonEl.classList.remove('colab-df-spinner');\n",
              "      quickchartButtonEl.classList.add('colab-df-quickchart-complete');\n",
              "    }\n",
              "    (() => {\n",
              "      let quickchartButtonEl =\n",
              "        document.querySelector('#df-f47b490a-6bcd-4d2b-b6e9-9b5b5dd5a532 button');\n",
              "      quickchartButtonEl.style.display =\n",
              "        google.colab.kernel.accessAllowed ? 'block' : 'none';\n",
              "    })();\n",
              "  </script>\n",
              "</div>\n",
              "\n",
              "    </div>\n",
              "  </div>\n"
            ],
            "application/vnd.google.colaboratory.intrinsic+json": {
              "type": "dataframe",
              "summary": "{\n  \"name\": \"iris\",\n  \"rows\": 4,\n  \"fields\": [\n    {\n      \"column\": \"sepal_length\",\n      \"properties\": {\n        \"dtype\": \"number\",\n        \"std\": 0.5127858813273581,\n        \"min\": -0.11756978413300088,\n        \"max\": 1.0,\n        \"num_unique_values\": 4,\n        \"samples\": [\n          -0.11756978413300088,\n          0.8179411262715758,\n          1.0\n        ],\n        \"semantic_type\": \"\",\n        \"description\": \"\"\n      }\n    },\n    {\n      \"column\": \"sepal_width\",\n      \"properties\": {\n        \"dtype\": \"number\",\n        \"std\": 0.6657080809503223,\n        \"min\": -0.42844010433053864,\n        \"max\": 1.0,\n        \"num_unique_values\": 4,\n        \"samples\": [\n          1.0,\n          -0.3661259325364377,\n          -0.11756978413300088\n        ],\n        \"semantic_type\": \"\",\n        \"description\": \"\"\n      }\n    },\n    {\n      \"column\": \"petal_length\",\n      \"properties\": {\n        \"dtype\": \"number\",\n        \"std\": 0.6887672414981271,\n        \"min\": -0.42844010433053864,\n        \"max\": 1.0,\n        \"num_unique_values\": 4,\n        \"samples\": [\n          -0.42844010433053864,\n          0.962865431402796,\n          0.8717537758865838\n        ],\n        \"semantic_type\": \"\",\n        \"description\": \"\"\n      }\n    },\n    {\n      \"column\": \"petal_width\",\n      \"properties\": {\n        \"dtype\": \"number\",\n        \"std\": 0.6512846518377995,\n        \"min\": -0.3661259325364377,\n        \"max\": 1.0,\n        \"num_unique_values\": 4,\n        \"samples\": [\n          -0.3661259325364377,\n          1.0,\n          0.8179411262715758\n        ],\n        \"semantic_type\": \"\",\n        \"description\": \"\"\n      }\n    }\n  ]\n}"
            }
          },
          "metadata": {},
          "execution_count": 71
        }
      ]
    },
    {
      "cell_type": "code",
      "source": [
        "df['sepal_diff'] = df['sepal_width'] - sepal_w_mean\n",
        "df['petal_diff'] = df['petal_length'] - petal_l_mean\n",
        "df['multiple'] = df['sepal_diff'] * df['petal_diff']\n",
        "df['sepal_squared'] = df['sepal_diff'] ** 2\n",
        "df['petal_squared'] = df['petal_diff'] ** 2\n",
        "\n",
        "cov_value = df['multiple'].sum()/(len(df))\n",
        "sepal_squared_std = np.sqrt(np.mean(df['sepal_squared']))\n",
        "petal_squared_std = np.sqrt(np.mean(df['petal_squared']))\n",
        "print(\"편차의 합:\", df['multiple'].sum())\n",
        "print(\"공분산 :\", cov_value)\n",
        "print(\"sepal_squared 표준편차:\", sepal_squared_std)\n",
        "print(\"petal_squared 표준편차:\", petal_squared_std)\n",
        "print(\"상관계수:\", cov_value / (sepal_squared_std * petal_squared_std))"
      ],
      "metadata": {
        "colab": {
          "base_uri": "https://localhost:8080/"
        },
        "id": "JucDbwAgY-8b",
        "outputId": "6cda179f-dae9-456e-db78-c01327a4da3f"
      },
      "execution_count": 76,
      "outputs": [
        {
          "output_type": "stream",
          "name": "stdout",
          "text": [
            "편차의 합: 0.15499999999999994\n",
            "공분산 : 0.015499999999999995\n",
            "sepal_squared 표준편차: 0.2913760456866693\n",
            "petal_squared 표준편차: 0.10246950765959598\n",
            "상관계수: 0.5191384588617989\n"
          ]
        }
      ]
    },
    {
      "cell_type": "code",
      "source": [
        "# 산점도 구하기\n",
        "fig, ax = plt.subplots(ncols = 3, figsize=(16,5))\n",
        "sns.scatterplot(iris, x = 'petal_length', y = 'sepal_length', ax = ax[0])\n",
        "sns.scatterplot(iris, x = 'sepal_width', y = 'sepal_length', ax = ax[1])\n",
        "sns.scatterplot(iris, x = 'petal_width', y = 'sepal_length', ax = ax[2])\n",
        "plt.show()"
      ],
      "metadata": {
        "colab": {
          "base_uri": "https://localhost:8080/",
          "height": 415
        },
        "id": "RKvT4pD0XZSF",
        "outputId": "3fb16218-64f0-47bd-bc3e-2ef431beb160"
      },
      "execution_count": 75,
      "outputs": [
        {
          "output_type": "display_data",
          "data": {
            "text/plain": [
              "<Figure size 1600x500 with 3 Axes>"
            ],
            "image/png": "[encoded data removed]"
          },
          "metadata": {}
        }
      ]
    },
    {
      "cell_type": "markdown",
      "source": [
        "# 회귀분석"
      ],
      "metadata": {
        "id": "gP9kVR3lv6Mf"
      }
    },
    {
      "cell_type": "code",
      "source": [
        "from matplotlib import pyplot as plt\n",
        "import seaborn as sns\n",
        "\n",
        "sns.lmplot(data = tips,\n",
        "                x = 'total_bill',\n",
        "                y = 'tip')\n",
        "sns.despine()"
      ],
      "metadata": {
        "colab": {
          "base_uri": "https://localhost:8080/",
          "height": 504
        },
        "id": "ck916ybav-Jy",
        "outputId": "854b1105-d317-4ce4-a722-3472cbdcbb90"
      },
      "execution_count": 79,
      "outputs": [
        {
          "output_type": "display_data",
          "data": {
            "text/plain": [
              "<Figure size 500x500 with 1 Axes>"
            ],
            "image/png": "[encoded data removed]"
          },
          "metadata": {}
        }
      ]
    },
    {
      "cell_type": "markdown",
      "source": [
        "## 모델 만들기"
      ],
      "metadata": {
        "id": "FGyPiWkYyEQM"
      }
    },
    {
      "cell_type": "code",
      "source": [
        "import statsmodels.api as sm\n",
        "\n",
        "X = tips['total_bill']\n",
        "y = tips['tip']\n",
        "X = sm.add_constant(X)\n",
        "model = sm.OLS(y, X).fit()\n",
        "\n",
        "print(model.summary())"
      ],
      "metadata": {
        "colab": {
          "base_uri": "https://localhost:8080/"
        },
        "id": "j0RcGJUDyGGG",
        "outputId": "6a7737d3-687a-464f-8611-d0fb298be358"
      },
      "execution_count": 84,
      "outputs": [
        {
          "output_type": "stream",
          "name": "stdout",
          "text": [
            "                            OLS Regression Results                            \n",
            "==============================================================================\n",
            "Dep. Variable:                    tip   R-squared:                       0.449\n",
            "Model:                            OLS   Adj. R-squared:                  0.447\n",
            "Method:                 Least Squares   F-statistic:                     182.0\n",
            "Date:                Tue, 08 Oct 2024   Prob (F-statistic):           1.02e-30\n",
            "Time:                        06:19:43   Log-Likelihood:                -328.88\n",
            "No. Observations:                 225   AIC:                             661.8\n",
            "Df Residuals:                     223   BIC:                             668.6\n",
            "Df Model:                           1                                         \n",
            "Covariance Type:            nonrobust                                         \n",
            "==============================================================================\n",
            "                 coef    std err          t      P>|t|      [0.025      0.975]\n",
            "------------------------------------------------------------------------------\n",
            "const          0.9042      0.172      5.264      0.000       0.566       1.243\n",
            "total_bill     0.1058      0.008     13.489      0.000       0.090       0.121\n",
            "==============================================================================\n",
            "Omnibus:                       17.032   Durbin-Watson:                   2.131\n",
            "Prob(Omnibus):                  0.000   Jarque-Bera (JB):               29.796\n",
            "Skew:                           0.416   Prob(JB):                     3.39e-07\n",
            "Kurtosis:                       4.577   Cond. No.                         53.9\n",
            "==============================================================================\n",
            "\n",
            "Notes:\n",
            "[1] Standard Errors assume that the covariance matrix of the errors is correctly specified.\n"
          ]
        }
      ]
    },
    {
      "cell_type": "markdown",
      "source": [
        "## 회귀식 가정 검토"
      ],
      "metadata": {
        "id": "rv03CPiazLa4"
      }
    },
    {
      "cell_type": "markdown",
      "source": [
        "### 잔차의 정규성\n",
        "- 귀무가설 : 주어진 데이터는 정규분포를 이룬다.\n",
        "- 대립가설 : 주어진 데이터는 정규분포를 이루고 있지 않다.\n"
      ],
      "metadata": {
        "id": "xUmFRLPSzOQP"
      }
    },
    {
      "cell_type": "code",
      "source": [
        "from scipy import stats\n",
        "from scipy.stats import probplot\n",
        "\n",
        "res = model.resid\n",
        "fig, axes = plt.subplots(1, 2, figsize=(15, 5))\n",
        "\n",
        "probplot(res, dist=\"norm\", plot = axes[0]);\n",
        "sns.histplot(res, axes=axes[1]);\n",
        "\n",
        "titles = ['QQ plot', 'Histogram']\n",
        "for i, ax in enumerate(axes):\n",
        "    ax.spines[['right', 'top']].set_visible(False)\n",
        "    ax.set_title(titles[i])\n",
        "\n",
        "plt.show()\n",
        "shapiro(res)"
      ],
      "metadata": {
        "colab": {
          "base_uri": "https://localhost:8080/",
          "height": 519
        },
        "id": "fIhqabd6zXbZ",
        "outputId": "5b3f2b48-2e4d-469e-dc0a-b909c16a5aee"
      },
      "execution_count": 85,
      "outputs": [
        {
          "output_type": "stream",
          "name": "stderr",
          "text": [
            "/usr/local/lib/python3.10/dist-packages/IPython/core/pylabtools.py:151: UserWarning: Glyph 8722 (\\N{MINUS SIGN}) missing from current font.\n",
            "  fig.canvas.print_figure(bytes_io, **kw)\n"
          ]
        },
        {
          "output_type": "display_data",
          "data": {
            "text/plain": [
              "<Figure size 1500x500 with 2 Axes>"
            ],
            "image/png": "[encoded data removed]"
          },
          "metadata": {}
        },
        {
          "output_type": "execute_result",
          "data": {
            "text/plain": [
              "ShapiroResult(statistic=0.9689880696275982, pvalue=7.735569496094148e-05)"
            ]
          },
          "metadata": {},
          "execution_count": 85
        }
      ]
    },
    {
      "cell_type": "markdown",
      "source": [
        "### 잔차의 등분산성\n",
        "- 등분산성이 아니라면\n",
        "  + 종속 변수의 이상치 제거\n",
        "  + 변수의 로그변환"
      ],
      "metadata": {
        "id": "msxqU6TXz_BU"
      }
    },
    {
      "cell_type": "code",
      "source": [
        "from statsmodels.stats.diagnostic import het_white\n",
        "from statsmodels.compat import lzip\n",
        "\n",
        "X = tips['total_bill']\n",
        "y = tips['tip']\n",
        "X = sm.add_constant(X)\n",
        "model = sm.OLS(y, X).fit()\n",
        "\n",
        "predictions = model.predict(X)\n",
        "residuals = y - predictions\n",
        "\n",
        "plt.scatter(predictions, residuals)\n",
        "plt.axhline(0, linestyle='--', color='red')\n",
        "plt.xlabel('Predicted Values')\n",
        "plt.ylabel('Residuals')\n",
        "plt.title('Residuals vs. Predicted Values')\n",
        "plt.show()\n",
        "\n",
        "# Optionally, use Levene's test to statistically test homoscedasticity\n",
        "stat, p = levene(y, predictions)\n",
        "print('Levene’s Test p-value:', p)\n",
        "\n",
        "#The test\n",
        "white_test = het_white(model.resid,  model.model.exog)\n",
        "\n",
        "#Zipping the array with labels\n",
        "names = ['Lagrange multiplier statistic', 'p-value','f-value', 'f p-value']\n",
        "lzip(names,white_test)"
      ],
      "metadata": {
        "colab": {
          "base_uri": "https://localhost:8080/",
          "height": 603
        },
        "id": "o0twjHUR0rl3",
        "outputId": "d314255b-877f-4ea5-a612-2baa29e37f0d"
      },
      "execution_count": 86,
      "outputs": [
        {
          "output_type": "stream",
          "name": "stderr",
          "text": [
            "/usr/local/lib/python3.10/dist-packages/IPython/core/pylabtools.py:151: UserWarning: Glyph 8722 (\\N{MINUS SIGN}) missing from current font.\n",
            "  fig.canvas.print_figure(bytes_io, **kw)\n"
          ]
        },
        {
          "output_type": "display_data",
          "data": {
            "text/plain": [
              "<Figure size 640x480 with 1 Axes>"
            ],
            "image/png": "[encoded data removed]"
          },
          "metadata": {}
        },
        {
          "output_type": "stream",
          "name": "stdout",
          "text": [
            "Levene’s Test p-value: 8.829049396018508e-06\n"
          ]
        },
        {
          "output_type": "execute_result",
          "data": {
            "text/plain": [
              "[('Lagrange multiplier statistic', 57.93913495051581),\n",
              " ('p-value', 2.622265748769753e-13),\n",
              " ('f-value', 38.49641253564857),\n",
              " ('f p-value', 4.434402002120459e-15)]"
            ]
          },
          "metadata": {},
          "execution_count": 86
        }
      ]
    },
    {
      "cell_type": "markdown",
      "source": [],
      "metadata": {
        "id": "6lGu97vCzWp_"
      }
    },
    {
      "cell_type": "code",
      "source": [
        "iris = sns.load_dataset(\"iris\")\n",
        "iris.head()"
      ],
      "metadata": {
        "colab": {
          "base_uri": "https://localhost:8080/",
          "height": 206
        },
        "id": "DpDcw5mOxLI-",
        "outputId": "c3e9dfca-cd45-43c3-bab3-c2c776128aae"
      },
      "execution_count": 81,
      "outputs": [
        {
          "output_type": "execute_result",
          "data": {
            "text/plain": [
              "   sepal_length  sepal_width  petal_length  petal_width species\n",
              "0           5.1          3.5           1.4          0.2  setosa\n",
              "1           4.9          3.0           1.4          0.2  setosa\n",
              "2           4.7          3.2           1.3          0.2  setosa\n",
              "3           4.6          3.1           1.5          0.2  setosa\n",
              "4           5.0          3.6           1.4          0.2  setosa"
            ],
            "text/html": [
              "\n",
              "  <div id=\"df-3e3ca3f6-ff3e-47b2-89d4-63938edd75bb\" class=\"colab-df-container\">\n",
              "    <div>\n",
              "<style scoped>\n",
              "    .dataframe tbody tr th:only-of-type {\n",
              "        vertical-align: middle;\n",
              "    }\n",
              "\n",
              "    .dataframe tbody tr th {\n",
              "        vertical-align: top;\n",
              "    }\n",
              "\n",
              "    .dataframe thead th {\n",
              "        text-align: right;\n",
              "    }\n",
              "</style>\n",
              "<table border=\"1\" class=\"dataframe\">\n",
              "  <thead>\n",
              "    <tr style=\"text-align: right;\">\n",
              "      <th></th>\n",
              "      <th>sepal_length</th>\n",
              "      <th>sepal_width</th>\n",
              "      <th>petal_length</th>\n",
              "      <th>petal_width</th>\n",
              "      <th>species</th>\n",
              "    </tr>\n",
              "  </thead>\n",
              "  <tbody>\n",
              "    <tr>\n",
              "      <th>0</th>\n",
              "      <td>5.1</td>\n",
              "      <td>3.5</td>\n",
              "      <td>1.4</td>\n",
              "      <td>0.2</td>\n",
              "      <td>setosa</td>\n",
              "    </tr>\n",
              "    <tr>\n",
              "      <th>1</th>\n",
              "      <td>4.9</td>\n",
              "      <td>3.0</td>\n",
              "      <td>1.4</td>\n",
              "      <td>0.2</td>\n",
              "      <td>setosa</td>\n",
              "    </tr>\n",
              "    <tr>\n",
              "      <th>2</th>\n",
              "      <td>4.7</td>\n",
              "      <td>3.2</td>\n",
              "      <td>1.3</td>\n",
              "      <td>0.2</td>\n",
              "      <td>setosa</td>\n",
              "    </tr>\n",
              "    <tr>\n",
              "      <th>3</th>\n",
              "      <td>4.6</td>\n",
              "      <td>3.1</td>\n",
              "      <td>1.5</td>\n",
              "      <td>0.2</td>\n",
              "      <td>setosa</td>\n",
              "    </tr>\n",
              "    <tr>\n",
              "      <th>4</th>\n",
              "      <td>5.0</td>\n",
              "      <td>3.6</td>\n",
              "      <td>1.4</td>\n",
              "      <td>0.2</td>\n",
              "      <td>setosa</td>\n",
              "    </tr>\n",
              "  </tbody>\n",
              "</table>\n",
              "</div>\n",
              "    <div class=\"colab-df-buttons\">\n",
              "\n",
              "  <div class=\"colab-df-container\">\n",
              "    <button class=\"colab-df-convert\" onclick=\"convertToInteractive('df-3e3ca3f6-ff3e-47b2-89d4-63938edd75bb')\"\n",
              "            title=\"Convert this dataframe to an interactive table.\"\n",
              "            style=\"display:none;\">\n",
              "\n",
              "  <svg xmlns=\"http://www.w3.org/2000/svg\" height=\"24px\" viewBox=\"0 -960 960 960\">\n",
              "    <path d=\"M120-120v-720h720v720H120Zm60-500h600v-160H180v160Zm220 220h160v-160H400v160Zm0 220h160v-160H400v160ZM180-400h160v-160H180v160Zm440 0h160v-160H620v160ZM180-180h160v-160H180v160Zm440 0h160v-160H620v160Z\"/>\n",
              "  </svg>\n",
              "    </button>\n",
              "\n",
              "  <style>\n",
              "    .colab-df-container {\n",
              "      display:flex;\n",
              "      gap: 12px;\n",
              "    }\n",
              "\n",
              "    .colab-df-convert {\n",
              "      background-color: #E8F0FE;\n",
              "      border: none;\n",
              "      border-radius: 50%;\n",
              "      cursor: pointer;\n",
              "      display: none;\n",
              "      fill: #1967D2;\n",
              "      height: 32px;\n",
              "      padding: 0 0 0 0;\n",
              "      width: 32px;\n",
              "    }\n",
              "\n",
              "    .colab-df-convert:hover {\n",
              "      background-color: #E2EBFA;\n",
              "      box-shadow: 0px 1px 2px rgba(60, 64, 67, 0.3), 0px 1px 3px 1px rgba(60, 64, 67, 0.15);\n",
              "      fill: #174EA6;\n",
              "    }\n",
              "\n",
              "    .colab-df-buttons div {\n",
              "      margin-bottom: 4px;\n",
              "    }\n",
              "\n",
              "    [theme=dark] .colab-df-convert {\n",
              "      background-color: #3B4455;\n",
              "      fill: #D2E3FC;\n",
              "    }\n",
              "\n",
              "    [theme=dark] .colab-df-convert:hover {\n",
              "      background-color: #434B5C;\n",
              "      box-shadow: 0px 1px 3px 1px rgba(0, 0, 0, 0.15);\n",
              "      filter: drop-shadow(0px 1px 2px rgba(0, 0, 0, 0.3));\n",
              "      fill: #FFFFFF;\n",
              "    }\n",
              "  </style>\n",
              "\n",
              "    <script>\n",
              "      const buttonEl =\n",
              "        document.querySelector('#df-3e3ca3f6-ff3e-47b2-89d4-63938edd75bb button.colab-df-convert');\n",
              "      buttonEl.style.display =\n",
              "        google.colab.kernel.accessAllowed ? 'block' : 'none';\n",
              "\n",
              "      async function convertToInteractive(key) {\n",
              "        const element = document.querySelector('#df-3e3ca3f6-ff3e-47b2-89d4-63938edd75bb');\n",
              "        const dataTable =\n",
              "          await google.colab.kernel.invokeFunction('convertToInteractive',\n",
              "                                                    [key], {});\n",
              "        if (!dataTable) return;\n",
              "\n",
              "        const docLinkHtml = 'Like what you see? Visit the ' +\n",
              "          '<a target=\"_blank\" href=https://colab.research.google.com/notebooks/data_table.ipynb>data table notebook</a>'\n",
              "          + ' to learn more about interactive tables.';\n",
              "        element.innerHTML = '';\n",
              "        dataTable['output_type'] = 'display_data';\n",
              "        await google.colab.output.renderOutput(dataTable, element);\n",
              "        const docLink = document.createElement('div');\n",
              "        docLink.innerHTML = docLinkHtml;\n",
              "        element.appendChild(docLink);\n",
              "      }\n",
              "    </script>\n",
              "  </div>\n",
              "\n",
              "\n",
              "<div id=\"df-10cfcf74-3b12-4108-bd31-127eb29a24e5\">\n",
              "  <button class=\"colab-df-quickchart\" onclick=\"quickchart('df-10cfcf74-3b12-4108-bd31-127eb29a24e5')\"\n",
              "            title=\"Suggest charts\"\n",
              "            style=\"display:none;\">\n",
              "\n",
              "<svg xmlns=\"http://www.w3.org/2000/svg\" height=\"24px\"viewBox=\"0 0 24 24\"\n",
              "     width=\"24px\">\n",
              "    <g>\n",
              "        <path d=\"M19 3H5c-1.1 0-2 .9-2 2v14c0 1.1.9 2 2 2h14c1.1 0 2-.9 2-2V5c0-1.1-.9-2-2-2zM9 17H7v-7h2v7zm4 0h-2V7h2v10zm4 0h-2v-4h2v4z\"/>\n",
              "    </g>\n",
              "</svg>\n",
              "  </button>\n",
              "\n",
              "<style>\n",
              "  .colab-df-quickchart {\n",
              "      --bg-color: #E8F0FE;\n",
              "      --fill-color: #1967D2;\n",
              "      --hover-bg-color: #E2EBFA;\n",
              "      --hover-fill-color: #174EA6;\n",
              "      --disabled-fill-color: #AAA;\n",
              "      --disabled-bg-color: #DDD;\n",
              "  }\n",
              "\n",
              "  [theme=dark] .colab-df-quickchart {\n",
              "      --bg-color: #3B4455;\n",
              "      --fill-color: #D2E3FC;\n",
              "      --hover-bg-color: #434B5C;\n",
              "      --hover-fill-color: #FFFFFF;\n",
              "      --disabled-bg-color: #3B4455;\n",
              "      --disabled-fill-color: #666;\n",
              "  }\n",
              "\n",
              "  .colab-df-quickchart {\n",
              "    background-color: var(--bg-color);\n",
              "    border: none;\n",
              "    border-radius: 50%;\n",
              "    cursor: pointer;\n",
              "    display: none;\n",
              "    fill: var(--fill-color);\n",
              "    height: 32px;\n",
              "    padding: 0;\n",
              "    width: 32px;\n",
              "  }\n",
              "\n",
              "  .colab-df-quickchart:hover {\n",
              "    background-color: var(--hover-bg-color);\n",
              "    box-shadow: 0 1px 2px rgba(60, 64, 67, 0.3), 0 1px 3px 1px rgba(60, 64, 67, 0.15);\n",
              "    fill: var(--button-hover-fill-color);\n",
              "  }\n",
              "\n",
              "  .colab-df-quickchart-complete:disabled,\n",
              "  .colab-df-quickchart-complete:disabled:hover {\n",
              "    background-color: var(--disabled-bg-color);\n",
              "    fill: var(--disabled-fill-color);\n",
              "    box-shadow: none;\n",
              "  }\n",
              "\n",
              "  .colab-df-spinner {\n",
              "    border: 2px solid var(--fill-color);\n",
              "    border-color: transparent;\n",
              "    border-bottom-color: var(--fill-color);\n",
              "    animation:\n",
              "      spin 1s steps(1) infinite;\n",
              "  }\n",
              "\n",
              "  @keyframes spin {\n",
              "    0% {\n",
              "      border-color: transparent;\n",
              "      border-bottom-color: var(--fill-color);\n",
              "      border-left-color: var(--fill-color);\n",
              "    }\n",
              "    20% {\n",
              "      border-color: transparent;\n",
              "      border-left-color: var(--fill-color);\n",
              "      border-top-color: var(--fill-color);\n",
              "    }\n",
              "    30% {\n",
              "      border-color: transparent;\n",
              "      border-left-color: var(--fill-color);\n",
              "      border-top-color: var(--fill-color);\n",
              "      border-right-color: var(--fill-color);\n",
              "    }\n",
              "    40% {\n",
              "      border-color: transparent;\n",
              "      border-right-color: var(--fill-color);\n",
              "      border-top-color: var(--fill-color);\n",
              "    }\n",
              "    60% {\n",
              "      border-color: transparent;\n",
              "      border-right-color: var(--fill-color);\n",
              "    }\n",
              "    80% {\n",
              "      border-color: transparent;\n",
              "      border-right-color: var(--fill-color);\n",
              "      border-bottom-color: var(--fill-color);\n",
              "    }\n",
              "    90% {\n",
              "      border-color: transparent;\n",
              "      border-bottom-color: var(--fill-color);\n",
              "    }\n",
              "  }\n",
              "</style>\n",
              "\n",
              "  <script>\n",
              "    async function quickchart(key) {\n",
              "      const quickchartButtonEl =\n",
              "        document.querySelector('#' + key + ' button');\n",
              "      quickchartButtonEl.disabled = true;  // To prevent multiple clicks.\n",
              "      quickchartButtonEl.classList.add('colab-df-spinner');\n",
              "      try {\n",
              "        const charts = await google.colab.kernel.invokeFunction(\n",
              "            'suggestCharts', [key], {});\n",
              "      } catch (error) {\n",
              "        console.error('Error during call to suggestCharts:', error);\n",
              "      }\n",
              "      quickchartButtonEl.classList.remove('colab-df-spinner');\n",
              "      quickchartButtonEl.classList.add('colab-df-quickchart-complete');\n",
              "    }\n",
              "    (() => {\n",
              "      let quickchartButtonEl =\n",
              "        document.querySelector('#df-10cfcf74-3b12-4108-bd31-127eb29a24e5 button');\n",
              "      quickchartButtonEl.style.display =\n",
              "        google.colab.kernel.accessAllowed ? 'block' : 'none';\n",
              "    })();\n",
              "  </script>\n",
              "</div>\n",
              "\n",
              "    </div>\n",
              "  </div>\n"
            ],
            "application/vnd.google.colaboratory.intrinsic+json": {
              "type": "dataframe",
              "variable_name": "iris",
              "summary": "{\n  \"name\": \"iris\",\n  \"rows\": 150,\n  \"fields\": [\n    {\n      \"column\": \"sepal_length\",\n      \"properties\": {\n        \"dtype\": \"number\",\n        \"std\": 0.8280661279778629,\n        \"min\": 4.3,\n        \"max\": 7.9,\n        \"num_unique_values\": 35,\n        \"samples\": [\n          6.2,\n          4.5,\n          5.6\n        ],\n        \"semantic_type\": \"\",\n        \"description\": \"\"\n      }\n    },\n    {\n      \"column\": \"sepal_width\",\n      \"properties\": {\n        \"dtype\": \"number\",\n        \"std\": 0.435866284936698,\n        \"min\": 2.0,\n        \"max\": 4.4,\n        \"num_unique_values\": 23,\n        \"samples\": [\n          2.3,\n          4.0,\n          3.5\n        ],\n        \"semantic_type\": \"\",\n        \"description\": \"\"\n      }\n    },\n    {\n      \"column\": \"petal_length\",\n      \"properties\": {\n        \"dtype\": \"number\",\n        \"std\": 1.7652982332594667,\n        \"min\": 1.0,\n        \"max\": 6.9,\n        \"num_unique_values\": 43,\n        \"samples\": [\n          6.7,\n          3.8,\n          3.7\n        ],\n        \"semantic_type\": \"\",\n        \"description\": \"\"\n      }\n    },\n    {\n      \"column\": \"petal_width\",\n      \"properties\": {\n        \"dtype\": \"number\",\n        \"std\": 0.7622376689603465,\n        \"min\": 0.1,\n        \"max\": 2.5,\n        \"num_unique_values\": 22,\n        \"samples\": [\n          0.2,\n          1.2,\n          1.3\n        ],\n        \"semantic_type\": \"\",\n        \"description\": \"\"\n      }\n    },\n    {\n      \"column\": \"species\",\n      \"properties\": {\n        \"dtype\": \"category\",\n        \"num_unique_values\": 3,\n        \"samples\": [\n          \"setosa\",\n          \"versicolor\",\n          \"virginica\"\n        ],\n        \"semantic_type\": \"\",\n        \"description\": \"\"\n      }\n    }\n  ]\n}"
            }
          },
          "metadata": {},
          "execution_count": 81
        }
      ]
    },
    {
      "cell_type": "code",
      "source": [
        "sns.lmplot(data = iris,\n",
        "                x = 'petal_length',\n",
        "                y = 'sepal_length')\n",
        "sns.despine()"
      ],
      "metadata": {
        "colab": {
          "base_uri": "https://localhost:8080/",
          "height": 504
        },
        "id": "JBOxLIiSxJ1x",
        "outputId": "af6dfb5d-d9ea-4892-dcb5-b9fbffd080d0"
      },
      "execution_count": 83,
      "outputs": [
        {
          "output_type": "display_data",
          "data": {
            "text/plain": [
              "<Figure size 500x500 with 1 Axes>"
            ],
            "image/png": "[encoded data removed]"
          },
          "metadata": {}
        }
      ]
    },
    {
      "cell_type": "markdown",
      "source": [
        "### iris 데이터 적용"
      ],
      "metadata": {
        "id": "JskZzgIN1l3T"
      }
    },
    {
      "cell_type": "code",
      "source": [
        "X = iris['petal_length']\n",
        "y = iris['sepal_length']\n",
        "X = sm.add_constant(X)\n",
        "model = sm.OLS(y, X).fit()\n",
        "\n",
        "predictions = model.predict(X)\n",
        "residuals = y - predictions\n",
        "\n",
        "plt.scatter(predictions, residuals)\n",
        "plt.axhline(0, linestyle='--', color='red')\n",
        "plt.xlabel('Predicted Values')\n",
        "plt.ylabel('Residuals')\n",
        "plt.title('Residuals vs. Predicted Values')\n",
        "plt.show()\n",
        "\n",
        "# Optionally, use Levene's test to statistically test homoscedasticity\n",
        "stat, p = levene(y, predictions)\n",
        "print('Levene’s Test p-value:', p)\n",
        "\n",
        "#The test\n",
        "white_test = het_white(model.resid,  model.model.exog)\n",
        "\n",
        "#Zipping the array with labels\n",
        "names = ['Lagrange multiplier statistic', 'p-value','f-value', 'f p-value']\n",
        "lzip(names,white_test)"
      ],
      "metadata": {
        "colab": {
          "base_uri": "https://localhost:8080/",
          "height": 603
        },
        "id": "ja1gNDeF1nih",
        "outputId": "9cf7a44f-5ed1-40a9-e1cf-963029865d24"
      },
      "execution_count": 87,
      "outputs": [
        {
          "output_type": "stream",
          "name": "stderr",
          "text": [
            "/usr/local/lib/python3.10/dist-packages/IPython/core/pylabtools.py:151: UserWarning: Glyph 8722 (\\N{MINUS SIGN}) missing from current font.\n",
            "  fig.canvas.print_figure(bytes_io, **kw)\n"
          ]
        },
        {
          "output_type": "display_data",
          "data": {
            "text/plain": [
              "<Figure size 640x480 with 1 Axes>"
            ],
            "image/png": "[encoded data removed]"
          },
          "metadata": {}
        },
        {
          "output_type": "stream",
          "name": "stdout",
          "text": [
            "Levene’s Test p-value: 0.15373008919712283\n"
          ]
        },
        {
          "output_type": "execute_result",
          "data": {
            "text/plain": [
              "[('Lagrange multiplier statistic', 4.127348927907843),\n",
              " ('p-value', 0.1269865042454616),\n",
              " ('f-value', 2.0796231779684486),\n",
              " ('f p-value', 0.12863890476694825)]"
            ]
          },
          "metadata": {},
          "execution_count": 87
        }
      ]
    },
    {
      "cell_type": "markdown",
      "source": [
        "### 로그변환"
      ],
      "metadata": {
        "id": "HebKYSEg2jpa"
      }
    },
    {
      "cell_type": "code",
      "source": [
        "from statsmodels.stats.diagnostic import het_white\n",
        "from statsmodels.compat import lzip\n",
        "import numpy as np\n",
        "\n",
        "Q1 = tips['tip'].quantile(0.25)\n",
        "Q3 = tips['tip'].quantile(0.75)\n",
        "IQR = Q3 - Q1\n",
        "\n",
        "lower_bound = Q1 - 1.5 * IQR\n",
        "upper_bound = Q3 + 1.5 * IQR\n",
        "\n",
        "filtered_tips_sample = tips[(tips['tip'] >= lower_bound) & (tips['tip'] <= upper_bound)]\n",
        "\n",
        "X = filtered_tips_sample['total_bill']\n",
        "y = np.log(filtered_tips_sample['tip'])\n",
        "\n",
        "X = sm.add_constant(X)\n",
        "model = sm.OLS(y, X).fit()\n",
        "\n",
        "predictions = model.predict(X)\n",
        "residuals = y - predictions\n",
        "\n",
        "plt.scatter(predictions, residuals)\n",
        "plt.axhline(0, linestyle='--', color='red')\n",
        "plt.xlabel('Predicted Values')\n",
        "plt.ylabel('Residuals')\n",
        "plt.title('Residuals vs. Predicted Values')\n",
        "plt.show()\n",
        "\n",
        "white_test = het_white(model.resid,  model.model.exog)\n",
        "names = ['Lagrange multiplier statistic', 'p-value','f-value', 'f p-value']\n",
        "lzip(names, white_test)"
      ],
      "metadata": {
        "colab": {
          "base_uri": "https://localhost:8080/",
          "height": 585
        },
        "id": "NJWoCAxU2lhJ",
        "outputId": "e94316f3-7025-424b-e493-f42888a26165"
      },
      "execution_count": 88,
      "outputs": [
        {
          "output_type": "stream",
          "name": "stderr",
          "text": [
            "/usr/local/lib/python3.10/dist-packages/IPython/core/pylabtools.py:151: UserWarning: Glyph 8722 (\\N{MINUS SIGN}) missing from current font.\n",
            "  fig.canvas.print_figure(bytes_io, **kw)\n"
          ]
        },
        {
          "output_type": "display_data",
          "data": {
            "text/plain": [
              "<Figure size 640x480 with 1 Axes>"
            ],
            "image/png": "[encoded data removed]"
          },
          "metadata": {}
        },
        {
          "output_type": "execute_result",
          "data": {
            "text/plain": [
              "[('Lagrange multiplier statistic', 4.44302129158871),\n",
              " ('p-value', 0.10844516279485109),\n",
              " ('f-value', 2.2365215678478467),\n",
              " ('f p-value', 0.10930927251147539)]"
            ]
          },
          "metadata": {},
          "execution_count": 88
        }
      ]
    },
    {
      "cell_type": "markdown",
      "source": [
        "## 다중선형회귀"
      ],
      "metadata": {
        "id": "qGgSUcWl2bPI"
      }
    },
    {
      "cell_type": "code",
      "source": [
        "import statsmodels.formula.api as smf\n",
        "\n",
        "          # 종속변수     # 독립변수     독립변수\n",
        "formula = \"sepal_length ~ sepal_width + petal_length\"\n",
        "model = smf.ols(formula, data = iris).fit()\n",
        "print(model.summary())"
      ],
      "metadata": {
        "colab": {
          "base_uri": "https://localhost:8080/"
        },
        "id": "lh0uVTf12dON",
        "outputId": "96922766-576b-4855-d1ea-0a3566fc9cf7"
      },
      "execution_count": 90,
      "outputs": [
        {
          "output_type": "stream",
          "name": "stdout",
          "text": [
            "                            OLS Regression Results                            \n",
            "==============================================================================\n",
            "Dep. Variable:           sepal_length   R-squared:                       0.840\n",
            "Model:                            OLS   Adj. R-squared:                  0.838\n",
            "Method:                 Least Squares   F-statistic:                     386.4\n",
            "Date:                Tue, 08 Oct 2024   Prob (F-statistic):           2.93e-59\n",
            "Time:                        06:42:44   Log-Likelihood:                -46.513\n",
            "No. Observations:                 150   AIC:                             99.03\n",
            "Df Residuals:                     147   BIC:                             108.1\n",
            "Df Model:                           2                                         \n",
            "Covariance Type:            nonrobust                                         \n",
            "================================================================================\n",
            "                   coef    std err          t      P>|t|      [0.025      0.975]\n",
            "--------------------------------------------------------------------------------\n",
            "Intercept        2.2491      0.248      9.070      0.000       1.759       2.739\n",
            "sepal_width      0.5955      0.069      8.590      0.000       0.459       0.733\n",
            "petal_length     0.4719      0.017     27.569      0.000       0.438       0.506\n",
            "==============================================================================\n",
            "Omnibus:                        0.164   Durbin-Watson:                   2.021\n",
            "Prob(Omnibus):                  0.921   Jarque-Bera (JB):                0.319\n",
            "Skew:                          -0.044   Prob(JB):                        0.853\n",
            "Kurtosis:                       2.792   Cond. No.                         48.3\n",
            "==============================================================================\n",
            "\n",
            "Notes:\n",
            "[1] Standard Errors assume that the covariance matrix of the errors is correctly specified.\n"
          ]
        }
      ]
    },
    {
      "cell_type": "markdown",
      "source": [
        "# 카이제곱 검정"
      ],
      "metadata": {
        "id": "ixwAz88TCqnS"
      }
    },
    {
      "cell_type": "code",
      "source": [
        "import seaborn as sns\n",
        "\n",
        "tips = sns.load_dataset('tips')\n",
        "tips.head()"
      ],
      "metadata": {
        "colab": {
          "base_uri": "https://localhost:8080/",
          "height": 206
        },
        "id": "7_eODugOCswR",
        "outputId": "2cee2837-215d-413a-d426-59a3af13a425"
      },
      "execution_count": 92,
      "outputs": [
        {
          "output_type": "execute_result",
          "data": {
            "text/plain": [
              "   total_bill   tip     sex smoker  day    time  size\n",
              "0       16.99  1.01  Female     No  Sun  Dinner     2\n",
              "1       10.34  1.66    Male     No  Sun  Dinner     3\n",
              "2       21.01  3.50    Male     No  Sun  Dinner     3\n",
              "3       23.68  3.31    Male     No  Sun  Dinner     2\n",
              "4       24.59  3.61  Female     No  Sun  Dinner     4"
            ],
            "text/html": [
              "\n",
              "  <div id=\"df-25bdc681-f795-4f27-81a4-b5ceae7642af\" class=\"colab-df-container\">\n",
              "    <div>\n",
              "<style scoped>\n",
              "    .dataframe tbody tr th:only-of-type {\n",
              "        vertical-align: middle;\n",
              "    }\n",
              "\n",
              "    .dataframe tbody tr th {\n",
              "        vertical-align: top;\n",
              "    }\n",
              "\n",
              "    .dataframe thead th {\n",
              "        text-align: right;\n",
              "    }\n",
              "</style>\n",
              "<table border=\"1\" class=\"dataframe\">\n",
              "  <thead>\n",
              "    <tr style=\"text-align: right;\">\n",
              "      <th></th>\n",
              "      <th>total_bill</th>\n",
              "      <th>tip</th>\n",
              "      <th>sex</th>\n",
              "      <th>smoker</th>\n",
              "      <th>day</th>\n",
              "      <th>time</th>\n",
              "      <th>size</th>\n",
              "    </tr>\n",
              "  </thead>\n",
              "  <tbody>\n",
              "    <tr>\n",
              "      <th>0</th>\n",
              "      <td>16.99</td>\n",
              "      <td>1.01</td>\n",
              "      <td>Female</td>\n",
              "      <td>No</td>\n",
              "      <td>Sun</td>\n",
              "      <td>Dinner</td>\n",
              "      <td>2</td>\n",
              "    </tr>\n",
              "    <tr>\n",
              "      <th>1</th>\n",
              "      <td>10.34</td>\n",
              "      <td>1.66</td>\n",
              "      <td>Male</td>\n",
              "      <td>No</td>\n",
              "      <td>Sun</td>\n",
              "      <td>Dinner</td>\n",
              "      <td>3</td>\n",
              "    </tr>\n",
              "    <tr>\n",
              "      <th>2</th>\n",
              "      <td>21.01</td>\n",
              "      <td>3.50</td>\n",
              "      <td>Male</td>\n",
              "      <td>No</td>\n",
              "      <td>Sun</td>\n",
              "      <td>Dinner</td>\n",
              "      <td>3</td>\n",
              "    </tr>\n",
              "    <tr>\n",
              "      <th>3</th>\n",
              "      <td>23.68</td>\n",
              "      <td>3.31</td>\n",
              "      <td>Male</td>\n",
              "      <td>No</td>\n",
              "      <td>Sun</td>\n",
              "      <td>Dinner</td>\n",
              "      <td>2</td>\n",
              "    </tr>\n",
              "    <tr>\n",
              "      <th>4</th>\n",
              "      <td>24.59</td>\n",
              "      <td>3.61</td>\n",
              "      <td>Female</td>\n",
              "      <td>No</td>\n",
              "      <td>Sun</td>\n",
              "      <td>Dinner</td>\n",
              "      <td>4</td>\n",
              "    </tr>\n",
              "  </tbody>\n",
              "</table>\n",
              "</div>\n",
              "    <div class=\"colab-df-buttons\">\n",
              "\n",
              "  <div class=\"colab-df-container\">\n",
              "    <button class=\"colab-df-convert\" onclick=\"convertToInteractive('df-25bdc681-f795-4f27-81a4-b5ceae7642af')\"\n",
              "            title=\"Convert this dataframe to an interactive table.\"\n",
              "            style=\"display:none;\">\n",
              "\n",
              "  <svg xmlns=\"http://www.w3.org/2000/svg\" height=\"24px\" viewBox=\"0 -960 960 960\">\n",
              "    <path d=\"M120-120v-720h720v720H120Zm60-500h600v-160H180v160Zm220 220h160v-160H400v160Zm0 220h160v-160H400v160ZM180-400h160v-160H180v160Zm440 0h160v-160H620v160ZM180-180h160v-160H180v160Zm440 0h160v-160H620v160Z\"/>\n",
              "  </svg>\n",
              "    </button>\n",
              "\n",
              "  <style>\n",
              "    .colab-df-container {\n",
              "      display:flex;\n",
              "      gap: 12px;\n",
              "    }\n",
              "\n",
              "    .colab-df-convert {\n",
              "      background-color: #E8F0FE;\n",
              "      border: none;\n",
              "      border-radius: 50%;\n",
              "      cursor: pointer;\n",
              "      display: none;\n",
              "      fill: #1967D2;\n",
              "      height: 32px;\n",
              "      padding: 0 0 0 0;\n",
              "      width: 32px;\n",
              "    }\n",
              "\n",
              "    .colab-df-convert:hover {\n",
              "      background-color: #E2EBFA;\n",
              "      box-shadow: 0px 1px 2px rgba(60, 64, 67, 0.3), 0px 1px 3px 1px rgba(60, 64, 67, 0.15);\n",
              "      fill: #174EA6;\n",
              "    }\n",
              "\n",
              "    .colab-df-buttons div {\n",
              "      margin-bottom: 4px;\n",
              "    }\n",
              "\n",
              "    [theme=dark] .colab-df-convert {\n",
              "      background-color: #3B4455;\n",
              "      fill: #D2E3FC;\n",
              "    }\n",
              "\n",
              "    [theme=dark] .colab-df-convert:hover {\n",
              "      background-color: #434B5C;\n",
              "      box-shadow: 0px 1px 3px 1px rgba(0, 0, 0, 0.15);\n",
              "      filter: drop-shadow(0px 1px 2px rgba(0, 0, 0, 0.3));\n",
              "      fill: #FFFFFF;\n",
              "    }\n",
              "  </style>\n",
              "\n",
              "    <script>\n",
              "      const buttonEl =\n",
              "        document.querySelector('#df-25bdc681-f795-4f27-81a4-b5ceae7642af button.colab-df-convert');\n",
              "      buttonEl.style.display =\n",
              "        google.colab.kernel.accessAllowed ? 'block' : 'none';\n",
              "\n",
              "      async function convertToInteractive(key) {\n",
              "        const element = document.querySelector('#df-25bdc681-f795-4f27-81a4-b5ceae7642af');\n",
              "        const dataTable =\n",
              "          await google.colab.kernel.invokeFunction('convertToInteractive',\n",
              "                                                    [key], {});\n",
              "        if (!dataTable) return;\n",
              "\n",
              "        const docLinkHtml = 'Like what you see? Visit the ' +\n",
              "          '<a target=\"_blank\" href=https://colab.research.google.com/notebooks/data_table.ipynb>data table notebook</a>'\n",
              "          + ' to learn more about interactive tables.';\n",
              "        element.innerHTML = '';\n",
              "        dataTable['output_type'] = 'display_data';\n",
              "        await google.colab.output.renderOutput(dataTable, element);\n",
              "        const docLink = document.createElement('div');\n",
              "        docLink.innerHTML = docLinkHtml;\n",
              "        element.appendChild(docLink);\n",
              "      }\n",
              "    </script>\n",
              "  </div>\n",
              "\n",
              "\n",
              "<div id=\"df-3c751834-b56c-4260-9a06-217e1106455a\">\n",
              "  <button class=\"colab-df-quickchart\" onclick=\"quickchart('df-3c751834-b56c-4260-9a06-217e1106455a')\"\n",
              "            title=\"Suggest charts\"\n",
              "            style=\"display:none;\">\n",
              "\n",
              "<svg xmlns=\"http://www.w3.org/2000/svg\" height=\"24px\"viewBox=\"0 0 24 24\"\n",
              "     width=\"24px\">\n",
              "    <g>\n",
              "        <path d=\"M19 3H5c-1.1 0-2 .9-2 2v14c0 1.1.9 2 2 2h14c1.1 0 2-.9 2-2V5c0-1.1-.9-2-2-2zM9 17H7v-7h2v7zm4 0h-2V7h2v10zm4 0h-2v-4h2v4z\"/>\n",
              "    </g>\n",
              "</svg>\n",
              "  </button>\n",
              "\n",
              "<style>\n",
              "  .colab-df-quickchart {\n",
              "      --bg-color: #E8F0FE;\n",
              "      --fill-color: #1967D2;\n",
              "      --hover-bg-color: #E2EBFA;\n",
              "      --hover-fill-color: #174EA6;\n",
              "      --disabled-fill-color: #AAA;\n",
              "      --disabled-bg-color: #DDD;\n",
              "  }\n",
              "\n",
              "  [theme=dark] .colab-df-quickchart {\n",
              "      --bg-color: #3B4455;\n",
              "      --fill-color: #D2E3FC;\n",
              "      --hover-bg-color: #434B5C;\n",
              "      --hover-fill-color: #FFFFFF;\n",
              "      --disabled-bg-color: #3B4455;\n",
              "      --disabled-fill-color: #666;\n",
              "  }\n",
              "\n",
              "  .colab-df-quickchart {\n",
              "    background-color: var(--bg-color);\n",
              "    border: none;\n",
              "    border-radius: 50%;\n",
              "    cursor: pointer;\n",
              "    display: none;\n",
              "    fill: var(--fill-color);\n",
              "    height: 32px;\n",
              "    padding: 0;\n",
              "    width: 32px;\n",
              "  }\n",
              "\n",
              "  .colab-df-quickchart:hover {\n",
              "    background-color: var(--hover-bg-color);\n",
              "    box-shadow: 0 1px 2px rgba(60, 64, 67, 0.3), 0 1px 3px 1px rgba(60, 64, 67, 0.15);\n",
              "    fill: var(--button-hover-fill-color);\n",
              "  }\n",
              "\n",
              "  .colab-df-quickchart-complete:disabled,\n",
              "  .colab-df-quickchart-complete:disabled:hover {\n",
              "    background-color: var(--disabled-bg-color);\n",
              "    fill: var(--disabled-fill-color);\n",
              "    box-shadow: none;\n",
              "  }\n",
              "\n",
              "  .colab-df-spinner {\n",
              "    border: 2px solid var(--fill-color);\n",
              "    border-color: transparent;\n",
              "    border-bottom-color: var(--fill-color);\n",
              "    animation:\n",
              "      spin 1s steps(1) infinite;\n",
              "  }\n",
              "\n",
              "  @keyframes spin {\n",
              "    0% {\n",
              "      border-color: transparent;\n",
              "      border-bottom-color: var(--fill-color);\n",
              "      border-left-color: var(--fill-color);\n",
              "    }\n",
              "    20% {\n",
              "      border-color: transparent;\n",
              "      border-left-color: var(--fill-color);\n",
              "      border-top-color: var(--fill-color);\n",
              "    }\n",
              "    30% {\n",
              "      border-color: transparent;\n",
              "      border-left-color: var(--fill-color);\n",
              "      border-top-color: var(--fill-color);\n",
              "      border-right-color: var(--fill-color);\n",
              "    }\n",
              "    40% {\n",
              "      border-color: transparent;\n",
              "      border-right-color: var(--fill-color);\n",
              "      border-top-color: var(--fill-color);\n",
              "    }\n",
              "    60% {\n",
              "      border-color: transparent;\n",
              "      border-right-color: var(--fill-color);\n",
              "    }\n",
              "    80% {\n",
              "      border-color: transparent;\n",
              "      border-right-color: var(--fill-color);\n",
              "      border-bottom-color: var(--fill-color);\n",
              "    }\n",
              "    90% {\n",
              "      border-color: transparent;\n",
              "      border-bottom-color: var(--fill-color);\n",
              "    }\n",
              "  }\n",
              "</style>\n",
              "\n",
              "  <script>\n",
              "    async function quickchart(key) {\n",
              "      const quickchartButtonEl =\n",
              "        document.querySelector('#' + key + ' button');\n",
              "      quickchartButtonEl.disabled = true;  // To prevent multiple clicks.\n",
              "      quickchartButtonEl.classList.add('colab-df-spinner');\n",
              "      try {\n",
              "        const charts = await google.colab.kernel.invokeFunction(\n",
              "            'suggestCharts', [key], {});\n",
              "      } catch (error) {\n",
              "        console.error('Error during call to suggestCharts:', error);\n",
              "      }\n",
              "      quickchartButtonEl.classList.remove('colab-df-spinner');\n",
              "      quickchartButtonEl.classList.add('colab-df-quickchart-complete');\n",
              "    }\n",
              "    (() => {\n",
              "      let quickchartButtonEl =\n",
              "        document.querySelector('#df-3c751834-b56c-4260-9a06-217e1106455a button');\n",
              "      quickchartButtonEl.style.display =\n",
              "        google.colab.kernel.accessAllowed ? 'block' : 'none';\n",
              "    })();\n",
              "  </script>\n",
              "</div>\n",
              "\n",
              "    </div>\n",
              "  </div>\n"
            ],
            "application/vnd.google.colaboratory.intrinsic+json": {
              "type": "dataframe",
              "variable_name": "tips",
              "summary": "{\n  \"name\": \"tips\",\n  \"rows\": 244,\n  \"fields\": [\n    {\n      \"column\": \"total_bill\",\n      \"properties\": {\n        \"dtype\": \"number\",\n        \"std\": 8.902411954856856,\n        \"min\": 3.07,\n        \"max\": 50.81,\n        \"num_unique_values\": 229,\n        \"samples\": [\n          22.12,\n          20.23,\n          14.78\n        ],\n        \"semantic_type\": \"\",\n        \"description\": \"\"\n      }\n    },\n    {\n      \"column\": \"tip\",\n      \"properties\": {\n        \"dtype\": \"number\",\n        \"std\": 1.3836381890011826,\n        \"min\": 1.0,\n        \"max\": 10.0,\n        \"num_unique_values\": 123,\n        \"samples\": [\n          3.35,\n          1.5,\n          6.73\n        ],\n        \"semantic_type\": \"\",\n        \"description\": \"\"\n      }\n    },\n    {\n      \"column\": \"sex\",\n      \"properties\": {\n        \"dtype\": \"category\",\n        \"num_unique_values\": 2,\n        \"samples\": [\n          \"Male\",\n          \"Female\"\n        ],\n        \"semantic_type\": \"\",\n        \"description\": \"\"\n      }\n    },\n    {\n      \"column\": \"smoker\",\n      \"properties\": {\n        \"dtype\": \"category\",\n        \"num_unique_values\": 2,\n        \"samples\": [\n          \"Yes\",\n          \"No\"\n        ],\n        \"semantic_type\": \"\",\n        \"description\": \"\"\n      }\n    },\n    {\n      \"column\": \"day\",\n      \"properties\": {\n        \"dtype\": \"category\",\n        \"num_unique_values\": 4,\n        \"samples\": [\n          \"Sat\",\n          \"Fri\"\n        ],\n        \"semantic_type\": \"\",\n        \"description\": \"\"\n      }\n    },\n    {\n      \"column\": \"time\",\n      \"properties\": {\n        \"dtype\": \"category\",\n        \"num_unique_values\": 2,\n        \"samples\": [\n          \"Lunch\",\n          \"Dinner\"\n        ],\n        \"semantic_type\": \"\",\n        \"description\": \"\"\n      }\n    },\n    {\n      \"column\": \"size\",\n      \"properties\": {\n        \"dtype\": \"number\",\n        \"std\": 0,\n        \"min\": 1,\n        \"max\": 6,\n        \"num_unique_values\": 6,\n        \"samples\": [\n          2,\n          3\n        ],\n        \"semantic_type\": \"\",\n        \"description\": \"\"\n      }\n    }\n  ]\n}"
            }
          },
          "metadata": {},
          "execution_count": 92
        }
      ]
    },
    {
      "cell_type": "markdown",
      "source": [
        "## 관측값\n",
        "- day 관측값을 구하자."
      ],
      "metadata": {
        "id": "WEqtnwwqC8p3"
      }
    },
    {
      "cell_type": "code",
      "source": [
        "관측값 = tips['day'].value_counts().sort_index()\n",
        "관측값"
      ],
      "metadata": {
        "colab": {
          "base_uri": "https://localhost:8080/",
          "height": 241
        },
        "id": "MsMamWIZDA9D",
        "outputId": "b4a94f41-9e0c-4fa8-eb49-5ca125ac2499"
      },
      "execution_count": 93,
      "outputs": [
        {
          "output_type": "execute_result",
          "data": {
            "text/plain": [
              "day\n",
              "Thur    62\n",
              "Fri     19\n",
              "Sat     87\n",
              "Sun     76\n",
              "Name: count, dtype: int64"
            ],
            "text/html": [
              "<div>\n",
              "<style scoped>\n",
              "    .dataframe tbody tr th:only-of-type {\n",
              "        vertical-align: middle;\n",
              "    }\n",
              "\n",
              "    .dataframe tbody tr th {\n",
              "        vertical-align: top;\n",
              "    }\n",
              "\n",
              "    .dataframe thead th {\n",
              "        text-align: right;\n",
              "    }\n",
              "</style>\n",
              "<table border=\"1\" class=\"dataframe\">\n",
              "  <thead>\n",
              "    <tr style=\"text-align: right;\">\n",
              "      <th></th>\n",
              "      <th>count</th>\n",
              "    </tr>\n",
              "    <tr>\n",
              "      <th>day</th>\n",
              "      <th></th>\n",
              "    </tr>\n",
              "  </thead>\n",
              "  <tbody>\n",
              "    <tr>\n",
              "      <th>Thur</th>\n",
              "      <td>62</td>\n",
              "    </tr>\n",
              "    <tr>\n",
              "      <th>Fri</th>\n",
              "      <td>19</td>\n",
              "    </tr>\n",
              "    <tr>\n",
              "      <th>Sat</th>\n",
              "      <td>87</td>\n",
              "    </tr>\n",
              "    <tr>\n",
              "      <th>Sun</th>\n",
              "      <td>76</td>\n",
              "    </tr>\n",
              "  </tbody>\n",
              "</table>\n",
              "</div><br><label><b>dtype:</b> int64</label>"
            ]
          },
          "metadata": {},
          "execution_count": 93
        }
      ]
    },
    {
      "cell_type": "markdown",
      "source": [
        "## 기대값"
      ],
      "metadata": {
        "id": "fgH3pdO-DMUC"
      }
    },
    {
      "cell_type": "code",
      "source": [
        "# 244 / 4 ==> 61\n",
        "기대값 = len(tips) / len(관측값)\n",
        "기대값"
      ],
      "metadata": {
        "colab": {
          "base_uri": "https://localhost:8080/"
        },
        "id": "W60vdNeKDQ7C",
        "outputId": "4580e648-4db9-41f4-f294-13938627c1c6"
      },
      "execution_count": 95,
      "outputs": [
        {
          "output_type": "execute_result",
          "data": {
            "text/plain": [
              "61.0"
            ]
          },
          "metadata": {},
          "execution_count": 95
        }
      ]
    },
    {
      "cell_type": "code",
      "source": [
        "[len(tips) / len(관측값)] * 4"
      ],
      "metadata": {
        "colab": {
          "base_uri": "https://localhost:8080/"
        },
        "id": "8Z7O3s0rEOWW",
        "outputId": "bab7d51b-1753-417c-86b2-9dc80a53fecc"
      },
      "execution_count": 99,
      "outputs": [
        {
          "output_type": "execute_result",
          "data": {
            "text/plain": [
              "[61.0, 61.0, 61.0, 61.0]"
            ]
          },
          "metadata": {},
          "execution_count": 99
        }
      ]
    },
    {
      "cell_type": "code",
      "source": [
        "# 균등 분포\n",
        "기대값들 = [len(tips) / len(관측값)] * len(관측값)\n",
        "기대값들"
      ],
      "metadata": {
        "colab": {
          "base_uri": "https://localhost:8080/"
        },
        "id": "eo_thc-cD_Qh",
        "outputId": "91e7c825-9992-4318-c2dc-98e06178069a"
      },
      "execution_count": 100,
      "outputs": [
        {
          "output_type": "execute_result",
          "data": {
            "text/plain": [
              "[61.0, 61.0, 61.0, 61.0]"
            ]
          },
          "metadata": {},
          "execution_count": 100
        }
      ]
    },
    {
      "cell_type": "code",
      "source": [
        "# 적합도 검정 수행\n",
        "from scipy import stats\n",
        "x, p = stats.chisquare(f_obs = 관측값, f_exp = 기대값들)\n",
        "x, p"
      ],
      "metadata": {
        "colab": {
          "base_uri": "https://localhost:8080/"
        },
        "id": "DQ3FROdeEkpA",
        "outputId": "c2851667-253d-423a-d1d5-aa2a27eb19c7"
      },
      "execution_count": 101,
      "outputs": [
        {
          "output_type": "execute_result",
          "data": {
            "text/plain": [
              "(43.70491803278689, 1.7434891890557614e-09)"
            ]
          },
          "metadata": {},
          "execution_count": 101
        }
      ]
    },
    {
      "cell_type": "code",
      "source": [
        "if p >= 0.05:\n",
        "  print('귀무가설 채택 : 관측된 데이터는 기대값 균등분포와 일치한다.')\n",
        "else:\n",
        "  print('귀무가설 기각 : 관측된 데이터는 기대값 균등분포와 일치하지 않는다.')"
      ],
      "metadata": {
        "colab": {
          "base_uri": "https://localhost:8080/"
        },
        "id": "c7-_11nIFdDE",
        "outputId": "5169ebc8-3313-4c40-96dd-8733eaae4550"
      },
      "execution_count": 102,
      "outputs": [
        {
          "output_type": "stream",
          "name": "stdout",
          "text": [
            "귀무가설 기각 : 관측된 데이터는 기대값 균등분포와 일치하지 않는다.\n"
          ]
        }
      ]
    },
    {
      "cell_type": "markdown",
      "source": [
        "# 독립성 검정\n",
        "- 성별과 흡연여부\n",
        "  + 성별에 따라 흡연과의 서로 상관이 있느냐?"
      ],
      "metadata": {
        "id": "gAG427-LFcd1"
      }
    },
    {
      "cell_type": "code",
      "source": [
        "# 교차표 생성\n",
        "c_table = pd.crosstab(tips['sex'], tips['smoker'])\n",
        "c_table"
      ],
      "metadata": {
        "colab": {
          "base_uri": "https://localhost:8080/",
          "height": 143
        },
        "id": "sFYKG9TlGR_0",
        "outputId": "4ba099b3-2255-49c8-b963-323cb47ccce9"
      },
      "execution_count": 103,
      "outputs": [
        {
          "output_type": "execute_result",
          "data": {
            "text/plain": [
              "smoker  Yes  No\n",
              "sex            \n",
              "Male     60  97\n",
              "Female   33  54"
            ],
            "text/html": [
              "\n",
              "  <div id=\"df-616be045-6f87-43a8-b268-b9eb6891fd2b\" class=\"colab-df-container\">\n",
              "    <div>\n",
              "<style scoped>\n",
              "    .dataframe tbody tr th:only-of-type {\n",
              "        vertical-align: middle;\n",
              "    }\n",
              "\n",
              "    .dataframe tbody tr th {\n",
              "        vertical-align: top;\n",
              "    }\n",
              "\n",
              "    .dataframe thead th {\n",
              "        text-align: right;\n",
              "    }\n",
              "</style>\n",
              "<table border=\"1\" class=\"dataframe\">\n",
              "  <thead>\n",
              "    <tr style=\"text-align: right;\">\n",
              "      <th>smoker</th>\n",
              "      <th>Yes</th>\n",
              "      <th>No</th>\n",
              "    </tr>\n",
              "    <tr>\n",
              "      <th>sex</th>\n",
              "      <th></th>\n",
              "      <th></th>\n",
              "    </tr>\n",
              "  </thead>\n",
              "  <tbody>\n",
              "    <tr>\n",
              "      <th>Male</th>\n",
              "      <td>60</td>\n",
              "      <td>97</td>\n",
              "    </tr>\n",
              "    <tr>\n",
              "      <th>Female</th>\n",
              "      <td>33</td>\n",
              "      <td>54</td>\n",
              "    </tr>\n",
              "  </tbody>\n",
              "</table>\n",
              "</div>\n",
              "    <div class=\"colab-df-buttons\">\n",
              "\n",
              "  <div class=\"colab-df-container\">\n",
              "    <button class=\"colab-df-convert\" onclick=\"convertToInteractive('df-616be045-6f87-43a8-b268-b9eb6891fd2b')\"\n",
              "            title=\"Convert this dataframe to an interactive table.\"\n",
              "            style=\"display:none;\">\n",
              "\n",
              "  <svg xmlns=\"http://www.w3.org/2000/svg\" height=\"24px\" viewBox=\"0 -960 960 960\">\n",
              "    <path d=\"M120-120v-720h720v720H120Zm60-500h600v-160H180v160Zm220 220h160v-160H400v160Zm0 220h160v-160H400v160ZM180-400h160v-160H180v160Zm440 0h160v-160H620v160ZM180-180h160v-160H180v160Zm440 0h160v-160H620v160Z\"/>\n",
              "  </svg>\n",
              "    </button>\n",
              "\n",
              "  <style>\n",
              "    .colab-df-container {\n",
              "      display:flex;\n",
              "      gap: 12px;\n",
              "    }\n",
              "\n",
              "    .colab-df-convert {\n",
              "      background-color: #E8F0FE;\n",
              "      border: none;\n",
              "      border-radius: 50%;\n",
              "      cursor: pointer;\n",
              "      display: none;\n",
              "      fill: #1967D2;\n",
              "      height: 32px;\n",
              "      padding: 0 0 0 0;\n",
              "      width: 32px;\n",
              "    }\n",
              "\n",
              "    .colab-df-convert:hover {\n",
              "      background-color: #E2EBFA;\n",
              "      box-shadow: 0px 1px 2px rgba(60, 64, 67, 0.3), 0px 1px 3px 1px rgba(60, 64, 67, 0.15);\n",
              "      fill: #174EA6;\n",
              "    }\n",
              "\n",
              "    .colab-df-buttons div {\n",
              "      margin-bottom: 4px;\n",
              "    }\n",
              "\n",
              "    [theme=dark] .colab-df-convert {\n",
              "      background-color: #3B4455;\n",
              "      fill: #D2E3FC;\n",
              "    }\n",
              "\n",
              "    [theme=dark] .colab-df-convert:hover {\n",
              "      background-color: #434B5C;\n",
              "      box-shadow: 0px 1px 3px 1px rgba(0, 0, 0, 0.15);\n",
              "      filter: drop-shadow(0px 1px 2px rgba(0, 0, 0, 0.3));\n",
              "      fill: #FFFFFF;\n",
              "    }\n",
              "  </style>\n",
              "\n",
              "    <script>\n",
              "      const buttonEl =\n",
              "        document.querySelector('#df-616be045-6f87-43a8-b268-b9eb6891fd2b button.colab-df-convert');\n",
              "      buttonEl.style.display =\n",
              "        google.colab.kernel.accessAllowed ? 'block' : 'none';\n",
              "\n",
              "      async function convertToInteractive(key) {\n",
              "        const element = document.querySelector('#df-616be045-6f87-43a8-b268-b9eb6891fd2b');\n",
              "        const dataTable =\n",
              "          await google.colab.kernel.invokeFunction('convertToInteractive',\n",
              "                                                    [key], {});\n",
              "        if (!dataTable) return;\n",
              "\n",
              "        const docLinkHtml = 'Like what you see? Visit the ' +\n",
              "          '<a target=\"_blank\" href=https://colab.research.google.com/notebooks/data_table.ipynb>data table notebook</a>'\n",
              "          + ' to learn more about interactive tables.';\n",
              "        element.innerHTML = '';\n",
              "        dataTable['output_type'] = 'display_data';\n",
              "        await google.colab.output.renderOutput(dataTable, element);\n",
              "        const docLink = document.createElement('div');\n",
              "        docLink.innerHTML = docLinkHtml;\n",
              "        element.appendChild(docLink);\n",
              "      }\n",
              "    </script>\n",
              "  </div>\n",
              "\n",
              "\n",
              "<div id=\"df-87163619-66e8-4b61-9176-0270e2565253\">\n",
              "  <button class=\"colab-df-quickchart\" onclick=\"quickchart('df-87163619-66e8-4b61-9176-0270e2565253')\"\n",
              "            title=\"Suggest charts\"\n",
              "            style=\"display:none;\">\n",
              "\n",
              "<svg xmlns=\"http://www.w3.org/2000/svg\" height=\"24px\"viewBox=\"0 0 24 24\"\n",
              "     width=\"24px\">\n",
              "    <g>\n",
              "        <path d=\"M19 3H5c-1.1 0-2 .9-2 2v14c0 1.1.9 2 2 2h14c1.1 0 2-.9 2-2V5c0-1.1-.9-2-2-2zM9 17H7v-7h2v7zm4 0h-2V7h2v10zm4 0h-2v-4h2v4z\"/>\n",
              "    </g>\n",
              "</svg>\n",
              "  </button>\n",
              "\n",
              "<style>\n",
              "  .colab-df-quickchart {\n",
              "      --bg-color: #E8F0FE;\n",
              "      --fill-color: #1967D2;\n",
              "      --hover-bg-color: #E2EBFA;\n",
              "      --hover-fill-color: #174EA6;\n",
              "      --disabled-fill-color: #AAA;\n",
              "      --disabled-bg-color: #DDD;\n",
              "  }\n",
              "\n",
              "  [theme=dark] .colab-df-quickchart {\n",
              "      --bg-color: #3B4455;\n",
              "      --fill-color: #D2E3FC;\n",
              "      --hover-bg-color: #434B5C;\n",
              "      --hover-fill-color: #FFFFFF;\n",
              "      --disabled-bg-color: #3B4455;\n",
              "      --disabled-fill-color: #666;\n",
              "  }\n",
              "\n",
              "  .colab-df-quickchart {\n",
              "    background-color: var(--bg-color);\n",
              "    border: none;\n",
              "    border-radius: 50%;\n",
              "    cursor: pointer;\n",
              "    display: none;\n",
              "    fill: var(--fill-color);\n",
              "    height: 32px;\n",
              "    padding: 0;\n",
              "    width: 32px;\n",
              "  }\n",
              "\n",
              "  .colab-df-quickchart:hover {\n",
              "    background-color: var(--hover-bg-color);\n",
              "    box-shadow: 0 1px 2px rgba(60, 64, 67, 0.3), 0 1px 3px 1px rgba(60, 64, 67, 0.15);\n",
              "    fill: var(--button-hover-fill-color);\n",
              "  }\n",
              "\n",
              "  .colab-df-quickchart-complete:disabled,\n",
              "  .colab-df-quickchart-complete:disabled:hover {\n",
              "    background-color: var(--disabled-bg-color);\n",
              "    fill: var(--disabled-fill-color);\n",
              "    box-shadow: none;\n",
              "  }\n",
              "\n",
              "  .colab-df-spinner {\n",
              "    border: 2px solid var(--fill-color);\n",
              "    border-color: transparent;\n",
              "    border-bottom-color: var(--fill-color);\n",
              "    animation:\n",
              "      spin 1s steps(1) infinite;\n",
              "  }\n",
              "\n",
              "  @keyframes spin {\n",
              "    0% {\n",
              "      border-color: transparent;\n",
              "      border-bottom-color: var(--fill-color);\n",
              "      border-left-color: var(--fill-color);\n",
              "    }\n",
              "    20% {\n",
              "      border-color: transparent;\n",
              "      border-left-color: var(--fill-color);\n",
              "      border-top-color: var(--fill-color);\n",
              "    }\n",
              "    30% {\n",
              "      border-color: transparent;\n",
              "      border-left-color: var(--fill-color);\n",
              "      border-top-color: var(--fill-color);\n",
              "      border-right-color: var(--fill-color);\n",
              "    }\n",
              "    40% {\n",
              "      border-color: transparent;\n",
              "      border-right-color: var(--fill-color);\n",
              "      border-top-color: var(--fill-color);\n",
              "    }\n",
              "    60% {\n",
              "      border-color: transparent;\n",
              "      border-right-color: var(--fill-color);\n",
              "    }\n",
              "    80% {\n",
              "      border-color: transparent;\n",
              "      border-right-color: var(--fill-color);\n",
              "      border-bottom-color: var(--fill-color);\n",
              "    }\n",
              "    90% {\n",
              "      border-color: transparent;\n",
              "      border-bottom-color: var(--fill-color);\n",
              "    }\n",
              "  }\n",
              "</style>\n",
              "\n",
              "  <script>\n",
              "    async function quickchart(key) {\n",
              "      const quickchartButtonEl =\n",
              "        document.querySelector('#' + key + ' button');\n",
              "      quickchartButtonEl.disabled = true;  // To prevent multiple clicks.\n",
              "      quickchartButtonEl.classList.add('colab-df-spinner');\n",
              "      try {\n",
              "        const charts = await google.colab.kernel.invokeFunction(\n",
              "            'suggestCharts', [key], {});\n",
              "      } catch (error) {\n",
              "        console.error('Error during call to suggestCharts:', error);\n",
              "      }\n",
              "      quickchartButtonEl.classList.remove('colab-df-spinner');\n",
              "      quickchartButtonEl.classList.add('colab-df-quickchart-complete');\n",
              "    }\n",
              "    (() => {\n",
              "      let quickchartButtonEl =\n",
              "        document.querySelector('#df-87163619-66e8-4b61-9176-0270e2565253 button');\n",
              "      quickchartButtonEl.style.display =\n",
              "        google.colab.kernel.accessAllowed ? 'block' : 'none';\n",
              "    })();\n",
              "  </script>\n",
              "</div>\n",
              "\n",
              "  <div id=\"id_b93e5fb6-f811-4842-ab48-a2decbb71461\">\n",
              "    <style>\n",
              "      .colab-df-generate {\n",
              "        background-color: #E8F0FE;\n",
              "        border: none;\n",
              "        border-radius: 50%;\n",
              "        cursor: pointer;\n",
              "        display: none;\n",
              "        fill: #1967D2;\n",
              "        height: 32px;\n",
              "        padding: 0 0 0 0;\n",
              "        width: 32px;\n",
              "      }\n",
              "\n",
              "      .colab-df-generate:hover {\n",
              "        background-color: #E2EBFA;\n",
              "        box-shadow: 0px 1px 2px rgba(60, 64, 67, 0.3), 0px 1px 3px 1px rgba(60, 64, 67, 0.15);\n",
              "        fill: #174EA6;\n",
              "      }\n",
              "\n",
              "      [theme=dark] .colab-df-generate {\n",
              "        background-color: #3B4455;\n",
              "        fill: #D2E3FC;\n",
              "      }\n",
              "\n",
              "      [theme=dark] .colab-df-generate:hover {\n",
              "        background-color: #434B5C;\n",
              "        box-shadow: 0px 1px 3px 1px rgba(0, 0, 0, 0.15);\n",
              "        filter: drop-shadow(0px 1px 2px rgba(0, 0, 0, 0.3));\n",
              "        fill: #FFFFFF;\n",
              "      }\n",
              "    </style>\n",
              "    <button class=\"colab-df-generate\" onclick=\"generateWithVariable('c_table')\"\n",
              "            title=\"Generate code using this dataframe.\"\n",
              "            style=\"display:none;\">\n",
              "\n",
              "  <svg xmlns=\"http://www.w3.org/2000/svg\" height=\"24px\"viewBox=\"0 0 24 24\"\n",
              "       width=\"24px\">\n",
              "    <path d=\"M7,19H8.4L18.45,9,17,7.55,7,17.6ZM5,21V16.75L18.45,3.32a2,2,0,0,1,2.83,0l1.4,1.43a1.91,1.91,0,0,1,.58,1.4,1.91,1.91,0,0,1-.58,1.4L9.25,21ZM18.45,9,17,7.55Zm-12,3A5.31,5.31,0,0,0,4.9,8.1,5.31,5.31,0,0,0,1,6.5,5.31,5.31,0,0,0,4.9,4.9,5.31,5.31,0,0,0,6.5,1,5.31,5.31,0,0,0,8.1,4.9,5.31,5.31,0,0,0,12,6.5,5.46,5.46,0,0,0,6.5,12Z\"/>\n",
              "  </svg>\n",
              "    </button>\n",
              "    <script>\n",
              "      (() => {\n",
              "      const buttonEl =\n",
              "        document.querySelector('#id_b93e5fb6-f811-4842-ab48-a2decbb71461 button.colab-df-generate');\n",
              "      buttonEl.style.display =\n",
              "        google.colab.kernel.accessAllowed ? 'block' : 'none';\n",
              "\n",
              "      buttonEl.onclick = () => {\n",
              "        google.colab.notebook.generateWithVariable('c_table');\n",
              "      }\n",
              "      })();\n",
              "    </script>\n",
              "  </div>\n",
              "\n",
              "    </div>\n",
              "  </div>\n"
            ],
            "application/vnd.google.colaboratory.intrinsic+json": {
              "type": "dataframe",
              "variable_name": "c_table",
              "summary": "{\n  \"name\": \"c_table\",\n  \"rows\": 2,\n  \"fields\": [\n    {\n      \"column\": \"sex\",\n      \"properties\": {\n        \"dtype\": \"category\",\n        \"num_unique_values\": 2,\n        \"samples\": [\n          \"Female\",\n          \"Male\"\n        ],\n        \"semantic_type\": \"\",\n        \"description\": \"\"\n      }\n    },\n    {\n      \"column\": \"Yes\",\n      \"properties\": {\n        \"dtype\": \"number\",\n        \"std\": 19,\n        \"min\": 33,\n        \"max\": 60,\n        \"num_unique_values\": 2,\n        \"samples\": [\n          33,\n          60\n        ],\n        \"semantic_type\": \"\",\n        \"description\": \"\"\n      }\n    },\n    {\n      \"column\": \"No\",\n      \"properties\": {\n        \"dtype\": \"number\",\n        \"std\": 30,\n        \"min\": 54,\n        \"max\": 97,\n        \"num_unique_values\": 2,\n        \"samples\": [\n          54,\n          97\n        ],\n        \"semantic_type\": \"\",\n        \"description\": \"\"\n      }\n    }\n  ]\n}"
            }
          },
          "metadata": {},
          "execution_count": 103
        }
      ]
    },
    {
      "cell_type": "code",
      "source": [
        "# 독립성 검정\n",
        "x, p, dof, expected = stats.chi2_contingency(c_table)\n",
        "print(f\"Chi-square Statistic: {x}\")\n",
        "print(f\"P-value: {p}\")\n",
        "print(f\"Degrees of Freedom: {dof}\")\n",
        "print(\"Expected Frequencies:\")\n",
        "print(expected)"
      ],
      "metadata": {
        "colab": {
          "base_uri": "https://localhost:8080/"
        },
        "id": "qP4yPHWhGxTF",
        "outputId": "dea58274-7860-41d8-875d-ecdf5629daf8"
      },
      "execution_count": 105,
      "outputs": [
        {
          "output_type": "stream",
          "name": "stdout",
          "text": [
            "Chi-square Statistic: 0.0\n",
            "P-value: 1.0\n",
            "Degrees of Freedom: 1\n",
            "Expected Frequencies:\n",
            "[[59.84016393 97.15983607]\n",
            " [33.15983607 53.84016393]]\n"
          ]
        }
      ]
    }
  ]
}