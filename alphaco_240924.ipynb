{
 "cells": [
  {
   "cell_type": "markdown",
   "metadata": {
    "colab_type": "text",
    "id": "view-in-github"
   },
   "source": [
    "<a href=\"https://colab.research.google.com/github/dwds186/alphaco_test/blob/main/alphaco_240924.ipynb\" target=\"_parent\"><img src=\"https://colab.research.google.com/assets/colab-badge.svg\" alt=\"Open In Colab\"/></a>"
   ]
  },
  {
   "cell_type": "markdown",
   "metadata": {},
   "source": []
  },
  {
   "cell_type": "markdown",
   "metadata": {},
   "source": []
  },
  {
   "cell_type": "markdown",
   "metadata": {},
   "source": []
  },
  {
   "cell_type": "markdown",
   "metadata": {},
   "source": []
  },
  {
   "cell_type": "markdown",
   "metadata": {},
   "source": []
  },
  {
   "cell_type": "markdown",
   "metadata": {},
   "source": []
  },
  {
   "cell_type": "markdown",
   "metadata": {},
   "source": []
  },
  {
   "cell_type": "markdown",
   "metadata": {},
   "source": []
  },
  {
   "cell_type": "markdown",
   "metadata": {},
   "source": []
  },
  {
   "cell_type": "markdown",
   "metadata": {},
   "source": []
  },
  {
   "cell_type": "markdown",
   "metadata": {},
   "source": []
  },
  {
   "cell_type": "markdown",
   "metadata": {},
   "source": []
  },
  {
   "cell_type": "markdown",
   "metadata": {},
   "source": []
  },
  {
   "cell_type": "markdown",
   "metadata": {},
   "source": []
  },
  {
   "cell_type": "markdown",
   "metadata": {},
   "source": []
  },
  {
   "cell_type": "markdown",
   "metadata": {},
   "source": []
  },
  {
   "cell_type": "markdown",
   "metadata": {},
   "source": []
  },
  {
   "cell_type": "markdown",
   "metadata": {},
   "source": []
  },
  {
   "cell_type": "markdown",
   "metadata": {},
   "source": []
  },
  {
   "cell_type": "markdown",
   "metadata": {},
   "source": []
  },
  {
   "cell_type": "markdown",
   "metadata": {
    "id": "9UZsakYxhXwr"
   },
   "source": [
    "# 계산기처럼 이용\n",
    "\n",
    "대제목은 #"
   ]
  },
  {
   "cell_type": "markdown",
   "metadata": {
    "id": "FH3sKbqtr8dL"
   },
   "source": [
    "## 간단한 사칙 연산\n",
    "안녕하세요\n",
    "중간제목은 ##"
   ]
  },
  {
   "cell_type": "markdown",
   "metadata": {
    "id": "0a4r2aGzr_hS"
   },
   "source": [
    "### 하위 제목\n",
    "\n",
    "\n",
    "하위 제목은 ###\n",
    "\n",
    "이런식으로 목차 만들어가는게 중요해요\n",
    "\n",
    "\n"
   ]
  },
  {
   "cell_type": "code",
   "execution_count": null,
   "metadata": {
    "colab": {
     "base_uri": "https://localhost:8080/"
    },
    "id": "UnOHulAPsx8K",
    "outputId": "b7c2e8ae-86ef-4630-e368-f1ce55deb617"
   },
   "outputs": [
    {
     "data": {
      "text/plain": [
       "2"
      ]
     },
     "execution_count": 11,
     "metadata": {},
     "output_type": "execute_result"
    }
   ],
   "source": [
    "1+1"
   ]
  },
  {
   "cell_type": "code",
   "execution_count": null,
   "metadata": {
    "colab": {
     "base_uri": "https://localhost:8080/"
    },
    "id": "9kbiVkvIsyTZ",
    "outputId": "b1811b83-8841-4794-bde2-1dd6d86890a7"
   },
   "outputs": [
    {
     "data": {
      "text/plain": [
       "3"
      ]
     },
     "execution_count": 12,
     "metadata": {},
     "output_type": "execute_result"
    }
   ],
   "source": [
    "5-2"
   ]
  },
  {
   "cell_type": "code",
   "execution_count": null,
   "metadata": {
    "colab": {
     "base_uri": "https://localhost:8080/"
    },
    "id": "c3iuClZzsyWZ",
    "outputId": "ec409f13-1422-44ce-85ab-feb6687f3c63"
   },
   "outputs": [
    {
     "data": {
      "text/plain": [
       "30"
      ]
     },
     "execution_count": 13,
     "metadata": {},
     "output_type": "execute_result"
    }
   ],
   "source": [
    "15*2"
   ]
  },
  {
   "cell_type": "code",
   "execution_count": null,
   "metadata": {
    "colab": {
     "base_uri": "https://localhost:8080/"
    },
    "id": "G2kFLvXVsyn5",
    "outputId": "12c96ca3-6266-451a-ab5b-8844894b7fc7"
   },
   "outputs": [
    {
     "data": {
      "text/plain": [
       "5.0"
      ]
     },
     "execution_count": 14,
     "metadata": {},
     "output_type": "execute_result"
    }
   ],
   "source": [
    "10/2\n",
    "\n",
    "# 실수형으로 결과가 변환됨 (주석)\n"
   ]
  },
  {
   "cell_type": "markdown",
   "metadata": {
    "id": "JbeARBJ8s8sI"
   },
   "source": [
    "## type() 메소드\n",
    "- 각 데이터 자료형의 유형을 알려주는 함수"
   ]
  },
  {
   "cell_type": "code",
   "execution_count": null,
   "metadata": {
    "colab": {
     "base_uri": "https://localhost:8080/"
    },
    "id": "tdWC1FivtEFH",
    "outputId": "c95992e9-1b6e-48ed-ac09-3a0426d24996"
   },
   "outputs": [
    {
     "data": {
      "text/plain": [
       "int"
      ]
     },
     "execution_count": 15,
     "metadata": {},
     "output_type": "execute_result"
    }
   ],
   "source": [
    "type(3)\n",
    "# 결과값은 int"
   ]
  },
  {
   "cell_type": "code",
   "execution_count": null,
   "metadata": {
    "colab": {
     "base_uri": "https://localhost:8080/"
    },
    "id": "BMOghBD_tJ64",
    "outputId": "6e5e3b7a-293c-4696-f11a-0f403c998237"
   },
   "outputs": [
    {
     "data": {
      "text/plain": [
       "float"
      ]
     },
     "execution_count": 16,
     "metadata": {},
     "output_type": "execute_result"
    }
   ],
   "source": [
    "type(3.14)"
   ]
  },
  {
   "cell_type": "code",
   "execution_count": null,
   "metadata": {
    "colab": {
     "base_uri": "https://localhost:8080/"
    },
    "id": "emlAZtRbtOjn",
    "outputId": "ff27bfc3-c898-43e9-b4e3-6d66293c5015"
   },
   "outputs": [
    {
     "data": {
      "text/plain": [
       "str"
      ]
     },
     "execution_count": 17,
     "metadata": {},
     "output_type": "execute_result"
    }
   ],
   "source": [
    "a='안녕하세요'\n",
    "type(a)"
   ]
  },
  {
   "cell_type": "code",
   "execution_count": null,
   "metadata": {
    "id": "4obNttD2tYTY"
   },
   "outputs": [],
   "source": [
    "# type checking 중요한 이유\n",
    "\n",
    "# 3 + '5'\n",
    "\n",
    "# 이것은 int + str이라서 안 됨\n"
   ]
  },
  {
   "cell_type": "markdown",
   "metadata": {
    "id": "GrwC5kAouDCA"
   },
   "source": [
    "##거듭 제곱과 나머지"
   ]
  },
  {
   "cell_type": "code",
   "execution_count": null,
   "metadata": {
    "colab": {
     "base_uri": "https://localhost:8080/"
    },
    "id": "mv4ezfepuFK4",
    "outputId": "de8e574e-76dd-4d2f-b47e-40e55c4c4414"
   },
   "outputs": [
    {
     "data": {
      "text/plain": [
       "32"
      ]
     },
     "execution_count": 20,
     "metadata": {},
     "output_type": "execute_result"
    }
   ],
   "source": [
    "2*2*2*2*2\n",
    "# 이렇게 하면 코드가 기니까\n",
    "\n",
    "2**5 # 2의 5승"
   ]
  },
  {
   "cell_type": "code",
   "execution_count": null,
   "metadata": {
    "colab": {
     "base_uri": "https://localhost:8080/"
    },
    "id": "p9AllKoIuPe-",
    "outputId": "510f293d-0e01-4fa4-f9e0-1af157019bdf"
   },
   "outputs": [
    {
     "data": {
      "text/plain": [
       "2"
      ]
     },
     "execution_count": 22,
     "metadata": {},
     "output_type": "execute_result"
    }
   ],
   "source": [
    "# 몫\n",
    "12 % 5"
   ]
  },
  {
   "cell_type": "code",
   "execution_count": null,
   "metadata": {
    "colab": {
     "base_uri": "https://localhost:8080/"
    },
    "id": "DX92YEvSuVZ9",
    "outputId": "c59d8cdd-a652-4cce-a327-b89f9ea058c9"
   },
   "outputs": [
    {
     "data": {
      "text/plain": [
       "2"
      ]
     },
     "execution_count": 23,
     "metadata": {},
     "output_type": "execute_result"
    }
   ],
   "source": [
    "# 나머지\n",
    "12 // 5"
   ]
  },
  {
   "cell_type": "markdown",
   "metadata": {
    "id": "_nlVDAnquYY1"
   },
   "source": [
    "##과학적 표기법\n",
    "scientific notation"
   ]
  },
  {
   "cell_type": "code",
   "execution_count": null,
   "metadata": {
    "colab": {
     "base_uri": "https://localhost:8080/"
    },
    "id": "KlhVmx7KuamV",
    "outputId": "26a9b54f-6849-4d44-d286-4043fbfeac23"
   },
   "outputs": [
    {
     "data": {
      "text/plain": [
       "300000000"
      ]
     },
     "execution_count": 24,
     "metadata": {},
     "output_type": "execute_result"
    }
   ],
   "source": [
    "3 * 10 ** 8"
   ]
  },
  {
   "cell_type": "code",
   "execution_count": null,
   "metadata": {
    "colab": {
     "base_uri": "https://localhost:8080/"
    },
    "id": "NUFQ8zDGukNx",
    "outputId": "247d5aa4-d73a-4cd8-a28e-eaf4fba7a7c4"
   },
   "outputs": [
    {
     "data": {
      "text/plain": [
       "300000000.0"
      ]
     },
     "execution_count": 25,
     "metadata": {},
     "output_type": "execute_result"
    }
   ],
   "source": [
    "3e8\n",
    "\n",
    "# 결과는 동일하지만 실수형으로 반환됩니다\n",
    "#실수형"
   ]
  },
  {
   "cell_type": "code",
   "execution_count": null,
   "metadata": {
    "colab": {
     "base_uri": "https://localhost:8080/"
    },
    "id": "1QXpWWl8uw51",
    "outputId": "4a39a482-3e8e-4542-e0d6-97d2b67341d0"
   },
   "outputs": [
    {
     "data": {
      "text/plain": [
       "0.0003"
      ]
     },
     "execution_count": 27,
     "metadata": {},
     "output_type": "execute_result"
    }
   ],
   "source": [
    "# 반대로 소수점 표시하는 법도 있어\n",
    "\n",
    "3e-4"
   ]
  },
  {
   "cell_type": "markdown",
   "metadata": {
    "id": "ek8kayPLPwDz"
   },
   "source": [
    "after lunch\n"
   ]
  },
  {
   "cell_type": "code",
   "execution_count": 28,
   "metadata": {
    "id": "GXrVancOPzEx"
   },
   "outputs": [],
   "source": [
    "import numpy as np\n",
    "import scipy as sp # 과학 계산용 파이썬 모듈\n",
    "import scipy.stats as stats\n",
    "import pandas as pd"
   ]
  },
  {
   "cell_type": "code",
   "execution_count": 29,
   "metadata": {
    "id": "eiYAk7tmP3yq"
   },
   "outputs": [],
   "source": [
    "x = [1, 2, 10, 43, 22, 87, 52, 11, 8, 36]"
   ]
  },
  {
   "cell_type": "code",
   "execution_count": 30,
   "metadata": {
    "colab": {
     "base_uri": "https://localhost:8080/"
    },
    "id": "GqWUFhCPP6GE",
    "outputId": "d4f4c7ca-6070-4a2a-e9c9-2fdafd9d9015"
   },
   "outputs": [
    {
     "name": "stdout",
     "output_type": "stream",
     "text": [
      "10\n",
      "27.2\n",
      "679.3599999999999\n",
      "26.064535292231856\n",
      "87\n",
      "1\n",
      "16.5\n",
      "8.5\n",
      "16.5\n",
      "41.25\n"
     ]
    }
   ],
   "source": [
    "print(len(x)) # 갯수\n",
    "print(np.mean(x)) # 평균\n",
    "print(np.var(x)) # 분산\n",
    "print(np.std(x)) # 표준 편차\n",
    "print(np.max(x)) # 최댓값\n",
    "print(np.min(x)) # 최솟값\n",
    "print(np.median(x)) # 중앙값\n",
    "print(np.percentile(x, 25)) # 1사분위 수\n",
    "print(np.percentile(x, 50)) # 2사분위 수\n",
    "print(np.percentile(x, 75)) # 3사분위 수"
   ]
  },
  {
   "cell_type": "markdown",
   "metadata": {
    "id": "q5CpEKMtRSxx"
   },
   "source": [
    "##논리연산\n",
    "True, False\n",
    "\n"
   ]
  },
  {
   "cell_type": "code",
   "execution_count": 32,
   "metadata": {
    "colab": {
     "base_uri": "https://localhost:8080/"
    },
    "id": "d0eBq-YbRWii",
    "outputId": "00f2d6ed-95d9-4ba3-cf8f-4fee40ac9cb7"
   },
   "outputs": [
    {
     "name": "stdout",
     "output_type": "stream",
     "text": [
      "True\n",
      "False\n"
     ]
    }
   ],
   "source": [
    "print(True)\n",
    "print(False)\n"
   ]
  },
  {
   "cell_type": "code",
   "execution_count": 34,
   "metadata": {
    "colab": {
     "base_uri": "https://localhost:8080/"
    },
    "id": "l5bguR2MRdF5",
    "outputId": "1a80d61b-4f94-4e8e-db16-ff13786afbb4"
   },
   "outputs": [
    {
     "data": {
      "text/plain": [
       "bool"
      ]
     },
     "execution_count": 34,
     "metadata": {},
     "output_type": "execute_result"
    }
   ],
   "source": [
    "type(True)\n",
    "#bool 형이라는 자료형이 존재함\n"
   ]
  },
  {
   "cell_type": "code",
   "execution_count": 37,
   "metadata": {
    "colab": {
     "base_uri": "https://localhost:8080/"
    },
    "id": "yzSS4_lLRixS",
    "outputId": "e0d68e53-c7a9-4a13-ab5d-33ae881e1702"
   },
   "outputs": [
    {
     "name": "stdout",
     "output_type": "stream",
     "text": [
      "True\n",
      "False\n",
      "False\n"
     ]
    }
   ],
   "source": [
    "print(True and True)\n",
    "print(False and True)\n",
    "print(False and False)\n",
    "# 처음만 True 나옴\n"
   ]
  },
  {
   "cell_type": "code",
   "execution_count": 39,
   "metadata": {
    "colab": {
     "base_uri": "https://localhost:8080/"
    },
    "id": "SvZ4tjOtTxlH",
    "outputId": "1ac9083d-3de1-49b9-ab14-48ba7560df00"
   },
   "outputs": [
    {
     "name": "stdout",
     "output_type": "stream",
     "text": [
      "True\n",
      "True\n",
      "False\n"
     ]
    }
   ],
   "source": [
    "print(True or True)\n",
    "print(False or True)\n",
    "print(False or False)\n",
    "#마지막만 false 나옴\n"
   ]
  },
  {
   "cell_type": "code",
   "execution_count": 43,
   "metadata": {
    "colab": {
     "base_uri": "https://localhost:8080/"
    },
    "id": "jPyl9GhaUBa5",
    "outputId": "87676897-0aee-4d9d-de36-39eac383b8be"
   },
   "outputs": [
    {
     "data": {
      "text/plain": [
       "True"
      ]
     },
     "execution_count": 43,
     "metadata": {},
     "output_type": "execute_result"
    }
   ],
   "source": [
    "(5>3) and (6 >3)\n"
   ]
  },
  {
   "cell_type": "code",
   "execution_count": 44,
   "metadata": {
    "colab": {
     "base_uri": "https://localhost:8080/"
    },
    "id": "XxI7yNhsUlGZ",
    "outputId": "304f1835-832e-4e64-8997-dc6be517047e"
   },
   "outputs": [
    {
     "data": {
      "text/plain": [
       "True"
      ]
     },
     "execution_count": 44,
     "metadata": {},
     "output_type": "execute_result"
    }
   ],
   "source": [
    "5==5"
   ]
  },
  {
   "cell_type": "markdown",
   "metadata": {
    "id": "K3XKyhxOU1Vo"
   },
   "source": [
    "# 입력과 출력\n",
    "\n",
    "입력 : input()\n"
   ]
  },
  {
   "cell_type": "code",
   "execution_count": 46,
   "metadata": {
    "colab": {
     "base_uri": "https://localhost:8080/"
    },
    "id": "U9G1FKDDU3s2",
    "outputId": "b406e68d-9a9b-40b4-f067-09628ee387de"
   },
   "outputs": [
    {
     "name": "stdout",
     "output_type": "stream",
     "text": [
      "임의의 값을 입력하세요 100\n",
      "100\n"
     ]
    }
   ],
   "source": [
    "x = input('임의의 값을 입력하세요 ')\n",
    "print(x)"
   ]
  },
  {
   "cell_type": "code",
   "execution_count": 54,
   "metadata": {
    "colab": {
     "base_uri": "https://localhost:8080/"
    },
    "id": "DozcxXm-VbTu",
    "outputId": "b73d1702-423d-4c96-9e1e-b1e9c08a29ca"
   },
   "outputs": [
    {
     "name": "stdout",
     "output_type": "stream",
     "text": [
      "임의의 숫자를 입력하세요 1\n",
      "임의의 숫자를 입력하세요 1\n",
      "11\n",
      "<class 'str'> <class 'str'>\n",
      "2\n"
     ]
    }
   ],
   "source": [
    "x = input('임의의 숫자를 입력하세요 ')\n",
    "y = input('임의의 숫자를 입력하세요 ')\n",
    "print(x+y)\n",
    "# x와 y는 일단 string입니다\n",
    "print(type(x), type(y))\n",
    "print(int(x) + int(y))"
   ]
  },
  {
   "cell_type": "markdown",
   "metadata": {
    "id": "tO_oNjgsXzmB"
   },
   "source": [
    "##데이터 형변환 (자료형변환)\n",
    "문자를 숫자로 또는 숫자를 문자로 또는 다른 a자료형에서 b 자료형으로\n",
    "\n",
    "대부분이 클래스 또는 함수를 활용해서 형변환\n"
   ]
  },
  {
   "cell_type": "code",
   "execution_count": 59,
   "metadata": {
    "colab": {
     "base_uri": "https://localhost:8080/"
    },
    "id": "QtLKeWyvYxTh",
    "outputId": "f0b48a77-6968-45a7-d4e4-8e4c233623ae"
   },
   "outputs": [
    {
     "data": {
      "text/plain": [
       "3"
      ]
     },
     "execution_count": 59,
     "metadata": {},
     "output_type": "execute_result"
    }
   ],
   "source": [
    "int(3.3)"
   ]
  },
  {
   "cell_type": "code",
   "execution_count": 61,
   "metadata": {
    "colab": {
     "base_uri": "https://localhost:8080/"
    },
    "id": "p85icvGRX4LL",
    "outputId": "ece9dbec-a057-4ad6-94c0-9fb7de1515ff"
   },
   "outputs": [
    {
     "name": "stdout",
     "output_type": "stream",
     "text": [
      "임의의 숫자를 입력하세요 1\n",
      "임의의 숫자를 입력하세요 2\n",
      "3\n"
     ]
    }
   ],
   "source": [
    "x = int(input('임의의 숫자를 입력하세요 '))\n",
    "y = int(input('임의의 숫자를 입력하세요 '))\n",
    "print(x+y)"
   ]
  },
  {
   "cell_type": "markdown",
   "metadata": {
    "id": "RV3aKNnUZHBb"
   },
   "source": [
    "좋은 질문\n",
    "\n",
    "a = '3.3'\n",
    "왜냐하면 a는 string이잖아!!!\n",
    "\n",
    "float(a)\n",
    "\n",
    "int(a) -> 이건 에러가 남\n",
    "\n",
    "그래서 int(float(a)) 이런식으로 하면 됩니다!"
   ]
  },
  {
   "cell_type": "markdown",
   "metadata": {
    "id": "gDtf5qKucLKp"
   },
   "source": [
    "#string 문자열\n"
   ]
  },
  {
   "cell_type": "code",
   "execution_count": 64,
   "metadata": {
    "colab": {
     "base_uri": "https://localhost:8080/"
    },
    "id": "lj3MD1Y1dnu1",
    "outputId": "9bb8a388-e30d-4a78-e741-867cf9ffce30"
   },
   "outputs": [
    {
     "name": "stdout",
     "output_type": "stream",
     "text": [
      "abcdefkga\n"
     ]
    }
   ],
   "source": [
    "a = \"abc\"\n",
    "b = 'def'\n",
    "# c = \" ' 이런식으로 양끝이 다르면 안 돼\n",
    "c = \"kga\"\n",
    "\n",
    "result = a + b + c\n",
    "print(result)"
   ]
  },
  {
   "cell_type": "code",
   "execution_count": 65,
   "metadata": {
    "colab": {
     "base_uri": "https://localhost:8080/",
     "height": 35
    },
    "id": "zJGLhGvmeBeh",
    "outputId": "ef1def54-3a8d-43f1-f4b8-667c0c994b17"
   },
   "outputs": [
    {
     "data": {
      "application/vnd.google.colaboratory.intrinsic+json": {
       "type": "string"
      },
      "text/plain": [
       "'abcdefkgaabcdefkgaabcdefkga'"
      ]
     },
     "execution_count": 65,
     "metadata": {},
     "output_type": "execute_result"
    }
   ],
   "source": [
    "result * 3"
   ]
  },
  {
   "cell_type": "code",
   "execution_count": 66,
   "metadata": {
    "colab": {
     "base_uri": "https://localhost:8080/"
    },
    "id": "7r_XFI18eNlv",
    "outputId": "d9bf5dc5-cc29-4003-afcf-b4ff5839272c"
   },
   "outputs": [
    {
     "name": "stdout",
     "output_type": "stream",
     "text": [
      " \n",
      "gagf\n",
      "agsag\n",
      "asfgsd\n",
      "\n",
      "\n"
     ]
    }
   ],
   "source": [
    "a = '''\n",
    "gagf\n",
    "agsag\n",
    "asfgsd\n",
    "\n",
    "'''\n",
    "print(a)\n",
    "# 문자열을 이렇게 여러 줄로 저장하는 방식도 있습니다\n"
   ]
  },
  {
   "cell_type": "markdown",
   "metadata": {
    "id": "waqWVW8NegU2"
   },
   "source": [
    "## 문자열 포멧팅\n",
    "f-string 포매팅으로 문자열 만들기"
   ]
  },
  {
   "cell_type": "code",
   "execution_count": 67,
   "metadata": {
    "colab": {
     "base_uri": "https://localhost:8080/"
    },
    "id": "U3Kx_4ghfOpV",
    "outputId": "ff68138c-038d-4aea-e149-72bb6bf20438"
   },
   "outputs": [
    {
     "name": "stdout",
     "output_type": "stream",
     "text": [
      "<class 'str'> 안녕, 저는 숫자 1입니다\n"
     ]
    }
   ],
   "source": [
    "x = 1\n",
    "a = f'안녕, 저는 숫자 {x}입니다'\n",
    "\n",
    "print(type(a), a)"
   ]
  },
  {
   "cell_type": "markdown",
   "metadata": {
    "id": "xzzDwIRxfttl"
   },
   "source": [
    "##인덱싱 및 슬라이싱\n",
    "\n"
   ]
  },
  {
   "cell_type": "code",
   "execution_count": 69,
   "metadata": {
    "colab": {
     "base_uri": "https://localhost:8080/"
    },
    "id": "ay881JqZf1J_",
    "outputId": "a1b835fe-8d74-4943-d3b7-f2ddf1373f6d"
   },
   "outputs": [
    {
     "name": "stdout",
     "output_type": "stream",
     "text": [
      "24\n"
     ]
    }
   ],
   "source": [
    "a = '안녕하세요, 저는 파이썬 강사 알파코입니다.'\n",
    "\n",
    "print(len(a))"
   ]
  },
  {
   "cell_type": "code",
   "execution_count": 70,
   "metadata": {
    "colab": {
     "base_uri": "https://localhost:8080/",
     "height": 35
    },
    "id": "3xpblZzUgPi-",
    "outputId": "64862319-014e-49e7-99ad-592f90312b8e"
   },
   "outputs": [
    {
     "data": {
      "application/vnd.google.colaboratory.intrinsic+json": {
       "type": "string"
      },
      "text/plain": [
       "'안'"
      ]
     },
     "execution_count": 70,
     "metadata": {},
     "output_type": "execute_result"
    }
   ],
   "source": [
    "a[0]\n",
    "\n",
    "# a[24]는 string index is out of range라고 뜨면서 에러 날 것입니다\n",
    "\n",
    "'''\n",
    "그렇기 때문에 앞으로는 마지막 글자는 a[len(a)-1] 이런식으로 가지고 온다고 생각하세요\n",
    "아니면 a[-1] 이것도 있긴 해요\n",
    "\n",
    "'''"
   ]
  },
  {
   "cell_type": "markdown",
   "metadata": {
    "id": "K7E2ToCDhV2i"
   },
   "source": [
    "##슬라이싱"
   ]
  },
  {
   "cell_type": "code",
   "execution_count": 71,
   "metadata": {
    "colab": {
     "base_uri": "https://localhost:8080/"
    },
    "id": "Trl0WM5FhXMD",
    "outputId": "e7f5b5de-bf6a-4024-db04-0686dcef4121"
   },
   "outputs": [
    {
     "name": "stdout",
     "output_type": "stream",
     "text": [
      "안녕하세요, 저는 \n"
     ]
    }
   ],
   "source": [
    "a = '안녕하세요, 저는 파이썬 강사 알파코입니다.'\n",
    "\n",
    "print(a[0:10])"
   ]
  },
  {
   "cell_type": "code",
   "execution_count": 73,
   "metadata": {
    "colab": {
     "base_uri": "https://localhost:8080/"
    },
    "id": "4zj2mm55hmiK",
    "outputId": "78953b07-7bf9-4f5d-aa03-d1d5b00f5d09"
   },
   "outputs": [
    {
     "name": "stdout",
     "output_type": "stream",
     "text": [
      "01234567\n",
      "0246\n",
      "6789\n",
      "012345\n"
     ]
    }
   ],
   "source": [
    "a = '0123456789'\n",
    "\n",
    "print(a[0:8])\n",
    "print(a[0:8:2])\n",
    "print(a[6:])\n",
    "print(a[:6])\n"
   ]
  },
  {
   "cell_type": "markdown",
   "metadata": {
    "id": "NGjwx_t4kran"
   },
   "source": [
    "## 문자열 수정\n"
   ]
  },
  {
   "cell_type": "code",
   "execution_count": 84,
   "metadata": {
    "colab": {
     "base_uri": "https://localhost:8080/",
     "height": 35
    },
    "id": "IlQ5ku6Mi-Kx",
    "outputId": "c5af5ec3-9f5d-4ef9-9a36-0780d9a8f856"
   },
   "outputs": [
    {
     "data": {
      "application/vnd.google.colaboratory.intrinsic+json": {
       "type": "string"
      },
      "text/plain": [
       "'Python'"
      ]
     },
     "execution_count": 84,
     "metadata": {},
     "output_type": "execute_result"
    }
   ],
   "source": [
    "a = 'Aython'\n",
    "\n",
    "#미션 오타가 났어요\n",
    "# A를 P로 변경하고 싶음\n",
    "\n",
    "temp = a[1:]\n",
    "\n",
    "new = 'P' + temp\n",
    "new\n",
    "\n",
    "\n",
    "#강사님 답 \"P\" + a[1:]\n"
   ]
  },
  {
   "cell_type": "code",
   "execution_count": 85,
   "metadata": {
    "colab": {
     "base_uri": "https://localhost:8080/",
     "height": 35
    },
    "id": "QD6Okf1Ak10X",
    "outputId": "1a08ea64-d9ba-4bdc-c3e2-fe26afade6e5"
   },
   "outputs": [
    {
     "data": {
      "application/vnd.google.colaboratory.intrinsic+json": {
       "type": "string"
      },
      "text/plain": [
       "'Python'"
      ]
     },
     "execution_count": 85,
     "metadata": {},
     "output_type": "execute_result"
    }
   ],
   "source": [
    "a = 'Aython'\n",
    "\n",
    "#미션 오타가 났어요\n",
    "# A를 P로 변경하고 싶음\n",
    "\n",
    "# 나중에 시간 지나면\n",
    "# a[0] = 'P' 이런식으로 하게 되는데\n",
    "# 스트링은 item assignment를 제공하지 않는다고 에러 뜸\n",
    "\n",
    "result = a.replace(\"A\", \"P\")\n",
    "print(result)\n",
    "#이런식으로 파이썬 method를 사용하여 해결할 수 있음\n"
   ]
  },
  {
   "cell_type": "markdown",
   "metadata": {
    "id": "jYJYexpgp6Zz"
   },
   "source": [
    "##문자열 메서드\n",
    "\n",
    "-클래스와 클래스 메서드에 대한 이해"
   ]
  },
  {
   "cell_type": "code",
   "execution_count": null,
   "metadata": {
    "id": "pvkcHxBhrvzq"
   },
   "outputs": [],
   "source": [
    "b = \"aython\"\n",
    "#b를 활용해서 무언가를 하고 싶음 => 관련 메서드가 있을 것 같은데~ 라는 생각이 들어야 함\n",
    "\n",
    "# 뭐 이런식으로 검색하거나 chat gpt한테 물어봄\n",
    "# string object b = 'python' ==> 대문자로 바꾸고 싶음 ==> gpt의 답변 후 , 실제로 있는지\n",
    "# 체크하고 싶으면 공식 문서를 확인해보세요\n",
    "\n"
   ]
  },
  {
   "cell_type": "code",
   "execution_count": 89,
   "metadata": {
    "colab": {
     "base_uri": "https://localhost:8080/",
     "height": 35
    },
    "id": "dMUrYZMqtb5E",
    "outputId": "58cf0930-f313-4d47-ebce-137f77eff242"
   },
   "outputs": [
    {
     "data": {
      "application/vnd.google.colaboratory.intrinsic+json": {
       "type": "string"
      },
      "text/plain": [
       "'HELLO, STREAMLIT'"
      ]
     },
     "execution_count": 89,
     "metadata": {},
     "output_type": "execute_result"
    }
   ],
   "source": [
    "sampletext = \"hello, streamlit\"\n",
    "sampletext = sampletext.upper()\n",
    "sampletext"
   ]
  },
  {
   "cell_type": "code",
   "execution_count": 90,
   "metadata": {
    "colab": {
     "base_uri": "https://localhost:8080/",
     "height": 35
    },
    "id": "zqgMrCyutqks",
    "outputId": "a7fa8668-e4ea-4a7c-e104-1c659a5efd1a"
   },
   "outputs": [
    {
     "data": {
      "application/vnd.google.colaboratory.intrinsic+json": {
       "type": "string"
      },
      "text/plain": [
       "'hello, streamlit'"
      ]
     },
     "execution_count": 90,
     "metadata": {},
     "output_type": "execute_result"
    }
   ],
   "source": [
    "sampletext.lower()"
   ]
  },
  {
   "cell_type": "code",
   "execution_count": 93,
   "metadata": {
    "colab": {
     "base_uri": "https://localhost:8080/",
     "height": 35
    },
    "id": "kDY2gbJ6tyJ2",
    "outputId": "8e6d2684-8d83-4783-f89f-99a1dbe35c3e"
   },
   "outputs": [
    {
     "data": {
      "application/vnd.google.colaboratory.intrinsic+json": {
       "type": "string"
      },
      "text/plain": [
       "'Hello, streamlit'"
      ]
     },
     "execution_count": 93,
     "metadata": {},
     "output_type": "execute_result"
    }
   ],
   "source": [
    "sampletext = \"hello, streamlit\"\n",
    "sampletext.capitalize() #첫번째만 대분자로"
   ]
  },
  {
   "cell_type": "code",
   "execution_count": 94,
   "metadata": {
    "colab": {
     "base_uri": "https://localhost:8080/",
     "height": 35
    },
    "id": "YDPukmm6t_ze",
    "outputId": "7a8499ce-9d48-442f-a0af-c3bce82d0d49"
   },
   "outputs": [
    {
     "data": {
      "application/vnd.google.colaboratory.intrinsic+json": {
       "type": "string"
      },
      "text/plain": [
       "'Hello, Streamlit'"
      ]
     },
     "execution_count": 94,
     "metadata": {},
     "output_type": "execute_result"
    }
   ],
   "source": [
    "sampletext = \"hello, streamlit\"\n",
    "sampletext.title() #각 단어의 첫 알파벳을 대문자로"
   ]
  },
  {
   "cell_type": "code",
   "execution_count": 104,
   "metadata": {
    "colab": {
     "base_uri": "https://localhost:8080/"
    },
    "id": "7sH3pdXNuKU-",
    "outputId": "cd0f5c59-b251-423f-e13a-5bfafde98af6"
   },
   "outputs": [
    {
     "data": {
      "text/plain": [
       "list"
      ]
     },
     "execution_count": 104,
     "metadata": {},
     "output_type": "execute_result"
    }
   ],
   "source": [
    "sampletext = \"hello, streamlit\"\n",
    "words = sampletext.split(sep = ',')\n",
    "words\n",
    "#words = sampletext.split()\n",
    "#기본값으로 공백일 때 분리함 즉 sep을 아무것도 적지 않을 경우 그냥 공백을 기준으로 split을 진행\n",
    "#words\n",
    "\n",
    "type(words)"
   ]
  },
  {
   "cell_type": "code",
   "execution_count": 107,
   "metadata": {
    "colab": {
     "base_uri": "https://localhost:8080/",
     "height": 35
    },
    "id": "KxAyE_MCxsfq",
    "outputId": "ddfb6be2-8912-4348-ead1-ecbc143084a4"
   },
   "outputs": [
    {
     "data": {
      "application/vnd.google.colaboratory.intrinsic+json": {
       "type": "string"
      },
      "text/plain": [
       "'hello, streamiit'"
      ]
     },
     "execution_count": 107,
     "metadata": {},
     "output_type": "execute_result"
    }
   ],
   "source": [
    "samplelist=[\"hello\", \"streamiit\"]\n",
    "\n",
    "text = \", \".join(samplelist)\n",
    "#위와 반대로 리스트 안에 있는 여러 값을 한 줄의 텍스트로 만들 수 있어요\n",
    "text"
   ]
  },
  {
   "cell_type": "markdown",
   "metadata": {
    "id": "_RLsXQnK4BxQ"
   },
   "source": [
    "## 시퀀스 자료형 확인\n",
    "-인덱싱과 슬라이싱 가능\n",
    "\n",
    "-반복문 사용할 때 기초 자료형 활용"
   ]
  },
  {
   "cell_type": "code",
   "execution_count": 109,
   "metadata": {
    "colab": {
     "base_uri": "https://localhost:8080/",
     "height": 90
    },
    "id": "tbgUenW74I2F",
    "outputId": "d8ba1edd-2afa-48ca-eeb2-91b7d58f57b3"
   },
   "outputs": [
    {
     "name": "stdout",
     "output_type": "stream",
     "text": [
      "False\n",
      "True\n",
      "True\n"
     ]
    },
    {
     "data": {
      "application/vnd.google.colaboratory.intrinsic+json": {
       "type": "string"
      },
      "text/plain": [
       "'\\nint, float 등은 반복문으로 사용하기 어려움\\n\\n'"
      ]
     },
     "execution_count": 109,
     "metadata": {},
     "output_type": "execute_result"
    }
   ],
   "source": [
    "from collections.abc import Sequence\n",
    "\n",
    "my_num = 100\n",
    "my_list = [1, 2, 3]\n",
    "my_string = \"hello\"\n",
    "\n",
    "is_num = isinstance(my_num, Sequence)\n",
    "is_list = isinstance(my_list, Sequence)\n",
    "is_string = isinstance(my_string, Sequence)\n",
    "\n",
    "print(is_num)\n",
    "print(is_list)\n",
    "print(is_string)\n",
    "\n",
    "#슬라이싱과 인덱싱이 가능하다면... true\n",
    "\n",
    "# int, float 등은 반복문으로 사용하기 어려움"
   ]
  },
  {
   "cell_type": "markdown",
   "metadata": {
    "id": "96qGqnBX47C6"
   },
   "source": [
    "#리스트"
   ]
  },
  {
   "cell_type": "code",
   "execution_count": 111,
   "metadata": {
    "colab": {
     "base_uri": "https://localhost:8080/"
    },
    "id": "NCCsHEzL490U",
    "outputId": "df4b2694-ca39-453c-80d5-1b532c8e4c46"
   },
   "outputs": [
    {
     "name": "stdout",
     "output_type": "stream",
     "text": [
      "0\n",
      "[0, 1, 2, 3, 4, 5, 6, 7]\n"
     ]
    }
   ],
   "source": [
    "a = [0, 1,2,3,4,5,6,7,8]\n",
    "print(a[0])\n",
    "print(a[0:8])\n",
    "\n",
    "# return되는 자료형이 str인지 list인지 고려해보세요\n",
    "# 인덱싱 슬라이싱도 앞에서 했던 것과 비슷함"
   ]
  },
  {
   "cell_type": "code",
   "execution_count": 114,
   "metadata": {
    "colab": {
     "base_uri": "https://localhost:8080/",
     "height": 35
    },
    "id": "5abe21DU5Uj7",
    "outputId": "17dfaf1c-e86b-47d4-ccb1-18e66550e06b"
   },
   "outputs": [
    {
     "data": {
      "application/vnd.google.colaboratory.intrinsic+json": {
       "type": "string"
      },
      "text/plain": [
       "'e'"
      ]
     },
     "execution_count": 114,
     "metadata": {},
     "output_type": "execute_result"
    }
   ],
   "source": [
    "a = [0, 1, 2, [\"Python\", \"Hello\"], 3, 4, 5]\n",
    "a\n",
    "\n",
    "# Hello의 e를 가지고 오고 싶음\n",
    "a[3][1][1]"
   ]
  },
  {
   "cell_type": "code",
   "execution_count": 116,
   "metadata": {
    "colab": {
     "base_uri": "https://localhost:8080/"
    },
    "id": "1d5AiL6R6Drm",
    "outputId": "78cfa768-edb8-4040-af9f-3a730a9ec6fc"
   },
   "outputs": [
    {
     "data": {
      "text/plain": [
       "['iM', '뱅크', '아카데미']"
      ]
     },
     "execution_count": 116,
     "metadata": {},
     "output_type": "execute_result"
    }
   ],
   "source": [
    "a = [\"iM\", \"뱅크\"]\n",
    "a.append(\"아카데미\")\n",
    "a"
   ]
  },
  {
   "cell_type": "code",
   "execution_count": 119,
   "metadata": {
    "colab": {
     "base_uri": "https://localhost:8080/"
    },
    "id": "6ul_0SBe6ZHq",
    "outputId": "cdfca3e9-f5d6-4c56-c7a0-f94cc3e4ada9"
   },
   "outputs": [
    {
     "name": "stdout",
     "output_type": "stream",
     "text": [
      "None\n"
     ]
    }
   ],
   "source": [
    "a = [\"iM\", \"뱅크\"]\n",
    "result = a.append(\"아카데미\")\n",
    "result\n",
    "#결과가 출력되지 않음... 무슨 일일까?\n",
    "\n",
    "#append의 경우 그냥 쓰면 리스트에 추가 된다 이런 느낌으로 가지고 갈게요\n"
   ]
  },
  {
   "cell_type": "code",
   "execution_count": 120,
   "metadata": {
    "colab": {
     "base_uri": "https://localhost:8080/"
    },
    "id": "nNvCnDJ36qdq",
    "outputId": "9b24a579-3a2e-4ba1-df7a-cded2f144399"
   },
   "outputs": [
    {
     "data": {
      "text/plain": [
       "[100, 200, 300, 400]"
      ]
     },
     "execution_count": 120,
     "metadata": {},
     "output_type": "execute_result"
    }
   ],
   "source": [
    "a = [100, 200]\n",
    "# 300과 400을 추가하고 싶음\n",
    "\n",
    "# a.append(300, 400) 이건 에러남 왜냐하면 arugument 하나만 쓸 수 있어\n",
    "# a.append([300, 400]) 이것은 되는데 index 2에 그냥 리스트가 통째로 들어가잖아...\n",
    "\n",
    "a.extend([300,400])\n",
    "\n",
    "a"
   ]
  },
  {
   "cell_type": "markdown",
   "metadata": {
    "id": "4KskED927gwm"
   },
   "source": [
    "##리스트 값 변경 및 삭제\n"
   ]
  },
  {
   "cell_type": "code",
   "execution_count": 128,
   "metadata": {
    "colab": {
     "base_uri": "https://localhost:8080/"
    },
    "id": "BCrbHrje7lqJ",
    "outputId": "15aa533f-e419-4a73-a939-4dadb2b84318"
   },
   "outputs": [
    {
     "name": "stdout",
     "output_type": "stream",
     "text": [
      "[1302, 401, 418, 430, 529]\n"
     ]
    },
    {
     "data": {
      "text/plain": [
       "list"
      ]
     },
     "execution_count": 128,
     "metadata": {},
     "output_type": "execute_result"
    }
   ],
   "source": [
    "numbers = [302, 401, 418, 430, 529]\n",
    "numbers[0] = 1302\n",
    "print(numbers)\n",
    "\n",
    "type(numbers[0:2])"
   ]
  },
  {
   "cell_type": "code",
   "execution_count": 129,
   "metadata": {
    "colab": {
     "base_uri": "https://localhost:8080/"
    },
    "id": "LLIh6L7E8doT",
    "outputId": "40551895-de15-4e8a-8476-f27f6a009c95"
   },
   "outputs": [
    {
     "name": "stdout",
     "output_type": "stream",
     "text": [
      "(302, 401)\n"
     ]
    },
    {
     "data": {
      "text/plain": [
       "tuple"
      ]
     },
     "execution_count": 129,
     "metadata": {},
     "output_type": "execute_result"
    }
   ],
   "source": [
    "# 튜플 이어서 값 변경 불가능\n",
    "numbers = (302, 401, 418, 430, 529)\n",
    "# numbers[0] = 1302\n",
    "# 이렇게 하면 에러남. tuple object does not support item assignment\n",
    "print(numbers[0:2])\n",
    "type(numbers[0:2])"
   ]
  },
  {
   "cell_type": "markdown",
   "metadata": {
    "id": "rhyVpRVq9EZn"
   },
   "source": [
    "##리스트 삭제"
   ]
  },
  {
   "cell_type": "code",
   "execution_count": 130,
   "metadata": {
    "colab": {
     "base_uri": "https://localhost:8080/"
    },
    "id": "Fg2cwKxg9DZP",
    "outputId": "2003b8c7-a44e-446d-c2a6-11b59e3a1d50"
   },
   "outputs": [
    {
     "data": {
      "text/plain": [
       "[302, 418, 430, 529]"
      ]
     },
     "execution_count": 130,
     "metadata": {},
     "output_type": "execute_result"
    }
   ],
   "source": [
    "numbers = [302, 401, 418, 430, 529]\n",
    "\n",
    "# 401을 제거 하고 싶어\n",
    "numbers.remove(401)\n",
    "numbers\n"
   ]
  },
  {
   "cell_type": "code",
   "execution_count": 131,
   "metadata": {
    "colab": {
     "base_uri": "https://localhost:8080/"
    },
    "id": "vFu-XxeH9aJ_",
    "outputId": "02e742e7-52b3-46cc-a659-7520e9050f0d"
   },
   "outputs": [
    {
     "data": {
      "text/plain": [
       "[302, 418, 430, 529]"
      ]
     },
     "execution_count": 131,
     "metadata": {},
     "output_type": "execute_result"
    }
   ],
   "source": [
    "numbers = [302, 401, 418, 430, 529]\n",
    "\n",
    "# 401을 제거 하고 싶어\n",
    "\n",
    "del numbers[1]\n",
    "numbers\n",
    "\n",
    "\n",
    "# 튜플은 값 제거 기능을 지원하지 않기 때문에 에러 남\n"
   ]
  },
  {
   "cell_type": "markdown",
   "metadata": {
    "id": "hE79C_B--aJY"
   },
   "source": [
    "##딕셔너리\n"
   ]
  },
  {
   "cell_type": "code",
   "execution_count": 132,
   "metadata": {
    "colab": {
     "base_uri": "https://localhost:8080/"
    },
    "id": "DWm-Dn-o-cPT",
    "outputId": "b01eaa1b-e04c-45ba-8d13-4bf06073e96c"
   },
   "outputs": [
    {
     "data": {
      "text/plain": [
       "{'key1': 'value', 'key2': '모든 기초 자료형 가능'}"
      ]
     },
     "execution_count": 132,
     "metadata": {},
     "output_type": "execute_result"
    }
   ],
   "source": [
    "my_dic = {\n",
    "    'key1' : 'value',\n",
    "    \"key2\" : '모든 기초 자료형 가능'\n",
    "}\n",
    "\n",
    "my_dic"
   ]
  },
  {
   "cell_type": "code",
   "execution_count": 135,
   "metadata": {
    "colab": {
     "base_uri": "https://localhost:8080/"
    },
    "id": "o8yZHjjV-2WM",
    "outputId": "62ee8435-da03-41b1-b0a0-eb306641bab6"
   },
   "outputs": [
    {
     "data": {
      "text/plain": [
       "{'name': 'evan',\n",
       " 'age': 20,\n",
       " 'job': '강사',\n",
       " '쇼핑목록': [1, 2, 3, 4],\n",
       " '그외': (1, 2, 3),\n",
       " '그외2': {'key': 'value'}}"
      ]
     },
     "execution_count": 135,
     "metadata": {},
     "output_type": "execute_result"
    }
   ],
   "source": [
    "my_dic = {\n",
    "    \"name\" : \"evan\",\n",
    "    \"age\" : 20,\n",
    "    \"job\" : \"강사\",\n",
    "    \"쇼핑목록\" : [1, 2, 3, 4],\n",
    "    \"그외\" : (1, 2, 3),\n",
    "    \"그외2\" : {\"key\" : \"value\"}\n",
    "}\n",
    "\n",
    "my_dic"
   ]
  },
  {
   "cell_type": "code",
   "execution_count": 137,
   "metadata": {
    "colab": {
     "base_uri": "https://localhost:8080/",
     "height": 35
    },
    "id": "P8BWyCIe_Z1G",
    "outputId": "6d9a047b-287d-4216-93bf-30b2fc491768"
   },
   "outputs": [
    {
     "data": {
      "application/vnd.google.colaboratory.intrinsic+json": {
       "type": "string"
      },
      "text/plain": [
       "'evan'"
      ]
     },
     "execution_count": 137,
     "metadata": {},
     "output_type": "execute_result"
    }
   ],
   "source": [
    "my_dic['name']"
   ]
  },
  {
   "cell_type": "code",
   "execution_count": 138,
   "metadata": {
    "colab": {
     "base_uri": "https://localhost:8080/"
    },
    "id": "Uf5IKJDI_tfW",
    "outputId": "61aeb4db-a953-4e9a-d792-e704ac762d82"
   },
   "outputs": [
    {
     "data": {
      "text/plain": [
       "{'name': 'evan',\n",
       " 'age': 20,\n",
       " 'job': '강사',\n",
       " '쇼핑목록': [0, 1, 2, ['Python', 'Hello'], 3, 4, 5],\n",
       " '그외': (1, 2, 3),\n",
       " '그외2': {'key': 'value'}}"
      ]
     },
     "execution_count": 138,
     "metadata": {},
     "output_type": "execute_result"
    }
   ],
   "source": [
    "my_dic = {\n",
    "    \"name\" : \"evan\",\n",
    "    \"age\" : 20,\n",
    "    \"job\" : \"강사\",\n",
    "    \"쇼핑목록\" : [0, 1, 2, [\"Python\", \"Hello\"], 3, 4, 5],\n",
    "    \"그외\" : (1, 2, 3),\n",
    "    \"그외2\" : {\"key\" : \"value\"}\n",
    "}\n",
    "\n",
    "my_dic"
   ]
  },
  {
   "cell_type": "code",
   "execution_count": 140,
   "metadata": {
    "colab": {
     "base_uri": "https://localhost:8080/"
    },
    "id": "YyFzhpMo_vl1",
    "outputId": "882ca6ea-c420-40e6-9e86-13964d53d5c2"
   },
   "outputs": [
    {
     "name": "stdout",
     "output_type": "stream",
     "text": [
      "o\n",
      "o\n"
     ]
    }
   ],
   "source": [
    "# hello의 o를 가져오세요\n",
    "print(my_dic[\"쇼핑목록\"][3][1][4])\n",
    "print(my_dic[\"쇼핑목록\"][3][1][-1])"
   ]
  },
  {
   "cell_type": "code",
   "execution_count": 141,
   "metadata": {
    "colab": {
     "base_uri": "https://localhost:8080/"
    },
    "id": "mzA9ypYBAiLt",
    "outputId": "e7e4c4fe-dec2-449c-ed71-ca1dada2a585"
   },
   "outputs": [
    {
     "data": {
      "text/plain": [
       "{'name': 'evan',\n",
       " 'age': 20,\n",
       " 'job': '강사',\n",
       " '쇼핑목록': [0, 1, 2, ['Python', 'Hello'], 3, 4, 5],\n",
       " '그외': (1, 2, 3),\n",
       " '그외2': {'key': 'value'},\n",
       " '기타': '아무거나'}"
      ]
     },
     "execution_count": 141,
     "metadata": {},
     "output_type": "execute_result"
    }
   ],
   "source": [
    "my_dic['기타'] = '아무거나'\n",
    "my_dic\n",
    "#추가는 이렇게 하면 됨 간단합니다\n"
   ]
  },
  {
   "cell_type": "code",
   "execution_count": 142,
   "metadata": {
    "colab": {
     "base_uri": "https://localhost:8080/"
    },
    "id": "EZYoi5HzAyk8",
    "outputId": "5325fc73-bf8e-467f-f69b-12d7fbf1759d"
   },
   "outputs": [
    {
     "data": {
      "text/plain": [
       "{'name': 'evan',\n",
       " 'age': 20,\n",
       " 'job': '강사',\n",
       " '쇼핑목록': ['맥북', '아이패드'],\n",
       " '그외': (1, 2, 3),\n",
       " '그외2': {'key': 'value'},\n",
       " '기타': '아무거나'}"
      ]
     },
     "execution_count": 142,
     "metadata": {},
     "output_type": "execute_result"
    }
   ],
   "source": [
    "my_dic[\"쇼핑목록\"] = [\"맥북\", \"아이패드\"]\n",
    "my_dic"
   ]
  },
  {
   "cell_type": "code",
   "execution_count": 143,
   "metadata": {
    "colab": {
     "base_uri": "https://localhost:8080/"
    },
    "id": "zYeN8JK4A83A",
    "outputId": "15babdb3-7244-4e84-99f1-fe915df6feff"
   },
   "outputs": [
    {
     "data": {
      "text/plain": [
       "{'name': 'evan',\n",
       " 'age': 20,\n",
       " 'job': '강사',\n",
       " '쇼핑목록': ['맥북', '아이패드', '에어팟', '텀블러'],\n",
       " '그외': (1, 2, 3),\n",
       " '그외2': {'key': 'value'},\n",
       " '기타': '아무거나'}"
      ]
     },
     "execution_count": 143,
     "metadata": {},
     "output_type": "execute_result"
    }
   ],
   "source": [
    "my_dic[\"쇼핑목록\"].extend(['에어팟', '텀블러'])\n",
    "my_dic"
   ]
  },
  {
   "cell_type": "code",
   "execution_count": 146,
   "metadata": {
    "colab": {
     "base_uri": "https://localhost:8080/"
    },
    "id": "vQf9xbr4BOiH",
    "outputId": "3f7bdedd-bd6c-4da0-871a-593dc42a798a"
   },
   "outputs": [
    {
     "name": "stdout",
     "output_type": "stream",
     "text": [
      "dict_keys(['name', 'age', 'job', '쇼핑목록', '그외', '그외2', '기타'])\n",
      "\n",
      "dict_values(['evan', 20, '강사', ['맥북', '아이패드', '에어팟', '텀블러'], (1, 2, 3), {'key': 'value'}, '아무거나'])\n",
      "\n",
      "dict_items([('name', 'evan'), ('age', 20), ('job', '강사'), ('쇼핑목록', ['맥북', '아이패드', '에어팟', '텀블러']), ('그외', (1, 2, 3)), ('그외2', {'key': 'value'}), ('기타', '아무거나')])\n"
     ]
    }
   ],
   "source": [
    "print(my_dic.keys())\n",
    "print()\n",
    "print(my_dic.values())\n",
    "print()\n",
    "print(my_dic.items())"
   ]
  },
  {
   "cell_type": "code",
   "execution_count": null,
   "metadata": {
    "id": "ALv2SqK8Bn8G"
   },
   "outputs": [],
   "source": [
    "list(my_dic.keys())\n",
    "# 이런식으로 list로 만들어서 새롭게 형변환을 해줄 수 있음\n",
    "# 자료형을 리스트로 바꾸어서 list의 여러 메소드 활용하면 됨\n",
    "\n",
    "\n",
    "#리스트 안에 튜플\n",
    "\n",
    "# 소괄호면 튜플인 것임\n",
    "\n"
   ]
  }
 ],
 "metadata": {
  "colab": {
   "authorship_tag": "ABX9TyNSR5Jpb3ktNra5QFBV/Sr1",
   "include_colab_link": true,
   "provenance": [],
   "toc_visible": true
  },
  "kernelspec": {
   "display_name": "Python 3 (ipykernel)",
   "language": "python",
   "name": "python3"
  },
  "language_info": {
   "codemirror_mode": {
    "name": "ipython",
    "version": 3
   },
   "file_extension": ".py",
   "mimetype": "text/x-python",
   "name": "python",
   "nbconvert_exporter": "python",
   "pygments_lexer": "ipython3",
   "version": "3.12.6"
  }
 },
 "nbformat": 4,
 "nbformat_minor": 4
}
