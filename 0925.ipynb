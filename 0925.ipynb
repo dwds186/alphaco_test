{
 "cells": [
  {
   "cell_type": "markdown",
   "metadata": {
    "colab_type": "text",
    "id": "view-in-github"
   },
   "source": [
    "<a href=\"https://colab.research.google.com/github/dwds186/alphaco_test/blob/main/0925.ipynb\" target=\"_parent\"><img src=\"https://colab.research.google.com/assets/colab-badge.svg\" alt=\"Open In Colab\"/></a>"
   ]
  },
  {
   "cell_type": "markdown",
   "metadata": {
    "id": "F-CJB0nbmi-9"
   },
   "source": [
    "#제어문 반복문\n"
   ]
  },
  {
   "cell_type": "markdown",
   "metadata": {
    "id": "TfMeR5w2nYKy"
   },
   "source": [
    "##단일 조건에 따른 분기"
   ]
  },
  {
   "cell_type": "code",
   "execution_count": null,
   "metadata": {
    "colab": {
     "base_uri": "https://localhost:8080/"
    },
    "id": "kkGOnJP0kuDU",
    "outputId": "6682ce8c-615c-4f8b-a718-2727433bfdc3"
   },
   "outputs": [
    {
     "name": "stdout",
     "output_type": "stream",
     "text": [
      "pass\n"
     ]
    }
   ],
   "source": [
    "#시험 점수\n",
    "x = 95\n",
    "if x >= 90:\n",
    "    print(\"pass\")\n",
    "    # 인덴테이션 중간에 space나 tab으로 인덴테이션 해주세요\n"
   ]
  },
  {
   "cell_type": "code",
   "execution_count": null,
   "metadata": {
    "colab": {
     "base_uri": "https://localhost:8080/"
    },
    "id": "CDtZUm2inBbF",
    "outputId": "560a52e5-b216-490e-a060-e1b37280c295"
   },
   "outputs": [
    {
     "name": "stdout",
     "output_type": "stream",
     "text": [
      "점수 입력해주세요 : 91\n",
      "90점 이상입니다.\n"
     ]
    }
   ],
   "source": [
    "x = int(input(\"점수 입력해주세요 : \"))\n",
    "\n",
    "if x >= 90:\n",
    "    print(\"90점 이상입니다.\")\n"
   ]
  },
  {
   "cell_type": "markdown",
   "metadata": {
    "id": "R_o5wkPQnbOq"
   },
   "source": [
    "## 단일 조건 및 그 외 조건에 따른 분기"
   ]
  },
  {
   "cell_type": "code",
   "execution_count": null,
   "metadata": {
    "colab": {
     "base_uri": "https://localhost:8080/"
    },
    "id": "Dq9_mszAnfaK",
    "outputId": "f8d9888b-11b6-43e6-fb00-7e6385e6e29e"
   },
   "outputs": [
    {
     "name": "stdout",
     "output_type": "stream",
     "text": [
      "점수 입력해주세요 : 89\n",
      "fail\n"
     ]
    }
   ],
   "source": [
    "x = int(input(\"점수 입력해주세요 : \"))\n",
    "\n",
    "if x >= 90:\n",
    "    print(\"pass\")\n",
    "else:\n",
    "    print(\"fail\")\n",
    "\n",
    "# 조건문 만들 때 true 조건문 만드는것이 제일 어렵고 핵심\n"
   ]
  },
  {
   "cell_type": "markdown",
   "metadata": {
    "id": "-P-1YbRDoeEw"
   },
   "source": [
    "합격 / 불합격 만드는 일\n",
    "\n",
    "시나리오1\n",
    "=> 문제 정의\n",
    "=> 점수가 90점 이상이면 합격 처리를 하고, 그 외는 불합격 처리 하자\n",
    "\n",
    "시나리오2.\n",
    "=> 문제 정의\n",
    "=> 점수가 90점 이상이면 합격 처리를 하고,\n",
    "=> 점수가 80점 이상이면 조건부 합격 처리를 하자.\n",
    "=> 그 외는 불합격 처리"
   ]
  },
  {
   "cell_type": "code",
   "execution_count": null,
   "metadata": {
    "colab": {
     "base_uri": "https://localhost:8080/"
    },
    "id": "60dtMFxcoDga",
    "outputId": "26af1fff-1af1-47fc-cde9-288835e71587"
   },
   "outputs": [
    {
     "name": "stdout",
     "output_type": "stream",
     "text": [
      "점수 입력해주세요 : 90\n",
      "pass\n",
      "점수 입력해주세요 : 89\n",
      "fail\n",
      "the end\n"
     ]
    }
   ],
   "source": [
    "count = 2\n",
    "while(count >0):\n",
    "    x = int(input(\"점수 입력해주세요 : \"))\n",
    "    if x >= 90:\n",
    "        print(\"pass\")\n",
    "    else:\n",
    "        print(\"fail\")\n",
    "    count = count -1\n",
    "print(\"the end\")"
   ]
  },
  {
   "cell_type": "markdown",
   "metadata": {
    "id": "YqI0Iy9BpLng"
   },
   "source": [
    "##여러 조건에 따른 분기"
   ]
  },
  {
   "cell_type": "code",
   "execution_count": null,
   "metadata": {
    "colab": {
     "base_uri": "https://localhost:8080/"
    },
    "id": "8U1bEyoDpK6z",
    "outputId": "33095f41-e34e-4fcd-a6d4-cc6aa79fa6a6"
   },
   "outputs": [
    {
     "name": "stdout",
     "output_type": "stream",
     "text": [
      "점수 입력해주세요 : 87\n",
      "conditional pass\n"
     ]
    }
   ],
   "source": [
    "x = int(input(\"점수 입력해주세요 : \"))\n",
    "\n",
    "if x >= 90:\n",
    "    print(\"pass\")\n",
    "elif (x>=80) and (x<90):\n",
    "    print(\"conditional pass\")\n",
    "else:\n",
    "    print(\"fail\")"
   ]
  },
  {
   "cell_type": "markdown",
   "metadata": {
    "id": "Xs0H9xSEqRmt"
   },
   "source": [
    "##중첩 조건에 따른 분기\n",
    "시나리오\n",
    "90점 넘으면 합격, 그 중에서 100점 자에게는 장학금 지급\n",
    "나머지 조건 같음 80점 이상은 조건부 합격\n",
    "그 외 불합격"
   ]
  },
  {
   "cell_type": "code",
   "execution_count": null,
   "metadata": {
    "colab": {
     "base_uri": "https://localhost:8080/"
    },
    "id": "MzqHfRszqPYO",
    "outputId": "9ce1a665-273d-434f-b0c7-6eeff1748471"
   },
   "outputs": [
    {
     "name": "stdout",
     "output_type": "stream",
     "text": [
      "what is your score? : 100\n",
      "scholrarship\n",
      "pass\n"
     ]
    }
   ],
   "source": [
    "x = int(input(\"what is your score? : \"))\n",
    "\n",
    "if x >= 90:\n",
    "    if x == 100:\n",
    "        print(\"scholrarship\")\n",
    "    print(\"pass\")\n",
    "elif (x>=80) and (x<90):\n",
    "    print(\"conditional pass\")\n",
    "else:\n",
    "    print(\"fail\")"
   ]
  },
  {
   "cell_type": "markdown",
   "metadata": {
    "id": "Y8s3I_2kwmDi"
   },
   "source": [
    "#반복문\n"
   ]
  },
  {
   "cell_type": "code",
   "execution_count": null,
   "metadata": {
    "colab": {
     "base_uri": "https://localhost:8080/"
    },
    "id": "0vdU_8VuwrOy",
    "outputId": "50f10a5d-2d38-4def-94c5-ea3fe7152809"
   },
   "outputs": [
    {
     "name": "stdout",
     "output_type": "stream",
     "text": [
      "hello\n",
      "hello\n",
      "hello\n"
     ]
    }
   ],
   "source": [
    "for i in range(3):\n",
    "    print(\"hello\")\n",
    "#hello 3번 출력됨"
   ]
  },
  {
   "cell_type": "markdown",
   "metadata": {
    "id": "8kyvSz-rzqiJ"
   },
   "source": [
    "-시퀀스 자료형이 range 대신에 들어갈 수 있음\n"
   ]
  },
  {
   "cell_type": "code",
   "execution_count": null,
   "metadata": {
    "colab": {
     "base_uri": "https://localhost:8080/"
    },
    "id": "l5NBqmDtzx-p",
    "outputId": "d32085b7-d972-46d4-a56b-189f54a507d7"
   },
   "outputs": [
    {
     "name": "stdout",
     "output_type": "stream",
     "text": [
      "False\n",
      "True\n",
      "True\n"
     ]
    }
   ],
   "source": [
    "from collections.abc import Sequence\n",
    "\n",
    "my_num = 100\n",
    "my_list = [1, 2, 3]\n",
    "my_string = \"hello\"\n",
    "\n",
    "is_num = isinstance(my_num, Sequence)\n",
    "is_list = isinstance(my_list, Sequence)\n",
    "is_string = isinstance(my_string, Sequence)\n",
    "\n",
    "print(is_num)\n",
    "print(is_list)\n",
    "print(is_string)"
   ]
  },
  {
   "cell_type": "code",
   "execution_count": null,
   "metadata": {
    "colab": {
     "base_uri": "https://localhost:8080/"
    },
    "id": "vavR4dBi0Eqe",
    "outputId": "41d0be6b-4e5c-4203-93eb-4de1e5b073f3"
   },
   "outputs": [
    {
     "name": "stdout",
     "output_type": "stream",
     "text": [
      "1\n",
      "2\n",
      "3\n"
     ]
    }
   ],
   "source": [
    "for i in my_list:\n",
    "    print(i)"
   ]
  },
  {
   "cell_type": "code",
   "execution_count": null,
   "metadata": {
    "colab": {
     "base_uri": "https://localhost:8080/"
    },
    "id": "9Vq1Lkpb0hjP",
    "outputId": "a2eac200-e262-41d5-f83b-cfae6b0eb98b"
   },
   "outputs": [
    {
     "data": {
      "text/plain": [
       "[0, 1, 2]"
      ]
     },
     "execution_count": 27,
     "metadata": {},
     "output_type": "execute_result"
    }
   ],
   "source": [
    "list(range(3))"
   ]
  },
  {
   "cell_type": "markdown",
   "metadata": {
    "id": "1CKg4xRG00MO"
   },
   "source": [
    "##중첩 for문\n",
    "-구구단 검색"
   ]
  },
  {
   "cell_type": "code",
   "execution_count": null,
   "metadata": {
    "colab": {
     "base_uri": "https://localhost:8080/"
    },
    "id": "9B05Htex09Me",
    "outputId": "2e123ed5-a189-4154-fba1-559f756245f3"
   },
   "outputs": [
    {
     "name": "stdout",
     "output_type": "stream",
     "text": [
      "x1\n",
      "x1 y1\n",
      "x1 y2\n",
      "y반복문 종료\n",
      "x2\n",
      "x2 y1\n",
      "x2 y2\n",
      "y반복문 종료\n"
     ]
    }
   ],
   "source": [
    "x_list = [\"x1\", \"x2\"]\n",
    "y_list = [\"y1\", \"y2\"]\n",
    "\n",
    "#원하는 결과물은\n",
    "# x1 y1\n",
    "# x1 y2 등등\n",
    "\n",
    "for x in x_list:\n",
    "    print(x)\n",
    "    for y in y_list:\n",
    "        print(x, y)\n",
    "    print(\"y반복문 종료\")\n"
   ]
  },
  {
   "cell_type": "markdown",
   "metadata": {
    "id": "0ZeOHNRH2gfu"
   },
   "source": [
    "##여러 개의 리스트 다루기"
   ]
  },
  {
   "cell_type": "code",
   "execution_count": null,
   "metadata": {
    "colab": {
     "base_uri": "https://localhost:8080/"
    },
    "id": "f5jEPbqR2jYc",
    "outputId": "d3a90ff2-acb2-475c-e884-4f1ee552343e"
   },
   "outputs": [
    {
     "name": "stdout",
     "output_type": "stream",
     "text": [
      "James 95\n",
      "Robert 96\n",
      "Lisa 97\n",
      "Mary 94\n"
     ]
    }
   ],
   "source": [
    "names = ['James', 'Robert', 'Lisa', 'Mary']\n",
    "scores = [95, 96, 97, 94]\n",
    "\n",
    "#idx means index number\n",
    "for idx in range(len(names)):\n",
    "    #print(idx)\n",
    "    print(names[idx], scores[idx])"
   ]
  },
  {
   "cell_type": "code",
   "execution_count": null,
   "metadata": {
    "colab": {
     "base_uri": "https://localhost:8080/"
    },
    "id": "ddinNdD34EaM",
    "outputId": "c7699825-1955-4e64-b0f0-0dcf3b43b89f"
   },
   "outputs": [
    {
     "name": "stdout",
     "output_type": "stream",
     "text": [
      "James 95\n",
      "Robert 96\n",
      "Lisa 97\n",
      "Mary 94\n"
     ]
    }
   ],
   "source": [
    "#파이썬은 반복문을 다양하게 구현 가능함 chat gpt 한테 물어보세요\n",
    "\n",
    "names = ['James', 'Robert', 'Lisa', 'Mary']\n",
    "scores = [95, 96, 97, 94]\n",
    "\n",
    "for name, score in zip(names, scores):\n",
    "    print(name, score)"
   ]
  },
  {
   "cell_type": "markdown",
   "metadata": {
    "id": "rTmr6yaJ4Wsa"
   },
   "source": [
    "##리스트 컴프리헨션"
   ]
  },
  {
   "cell_type": "code",
   "execution_count": null,
   "metadata": {
    "colab": {
     "base_uri": "https://localhost:8080/"
    },
    "id": "tUKv_Kux4YwL",
    "outputId": "47422569-5ebf-4df9-8641-3ec2142425a3"
   },
   "outputs": [
    {
     "name": "stdout",
     "output_type": "stream",
     "text": [
      "[2, 4, 6, 8, 10]\n"
     ]
    }
   ],
   "source": [
    "numbers = [1,2,3,4,5]\n",
    "result = []\n",
    "for x in numbers:\n",
    "    #각요소마다2씩곱해주세요\n",
    "    #print(x*2)\n",
    "    result.append(x*2)\n",
    "print(result)"
   ]
  },
  {
   "cell_type": "code",
   "execution_count": null,
   "metadata": {
    "colab": {
     "base_uri": "https://localhost:8080/"
    },
    "id": "ZcvcW8Pp5INb",
    "outputId": "24b5b714-fafd-4102-9eba-b52de68daf67"
   },
   "outputs": [
    {
     "name": "stdout",
     "output_type": "stream",
     "text": [
      "[2, 4, 6, 8, 10]\n"
     ]
    }
   ],
   "source": [
    "#위 내용을 한줄로 처리하는 것이 리스트 컴프리헨션임\n",
    "numbers = [1,2,3,4,5]\n",
    "result2 = [x*2 for x in numbers]\n",
    "print(result2)\n",
    "\n",
    "# 파이썬은 이런식으로 한 줄로 처리하는 거 굉장히 좋아함\n",
    "# 다른 언어에서는 삼항 연산자 이런 컨셉으로 불림\n"
   ]
  },
  {
   "cell_type": "code",
   "execution_count": null,
   "metadata": {
    "colab": {
     "base_uri": "https://localhost:8080/"
    },
    "id": "fqlmaaoI9YrF",
    "outputId": "b84bc2c7-f042-4508-fbef-78dd5464c4c0"
   },
   "outputs": [
    {
     "name": "stdout",
     "output_type": "stream",
     "text": [
      "2\n",
      "4\n",
      "6\n"
     ]
    },
    {
     "data": {
      "text/plain": [
       "[2, 4, 6]"
      ]
     },
     "execution_count": 48,
     "metadata": {},
     "output_type": "execute_result"
    }
   ],
   "source": [
    "numbers = [1,2,3,4,5,6]\n",
    "result = []\n",
    "for x in numbers:\n",
    "    if x % 2 == 0:\n",
    "        #print(x)\n",
    "        result.append(x)\n",
    "result"
   ]
  },
  {
   "cell_type": "code",
   "execution_count": null,
   "metadata": {
    "colab": {
     "base_uri": "https://localhost:8080/"
    },
    "id": "IuhQJNpX938U",
    "outputId": "c5a8da3e-4d3a-465d-da52-580e0573ca1c"
   },
   "outputs": [
    {
     "name": "stdout",
     "output_type": "stream",
     "text": [
      "[2, 4, 6]\n"
     ]
    }
   ],
   "source": [
    "#짝수만 출력하세요\n",
    "\n",
    "numbers = [1,2,3,4,5,6]\n",
    "result2 = [x for x in numbers if x % 2 ==0]\n",
    "\n",
    "print(result2)"
   ]
  },
  {
   "cell_type": "markdown",
   "metadata": {
    "id": "M18fneTd_Xyf"
   },
   "source": [
    "##while 반복문\n",
    "-조건문이 참일 때만 반복해서 실행함\n",
    "-데이터 분석 : 데이터셋이 정해져 있음\n",
    "  +행과 열이 고정되어 있음\n",
    "  +범위가 주어진 상태"
   ]
  },
  {
   "cell_type": "code",
   "execution_count": null,
   "metadata": {
    "colab": {
     "base_uri": "https://localhost:8080/"
    },
    "id": "UzJ4WN9-_evg",
    "outputId": "cacd37c5-58d3-44b6-95fa-ebac783de475"
   },
   "outputs": [
    {
     "name": "stdout",
     "output_type": "stream",
     "text": [
      "1 1\n",
      "2 3\n",
      "3 6\n",
      "4 10\n",
      "5 15\n",
      "6 21\n"
     ]
    }
   ],
   "source": [
    "#while True:\n",
    "#    print(\"hello\")\n",
    "#이렇게 하면 계속 참이기 때문에 계속 해서 무제한으로 hello를 출력하게 됨\n",
    "\n",
    "i = 0\n",
    "total = 0\n",
    "while (total < 20):\n",
    "    i = i + 1\n",
    "    total = total + i\n",
    "    print(i, total)\n",
    "# total이 21이 된 상태에서 다시 while문 들어가면 조건이 false라서 멈춤\n",
    "\n"
   ]
  },
  {
   "cell_type": "code",
   "execution_count": null,
   "metadata": {
    "colab": {
     "base_uri": "https://localhost:8080/"
    },
    "id": "ld4Gawe-Bmz5",
    "outputId": "985110a5-3b8e-4256-e520-98db4efd2d40"
   },
   "outputs": [
    {
     "name": "stdout",
     "output_type": "stream",
     "text": [
      "hello\n",
      "hello\n",
      "hello\n",
      "hello\n",
      "4\n"
     ]
    }
   ],
   "source": [
    "k=0\n",
    "while True:\n",
    "    k = k + 1 #k는 1씩증가\n",
    "    print(\"hello\")\n",
    "    if (k>3):\n",
    "        print(k)\n",
    "        break # while 또는 for에서 강제적으로 종료\n"
   ]
  },
  {
   "cell_type": "markdown",
   "metadata": {
    "id": "AlKVukOjCWFJ"
   },
   "source": [
    "##사용자 정의 함수"
   ]
  },
  {
   "cell_type": "code",
   "execution_count": null,
   "metadata": {
    "colab": {
     "base_uri": "https://localhost:8080/"
    },
    "id": "1BFM3k8UCVmL",
    "outputId": "87754678-9e64-4470-f25a-940e77649f86"
   },
   "outputs": [
    {
     "name": "stdout",
     "output_type": "stream",
     "text": [
      "hello\n",
      "nice to meet you\n",
      "hello\n",
      "nice to meet you\n"
     ]
    }
   ],
   "source": [
    "def my_1st_func():\n",
    "    print(\"hello\")\n",
    "    print(\"nice to meet you\")\n",
    "\n",
    "my_1st_func()\n",
    "my_1st_func()"
   ]
  },
  {
   "cell_type": "code",
   "execution_count": null,
   "metadata": {
    "colab": {
     "base_uri": "https://localhost:8080/"
    },
    "id": "Jl5HIuUbEqW-",
    "outputId": "aeba27d8-8b2f-4a08-b931-c75bc459e622"
   },
   "outputs": [
    {
     "name": "stdout",
     "output_type": "stream",
     "text": [
      "안녕하세요! 제 이름은 Alice입니다. 20살입니다.\n"
     ]
    }
   ],
   "source": [
    "class Person:\n",
    "    def __init__(self, name, age):\n",
    "        self.name = name\n",
    "        self.age = age\n",
    "\n",
    "    def say_hello(self):\n",
    "        print(\"안녕하세요! 제 이름은 {}입니다. {}살입니다.\".format(self.name, self.age))\n",
    "\n",
    "    def more(self):\n",
    "        print(\"one more!\")\n",
    "        self.say_hello()\n",
    "\n",
    "person1 = Person(\"Alice\", 20)\n",
    "\n",
    "person1.say_hello()\n",
    "\n",
    "#person1.more()\n",
    "#print(person1.name, person1.age)"
   ]
  },
  {
   "cell_type": "code",
   "execution_count": null,
   "metadata": {
    "id": "KhvOqCSXFSGE"
   },
   "outputs": [],
   "source": [
    "class student:\n",
    "    def __init__(self, name, grade):\n",
    "        self.name = name\n",
    "        self.grade = grade\n",
    "    def info(self):\n",
    "        print(\"Student information \")\n",
    "\n"
   ]
  },
  {
   "cell_type": "markdown",
   "metadata": {
    "id": "FeNe6cF5eDpR"
   },
   "source": [
    "##인자(인수)는 있으나 반환 값이 없는 함수"
   ]
  },
  {
   "cell_type": "code",
   "execution_count": null,
   "metadata": {
    "colab": {
     "base_uri": "https://localhost:8080/"
    },
    "id": "nkCoK9NJeMpA",
    "outputId": "d4f8131c-ffa5-438b-e80c-1765dca77cf2"
   },
   "outputs": [
    {
     "name": "stdout",
     "output_type": "stream",
     "text": [
      "andy is my friend. \n",
      "andy is my friend.\n"
     ]
    }
   ],
   "source": [
    "def my_friend(name):\n",
    "    print(f\"{name} is my friend. \")\n",
    "    print(\"{} is my friend.\".format(name))\n",
    "\n",
    "my_friend(\"andy\")\n",
    "\n",
    "# 인수를 입력하지 않으면 type error가 발생합니다\n"
   ]
  },
  {
   "cell_type": "code",
   "execution_count": null,
   "metadata": {
    "id": "N5P4dyohe6gN"
   },
   "outputs": [],
   "source": [
    "import pandas as pd\n",
    "\n",
    "#pd.read_csv() # read_csv() missing 1 required positional argument: 'filepath_or_buffer'\n",
    "#해당 메소드는 하나의 필수적인 아규먼트가 필요합니다\n",
    "\n"
   ]
  },
  {
   "cell_type": "markdown",
   "metadata": {
    "id": "cE6ypK0af0K-"
   },
   "source": [
    "##인자(인수)는 있으나 반환값이 있는 함수"
   ]
  },
  {
   "cell_type": "code",
   "execution_count": null,
   "metadata": {
    "colab": {
     "base_uri": "https://localhost:8080/"
    },
    "id": "xxSRxYnlf3kN",
    "outputId": "4bbc2b1e-fd93-41e7-c696-e26c4495f6ff"
   },
   "outputs": [
    {
     "name": "stdout",
     "output_type": "stream",
     "text": [
      "12\n"
     ]
    }
   ],
   "source": [
    "def my_calc(x,y):\n",
    "    z = x*y\n",
    "    return z\n",
    "\n",
    "print(my_calc(3,4))"
   ]
  },
  {
   "cell_type": "markdown",
   "metadata": {
    "id": "17MQM27GmL51"
   },
   "source": [
    "##변수의 유효 범위\n",
    "-키워드 : 전역변수, 지역변수\n"
   ]
  },
  {
   "cell_type": "code",
   "execution_count": 81,
   "metadata": {
    "colab": {
     "base_uri": "https://localhost:8080/"
    },
    "id": "IpcRA-zzo5EQ",
    "outputId": "ce2e832c-ad49-40d5-cab7-71a5a2cfd56b"
   },
   "outputs": [
    {
     "name": "stdout",
     "output_type": "stream",
     "text": [
      "func[1]의 지역변수 a = 1\n",
      "func[2]의 지역변수 a = 2\n",
      "func[3]의 지역변수 a = 5\n"
     ]
    }
   ],
   "source": [
    "a = 5 #전역 변수\n",
    "\n",
    "def func1():\n",
    "    a = 1 # 지역 변수\n",
    "    print(\"func[1]의 지역변수 a =\", a)\n",
    "\n",
    "def func2():\n",
    "    a = 2 # 지역 변수\n",
    "    print(\"func[2]의 지역변수 a =\", a)\n",
    "\n",
    "def func3():\n",
    "    print(\"func[3]의 지역변수 a =\", a)\n",
    "\n",
    "def func4():\n",
    "    global a\n",
    "    a = 4\n",
    "    print(\"func[4]의 전역 변수 a =\", a)\n",
    "\n",
    "func1()\n",
    "func2()\n",
    "func3()"
   ]
  },
  {
   "cell_type": "code",
   "execution_count": 77,
   "metadata": {
    "colab": {
     "base_uri": "https://localhost:8080/"
    },
    "id": "jrSZOJKaqI0E",
    "outputId": "e116f5ca-38e5-41e2-d857-5131d98c6aa6"
   },
   "outputs": [
    {
     "name": "stdout",
     "output_type": "stream",
     "text": [
      "func[1]의 지역변수 a = 1\n",
      "func[2]의 지역변수 a = 2\n",
      "전역변수a =  5\n"
     ]
    }
   ],
   "source": [
    "func1()\n",
    "func2()\n",
    "print(\"전역변수a = \", a) # 전역 변수 출력\n"
   ]
  },
  {
   "cell_type": "code",
   "execution_count": 79,
   "metadata": {
    "colab": {
     "base_uri": "https://localhost:8080/"
    },
    "id": "EC3L_1HFqfGp",
    "outputId": "eeec5edc-816b-4612-9f11-8f670a2cb730"
   },
   "outputs": [
    {
     "name": "stdout",
     "output_type": "stream",
     "text": [
      "func[3]의 지역변수 a = 5\n"
     ]
    }
   ],
   "source": [
    "func3()"
   ]
  },
  {
   "cell_type": "code",
   "execution_count": 82,
   "metadata": {
    "colab": {
     "base_uri": "https://localhost:8080/"
    },
    "id": "O8ajlf7vqilJ",
    "outputId": "25d3f382-1c08-4b8a-feb6-87575a31b9e8"
   },
   "outputs": [
    {
     "name": "stdout",
     "output_type": "stream",
     "text": [
      "func[4]의 전역 변수 a = 4\n"
     ]
    }
   ],
   "source": [
    "func4()"
   ]
  },
  {
   "cell_type": "code",
   "execution_count": 83,
   "metadata": {
    "colab": {
     "base_uri": "https://localhost:8080/"
    },
    "id": "6CxFNg6uqmj1",
    "outputId": "228ded0e-0a1d-49f0-c52d-1123a9609f7c"
   },
   "outputs": [
    {
     "name": "stdout",
     "output_type": "stream",
     "text": [
      "func[3]의 지역변수 a = 4\n"
     ]
    }
   ],
   "source": [
    "func3()"
   ]
  },
  {
   "cell_type": "code",
   "execution_count": 86,
   "metadata": {
    "colab": {
     "base_uri": "https://localhost:8080/"
    },
    "id": "-_kDQ4t7rEvS",
    "outputId": "aaa7aaf5-6802-41f2-893e-373d4780272a"
   },
   "outputs": [
    {
     "name": "stdout",
     "output_type": "stream",
     "text": [
      "3\n"
     ]
    }
   ],
   "source": [
    "c = 1\n",
    "\n",
    "#def add():\n",
    "#    c = c +2\n",
    "#    print(c)\n",
    "#add()\n",
    "#에러 발생! local variable 'c' referenced before assignment\n",
    "\n",
    "def add():\n",
    "    global c\n",
    "    c = c +2\n",
    "    print(c)\n",
    "add()"
   ]
  },
  {
   "cell_type": "markdown",
   "metadata": {
    "id": "V46nhdTgr9-g"
   },
   "source": [
    "##가변 인수 예제\n",
    "-학생의 점수를 입력 받아서 평균 점수를 계산 하는 함수\n",
    "문제점 : 각 학생들마다 시험 본 과목 수가 다 다름\n",
    "\n",
    "a는 3과목\n",
    "b는 2과목\n",
    "c는 5과목\n",
    "\n"
   ]
  },
  {
   "cell_type": "code",
   "execution_count": 96,
   "metadata": {
    "id": "rZL6Ma7YsXlx"
   },
   "outputs": [],
   "source": [
    "def calculate_average(name, *scores):\n",
    "    if scores:  # 가변 인수가 비어있지 않은지 확인\n",
    "        average_score = sum(scores) / len(scores)\n",
    "        print(f\"{name}의 평균 점수는 {average_score:.2f}점입니다.\")\n",
    "    else:\n",
    "        print(f\"{name}의 점수를 입력하지 않았습니다.\")"
   ]
  },
  {
   "cell_type": "code",
   "execution_count": 97,
   "metadata": {
    "colab": {
     "base_uri": "https://localhost:8080/"
    },
    "id": "4BvVG6oDshUA",
    "outputId": "a2576400-2ec1-4501-c673-776b265d1414"
   },
   "outputs": [
    {
     "name": "stdout",
     "output_type": "stream",
     "text": [
      "a의 평균 점수는 90.00점입니다.\n",
      "b의 평균 점수는 75.00점입니다.\n",
      "c의 평균 점수는 80.00점입니다.\n",
      "d의 점수를 입력하지 않았습니다.\n"
     ]
    }
   ],
   "source": [
    "a_scores = [100,90,80]\n",
    "b_scores = [100,0]\n",
    "c_scores = [100,90,80,70,60]\n",
    "\n",
    "#calculate_average(\"a\", a_scores) 이거 그냥 스스로 해본 건데 이렇게 구현 불가능함\n",
    "#calculate_average(\"b\", b_scores)\n",
    "#calculate_average(\"c\", c_scores)\n",
    "\n",
    "calculate_average(\"a\", 100,90,80)\n",
    "calculate_average(\"b\", 100,50)\n",
    "calculate_average(\"c\", 100,90,80,70,60)\n",
    "calculate_average(\"d\")\n",
    "\n",
    "#만약에 리스트로 만들거면 조건문을 수정하면 됨 len(scores) >0 뭐 이런식으로 해서 리스트에 하나 이상의 숫자가 들어 있는지 1과목 이상 응시했는지 확인하면 가능"
   ]
  },
  {
   "cell_type": "markdown",
   "metadata": {
    "id": "1DaNLm-PuLMg"
   },
   "source": [
    "##키워드 인수 확인 예제\n",
    "- 학생의 이름, 과목별 점수, 그리고 학년을 받아서 학생의 성적을 출력하는 함수\n",
    "\n",
    "고정 인수 : 학생 이름\n",
    "가변 인수 : 여러 개의 과목 점수\n",
    "키워드 인수 : 학년 정보\n",
    "\n",
    "가변인수는 튜플로 키워드는 딕셔너리로\n"
   ]
  },
  {
   "cell_type": "code",
   "execution_count": 98,
   "metadata": {
    "colab": {
     "base_uri": "https://localhost:8080/"
    },
    "id": "O8X0BWqRuX-N",
    "outputId": "46fa035f-1d36-4ea4-ddc4-0af05e68e2a0"
   },
   "outputs": [
    {
     "name": "stdout",
     "output_type": "stream",
     "text": [
      "학생 이름: Alice\n",
      "평균 점수: 88.33\n",
      "grade: 2학년\n",
      "school: Seoul High School\n",
      "\n",
      "\n",
      "학생 이름: Bob\n",
      "평균 점수: 80.75\n",
      "grade: 3학년\n",
      "school: Busan High School\n",
      "hobby: 축구\n",
      "\n",
      "\n",
      "학생 이름: Charlie\n",
      "점수를 입력하지 않았습니다.\n",
      "grade: 1학년\n"
     ]
    }
   ],
   "source": [
    "# *argus **kwargus\n",
    "\n",
    "def student_report(name, *scores, **details):\n",
    "    print(f\"학생 이름: {name}\")\n",
    "\n",
    "    # 점수가 입력된 경우에만 평균을 계산\n",
    "    if scores:\n",
    "        average_score = sum(scores) / len(scores)\n",
    "        print(f\"평균 점수: {average_score:.2f}\")\n",
    "    else:\n",
    "        print(\"점수를 입력하지 않았습니다.\")\n",
    "\n",
    "    # 키워드 인수로 전달된 추가 정보를 출력\n",
    "    for key, value in details.items():\n",
    "        print(f\"{key}: {value}\")\n",
    "\n",
    "# 함수 호출 예제\n",
    "student_report(\"Alice\", 88, 92, 85, grade=\"2학년\", school=\"Seoul High School\")\n",
    "print(\"\\n\")\n",
    "student_report(\"Bob\", 75, 80, 78, 90, grade=\"3학년\", school=\"Busan High School\", hobby=\"축구\")\n",
    "print(\"\\n\")\n",
    "student_report(\"Charlie\", grade=\"1학년\")"
   ]
  },
  {
   "cell_type": "markdown",
   "metadata": {
    "id": "83y06m1R0Yv2"
   },
   "source": [
    "#람다(lambda) 함수\n",
    "사용자 정의 함수와 비슷"
   ]
  },
  {
   "cell_type": "code",
   "execution_count": 99,
   "metadata": {
    "colab": {
     "base_uri": "https://localhost:8080/"
    },
    "id": "0sg7MAOJ0lc9",
    "outputId": "4afad5df-76be-4716-a637-a23daecba42f"
   },
   "outputs": [
    {
     "data": {
      "text/plain": [
       "9"
      ]
     },
     "execution_count": 99,
     "metadata": {},
     "output_type": "execute_result"
    }
   ],
   "source": [
    "(lambda x : x**2)(3)"
   ]
  },
  {
   "cell_type": "code",
   "execution_count": 101,
   "metadata": {
    "colab": {
     "base_uri": "https://localhost:8080/"
    },
    "id": "Jx_OF3oS0xFg",
    "outputId": "b3c67ac9-41ef-4f5b-a799-0e135a0cd965"
   },
   "outputs": [
    {
     "data": {
      "text/plain": [
       "10"
      ]
     },
     "execution_count": 101,
     "metadata": {},
     "output_type": "execute_result"
    }
   ],
   "source": [
    "sampleFunc = lambda x,y,z : x**2 + 3*y + z\n",
    "sampleFunc(1,2,3)\n",
    "# 이런식으로 람다 함수를 이용해서 함수를 한 줄로 간단하게 작업할 수 있게 됨\n",
    "# 1 + 6+3 =10\n"
   ]
  },
  {
   "cell_type": "markdown",
   "metadata": {
    "id": "g5K833R21mnA"
   },
   "source": [
    "#context manager, decorator\n",
    "-클로저에 대해서 알고 있어야함\n",
    "  함수 안에 또 다른 함수 만들기\n",
    "-"
   ]
  },
  {
   "cell_type": "code",
   "execution_count": 102,
   "metadata": {
    "colab": {
     "base_uri": "https://localhost:8080/",
     "height": 54
    },
    "id": "IjVw8DbI1-nO",
    "outputId": "e7d6522b-9fda-4271-8a5a-05c1fd1f9c24"
   },
   "outputs": [
    {
     "name": "stdout",
     "output_type": "stream",
     "text": [
      "Function 'slow_function' executed in 2.0029 seconds\n"
     ]
    },
    {
     "data": {
      "application/vnd.google.colaboratory.intrinsic+json": {
       "type": "string"
      },
      "text/plain": [
       "'Finished'"
      ]
     },
     "execution_count": 102,
     "metadata": {},
     "output_type": "execute_result"
    }
   ],
   "source": [
    "import time\n",
    "\n",
    "#코드가 돌아가는 시간을 체크하는 함수\n",
    "\n",
    "def time_decorator(func):\n",
    "    def wrapper(*args, **kwargs):\n",
    "        start_time = time.time()\n",
    "        result = func(*args, **kwargs)\n",
    "        end_time = time.time()\n",
    "        print(f\"Function '{func.__name__}' executed in {end_time - start_time:.4f} seconds\")\n",
    "        return result\n",
    "    return wrapper\n",
    "\n",
    "@time_decorator\n",
    "def slow_function():\n",
    "    time.sleep(2)\n",
    "    return \"Finished\"\n",
    "\n",
    "# 사용 예시\n",
    "slow_function()"
   ]
  },
  {
   "cell_type": "markdown",
   "metadata": {
    "id": "xbsj8SMD3Tpq"
   },
   "source": [
    "데코레이터 쓰는 이유\n",
    "\n",
    "나중에 10gb 분량의 데이터 모았는데 더욱 더 빠르게 처리하는 사람이 생산성이 높은 것임\n",
    "그럴 때 시간 측정을 하기 위해서 데코레이터 사용하면 좋음\n"
   ]
  },
  {
   "cell_type": "markdown",
   "metadata": {
    "id": "AlH5L1avA96d"
   },
   "source": [
    "#클래스 왕기초"
   ]
  },
  {
   "cell_type": "code",
   "execution_count": 122,
   "metadata": {
    "colab": {
     "base_uri": "https://localhost:8080/"
    },
    "id": "aAnnnkevBASG",
    "outputId": "0fe0856e-926b-4377-f47a-4fac61da9673"
   },
   "outputs": [
    {
     "name": "stdout",
     "output_type": "stream",
     "text": [
      "streamlit\n"
     ]
    }
   ],
   "source": [
    "class 책:\n",
    "    title = None #속성\n",
    "    author = None #속성\n",
    "    pages = 0 #속성\n",
    "    price = 0 #속성\n",
    "    discount = 0 #속성\n",
    "\n",
    "    def 읽는시간(self,reading_speed=30):\n",
    "        return round(self.pages / reading_speed, 1)\n",
    "\n",
    "\n",
    "# 인스턴스를 생성한다\n",
    "\n",
    "책01호 = 책()\n",
    "책01호.title = \"streamlit\"\n",
    "책01호.author = \"evan\"\n",
    "책01호.pages=500\n",
    "책01호.price=40000\n",
    "책01호.discount=10\n",
    "\n",
    "print(책01호.title)"
   ]
  },
  {
   "cell_type": "code",
   "execution_count": 124,
   "metadata": {
    "colab": {
     "base_uri": "https://localhost:8080/"
    },
    "id": "vnV5lD_ODucj",
    "outputId": "e5b4abae-b777-4f0f-be4e-57aaa182cebe"
   },
   "outputs": [
    {
     "name": "stdout",
     "output_type": "stream",
     "text": [
      "streamlit\n",
      "18.7\n"
     ]
    }
   ],
   "source": [
    "# 인스턴스를 생성한다\n",
    "\n",
    "책01호 = 책()\n",
    "책01호.title = \"streamlit\"\n",
    "책01호.author = \"evan\"\n",
    "책01호.pages=560\n",
    "책01호.price=40000\n",
    "책01호.discount=10\n",
    "\n",
    "print(책01호.title)\n",
    "출력값 = 책01호.읽는시간()\n",
    "print(출력값)\n",
    "\n",
    "#reading_speed를 다르게 주고 싶다면 그렇게 할 수도 있음\n"
   ]
  },
  {
   "cell_type": "code",
   "execution_count": 121,
   "metadata": {
    "colab": {
     "base_uri": "https://localhost:8080/"
    },
    "id": "vJWIM1chBiFV",
    "outputId": "a747fb79-b741-43ca-e613-774446706667"
   },
   "outputs": [
    {
     "name": "stdout",
     "output_type": "stream",
     "text": [
      "None\n"
     ]
    }
   ],
   "source": [
    "책02호=책()\n",
    "책02호.TITLE=\"PYTHON\"\n",
    "print(책02호.title)\n",
    "# 이거 주피터 선생님 화면에서는 PYTHON들어갔음...?\n",
    "# 나는 왜 NONE?\n"
   ]
  },
  {
   "cell_type": "code",
   "execution_count": null,
   "metadata": {
    "id": "98txC0J1EYIo"
   },
   "outputs": [],
   "source": [
    "class 책:\n",
    "    title = None         # 속성\n",
    "    author = None        # 속성\n",
    "    pages = 0            # 속성\n",
    "    price = 0            # 속성\n",
    "    discount = 0         # 속성\n",
    "\n",
    "    def 읽는시간(self, reading_speed = 30):\n",
    "        return round(self.pages / reading_speed, 1)"
   ]
  },
  {
   "cell_type": "code",
   "execution_count": null,
   "metadata": {
    "id": "R7FahPpfEh6a"
   },
   "outputs": [],
   "source": [
    "# 인스턴스 생성\n",
    "책01호 = 책()\n",
    "책01호.title = \"Streamlit\"\n",
    "책01호.author = \"Evan\"\n",
    "책01호.pages = 560\n",
    "책01호.price = 40000\n",
    "책01호.discount = 10\n",
    "\n",
    "print(책01호.title, 책01호.author)\n",
    "출력값 = 책01호.읽는시간()\n",
    "print(출력값)"
   ]
  },
  {
   "cell_type": "code",
   "execution_count": null,
   "metadata": {
    "id": "wN7JsZMHEkPn"
   },
   "outputs": [],
   "source": [
    "print(책01호.title, 책01호.author)\n",
    "출력값 = 책01호.읽는시간(reading_speed = 5)\n",
    "print(출력값)"
   ]
  },
  {
   "cell_type": "markdown",
   "metadata": {
    "id": "xwuh5YdUExOm"
   },
   "source": [
    "##코드 업데이트\n"
   ]
  },
  {
   "cell_type": "code",
   "execution_count": 132,
   "metadata": {
    "id": "FzvlWq94E0df"
   },
   "outputs": [],
   "source": [
    "class 책() :\n",
    "    def __init__(self, title, author, pages, price, discount_rate=0):\n",
    "        self.title = title\n",
    "        self.author = author\n",
    "        self.pages = pages\n",
    "        self.price = price\n",
    "        self.discount_rate = discount_rate\n",
    "    def reading_time(self,reading_speed=30):\n",
    "        return round(self.pages / reading_speed, 1)\n",
    "    def apply_discount(self):\n",
    "        return self.price *(1-self.discount_rate)"
   ]
  },
  {
   "cell_type": "code",
   "execution_count": 126,
   "metadata": {
    "colab": {
     "base_uri": "https://localhost:8080/",
     "height": 35
    },
    "id": "Ow3lsihDFZhS",
    "outputId": "a7f302d7-3b04-4853-f42b-ac8e590cb4dc"
   },
   "outputs": [
    {
     "data": {
      "application/vnd.google.colaboratory.intrinsic+json": {
       "type": "string"
      },
      "text/plain": [
       "'샘플'"
      ]
     },
     "execution_count": 126,
     "metadata": {},
     "output_type": "execute_result"
    }
   ],
   "source": [
    "책01호=책(\"샘플\", \"에반\",300,20000,0.1)\n",
    "\n",
    "책01호.title"
   ]
  },
  {
   "cell_type": "code",
   "execution_count": 134,
   "metadata": {
    "colab": {
     "base_uri": "https://localhost:8080/"
    },
    "id": "3rQnhlYuG7l4",
    "outputId": "8c40827f-cf21-4be2-a53f-96a60f973c4b"
   },
   "outputs": [
    {
     "data": {
      "text/plain": [
       "18000.0"
      ]
     },
     "execution_count": 134,
     "metadata": {},
     "output_type": "execute_result"
    }
   ],
   "source": [
    "책01호=책(\"샘플\", \"에반\",300,20000,0.1)\n",
    "\n",
    "책01호.reading_time()\n",
    "책01호.apply_discount()"
   ]
  }
 ],
 "metadata": {
  "colab": {
   "authorship_tag": "ABX9TyOPgpgG4VmIgNFUvcCFShjs",
   "include_colab_link": true,
   "provenance": []
  },
  "kernelspec": {
   "display_name": "Python 3 (ipykernel)",
   "language": "python",
   "name": "python3"
  },
  "language_info": {
   "codemirror_mode": {
    "name": "ipython",
    "version": 3
   },
   "file_extension": ".py",
   "mimetype": "text/x-python",
   "name": "python",
   "nbconvert_exporter": "python",
   "pygments_lexer": "ipython3",
   "version": "3.12.6"
  }
 },
 "nbformat": 4,
 "nbformat_minor": 4
}
